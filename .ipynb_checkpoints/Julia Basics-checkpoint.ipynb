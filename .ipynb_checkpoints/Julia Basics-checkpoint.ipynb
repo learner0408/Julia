{
 "cells": [
  {
   "cell_type": "markdown",
   "id": "423099a1",
   "metadata": {},
   "source": [
    "# Julia Basics"
   ]
  },
  {
   "cell_type": "code",
   "execution_count": 1,
   "id": "9552beaf",
   "metadata": {},
   "outputs": [
    {
     "name": "stdout",
     "output_type": "stream",
     "text": [
      "Hi , welcome to Julia\n"
     ]
    }
   ],
   "source": [
    "# Print Statement\n",
    "println(\"Hi , welcome to Julia\")"
   ]
  },
  {
   "cell_type": "code",
   "execution_count": 2,
   "id": "49c8e426",
   "metadata": {},
   "outputs": [
    {
     "name": "stdout",
     "output_type": "stream",
     "text": [
      "Ankur\n",
      "4.3\n",
      "String\n",
      "Float64\n"
     ]
    }
   ],
   "source": [
    "# Assignment\n",
    "name = \"Ankur\"\n",
    "println(name)\n",
    "\n",
    "num = 4.3\n",
    "println(num)\n",
    "\n",
    "# Checking Data Type of variable\n",
    "println(typeof(name))\n",
    "println(typeof(num))"
   ]
  },
  {
   "cell_type": "markdown",
   "id": "77db09f2",
   "metadata": {},
   "source": [
    "## Strings"
   ]
  },
  {
   "cell_type": "code",
   "execution_count": 3,
   "id": "8be0a2b1",
   "metadata": {},
   "outputs": [
    {
     "name": "stdout",
     "output_type": "stream",
     "text": [
      "Just chilling\n",
      "My friend\"s name is Josh\n"
     ]
    }
   ],
   "source": [
    "# String with single quotes\n",
    "action = \"Just chilling\"\n",
    "println(action)\n",
    "\n",
    "# String with Triple quotes\n",
    "friend = \"\"\"My friend\"s name is Josh\"\"\"\n",
    "println(friend)"
   ]
  },
  {
   "cell_type": "code",
   "execution_count": 4,
   "id": "27f83250",
   "metadata": {},
   "outputs": [
    {
     "name": "stdout",
     "output_type": "stream",
     "text": [
      "Two and Three makes five\n",
      "Alan Turing\n"
     ]
    }
   ],
   "source": [
    "# String Interpolation\n",
    "two = \"Two\"\n",
    "three = \"Three\"\n",
    "println(\"$two and $three makes five\")\n",
    "\n",
    "first_name = \"Alan\"\n",
    "last_name = \"Turing\"\n",
    "println(\"$first_name $last_name\")"
   ]
  },
  {
   "cell_type": "code",
   "execution_count": 5,
   "id": "a4c30ebe",
   "metadata": {},
   "outputs": [
    {
     "name": "stdout",
     "output_type": "stream",
     "text": [
      "Alan Turing solved enigma\n",
      "Alan Turing solved enigma\n",
      "Alan Turing solved enigma\n"
     ]
    }
   ],
   "source": [
    "# String Cancatenation\n",
    "first_name = \"Alan\"\n",
    "last_name = \"Turing\"\n",
    "\n",
    "# 1) Using String Interpolation\n",
    "println(\"$first_name $last_name solved enigma\")\n",
    "\n",
    "# 2) Using 'string' data type\n",
    "println(string(first_name,\" \",last_name, \" solved enigma\"))\n",
    "\n",
    "# 3) Using *\n",
    "println(first_name*\" \"*last_name*\" solved enigma\")"
   ]
  },
  {
   "cell_type": "markdown",
   "id": "10cb6d45",
   "metadata": {},
   "source": [
    "## Dictionaries "
   ]
  },
  {
   "cell_type": "code",
   "execution_count": 6,
   "id": "7fceba9f",
   "metadata": {},
   "outputs": [
    {
     "name": "stdout",
     "output_type": "stream",
     "text": [
      "Dict(\"Benjamin\" => 87, \"Akshit\" => 45)\n",
      "Dict(\"Nancy\" => 23, \"Benjamin\" => 87, \"Akshit\" => 45)\n"
     ]
    }
   ],
   "source": [
    "# Declaring Dictionary\n",
    "student_marks = Dict(\"Akshit\" => 45, \"Benjamin\" => 87)\n",
    "println(student_marks)\n",
    "\n",
    "# Adding more key-value pairs\n",
    "student_marks[\"Nancy\"] = 23\n",
    "println(student_marks)"
   ]
  },
  {
   "cell_type": "code",
   "execution_count": 7,
   "id": "a75e7671",
   "metadata": {},
   "outputs": [
    {
     "name": "stdout",
     "output_type": "stream",
     "text": [
      "87\n",
      "45\n"
     ]
    }
   ],
   "source": [
    "# Accesing particular key\n",
    "println(student_marks[\"Benjamin\"])\n",
    "\n",
    "println(student_marks[\"Akshit\"])"
   ]
  },
  {
   "cell_type": "code",
   "execution_count": 8,
   "id": "a2f9a5de",
   "metadata": {},
   "outputs": [
    {
     "name": "stdout",
     "output_type": "stream",
     "text": [
      "45\n",
      "Dict(\"Nancy\" => 23, \"Benjamin\" => 87)\n"
     ]
    }
   ],
   "source": [
    "# Deleting key-value pair\n",
    "println(pop!(student_marks , \"Akshit\"))\n",
    "\n",
    "# Updated Dictionary\n",
    "println(student_marks)"
   ]
  },
  {
   "cell_type": "code",
   "execution_count": 9,
   "id": "3c02a7b4",
   "metadata": {},
   "outputs": [],
   "source": [
    "# Dictionaries store key-value pair in unordered manner, therefore we can't do indexing in Dictionary"
   ]
  },
  {
   "cell_type": "markdown",
   "id": "0d1ecf27",
   "metadata": {},
   "source": [
    "## Tuples "
   ]
  },
  {
   "cell_type": "code",
   "execution_count": 10,
   "id": "60337600",
   "metadata": {},
   "outputs": [
    {
     "name": "stdout",
     "output_type": "stream",
     "text": [
      "(\"Ox\", \"Cow\", \"Tiger\", \"Lion\")\n"
     ]
    }
   ],
   "source": [
    "animals = (\"Ox\",\"Cow\",\"Tiger\",\"Lion\")\n",
    "println(animals)"
   ]
  },
  {
   "cell_type": "code",
   "execution_count": 11,
   "id": "7bd9b470",
   "metadata": {},
   "outputs": [
    {
     "name": "stdout",
     "output_type": "stream",
     "text": [
      "Ox\n",
      "Tiger\n"
     ]
    }
   ],
   "source": [
    "# Indexing Tuples\n",
    "# Tuples are 1-indexed\n",
    "\n",
    "println(animals[1])\n",
    "println(animals[3])"
   ]
  },
  {
   "cell_type": "code",
   "execution_count": 12,
   "id": "bb1604b5",
   "metadata": {},
   "outputs": [],
   "source": [
    "# Tuples are immutable. Therefore we can't assign in tuples\n",
    "# animals[1] = \"Fox\" #(This will give an error)"
   ]
  },
  {
   "cell_type": "markdown",
   "id": "5c36fe99",
   "metadata": {},
   "source": [
    "## Arrays "
   ]
  },
  {
   "cell_type": "code",
   "execution_count": 13,
   "id": "03a5fd12",
   "metadata": {},
   "outputs": [
    {
     "name": "stdout",
     "output_type": "stream",
     "text": [
      "[\"Josh\", \"Benjamin\", \"Lincoln\", \"Rockefeller\"]\n"
     ]
    },
    {
     "data": {
      "text/plain": [
       "4-element Vector{Any}:\n",
       " 2\n",
       "  \"Hi\"\n",
       " 4.5\n",
       "  \"This works\""
      ]
     },
     "execution_count": 13,
     "metadata": {},
     "output_type": "execute_result"
    }
   ],
   "source": [
    "# Declaring an array\n",
    "names = [\"Josh\",\"Benjamin\",\"Lincoln\",\"Rockefeller\"]\n",
    "println(names)\n",
    "\n",
    "# We can declare an array with elements of different data types\n",
    "array = [2,\"Hi\",4.5,\"This works\"]"
   ]
  },
  {
   "cell_type": "code",
   "execution_count": 14,
   "id": "b13452c3",
   "metadata": {},
   "outputs": [
    {
     "name": "stdout",
     "output_type": "stream",
     "text": [
      "2\n",
      "This works\n"
     ]
    }
   ],
   "source": [
    "# Indexing array (1-indexed)\n",
    "println(array[1])\n",
    "println(array[4])"
   ]
  },
  {
   "cell_type": "code",
   "execution_count": 15,
   "id": "32530e01",
   "metadata": {},
   "outputs": [
    {
     "name": "stdout",
     "output_type": "stream",
     "text": [
      "Any[2, \"Hi\", \"New\", \"This works\"]\n"
     ]
    }
   ],
   "source": [
    "# Modifying array\n",
    "array[3] = \"New\"\n",
    "\n",
    "println(array)"
   ]
  },
  {
   "cell_type": "code",
   "execution_count": 16,
   "id": "79046960",
   "metadata": {},
   "outputs": [
    {
     "name": "stdout",
     "output_type": "stream",
     "text": [
      "[\"Josh\", \"Benjamin\", \"Lincoln\", \"Rockefeller\"]\n"
     ]
    },
    {
     "data": {
      "text/plain": [
       "5-element Vector{String}:\n",
       " \"Josh\"\n",
       " \"Benjamin\"\n",
       " \"Lincoln\"\n",
       " \"Rockefeller\"\n",
       " \"Ankur\""
      ]
     },
     "execution_count": 16,
     "metadata": {},
     "output_type": "execute_result"
    }
   ],
   "source": [
    "# Pushing element at the end of array\n",
    "println(names)\n",
    "push!(names,\"Ankur\")"
   ]
  },
  {
   "cell_type": "code",
   "execution_count": 17,
   "id": "ab151844",
   "metadata": {},
   "outputs": [
    {
     "name": "stdout",
     "output_type": "stream",
     "text": [
      "Ankur\n",
      "[\"Josh\", \"Benjamin\", \"Lincoln\", \"Rockefeller\"]\n"
     ]
    }
   ],
   "source": [
    "# Pop last element from array\n",
    "\n",
    "println(pop!(names))\n",
    "println(names)"
   ]
  },
  {
   "cell_type": "code",
   "execution_count": 18,
   "id": "73b02e03",
   "metadata": {},
   "outputs": [
    {
     "name": "stdout",
     "output_type": "stream",
     "text": [
      "[[\"bird1\", \"bird2\", \"bird3\"], [\"bird4\", \"bird5\", \"bird6\"]]"
     ]
    },
    {
     "data": {
      "text/plain": [
       "3-element Vector{Vector{Int64}}:\n",
       " [1, 2, 3]\n",
       " [4, 5]\n",
       " [6, 7, 8]"
      ]
     },
     "execution_count": 18,
     "metadata": {},
     "output_type": "execute_result"
    }
   ],
   "source": [
    "# Multi-dimentional arrays\n",
    "birds = [[\"bird1\",\"bird2\",\"bird3\"],[\"bird4\",\"bird5\",\"bird6\"]]\n",
    "print(birds)\n",
    "\n",
    "numbers = [[1,2,3],[4,5],[6,7,8]]"
   ]
  },
  {
   "cell_type": "code",
   "execution_count": 19,
   "id": "d57b33a6",
   "metadata": {},
   "outputs": [
    {
     "name": "stdout",
     "output_type": "stream",
     "text": [
      "[0.5378473947017314 0.3276277636645808 0.7205476805272653; 0.16714578740020525 0.7415062811998707 0.002683940709781951; 0.905943465808487 0.4983815451783722 0.8638684493825862]\n"
     ]
    },
    {
     "data": {
      "text/plain": [
       "4×3×2 Array{Float64, 3}:\n",
       "[:, :, 1] =\n",
       " 0.733374  0.852913  0.0541899\n",
       " 0.481629  0.403932  0.607604\n",
       " 0.697838  0.21537   0.509157\n",
       " 0.448899  0.376767  0.97952\n",
       "\n",
       "[:, :, 2] =\n",
       " 0.933582  0.929825  0.680297\n",
       " 0.602388  0.40502   0.716005\n",
       " 0.845852  0.735543  0.362698\n",
       " 0.902076  0.901915  0.736578"
      ]
     },
     "execution_count": 19,
     "metadata": {},
     "output_type": "execute_result"
    }
   ],
   "source": [
    "# Matrix of random values\n",
    "rand_matrix1 = rand(3,3)\n",
    "println(rand_matrix1)\n",
    "\n",
    "rand_matrix2 = rand(4,3,2)"
   ]
  },
  {
   "cell_type": "markdown",
   "id": "b03a4e1e",
   "metadata": {},
   "source": [
    "## WHILE LOOP "
   ]
  },
  {
   "cell_type": "code",
   "execution_count": 20,
   "id": "cb05d0bb",
   "metadata": {},
   "outputs": [
    {
     "name": "stdout",
     "output_type": "stream",
     "text": [
      "5\n",
      "4\n",
      "3\n",
      "2\n",
      "1\n"
     ]
    }
   ],
   "source": [
    "n = 5\n",
    "while n>0\n",
    "    println(n)\n",
    "    n-=1\n",
    "end"
   ]
  },
  {
   "cell_type": "code",
   "execution_count": 21,
   "id": "1ad5836e",
   "metadata": {},
   "outputs": [
    {
     "name": "stdout",
     "output_type": "stream",
     "text": [
      "Hi Tony, it's great to see you!\n",
      "Hi Roby, it's great to see you!\n",
      "Hi Josh, it's great to see you!\n"
     ]
    }
   ],
   "source": [
    "people = [\"Tony\",\"Roby\",\"Josh\",\"Helen\"]\n",
    "i=1\n",
    "while i<length(people)\n",
    "    println(\"Hi $(people[i]), it's great to see you!\")\n",
    "    i+=1\n",
    "end"
   ]
  },
  {
   "cell_type": "markdown",
   "id": "34f9de27",
   "metadata": {},
   "source": [
    "## FOR LOOP "
   ]
  },
  {
   "cell_type": "code",
   "execution_count": 22,
   "id": "171b811a",
   "metadata": {},
   "outputs": [
    {
     "name": "stdout",
     "output_type": "stream",
     "text": [
      "1\n",
      "2\n",
      "3\n",
      "4\n",
      "5\n",
      "6\n",
      "7\n",
      "8\n",
      "9\n",
      "10\n",
      "1\n",
      "2\n",
      "3\n",
      "4\n",
      "5\n",
      "6\n",
      "7\n",
      "8\n",
      "9\n",
      "10\n"
     ]
    }
   ],
   "source": [
    "# 1) First Method\n",
    "for i in 1:10\n",
    "    println(i)\n",
    "end\n",
    "\n",
    "# 2) Second Method\n",
    "for i = 1:10\n",
    "    println(i)\n",
    "end"
   ]
  },
  {
   "cell_type": "code",
   "execution_count": 23,
   "id": "7f206cf0",
   "metadata": {},
   "outputs": [
    {
     "name": "stdout",
     "output_type": "stream",
     "text": [
      "Hi Tony, it's great to see you!\n",
      "Hi Roby, it's great to see you!\n",
      "Hi Josh, it's great to see you!\n",
      "Hi Helen, it's great to see you!\n"
     ]
    }
   ],
   "source": [
    "people = [\"Tony\",\"Roby\",\"Josh\",\"Helen\"]\n",
    "for name in people\n",
    "    println(\"Hi $name, it's great to see you!\")\n",
    "end"
   ]
  },
  {
   "cell_type": "code",
   "execution_count": 24,
   "id": "77d2e0e3",
   "metadata": {},
   "outputs": [
    {
     "data": {
      "text/plain": [
       "4×4 Matrix{Float64}:\n",
       " 0.0  0.0  0.0  0.0\n",
       " 0.0  0.0  0.0  0.0\n",
       " 0.0  0.0  0.0  0.0\n",
       " 0.0  0.0  0.0  0.0"
      ]
     },
     "execution_count": 24,
     "metadata": {},
     "output_type": "execute_result"
    }
   ],
   "source": [
    "# Nested For loop\n",
    "n,m = 4,4\n",
    "matrix = zeros(n,m)"
   ]
  },
  {
   "cell_type": "code",
   "execution_count": 25,
   "id": "07a76bd2",
   "metadata": {},
   "outputs": [
    {
     "data": {
      "text/plain": [
       "4×4 Matrix{Float64}:\n",
       " 2.0  3.0  4.0  5.0\n",
       " 3.0  4.0  5.0  6.0\n",
       " 4.0  5.0  6.0  7.0\n",
       " 5.0  6.0  7.0  8.0"
      ]
     },
     "execution_count": 25,
     "metadata": {},
     "output_type": "execute_result"
    }
   ],
   "source": [
    "# 1) One way to use nested loop\n",
    "for i in 1:n\n",
    "    for j in 1:m\n",
    "        matrix[i , j] = i+j\n",
    "    end\n",
    "end\n",
    "matrix"
   ]
  },
  {
   "cell_type": "code",
   "execution_count": 26,
   "id": "f0fea31c",
   "metadata": {},
   "outputs": [
    {
     "data": {
      "text/plain": [
       "4×4 Matrix{Float64}:\n",
       " 2.0  3.0  4.0  5.0\n",
       " 3.0  4.0  5.0  6.0\n",
       " 4.0  5.0  6.0  7.0\n",
       " 5.0  6.0  7.0  8.0"
      ]
     },
     "execution_count": 26,
     "metadata": {},
     "output_type": "execute_result"
    }
   ],
   "source": [
    "matrix = zeros(n,m)\n",
    "# 2) Second way to use nested loop\n",
    "for i in 1:n,j in 1:m\n",
    "    matrix[i,j] = i+j\n",
    "end\n",
    "matrix\n",
    "    "
   ]
  },
  {
   "cell_type": "code",
   "execution_count": 27,
   "id": "a7214045",
   "metadata": {},
   "outputs": [
    {
     "data": {
      "text/plain": [
       "4×4 Matrix{Int64}:\n",
       " 2  3  4  5\n",
       " 3  4  5  6\n",
       " 4  5  6  7\n",
       " 5  6  7  8"
      ]
     },
     "execution_count": 27,
     "metadata": {},
     "output_type": "execute_result"
    }
   ],
   "source": [
    "# Creating matrix with array comprehension\n",
    "C = [i+j for i in 1:n, j in 1:m]"
   ]
  },
  {
   "cell_type": "code",
   "execution_count": 28,
   "id": "ec0e01a3",
   "metadata": {},
   "outputs": [
    {
     "data": {
      "text/plain": [
       "1×1 Matrix{Int64}:\n",
       " 2"
      ]
     },
     "metadata": {},
     "output_type": "display_data"
    },
    {
     "data": {
      "text/plain": [
       "2×2 Matrix{Int64}:\n",
       " 2  3\n",
       " 3  4"
      ]
     },
     "metadata": {},
     "output_type": "display_data"
    },
    {
     "data": {
      "text/plain": [
       "3×3 Matrix{Int64}:\n",
       " 2  3  4\n",
       " 3  4  5\n",
       " 4  5  6"
      ]
     },
     "metadata": {},
     "output_type": "display_data"
    },
    {
     "data": {
      "text/plain": [
       "4×4 Matrix{Int64}:\n",
       " 2  3  4  5\n",
       " 3  4  5  6\n",
       " 4  5  6  7\n",
       " 5  6  7  8"
      ]
     },
     "metadata": {},
     "output_type": "display_data"
    },
    {
     "data": {
      "text/plain": [
       "5×5 Matrix{Int64}:\n",
       " 2  3  4  5   6\n",
       " 3  4  5  6   7\n",
       " 4  5  6  7   8\n",
       " 5  6  7  8   9\n",
       " 6  7  8  9  10"
      ]
     },
     "metadata": {},
     "output_type": "display_data"
    },
    {
     "data": {
      "text/plain": [
       "6×6 Matrix{Int64}:\n",
       " 2  3  4   5   6   7\n",
       " 3  4  5   6   7   8\n",
       " 4  5  6   7   8   9\n",
       " 5  6  7   8   9  10\n",
       " 6  7  8   9  10  11\n",
       " 7  8  9  10  11  12"
      ]
     },
     "metadata": {},
     "output_type": "display_data"
    },
    {
     "data": {
      "text/plain": [
       "7×7 Matrix{Int64}:\n",
       " 2  3   4   5   6   7   8\n",
       " 3  4   5   6   7   8   9\n",
       " 4  5   6   7   8   9  10\n",
       " 5  6   7   8   9  10  11\n",
       " 6  7   8   9  10  11  12\n",
       " 7  8   9  10  11  12  13\n",
       " 8  9  10  11  12  13  14"
      ]
     },
     "metadata": {},
     "output_type": "display_data"
    },
    {
     "data": {
      "text/plain": [
       "8×8 Matrix{Int64}:\n",
       " 2   3   4   5   6   7   8   9\n",
       " 3   4   5   6   7   8   9  10\n",
       " 4   5   6   7   8   9  10  11\n",
       " 5   6   7   8   9  10  11  12\n",
       " 6   7   8   9  10  11  12  13\n",
       " 7   8   9  10  11  12  13  14\n",
       " 8   9  10  11  12  13  14  15\n",
       " 9  10  11  12  13  14  15  16"
      ]
     },
     "metadata": {},
     "output_type": "display_data"
    },
    {
     "data": {
      "text/plain": [
       "9×9 Matrix{Int64}:\n",
       "  2   3   4   5   6   7   8   9  10\n",
       "  3   4   5   6   7   8   9  10  11\n",
       "  4   5   6   7   8   9  10  11  12\n",
       "  5   6   7   8   9  10  11  12  13\n",
       "  6   7   8   9  10  11  12  13  14\n",
       "  7   8   9  10  11  12  13  14  15\n",
       "  8   9  10  11  12  13  14  15  16\n",
       "  9  10  11  12  13  14  15  16  17\n",
       " 10  11  12  13  14  15  16  17  18"
      ]
     },
     "metadata": {},
     "output_type": "display_data"
    },
    {
     "data": {
      "text/plain": [
       "10×10 Matrix{Int64}:\n",
       "  2   3   4   5   6   7   8   9  10  11\n",
       "  3   4   5   6   7   8   9  10  11  12\n",
       "  4   5   6   7   8   9  10  11  12  13\n",
       "  5   6   7   8   9  10  11  12  13  14\n",
       "  6   7   8   9  10  11  12  13  14  15\n",
       "  7   8   9  10  11  12  13  14  15  16\n",
       "  8   9  10  11  12  13  14  15  16  17\n",
       "  9  10  11  12  13  14  15  16  17  18\n",
       " 10  11  12  13  14  15  16  17  18  19\n",
       " 11  12  13  14  15  16  17  18  19  20"
      ]
     },
     "metadata": {},
     "output_type": "display_data"
    }
   ],
   "source": [
    "# Embedding array comprehension in for loop\n",
    "for n in 1:10\n",
    "    A = [i+j for i in 1:n, j in 1:n]\n",
    "    display(A)\n",
    "end"
   ]
  },
  {
   "cell_type": "markdown",
   "id": "086eb766",
   "metadata": {},
   "source": [
    "## Conditionals "
   ]
  },
  {
   "cell_type": "code",
   "execution_count": 29,
   "id": "ae61a66a",
   "metadata": {},
   "outputs": [
    {
     "data": {
      "text/plain": [
       "34"
      ]
     },
     "execution_count": 29,
     "metadata": {},
     "output_type": "execute_result"
    }
   ],
   "source": [
    "x = 21\n",
    "y = 34"
   ]
  },
  {
   "cell_type": "code",
   "execution_count": 30,
   "id": "7a396299",
   "metadata": {},
   "outputs": [
    {
     "name": "stdout",
     "output_type": "stream",
     "text": [
      "21 is smaller than 34\n"
     ]
    }
   ],
   "source": [
    "if x>y\n",
    "    println(\"$x is greater than $y\")\n",
    "elseif x<y\n",
    "    println(\"$x is smaller than $y\")\n",
    "else\n",
    "    println(\"$x and $y are equal!\")\n",
    "end"
   ]
  },
  {
   "cell_type": "code",
   "execution_count": 31,
   "id": "e9531c65",
   "metadata": {},
   "outputs": [
    {
     "data": {
      "text/plain": [
       "34"
      ]
     },
     "metadata": {},
     "output_type": "display_data"
    }
   ],
   "source": [
    "# Displaying largest of x and y\n",
    "if x>=y\n",
    "    display(x)\n",
    "else\n",
    "    display(y)\n",
    "end"
   ]
  },
  {
   "cell_type": "code",
   "execution_count": 32,
   "id": "ac191fa6",
   "metadata": {},
   "outputs": [
    {
     "name": "stdout",
     "output_type": "stream",
     "text": [
      "stdin> \n",
      "stdin> \n"
     ]
    },
    {
     "data": {
      "text/plain": [
       "\"\""
      ]
     },
     "execution_count": 32,
     "metadata": {},
     "output_type": "execute_result"
    }
   ],
   "source": [
    "# Displaying largest number using Ternary operator\n",
    "x = readline()\n",
    "y = readline()\n",
    "(x>y) ? x : y"
   ]
  },
  {
   "cell_type": "code",
   "execution_count": 33,
   "id": "bd0932a4",
   "metadata": {},
   "outputs": [
    {
     "data": {
      "text/plain": [
       "false"
      ]
     },
     "execution_count": 33,
     "metadata": {},
     "output_type": "execute_result"
    }
   ],
   "source": [
    "# Short circuit evaluation\n",
    "# Syntax - a && b. Here if a is true, then only b is executed else not\n",
    "(x>y) && println(\"$x is larger than $y\")"
   ]
  },
  {
   "cell_type": "code",
   "execution_count": 34,
   "id": "f762dca3",
   "metadata": {},
   "outputs": [
    {
     "data": {
      "text/plain": [
       "false"
      ]
     },
     "execution_count": 34,
     "metadata": {},
     "output_type": "execute_result"
    }
   ],
   "source": [
    "(x<y) && println(\"$x is smaller than $y\")"
   ]
  },
  {
   "cell_type": "markdown",
   "id": "6dfb5f20",
   "metadata": {},
   "source": [
    "## Functions"
   ]
  },
  {
   "cell_type": "code",
   "execution_count": 35,
   "id": "3a6c545e",
   "metadata": {},
   "outputs": [
    {
     "name": "stdout",
     "output_type": "stream",
     "text": [
      "Hi Hope, Great to see you!\n",
      "8\n"
     ]
    }
   ],
   "source": [
    "# 1) First method of declaring function\n",
    "\n",
    "function sayHi1(name)\n",
    "    println(\"Hi $name, Great to see you!\")\n",
    "end\n",
    "sayHi1(\"Hope\")\n",
    "\n",
    "\n",
    "function power1(x,y)\n",
    "    println(x^y)\n",
    "end\n",
    "power1(2,3)"
   ]
  },
  {
   "cell_type": "code",
   "execution_count": 36,
   "id": "b9500537",
   "metadata": {},
   "outputs": [
    {
     "name": "stdout",
     "output_type": "stream",
     "text": [
      "Hi Leo, Great to see you!\n",
      "81\n"
     ]
    }
   ],
   "source": [
    "# 2) Alternative way of declaring functions\n",
    "sayHi2(name) = println(\"Hi $name, Great to see you!\")\n",
    "sayHi2(\"Leo\")\n",
    "\n",
    "power2(x,y) = println(x^y)\n",
    "power2(3,4)"
   ]
  },
  {
   "cell_type": "code",
   "execution_count": 37,
   "id": "f1e6f8de",
   "metadata": {},
   "outputs": [
    {
     "name": "stdout",
     "output_type": "stream",
     "text": [
      "Hi Loki, Great to see you!\n",
      "32\n"
     ]
    }
   ],
   "source": [
    "# 3) Declaring Anonymous Functions\n",
    "sayHi3 = name -> println(\"Hi $name, Great to see you!\")\n",
    "sayHi3(\"Loki\")\n",
    "\n",
    "power3 = (x,y) -> println(x^y)\n",
    "power3(2,5)"
   ]
  },
  {
   "cell_type": "markdown",
   "id": "67d4ab25",
   "metadata": {},
   "source": [
    "### Duck Typing In Julia"
   ]
  },
  {
   "cell_type": "markdown",
   "id": "2eb1a2e5",
   "metadata": {},
   "source": [
    "This means that Julia functions will work on whatever input makes sense."
   ]
  },
  {
   "cell_type": "code",
   "execution_count": 38,
   "id": "d2d4d26d",
   "metadata": {},
   "outputs": [
    {
     "name": "stdout",
     "output_type": "stream",
     "text": [
      "Hi 55595472, Great to see you!\n"
     ]
    }
   ],
   "source": [
    "# Here we are giving input to sayHi as 55595472 which represents the name of a TV character \n",
    "sayHi1(55595472)"
   ]
  },
  {
   "cell_type": "code",
   "execution_count": 39,
   "id": "bff9d51a",
   "metadata": {},
   "outputs": [
    {
     "data": {
      "text/plain": [
       "3×3 Matrix{Float64}:\n",
       " 0.50061   0.687458  0.627436\n",
       " 0.587856  0.900184  0.22497\n",
       " 0.862378  0.477766  0.283197"
      ]
     },
     "execution_count": 39,
     "metadata": {},
     "output_type": "execute_result"
    }
   ],
   "source": [
    "A = rand(3,3)"
   ]
  },
  {
   "cell_type": "code",
   "execution_count": 40,
   "id": "1e2e7e9e",
   "metadata": {},
   "outputs": [
    {
     "name": "stdout",
     "output_type": "stream",
     "text": [
      "[1.195823510729861 1.2627541741456225 0.6464462677498838; 1.0174740421162414 1.3219401861258935 0.6350670613262517; 0.9567953745663006 1.1582271471182242 0.7287704352132994]\n"
     ]
    }
   ],
   "source": [
    "# Here we have given input to power as a matrix, which makes sense because power of a matrix exists\n",
    "power1(A,2)"
   ]
  },
  {
   "cell_type": "code",
   "execution_count": 41,
   "id": "76bbbe29",
   "metadata": {},
   "outputs": [
    {
     "data": {
      "text/plain": [
       "3-element Vector{Float64}:\n",
       " 0.8928453935497381\n",
       " 0.6839484999387596\n",
       " 0.09752602506896968"
      ]
     },
     "execution_count": 41,
     "metadata": {},
     "output_type": "execute_result"
    }
   ],
   "source": [
    "# Initializing a vector\n",
    "v = rand(3)"
   ]
  },
  {
   "cell_type": "code",
   "execution_count": 42,
   "id": "fe7f50b7",
   "metadata": {},
   "outputs": [],
   "source": [
    "#= Here power of v will give an error as the power of an vector is not well defined. \n",
    "It can be inner product or outer product\n",
    "power(v,2) =#\n"
   ]
  },
  {
   "cell_type": "markdown",
   "id": "e0a6f79a",
   "metadata": {},
   "source": [
    "### Mutating vs Non-Mutating Functions "
   ]
  },
  {
   "cell_type": "markdown",
   "id": "e7c8320a",
   "metadata": {},
   "source": [
    "Mutating functions alter the input it takes while Non-Mutating functions do not.\\\n",
    "Mutating functions end with !, while Non-Mutating do not."
   ]
  },
  {
   "cell_type": "code",
   "execution_count": 43,
   "id": "2337c725",
   "metadata": {},
   "outputs": [
    {
     "data": {
      "text/plain": [
       "5-element Vector{Int64}:\n",
       " 6\n",
       " 2\n",
       " 9\n",
       " 4\n",
       " 3"
      ]
     },
     "execution_count": 43,
     "metadata": {},
     "output_type": "execute_result"
    }
   ],
   "source": [
    "# Initializing an array\n",
    "v = [6,2,9,4,3]"
   ]
  },
  {
   "cell_type": "code",
   "execution_count": 44,
   "id": "c9ade6c4",
   "metadata": {},
   "outputs": [
    {
     "data": {
      "text/plain": [
       "5-element Vector{Int64}:\n",
       " 2\n",
       " 3\n",
       " 4\n",
       " 6\n",
       " 9"
      ]
     },
     "execution_count": 44,
     "metadata": {},
     "output_type": "execute_result"
    }
   ],
   "source": [
    "# Sorting v with Non-Mutating function\n",
    "sort(v)"
   ]
  },
  {
   "cell_type": "code",
   "execution_count": 45,
   "id": "fb421735",
   "metadata": {},
   "outputs": [
    {
     "data": {
      "text/plain": [
       "5-element Vector{Int64}:\n",
       " 6\n",
       " 2\n",
       " 9\n",
       " 4\n",
       " 3"
      ]
     },
     "execution_count": 45,
     "metadata": {},
     "output_type": "execute_result"
    }
   ],
   "source": [
    "# We can see that v is unchanged\n",
    "v"
   ]
  },
  {
   "cell_type": "code",
   "execution_count": 46,
   "id": "12b0008a",
   "metadata": {},
   "outputs": [
    {
     "data": {
      "text/plain": [
       "5-element Vector{Int64}:\n",
       " 2\n",
       " 3\n",
       " 4\n",
       " 6\n",
       " 9"
      ]
     },
     "execution_count": 46,
     "metadata": {},
     "output_type": "execute_result"
    }
   ],
   "source": [
    "# Sorting v with Mutating function\n",
    "sort!(v)"
   ]
  },
  {
   "cell_type": "code",
   "execution_count": 47,
   "id": "92f20916",
   "metadata": {},
   "outputs": [
    {
     "data": {
      "text/plain": [
       "5-element Vector{Int64}:\n",
       " 2\n",
       " 3\n",
       " 4\n",
       " 6\n",
       " 9"
      ]
     },
     "execution_count": 47,
     "metadata": {},
     "output_type": "execute_result"
    }
   ],
   "source": [
    "# We can see that v is changed\n",
    "v"
   ]
  },
  {
   "cell_type": "code",
   "execution_count": 48,
   "id": "0151dca7",
   "metadata": {},
   "outputs": [],
   "source": [
    "# Similarly push and pop are non-mutating, while puch! and pop! are mutating"
   ]
  },
  {
   "cell_type": "markdown",
   "id": "322ce051",
   "metadata": {},
   "source": [
    "### Broadcasting in Functions"
   ]
  },
  {
   "cell_type": "markdown",
   "id": "2e268154",
   "metadata": {},
   "source": [
    "In broadcasting in functions, the function instead of being applied to the input as a whole, apply to each element of input.\n",
    "\n",
    "For example, in case the function is calculating the square of input and the input is Matrix. With broadcasting the function will calculate the square of each element of matrix."
   ]
  },
  {
   "cell_type": "code",
   "execution_count": 49,
   "id": "744b6dee",
   "metadata": {},
   "outputs": [
    {
     "data": {
      "text/plain": [
       "square (generic function with 1 method)"
      ]
     },
     "execution_count": 49,
     "metadata": {},
     "output_type": "execute_result"
    }
   ],
   "source": [
    "# Defining square function\n",
    "function square(A)\n",
    "    A^2\n",
    "end"
   ]
  },
  {
   "cell_type": "code",
   "execution_count": 50,
   "id": "36a8c440",
   "metadata": {},
   "outputs": [
    {
     "data": {
      "text/plain": [
       "3×3 Matrix{Int64}:\n",
       " 1  2  3\n",
       " 4  5  6\n",
       " 7  8  9"
      ]
     },
     "execution_count": 50,
     "metadata": {},
     "output_type": "execute_result"
    }
   ],
   "source": [
    "# Initializing Matrix\n",
    "A = [i+3*j for j in 0:2, i in 1:3]"
   ]
  },
  {
   "cell_type": "code",
   "execution_count": 51,
   "id": "4dc19f6d",
   "metadata": {},
   "outputs": [
    {
     "data": {
      "text/plain": [
       "3×3 Matrix{Int64}:\n",
       "  30   36   42\n",
       "  66   81   96\n",
       " 102  126  150"
      ]
     },
     "execution_count": 51,
     "metadata": {},
     "output_type": "execute_result"
    }
   ],
   "source": [
    "# Applying square function without broadcasting\n",
    "square(A)"
   ]
  },
  {
   "cell_type": "code",
   "execution_count": 52,
   "id": "a333fe7d",
   "metadata": {},
   "outputs": [
    {
     "data": {
      "text/plain": [
       "3×3 Matrix{Int64}:\n",
       "  1   4   9\n",
       " 16  25  36\n",
       " 49  64  81"
      ]
     },
     "execution_count": 52,
     "metadata": {},
     "output_type": "execute_result"
    }
   ],
   "source": [
    "# Applying square function with broadcasting\n",
    "B = square.(A)"
   ]
  },
  {
   "cell_type": "code",
   "execution_count": 53,
   "id": "34ab2e05",
   "metadata": {},
   "outputs": [
    {
     "data": {
      "text/plain": [
       "3-element Vector{Int64}:\n",
       " 1\n",
       " 4\n",
       " 9"
      ]
     },
     "execution_count": 53,
     "metadata": {},
     "output_type": "execute_result"
    }
   ],
   "source": [
    "#Initializing vector\n",
    "v = [1,2,3]\n",
    "square.(v)"
   ]
  },
  {
   "cell_type": "markdown",
   "id": "5e4ffa09",
   "metadata": {},
   "source": [
    "## Packages in Julia "
   ]
  },
  {
   "cell_type": "code",
   "execution_count": 54,
   "id": "ff13de60",
   "metadata": {},
   "outputs": [
    {
     "name": "stderr",
     "output_type": "stream",
     "text": [
      "\u001b[32m\u001b[1m    Updating\u001b[22m\u001b[39m registry at `~/.julia/registries/General.toml`\n",
      "\u001b[32m\u001b[1m   Resolving\u001b[22m\u001b[39m package versions...\n",
      "\u001b[32m\u001b[1m  No Changes\u001b[22m\u001b[39m to `~/.julia/environments/v1.7/Project.toml`\n",
      "\u001b[32m\u001b[1m  No Changes\u001b[22m\u001b[39m to `~/.julia/environments/v1.7/Manifest.toml`\n"
     ]
    }
   ],
   "source": [
    "# Installing package => \"Example\"\n",
    "using Pkg\n",
    "Pkg.add(\"Example\")"
   ]
  },
  {
   "cell_type": "code",
   "execution_count": 55,
   "id": "a89d7b1e",
   "metadata": {},
   "outputs": [],
   "source": [
    "# Loading Package Example\n",
    "using Example"
   ]
  },
  {
   "cell_type": "code",
   "execution_count": 56,
   "id": "fd93c0ea",
   "metadata": {},
   "outputs": [
    {
     "data": {
      "text/plain": [
       "\"Hello, this is Ankur. Nice meeting you!\""
      ]
     },
     "execution_count": 56,
     "metadata": {},
     "output_type": "execute_result"
    }
   ],
   "source": [
    "# Here hello is an in-built function in Example package which join \"Helllo\" to the input string\n",
    "hello(\"this is Ankur. Nice meeting you!\")"
   ]
  },
  {
   "cell_type": "code",
   "execution_count": 57,
   "id": "3270ccc3",
   "metadata": {},
   "outputs": [
    {
     "name": "stderr",
     "output_type": "stream",
     "text": [
      "\u001b[32m\u001b[1m   Resolving\u001b[22m\u001b[39m package versions...\n",
      "\u001b[32m\u001b[1m  No Changes\u001b[22m\u001b[39m to `~/.julia/environments/v1.7/Project.toml`\n",
      "\u001b[32m\u001b[1m  No Changes\u001b[22m\u001b[39m to `~/.julia/environments/v1.7/Manifest.toml`\n"
     ]
    }
   ],
   "source": [
    "# Installing package => \"Colors\"\n",
    "Pkg.add(\"Colors\")"
   ]
  },
  {
   "cell_type": "code",
   "execution_count": 58,
   "id": "05d9fc4a",
   "metadata": {},
   "outputs": [],
   "source": [
    "# Loading package Colors\n",
    "using Colors"
   ]
  },
  {
   "cell_type": "code",
   "execution_count": 59,
   "id": "c127c36d",
   "metadata": {},
   "outputs": [
    {
     "data": {
      "image/svg+xml": [
       "<?xml version=\"1.0\" encoding=\"UTF-8\"?>\n",
       "<!DOCTYPE svg PUBLIC \"-//W3C//DTD SVG 1.1//EN\"\n",
       " \"http://www.w3.org/Graphics/SVG/1.1/DTD/svg11.dtd\">\n",
       "<svg xmlns=\"http://www.w3.org/2000/svg\" version=\"1.1\"\n",
       "     width=\"180mm\" height=\"25mm\"\n",
       "     viewBox=\"0 0 50 1\" preserveAspectRatio=\"none\"\n",
       "     shape-rendering=\"crispEdges\" stroke=\"none\">\n",
       "<rect width=\".72\" height=\".96\" x=\"0\" y=\"0\" fill=\"#000000\" />\n",
       "<rect width=\".72\" height=\".96\" x=\"1\" y=\"0\" fill=\"#FFFF74\" />\n",
       "<rect width=\".72\" height=\".96\" x=\"2\" y=\"0\" fill=\"#FF9BFF\" />\n",
       "<rect width=\".72\" height=\".96\" x=\"3\" y=\"0\" fill=\"#00D3FF\" />\n",
       "<rect width=\".72\" height=\".96\" x=\"4\" y=\"0\" fill=\"#E2630D\" />\n",
       "<rect width=\".72\" height=\".96\" x=\"5\" y=\"0\" fill=\"#007E00\" />\n",
       "<rect width=\".72\" height=\".96\" x=\"6\" y=\"0\" fill=\"#0050E6\" />\n",
       "<rect width=\".72\" height=\".96\" x=\"7\" y=\"0\" fill=\"#AC0047\" />\n",
       "<rect width=\".72\" height=\".96\" x=\"8\" y=\"0\" fill=\"#00FFC8\" />\n",
       "<rect width=\".72\" height=\".96\" x=\"9\" y=\"0\" fill=\"#006468\" />\n",
       "<rect width=\".72\" height=\".96\" x=\"10\" y=\"0\" fill=\"#FFD5C4\" />\n",
       "<rect width=\".72\" height=\".96\" x=\"11\" y=\"0\" fill=\"#6C5200\" />\n",
       "<rect width=\".72\" height=\".96\" x=\"12\" y=\"0\" fill=\"#7A7581\" />\n",
       "<rect width=\".72\" height=\".96\" x=\"13\" y=\"0\" fill=\"#44005C\" />\n",
       "<rect width=\".72\" height=\".96\" x=\"14\" y=\"0\" fill=\"#9E9E77\" />\n",
       "<rect width=\".72\" height=\".96\" x=\"15\" y=\"0\" fill=\"#FF5C78\" />\n",
       "<rect width=\".72\" height=\".96\" x=\"16\" y=\"0\" fill=\"#8197F1\" />\n",
       "<rect width=\".72\" height=\".96\" x=\"17\" y=\"0\" fill=\"#003200\" />\n",
       "<rect width=\".72\" height=\".96\" x=\"18\" y=\"0\" fill=\"#C721DD\" />\n",
       "<rect width=\".72\" height=\".96\" x=\"19\" y=\"0\" fill=\"#FFAD07\" />\n",
       "<rect width=\".72\" height=\".96\" x=\"20\" y=\"0\" fill=\"#611C00\" />\n",
       "<rect width=\".72\" height=\".96\" x=\"21\" y=\"0\" fill=\"#F3FFFA\" />\n",
       "<rect width=\".72\" height=\".96\" x=\"22\" y=\"0\" fill=\"#009E88\" />\n",
       "<rect width=\".72\" height=\".96\" x=\"23\" y=\"0\" fill=\"#5EC700\" />\n",
       "<rect width=\".72\" height=\".96\" x=\"24\" y=\"0\" fill=\"#002D54\" />\n",
       "<rect width=\".72\" height=\".96\" x=\"25\" y=\"0\" fill=\"#553C4A\" />\n",
       "<rect width=\".72\" height=\".96\" x=\"26\" y=\"0\" fill=\"#444439\" />\n",
       "<rect width=\".72\" height=\".96\" x=\"27\" y=\"0\" fill=\"#008FB6\" />\n",
       "<rect width=\".72\" height=\".96\" x=\"28\" y=\"0\" fill=\"#CFD4FD\" />\n",
       "<rect width=\".72\" height=\".96\" x=\"29\" y=\"0\" fill=\"#C40000\" />\n",
       "<rect width=\".72\" height=\".96\" x=\"30\" y=\"0\" fill=\"#A4675C\" />\n",
       "<rect width=\".72\" height=\".96\" x=\"31\" y=\"0\" fill=\"#BB8FA8\" />\n",
       "<rect width=\".72\" height=\".96\" x=\"32\" y=\"0\" fill=\"#290001\" />\n",
       "<rect width=\".72\" height=\".96\" x=\"33\" y=\"0\" fill=\"#A78600\" />\n",
       "<rect width=\".72\" height=\".96\" x=\"34\" y=\"0\" fill=\"#002D30\" />\n",
       "<rect width=\".72\" height=\".96\" x=\"35\" y=\"0\" fill=\"#C7DEAA\" />\n",
       "<rect width=\".72\" height=\".96\" x=\"36\" y=\"0\" fill=\"#8D9FA3\" />\n",
       "<rect width=\".72\" height=\".96\" x=\"37\" y=\"0\" fill=\"#6F5B95\" />\n",
       "<rect width=\".72\" height=\".96\" x=\"38\" y=\"0\" fill=\"#A1FFFF\" />\n",
       "<rect width=\".72\" height=\".96\" x=\"39\" y=\"0\" fill=\"#B39688\" />\n",
       "<rect width=\".72\" height=\".96\" x=\"40\" y=\"0\" fill=\"#4E6D50\" />\n",
       "<rect width=\".72\" height=\".96\" x=\"41\" y=\"0\" fill=\"#FF977B\" />\n",
       "<rect width=\".72\" height=\".96\" x=\"42\" y=\"0\" fill=\"#FFD1EC\" />\n",
       "<rect width=\".72\" height=\".96\" x=\"43\" y=\"0\" fill=\"#9E5100\" />\n",
       "<rect width=\".72\" height=\".96\" x=\"44\" y=\"0\" fill=\"#AE5B8E\" />\n",
       "<rect width=\".72\" height=\".96\" x=\"45\" y=\"0\" fill=\"#799400\" />\n",
       "<rect width=\".72\" height=\".96\" x=\"46\" y=\"0\" fill=\"#362200\" />\n",
       "<rect width=\".72\" height=\".96\" x=\"47\" y=\"0\" fill=\"#0E0026\" />\n",
       "<rect width=\".72\" height=\".96\" x=\"48\" y=\"0\" fill=\"#80765F\" />\n",
       "<rect width=\".72\" height=\".96\" x=\"49\" y=\"0\" fill=\"#485C00\" />\n",
       "</svg>"
      ],
      "text/plain": [
       "50-element Array{RGB{N0f8},1} with eltype RGB{FixedPointNumbers.N0f8}:\n",
       " RGB{N0f8}(0.0,0.0,0.0)\n",
       " RGB{N0f8}(1.0,1.0,0.455)\n",
       " RGB{N0f8}(1.0,0.608,1.0)\n",
       " RGB{N0f8}(0.0,0.827,1.0)\n",
       " RGB{N0f8}(0.886,0.388,0.051)\n",
       " RGB{N0f8}(0.0,0.494,0.0)\n",
       " RGB{N0f8}(0.0,0.314,0.902)\n",
       " RGB{N0f8}(0.675,0.0,0.278)\n",
       " RGB{N0f8}(0.0,1.0,0.784)\n",
       " RGB{N0f8}(0.0,0.392,0.408)\n",
       " RGB{N0f8}(1.0,0.835,0.769)\n",
       " RGB{N0f8}(0.424,0.322,0.0)\n",
       " RGB{N0f8}(0.478,0.459,0.506)\n",
       " ⋮\n",
       " RGB{N0f8}(0.631,1.0,1.0)\n",
       " RGB{N0f8}(0.702,0.588,0.533)\n",
       " RGB{N0f8}(0.306,0.427,0.314)\n",
       " RGB{N0f8}(1.0,0.592,0.482)\n",
       " RGB{N0f8}(1.0,0.82,0.925)\n",
       " RGB{N0f8}(0.62,0.318,0.0)\n",
       " RGB{N0f8}(0.682,0.357,0.557)\n",
       " RGB{N0f8}(0.475,0.58,0.0)\n",
       " RGB{N0f8}(0.212,0.133,0.0)\n",
       " RGB{N0f8}(0.055,0.0,0.149)\n",
       " RGB{N0f8}(0.502,0.463,0.373)\n",
       " RGB{N0f8}(0.282,0.361,0.0)"
      ]
     },
     "execution_count": 59,
     "metadata": {},
     "output_type": "execute_result"
    }
   ],
   "source": [
    "pallete = distinguishable_colors(50)"
   ]
  },
  {
   "cell_type": "code",
   "execution_count": 60,
   "id": "9440f0a3",
   "metadata": {},
   "outputs": [
    {
     "data": {
      "image/svg+xml": [
       "<?xml version=\"1.0\" encoding=\"UTF-8\"?>\n",
       "<!DOCTYPE svg PUBLIC \"-//W3C//DTD SVG 1.1//EN\"\n",
       " \"http://www.w3.org/Graphics/SVG/1.1/DTD/svg11.dtd\">\n",
       "<svg xmlns=\"http://www.w3.org/2000/svg\" version=\"1.1\"\n",
       "     width=\"100mm\" height=\"100mm\"\n",
       "     viewBox=\"0 0 4 4\" preserveAspectRatio=\"none\"\n",
       "     shape-rendering=\"crispEdges\" stroke=\"none\">\n",
       "<rect width=\".96\" height=\".96\" x=\"0\" y=\"0\" fill=\"#5EC700\" />\n",
       "<rect width=\".96\" height=\".96\" x=\"1\" y=\"0\" fill=\"#799400\" />\n",
       "<rect width=\".96\" height=\".96\" x=\"2\" y=\"0\" fill=\"#44005C\" />\n",
       "<rect width=\".96\" height=\".96\" x=\"3\" y=\"0\" fill=\"#611C00\" />\n",
       "<rect width=\".96\" height=\".96\" x=\"0\" y=\"1\" fill=\"#553C4A\" />\n",
       "<rect width=\".96\" height=\".96\" x=\"1\" y=\"1\" fill=\"#799400\" />\n",
       "<rect width=\".96\" height=\".96\" x=\"2\" y=\"1\" fill=\"#8D9FA3\" />\n",
       "<rect width=\".96\" height=\".96\" x=\"3\" y=\"1\" fill=\"#FFD5C4\" />\n",
       "<rect width=\".96\" height=\".96\" x=\"0\" y=\"2\" fill=\"#0E0026\" />\n",
       "<rect width=\".96\" height=\".96\" x=\"1\" y=\"2\" fill=\"#444439\" />\n",
       "<rect width=\".96\" height=\".96\" x=\"2\" y=\"2\" fill=\"#80765F\" />\n",
       "<rect width=\".96\" height=\".96\" x=\"3\" y=\"2\" fill=\"#AE5B8E\" />\n",
       "<rect width=\".96\" height=\".96\" x=\"0\" y=\"3\" fill=\"#003200\" />\n",
       "<rect width=\".96\" height=\".96\" x=\"1\" y=\"3\" fill=\"#80765F\" />\n",
       "<rect width=\".96\" height=\".96\" x=\"2\" y=\"3\" fill=\"#BB8FA8\" />\n",
       "<rect width=\".96\" height=\".96\" x=\"3\" y=\"3\" fill=\"#009E88\" />\n",
       "</svg>"
      ],
      "text/plain": [
       "4×4 Array{RGB{N0f8},2} with eltype RGB{FixedPointNumbers.N0f8}:\n",
       " RGB{N0f8}(0.369,0.78,0.0)    …  RGB{N0f8}(0.38,0.11,0.0)\n",
       " RGB{N0f8}(0.333,0.235,0.29)     RGB{N0f8}(1.0,0.835,0.769)\n",
       " RGB{N0f8}(0.055,0.0,0.149)      RGB{N0f8}(0.682,0.357,0.557)\n",
       " RGB{N0f8}(0.0,0.196,0.0)        RGB{N0f8}(0.0,0.62,0.533)"
      ]
     },
     "execution_count": 60,
     "metadata": {},
     "output_type": "execute_result"
    }
   ],
   "source": [
    "color_matrix = rand(pallete,4,4)"
   ]
  },
  {
   "cell_type": "markdown",
   "id": "f24f7738",
   "metadata": {},
   "source": [
    "## Plotting "
   ]
  },
  {
   "cell_type": "markdown",
   "id": "acf1fe58",
   "metadata": {},
   "source": [
    "In Julia, it is easier to move from one backend to another"
   ]
  },
  {
   "cell_type": "code",
   "execution_count": 61,
   "id": "ebc86280",
   "metadata": {},
   "outputs": [
    {
     "name": "stderr",
     "output_type": "stream",
     "text": [
      "\u001b[32m\u001b[1m   Resolving\u001b[22m\u001b[39m package versions...\n",
      "\u001b[32m\u001b[1m  No Changes\u001b[22m\u001b[39m to `~/.julia/environments/v1.7/Project.toml`\n",
      "\u001b[32m\u001b[1m  No Changes\u001b[22m\u001b[39m to `~/.julia/environments/v1.7/Manifest.toml`\n"
     ]
    }
   ],
   "source": [
    "# Installing Plots package\n",
    "Pkg.add(\"Plots\")\n",
    "\n",
    "# Loading Plots package\n",
    "using Plots"
   ]
  },
  {
   "cell_type": "code",
   "execution_count": 62,
   "id": "dad92ae5",
   "metadata": {},
   "outputs": [],
   "source": [
    "# Generating Data\n",
    "x = -4:0.1:4\n",
    "f(x) = x^2\n",
    "\n",
    "y = f.(x);"
   ]
  },
  {
   "cell_type": "code",
   "execution_count": 63,
   "id": "ddc32d8a",
   "metadata": {},
   "outputs": [
    {
     "data": {
      "text/plain": [
       "Plots.GRBackend()"
      ]
     },
     "execution_count": 63,
     "metadata": {},
     "output_type": "execute_result"
    }
   ],
   "source": [
    "# lOADING gr backend\n",
    "gr()"
   ]
  },
  {
   "cell_type": "code",
   "execution_count": 64,
   "id": "eea65621",
   "metadata": {},
   "outputs": [
    {
     "data": {
      "image/svg+xml": [
       "<?xml version=\"1.0\" encoding=\"utf-8\"?>\n",
       "<svg xmlns=\"http://www.w3.org/2000/svg\" xmlns:xlink=\"http://www.w3.org/1999/xlink\" width=\"600\" height=\"400\" viewBox=\"0 0 2400 1600\">\n",
       "<defs>\n",
       "  <clipPath id=\"clip730\">\n",
       "    <rect x=\"0\" y=\"0\" width=\"2400\" height=\"1600\"/>\n",
       "  </clipPath>\n",
       "</defs>\n",
       "<path clip-path=\"url(#clip730)\" d=\"\n",
       "M0 1600 L2400 1600 L2400 0 L0 0  Z\n",
       "  \" fill=\"#ffffff\" fill-rule=\"evenodd\" fill-opacity=\"1\"/>\n",
       "<defs>\n",
       "  <clipPath id=\"clip731\">\n",
       "    <rect x=\"480\" y=\"0\" width=\"1681\" height=\"1600\"/>\n",
       "  </clipPath>\n",
       "</defs>\n",
       "<path clip-path=\"url(#clip730)\" d=\"\n",
       "M138.959 1486.45 L2352.76 1486.45 L2352.76 47.2441 L138.959 47.2441  Z\n",
       "  \" fill=\"#ffffff\" fill-rule=\"evenodd\" fill-opacity=\"1\"/>\n",
       "<defs>\n",
       "  <clipPath id=\"clip732\">\n",
       "    <rect x=\"138\" y=\"47\" width=\"2215\" height=\"1440\"/>\n",
       "  </clipPath>\n",
       "</defs>\n",
       "<polyline clip-path=\"url(#clip732)\" style=\"stroke:#000000; stroke-linecap:butt; stroke-linejoin:round; stroke-width:2; stroke-opacity:0.1; fill:none\" points=\"\n",
       "  201.614,1486.45 201.614,47.2441 \n",
       "  \"/>\n",
       "<polyline clip-path=\"url(#clip732)\" style=\"stroke:#000000; stroke-linecap:butt; stroke-linejoin:round; stroke-width:2; stroke-opacity:0.1; fill:none\" points=\"\n",
       "  723.736,1486.45 723.736,47.2441 \n",
       "  \"/>\n",
       "<polyline clip-path=\"url(#clip732)\" style=\"stroke:#000000; stroke-linecap:butt; stroke-linejoin:round; stroke-width:2; stroke-opacity:0.1; fill:none\" points=\"\n",
       "  1245.86,1486.45 1245.86,47.2441 \n",
       "  \"/>\n",
       "<polyline clip-path=\"url(#clip732)\" style=\"stroke:#000000; stroke-linecap:butt; stroke-linejoin:round; stroke-width:2; stroke-opacity:0.1; fill:none\" points=\"\n",
       "  1767.98,1486.45 1767.98,47.2441 \n",
       "  \"/>\n",
       "<polyline clip-path=\"url(#clip732)\" style=\"stroke:#000000; stroke-linecap:butt; stroke-linejoin:round; stroke-width:2; stroke-opacity:0.1; fill:none\" points=\"\n",
       "  2290.1,1486.45 2290.1,47.2441 \n",
       "  \"/>\n",
       "<polyline clip-path=\"url(#clip730)\" style=\"stroke:#000000; stroke-linecap:butt; stroke-linejoin:round; stroke-width:4; stroke-opacity:1; fill:none\" points=\"\n",
       "  138.959,1486.45 2352.76,1486.45 \n",
       "  \"/>\n",
       "<polyline clip-path=\"url(#clip730)\" style=\"stroke:#000000; stroke-linecap:butt; stroke-linejoin:round; stroke-width:4; stroke-opacity:1; fill:none\" points=\"\n",
       "  201.614,1486.45 201.614,1467.55 \n",
       "  \"/>\n",
       "<polyline clip-path=\"url(#clip730)\" style=\"stroke:#000000; stroke-linecap:butt; stroke-linejoin:round; stroke-width:4; stroke-opacity:1; fill:none\" points=\"\n",
       "  723.736,1486.45 723.736,1467.55 \n",
       "  \"/>\n",
       "<polyline clip-path=\"url(#clip730)\" style=\"stroke:#000000; stroke-linecap:butt; stroke-linejoin:round; stroke-width:4; stroke-opacity:1; fill:none\" points=\"\n",
       "  1245.86,1486.45 1245.86,1467.55 \n",
       "  \"/>\n",
       "<polyline clip-path=\"url(#clip730)\" style=\"stroke:#000000; stroke-linecap:butt; stroke-linejoin:round; stroke-width:4; stroke-opacity:1; fill:none\" points=\"\n",
       "  1767.98,1486.45 1767.98,1467.55 \n",
       "  \"/>\n",
       "<polyline clip-path=\"url(#clip730)\" style=\"stroke:#000000; stroke-linecap:butt; stroke-linejoin:round; stroke-width:4; stroke-opacity:1; fill:none\" points=\"\n",
       "  2290.1,1486.45 2290.1,1467.55 \n",
       "  \"/>\n",
       "<path clip-path=\"url(#clip730)\" d=\"M170.515 1532.02 L200.19 1532.02 L200.19 1535.95 L170.515 1535.95 L170.515 1532.02 Z\" fill=\"#000000\" fill-rule=\"evenodd\" fill-opacity=\"1\" /><path clip-path=\"url(#clip730)\" d=\"M223.13 1518.36 L211.325 1536.81 L223.13 1536.81 L223.13 1518.36 M221.903 1514.29 L227.783 1514.29 L227.783 1536.81 L232.713 1536.81 L232.713 1540.7 L227.783 1540.7 L227.783 1548.85 L223.13 1548.85 L223.13 1540.7 L207.528 1540.7 L207.528 1536.19 L221.903 1514.29 Z\" fill=\"#000000\" fill-rule=\"evenodd\" fill-opacity=\"1\" /><path clip-path=\"url(#clip730)\" d=\"M693.678 1532.02 L723.354 1532.02 L723.354 1535.95 L693.678 1535.95 L693.678 1532.02 Z\" fill=\"#000000\" fill-rule=\"evenodd\" fill-opacity=\"1\" /><path clip-path=\"url(#clip730)\" d=\"M737.474 1544.91 L753.794 1544.91 L753.794 1548.85 L731.849 1548.85 L731.849 1544.91 Q734.511 1542.16 739.095 1537.53 Q743.701 1532.88 744.882 1531.53 Q747.127 1529.01 748.007 1527.27 Q748.909 1525.51 748.909 1523.82 Q748.909 1521.07 746.965 1519.33 Q745.044 1517.6 741.942 1517.6 Q739.743 1517.6 737.289 1518.36 Q734.858 1519.13 732.081 1520.68 L732.081 1515.95 Q734.905 1514.82 737.358 1514.24 Q739.812 1513.66 741.849 1513.66 Q747.22 1513.66 750.414 1516.35 Q753.608 1519.03 753.608 1523.52 Q753.608 1525.65 752.798 1527.57 Q752.011 1529.47 749.905 1532.07 Q749.326 1532.74 746.224 1535.95 Q743.122 1539.15 737.474 1544.91 Z\" fill=\"#000000\" fill-rule=\"evenodd\" fill-opacity=\"1\" /><path clip-path=\"url(#clip730)\" d=\"M1245.86 1517.37 Q1242.25 1517.37 1240.42 1520.93 Q1238.61 1524.47 1238.61 1531.6 Q1238.61 1538.71 1240.42 1542.27 Q1242.25 1545.82 1245.86 1545.82 Q1249.49 1545.82 1251.3 1542.27 Q1253.13 1538.71 1253.13 1531.6 Q1253.13 1524.47 1251.3 1520.93 Q1249.49 1517.37 1245.86 1517.37 M1245.86 1513.66 Q1251.67 1513.66 1254.72 1518.27 Q1257.8 1522.85 1257.8 1531.6 Q1257.8 1540.33 1254.72 1544.94 Q1251.67 1549.52 1245.86 1549.52 Q1240.05 1549.52 1236.97 1544.94 Q1233.91 1540.33 1233.91 1531.6 Q1233.91 1522.85 1236.97 1518.27 Q1240.05 1513.66 1245.86 1513.66 Z\" fill=\"#000000\" fill-rule=\"evenodd\" fill-opacity=\"1\" /><path clip-path=\"url(#clip730)\" d=\"M1762.63 1544.91 L1778.95 1544.91 L1778.95 1548.85 L1757.01 1548.85 L1757.01 1544.91 Q1759.67 1542.16 1764.25 1537.53 Q1768.86 1532.88 1770.04 1531.53 Q1772.29 1529.01 1773.16 1527.27 Q1774.07 1525.51 1774.07 1523.82 Q1774.07 1521.07 1772.12 1519.33 Q1770.2 1517.6 1767.1 1517.6 Q1764.9 1517.6 1762.45 1518.36 Q1760.02 1519.13 1757.24 1520.68 L1757.24 1515.95 Q1760.06 1514.82 1762.52 1514.24 Q1764.97 1513.66 1767.01 1513.66 Q1772.38 1513.66 1775.57 1516.35 Q1778.77 1519.03 1778.77 1523.52 Q1778.77 1525.65 1777.96 1527.57 Q1777.17 1529.47 1775.06 1532.07 Q1774.48 1532.74 1771.38 1535.95 Q1768.28 1539.15 1762.63 1544.91 Z\" fill=\"#000000\" fill-rule=\"evenodd\" fill-opacity=\"1\" /><path clip-path=\"url(#clip730)\" d=\"M2293.11 1518.36 L2281.31 1536.81 L2293.11 1536.81 L2293.11 1518.36 M2291.88 1514.29 L2297.76 1514.29 L2297.76 1536.81 L2302.69 1536.81 L2302.69 1540.7 L2297.76 1540.7 L2297.76 1548.85 L2293.11 1548.85 L2293.11 1540.7 L2277.51 1540.7 L2277.51 1536.19 L2291.88 1514.29 Z\" fill=\"#000000\" fill-rule=\"evenodd\" fill-opacity=\"1\" /><polyline clip-path=\"url(#clip732)\" style=\"stroke:#000000; stroke-linecap:butt; stroke-linejoin:round; stroke-width:2; stroke-opacity:0.1; fill:none\" points=\"\n",
       "  138.959,1445.72 2352.76,1445.72 \n",
       "  \"/>\n",
       "<polyline clip-path=\"url(#clip732)\" style=\"stroke:#000000; stroke-linecap:butt; stroke-linejoin:round; stroke-width:2; stroke-opacity:0.1; fill:none\" points=\"\n",
       "  138.959,1021.42 2352.76,1021.42 \n",
       "  \"/>\n",
       "<polyline clip-path=\"url(#clip732)\" style=\"stroke:#000000; stroke-linecap:butt; stroke-linejoin:round; stroke-width:2; stroke-opacity:0.1; fill:none\" points=\"\n",
       "  138.959,597.129 2352.76,597.129 \n",
       "  \"/>\n",
       "<polyline clip-path=\"url(#clip732)\" style=\"stroke:#000000; stroke-linecap:butt; stroke-linejoin:round; stroke-width:2; stroke-opacity:0.1; fill:none\" points=\"\n",
       "  138.959,172.835 2352.76,172.835 \n",
       "  \"/>\n",
       "<polyline clip-path=\"url(#clip730)\" style=\"stroke:#000000; stroke-linecap:butt; stroke-linejoin:round; stroke-width:4; stroke-opacity:1; fill:none\" points=\"\n",
       "  138.959,1486.45 138.959,47.2441 \n",
       "  \"/>\n",
       "<polyline clip-path=\"url(#clip730)\" style=\"stroke:#000000; stroke-linecap:butt; stroke-linejoin:round; stroke-width:4; stroke-opacity:1; fill:none\" points=\"\n",
       "  138.959,1445.72 157.857,1445.72 \n",
       "  \"/>\n",
       "<polyline clip-path=\"url(#clip730)\" style=\"stroke:#000000; stroke-linecap:butt; stroke-linejoin:round; stroke-width:4; stroke-opacity:1; fill:none\" points=\"\n",
       "  138.959,1021.42 157.857,1021.42 \n",
       "  \"/>\n",
       "<polyline clip-path=\"url(#clip730)\" style=\"stroke:#000000; stroke-linecap:butt; stroke-linejoin:round; stroke-width:4; stroke-opacity:1; fill:none\" points=\"\n",
       "  138.959,597.129 157.857,597.129 \n",
       "  \"/>\n",
       "<polyline clip-path=\"url(#clip730)\" style=\"stroke:#000000; stroke-linecap:butt; stroke-linejoin:round; stroke-width:4; stroke-opacity:1; fill:none\" points=\"\n",
       "  138.959,172.835 157.857,172.835 \n",
       "  \"/>\n",
       "<path clip-path=\"url(#clip730)\" d=\"M91.0151 1431.51 Q87.404 1431.51 85.5753 1435.08 Q83.7697 1438.62 83.7697 1445.75 Q83.7697 1452.86 85.5753 1456.42 Q87.404 1459.96 91.0151 1459.96 Q94.6493 1459.96 96.4548 1456.42 Q98.2835 1452.86 98.2835 1445.75 Q98.2835 1438.62 96.4548 1435.08 Q94.6493 1431.51 91.0151 1431.51 M91.0151 1427.81 Q96.8252 1427.81 99.8808 1432.42 Q102.959 1437 102.959 1445.75 Q102.959 1454.48 99.8808 1459.08 Q96.8252 1463.67 91.0151 1463.67 Q85.2049 1463.67 82.1262 1459.08 Q79.0707 1454.48 79.0707 1445.75 Q79.0707 1437 82.1262 1432.42 Q85.2049 1427.81 91.0151 1427.81 Z\" fill=\"#000000\" fill-rule=\"evenodd\" fill-opacity=\"1\" /><path clip-path=\"url(#clip730)\" d=\"M82.0568 1004.14 L100.413 1004.14 L100.413 1008.08 L86.3392 1008.08 L86.3392 1016.55 Q87.3577 1016.2 88.3762 1016.04 Q89.3947 1015.86 90.4132 1015.86 Q96.2002 1015.86 99.5798 1019.03 Q102.959 1022.2 102.959 1027.61 Q102.959 1033.19 99.4872 1036.29 Q96.015 1039.37 89.6956 1039.37 Q87.5197 1039.37 85.2512 1039 Q83.0058 1038.63 80.5984 1037.89 L80.5984 1033.19 Q82.6818 1034.33 84.904 1034.88 Q87.1262 1035.44 89.603 1035.44 Q93.6076 1035.44 95.9456 1033.33 Q98.2835 1031.23 98.2835 1027.61 Q98.2835 1024 95.9456 1021.9 Q93.6076 1019.79 89.603 1019.79 Q87.728 1019.79 85.8531 1020.21 Q84.0012 1020.62 82.0568 1021.5 L82.0568 1004.14 Z\" fill=\"#000000\" fill-rule=\"evenodd\" fill-opacity=\"1\" /><path clip-path=\"url(#clip730)\" d=\"M51.6634 610.473 L59.3023 610.473 L59.3023 584.108 L50.9921 585.774 L50.9921 581.515 L59.256 579.849 L63.9319 579.849 L63.9319 610.473 L71.5707 610.473 L71.5707 614.409 L51.6634 614.409 L51.6634 610.473 Z\" fill=\"#000000\" fill-rule=\"evenodd\" fill-opacity=\"1\" /><path clip-path=\"url(#clip730)\" d=\"M91.0151 582.927 Q87.404 582.927 85.5753 586.492 Q83.7697 590.034 83.7697 597.163 Q83.7697 604.27 85.5753 607.835 Q87.404 611.376 91.0151 611.376 Q94.6493 611.376 96.4548 607.835 Q98.2835 604.27 98.2835 597.163 Q98.2835 590.034 96.4548 586.492 Q94.6493 582.927 91.0151 582.927 M91.0151 579.224 Q96.8252 579.224 99.8808 583.83 Q102.959 588.413 102.959 597.163 Q102.959 605.89 99.8808 610.497 Q96.8252 615.08 91.0151 615.08 Q85.2049 615.08 82.1262 610.497 Q79.0707 605.89 79.0707 597.163 Q79.0707 588.413 82.1262 583.83 Q85.2049 579.224 91.0151 579.224 Z\" fill=\"#000000\" fill-rule=\"evenodd\" fill-opacity=\"1\" /><path clip-path=\"url(#clip730)\" d=\"M52.6588 186.18 L60.2976 186.18 L60.2976 159.814 L51.9875 161.481 L51.9875 157.222 L60.2513 155.555 L64.9272 155.555 L64.9272 186.18 L72.5661 186.18 L72.5661 190.115 L52.6588 190.115 L52.6588 186.18 Z\" fill=\"#000000\" fill-rule=\"evenodd\" fill-opacity=\"1\" /><path clip-path=\"url(#clip730)\" d=\"M82.0568 155.555 L100.413 155.555 L100.413 159.49 L86.3392 159.49 L86.3392 167.962 Q87.3577 167.615 88.3762 167.453 Q89.3947 167.268 90.4132 167.268 Q96.2002 167.268 99.5798 170.439 Q102.959 173.61 102.959 179.027 Q102.959 184.606 99.4872 187.708 Q96.015 190.786 89.6956 190.786 Q87.5197 190.786 85.2512 190.416 Q83.0058 190.046 80.5984 189.305 L80.5984 184.606 Q82.6818 185.74 84.904 186.296 Q87.1262 186.851 89.603 186.851 Q93.6076 186.851 95.9456 184.745 Q98.2835 182.638 98.2835 179.027 Q98.2835 175.416 95.9456 173.31 Q93.6076 171.203 89.603 171.203 Q87.728 171.203 85.8531 171.62 Q84.0012 172.036 82.0568 172.916 L82.0568 155.555 Z\" fill=\"#000000\" fill-rule=\"evenodd\" fill-opacity=\"1\" /><polyline clip-path=\"url(#clip732)\" style=\"stroke:#009af9; stroke-linecap:butt; stroke-linejoin:round; stroke-width:4; stroke-opacity:1; fill:none\" points=\"\n",
       "  201.614,87.9763 227.72,155.015 253.826,220.356 279.932,284 306.038,345.947 332.145,406.196 358.251,464.749 384.357,521.604 410.463,576.762 436.569,630.223 \n",
       "  462.675,681.987 488.781,732.054 514.887,780.423 540.993,827.096 567.099,872.071 593.205,915.349 619.312,956.93 645.418,996.813 671.524,1035 697.63,1071.49 \n",
       "  723.736,1106.28 749.842,1139.38 775.948,1170.77 802.054,1200.47 828.16,1228.48 854.266,1254.78 880.372,1279.39 906.478,1302.3 932.585,1323.52 958.691,1343.04 \n",
       "  984.797,1360.86 1010.9,1376.98 1037.01,1391.41 1063.12,1404.13 1089.22,1415.17 1115.33,1424.5 1141.43,1432.14 1167.54,1438.08 1193.65,1442.32 1219.75,1444.87 \n",
       "  1245.86,1445.72 1271.96,1444.87 1298.07,1442.32 1324.18,1438.08 1350.28,1432.14 1376.39,1424.5 1402.49,1415.17 1428.6,1404.13 1454.71,1391.41 1480.81,1376.98 \n",
       "  1506.92,1360.86 1533.02,1343.04 1559.13,1323.52 1585.24,1302.3 1611.34,1279.39 1637.45,1254.78 1663.56,1228.48 1689.66,1200.47 1715.77,1170.77 1741.87,1139.38 \n",
       "  1767.98,1106.28 1794.09,1071.49 1820.19,1035 1846.3,996.813 1872.4,956.93 1898.51,915.349 1924.62,872.071 1950.72,827.096 1976.83,780.423 2002.93,732.054 \n",
       "  2029.04,681.987 2055.15,630.223 2081.25,576.762 2107.36,521.604 2133.46,464.749 2159.57,406.196 2185.68,345.947 2211.78,284 2237.89,220.356 2264,155.015 \n",
       "  2290.1,87.9763 \n",
       "  \"/>\n",
       "<circle clip-path=\"url(#clip732)\" cx=\"201.614\" cy=\"87.9763\" r=\"14\" fill=\"#e26f46\" fill-rule=\"evenodd\" fill-opacity=\"1\" stroke=\"#000000\" stroke-opacity=\"1\" stroke-width=\"3.2\"/>\n",
       "<circle clip-path=\"url(#clip732)\" cx=\"227.72\" cy=\"155.015\" r=\"14\" fill=\"#e26f46\" fill-rule=\"evenodd\" fill-opacity=\"1\" stroke=\"#000000\" stroke-opacity=\"1\" stroke-width=\"3.2\"/>\n",
       "<circle clip-path=\"url(#clip732)\" cx=\"253.826\" cy=\"220.356\" r=\"14\" fill=\"#e26f46\" fill-rule=\"evenodd\" fill-opacity=\"1\" stroke=\"#000000\" stroke-opacity=\"1\" stroke-width=\"3.2\"/>\n",
       "<circle clip-path=\"url(#clip732)\" cx=\"279.932\" cy=\"284\" r=\"14\" fill=\"#e26f46\" fill-rule=\"evenodd\" fill-opacity=\"1\" stroke=\"#000000\" stroke-opacity=\"1\" stroke-width=\"3.2\"/>\n",
       "<circle clip-path=\"url(#clip732)\" cx=\"306.038\" cy=\"345.947\" r=\"14\" fill=\"#e26f46\" fill-rule=\"evenodd\" fill-opacity=\"1\" stroke=\"#000000\" stroke-opacity=\"1\" stroke-width=\"3.2\"/>\n",
       "<circle clip-path=\"url(#clip732)\" cx=\"332.145\" cy=\"406.196\" r=\"14\" fill=\"#e26f46\" fill-rule=\"evenodd\" fill-opacity=\"1\" stroke=\"#000000\" stroke-opacity=\"1\" stroke-width=\"3.2\"/>\n",
       "<circle clip-path=\"url(#clip732)\" cx=\"358.251\" cy=\"464.749\" r=\"14\" fill=\"#e26f46\" fill-rule=\"evenodd\" fill-opacity=\"1\" stroke=\"#000000\" stroke-opacity=\"1\" stroke-width=\"3.2\"/>\n",
       "<circle clip-path=\"url(#clip732)\" cx=\"384.357\" cy=\"521.604\" r=\"14\" fill=\"#e26f46\" fill-rule=\"evenodd\" fill-opacity=\"1\" stroke=\"#000000\" stroke-opacity=\"1\" stroke-width=\"3.2\"/>\n",
       "<circle clip-path=\"url(#clip732)\" cx=\"410.463\" cy=\"576.762\" r=\"14\" fill=\"#e26f46\" fill-rule=\"evenodd\" fill-opacity=\"1\" stroke=\"#000000\" stroke-opacity=\"1\" stroke-width=\"3.2\"/>\n",
       "<circle clip-path=\"url(#clip732)\" cx=\"436.569\" cy=\"630.223\" r=\"14\" fill=\"#e26f46\" fill-rule=\"evenodd\" fill-opacity=\"1\" stroke=\"#000000\" stroke-opacity=\"1\" stroke-width=\"3.2\"/>\n",
       "<circle clip-path=\"url(#clip732)\" cx=\"462.675\" cy=\"681.987\" r=\"14\" fill=\"#e26f46\" fill-rule=\"evenodd\" fill-opacity=\"1\" stroke=\"#000000\" stroke-opacity=\"1\" stroke-width=\"3.2\"/>\n",
       "<circle clip-path=\"url(#clip732)\" cx=\"488.781\" cy=\"732.054\" r=\"14\" fill=\"#e26f46\" fill-rule=\"evenodd\" fill-opacity=\"1\" stroke=\"#000000\" stroke-opacity=\"1\" stroke-width=\"3.2\"/>\n",
       "<circle clip-path=\"url(#clip732)\" cx=\"514.887\" cy=\"780.423\" r=\"14\" fill=\"#e26f46\" fill-rule=\"evenodd\" fill-opacity=\"1\" stroke=\"#000000\" stroke-opacity=\"1\" stroke-width=\"3.2\"/>\n",
       "<circle clip-path=\"url(#clip732)\" cx=\"540.993\" cy=\"827.096\" r=\"14\" fill=\"#e26f46\" fill-rule=\"evenodd\" fill-opacity=\"1\" stroke=\"#000000\" stroke-opacity=\"1\" stroke-width=\"3.2\"/>\n",
       "<circle clip-path=\"url(#clip732)\" cx=\"567.099\" cy=\"872.071\" r=\"14\" fill=\"#e26f46\" fill-rule=\"evenodd\" fill-opacity=\"1\" stroke=\"#000000\" stroke-opacity=\"1\" stroke-width=\"3.2\"/>\n",
       "<circle clip-path=\"url(#clip732)\" cx=\"593.205\" cy=\"915.349\" r=\"14\" fill=\"#e26f46\" fill-rule=\"evenodd\" fill-opacity=\"1\" stroke=\"#000000\" stroke-opacity=\"1\" stroke-width=\"3.2\"/>\n",
       "<circle clip-path=\"url(#clip732)\" cx=\"619.312\" cy=\"956.93\" r=\"14\" fill=\"#e26f46\" fill-rule=\"evenodd\" fill-opacity=\"1\" stroke=\"#000000\" stroke-opacity=\"1\" stroke-width=\"3.2\"/>\n",
       "<circle clip-path=\"url(#clip732)\" cx=\"645.418\" cy=\"996.813\" r=\"14\" fill=\"#e26f46\" fill-rule=\"evenodd\" fill-opacity=\"1\" stroke=\"#000000\" stroke-opacity=\"1\" stroke-width=\"3.2\"/>\n",
       "<circle clip-path=\"url(#clip732)\" cx=\"671.524\" cy=\"1035\" r=\"14\" fill=\"#e26f46\" fill-rule=\"evenodd\" fill-opacity=\"1\" stroke=\"#000000\" stroke-opacity=\"1\" stroke-width=\"3.2\"/>\n",
       "<circle clip-path=\"url(#clip732)\" cx=\"697.63\" cy=\"1071.49\" r=\"14\" fill=\"#e26f46\" fill-rule=\"evenodd\" fill-opacity=\"1\" stroke=\"#000000\" stroke-opacity=\"1\" stroke-width=\"3.2\"/>\n",
       "<circle clip-path=\"url(#clip732)\" cx=\"723.736\" cy=\"1106.28\" r=\"14\" fill=\"#e26f46\" fill-rule=\"evenodd\" fill-opacity=\"1\" stroke=\"#000000\" stroke-opacity=\"1\" stroke-width=\"3.2\"/>\n",
       "<circle clip-path=\"url(#clip732)\" cx=\"749.842\" cy=\"1139.38\" r=\"14\" fill=\"#e26f46\" fill-rule=\"evenodd\" fill-opacity=\"1\" stroke=\"#000000\" stroke-opacity=\"1\" stroke-width=\"3.2\"/>\n",
       "<circle clip-path=\"url(#clip732)\" cx=\"775.948\" cy=\"1170.77\" r=\"14\" fill=\"#e26f46\" fill-rule=\"evenodd\" fill-opacity=\"1\" stroke=\"#000000\" stroke-opacity=\"1\" stroke-width=\"3.2\"/>\n",
       "<circle clip-path=\"url(#clip732)\" cx=\"802.054\" cy=\"1200.47\" r=\"14\" fill=\"#e26f46\" fill-rule=\"evenodd\" fill-opacity=\"1\" stroke=\"#000000\" stroke-opacity=\"1\" stroke-width=\"3.2\"/>\n",
       "<circle clip-path=\"url(#clip732)\" cx=\"828.16\" cy=\"1228.48\" r=\"14\" fill=\"#e26f46\" fill-rule=\"evenodd\" fill-opacity=\"1\" stroke=\"#000000\" stroke-opacity=\"1\" stroke-width=\"3.2\"/>\n",
       "<circle clip-path=\"url(#clip732)\" cx=\"854.266\" cy=\"1254.78\" r=\"14\" fill=\"#e26f46\" fill-rule=\"evenodd\" fill-opacity=\"1\" stroke=\"#000000\" stroke-opacity=\"1\" stroke-width=\"3.2\"/>\n",
       "<circle clip-path=\"url(#clip732)\" cx=\"880.372\" cy=\"1279.39\" r=\"14\" fill=\"#e26f46\" fill-rule=\"evenodd\" fill-opacity=\"1\" stroke=\"#000000\" stroke-opacity=\"1\" stroke-width=\"3.2\"/>\n",
       "<circle clip-path=\"url(#clip732)\" cx=\"906.478\" cy=\"1302.3\" r=\"14\" fill=\"#e26f46\" fill-rule=\"evenodd\" fill-opacity=\"1\" stroke=\"#000000\" stroke-opacity=\"1\" stroke-width=\"3.2\"/>\n",
       "<circle clip-path=\"url(#clip732)\" cx=\"932.585\" cy=\"1323.52\" r=\"14\" fill=\"#e26f46\" fill-rule=\"evenodd\" fill-opacity=\"1\" stroke=\"#000000\" stroke-opacity=\"1\" stroke-width=\"3.2\"/>\n",
       "<circle clip-path=\"url(#clip732)\" cx=\"958.691\" cy=\"1343.04\" r=\"14\" fill=\"#e26f46\" fill-rule=\"evenodd\" fill-opacity=\"1\" stroke=\"#000000\" stroke-opacity=\"1\" stroke-width=\"3.2\"/>\n",
       "<circle clip-path=\"url(#clip732)\" cx=\"984.797\" cy=\"1360.86\" r=\"14\" fill=\"#e26f46\" fill-rule=\"evenodd\" fill-opacity=\"1\" stroke=\"#000000\" stroke-opacity=\"1\" stroke-width=\"3.2\"/>\n",
       "<circle clip-path=\"url(#clip732)\" cx=\"1010.9\" cy=\"1376.98\" r=\"14\" fill=\"#e26f46\" fill-rule=\"evenodd\" fill-opacity=\"1\" stroke=\"#000000\" stroke-opacity=\"1\" stroke-width=\"3.2\"/>\n",
       "<circle clip-path=\"url(#clip732)\" cx=\"1037.01\" cy=\"1391.41\" r=\"14\" fill=\"#e26f46\" fill-rule=\"evenodd\" fill-opacity=\"1\" stroke=\"#000000\" stroke-opacity=\"1\" stroke-width=\"3.2\"/>\n",
       "<circle clip-path=\"url(#clip732)\" cx=\"1063.12\" cy=\"1404.13\" r=\"14\" fill=\"#e26f46\" fill-rule=\"evenodd\" fill-opacity=\"1\" stroke=\"#000000\" stroke-opacity=\"1\" stroke-width=\"3.2\"/>\n",
       "<circle clip-path=\"url(#clip732)\" cx=\"1089.22\" cy=\"1415.17\" r=\"14\" fill=\"#e26f46\" fill-rule=\"evenodd\" fill-opacity=\"1\" stroke=\"#000000\" stroke-opacity=\"1\" stroke-width=\"3.2\"/>\n",
       "<circle clip-path=\"url(#clip732)\" cx=\"1115.33\" cy=\"1424.5\" r=\"14\" fill=\"#e26f46\" fill-rule=\"evenodd\" fill-opacity=\"1\" stroke=\"#000000\" stroke-opacity=\"1\" stroke-width=\"3.2\"/>\n",
       "<circle clip-path=\"url(#clip732)\" cx=\"1141.43\" cy=\"1432.14\" r=\"14\" fill=\"#e26f46\" fill-rule=\"evenodd\" fill-opacity=\"1\" stroke=\"#000000\" stroke-opacity=\"1\" stroke-width=\"3.2\"/>\n",
       "<circle clip-path=\"url(#clip732)\" cx=\"1167.54\" cy=\"1438.08\" r=\"14\" fill=\"#e26f46\" fill-rule=\"evenodd\" fill-opacity=\"1\" stroke=\"#000000\" stroke-opacity=\"1\" stroke-width=\"3.2\"/>\n",
       "<circle clip-path=\"url(#clip732)\" cx=\"1193.65\" cy=\"1442.32\" r=\"14\" fill=\"#e26f46\" fill-rule=\"evenodd\" fill-opacity=\"1\" stroke=\"#000000\" stroke-opacity=\"1\" stroke-width=\"3.2\"/>\n",
       "<circle clip-path=\"url(#clip732)\" cx=\"1219.75\" cy=\"1444.87\" r=\"14\" fill=\"#e26f46\" fill-rule=\"evenodd\" fill-opacity=\"1\" stroke=\"#000000\" stroke-opacity=\"1\" stroke-width=\"3.2\"/>\n",
       "<circle clip-path=\"url(#clip732)\" cx=\"1245.86\" cy=\"1445.72\" r=\"14\" fill=\"#e26f46\" fill-rule=\"evenodd\" fill-opacity=\"1\" stroke=\"#000000\" stroke-opacity=\"1\" stroke-width=\"3.2\"/>\n",
       "<circle clip-path=\"url(#clip732)\" cx=\"1271.96\" cy=\"1444.87\" r=\"14\" fill=\"#e26f46\" fill-rule=\"evenodd\" fill-opacity=\"1\" stroke=\"#000000\" stroke-opacity=\"1\" stroke-width=\"3.2\"/>\n",
       "<circle clip-path=\"url(#clip732)\" cx=\"1298.07\" cy=\"1442.32\" r=\"14\" fill=\"#e26f46\" fill-rule=\"evenodd\" fill-opacity=\"1\" stroke=\"#000000\" stroke-opacity=\"1\" stroke-width=\"3.2\"/>\n",
       "<circle clip-path=\"url(#clip732)\" cx=\"1324.18\" cy=\"1438.08\" r=\"14\" fill=\"#e26f46\" fill-rule=\"evenodd\" fill-opacity=\"1\" stroke=\"#000000\" stroke-opacity=\"1\" stroke-width=\"3.2\"/>\n",
       "<circle clip-path=\"url(#clip732)\" cx=\"1350.28\" cy=\"1432.14\" r=\"14\" fill=\"#e26f46\" fill-rule=\"evenodd\" fill-opacity=\"1\" stroke=\"#000000\" stroke-opacity=\"1\" stroke-width=\"3.2\"/>\n",
       "<circle clip-path=\"url(#clip732)\" cx=\"1376.39\" cy=\"1424.5\" r=\"14\" fill=\"#e26f46\" fill-rule=\"evenodd\" fill-opacity=\"1\" stroke=\"#000000\" stroke-opacity=\"1\" stroke-width=\"3.2\"/>\n",
       "<circle clip-path=\"url(#clip732)\" cx=\"1402.49\" cy=\"1415.17\" r=\"14\" fill=\"#e26f46\" fill-rule=\"evenodd\" fill-opacity=\"1\" stroke=\"#000000\" stroke-opacity=\"1\" stroke-width=\"3.2\"/>\n",
       "<circle clip-path=\"url(#clip732)\" cx=\"1428.6\" cy=\"1404.13\" r=\"14\" fill=\"#e26f46\" fill-rule=\"evenodd\" fill-opacity=\"1\" stroke=\"#000000\" stroke-opacity=\"1\" stroke-width=\"3.2\"/>\n",
       "<circle clip-path=\"url(#clip732)\" cx=\"1454.71\" cy=\"1391.41\" r=\"14\" fill=\"#e26f46\" fill-rule=\"evenodd\" fill-opacity=\"1\" stroke=\"#000000\" stroke-opacity=\"1\" stroke-width=\"3.2\"/>\n",
       "<circle clip-path=\"url(#clip732)\" cx=\"1480.81\" cy=\"1376.98\" r=\"14\" fill=\"#e26f46\" fill-rule=\"evenodd\" fill-opacity=\"1\" stroke=\"#000000\" stroke-opacity=\"1\" stroke-width=\"3.2\"/>\n",
       "<circle clip-path=\"url(#clip732)\" cx=\"1506.92\" cy=\"1360.86\" r=\"14\" fill=\"#e26f46\" fill-rule=\"evenodd\" fill-opacity=\"1\" stroke=\"#000000\" stroke-opacity=\"1\" stroke-width=\"3.2\"/>\n",
       "<circle clip-path=\"url(#clip732)\" cx=\"1533.02\" cy=\"1343.04\" r=\"14\" fill=\"#e26f46\" fill-rule=\"evenodd\" fill-opacity=\"1\" stroke=\"#000000\" stroke-opacity=\"1\" stroke-width=\"3.2\"/>\n",
       "<circle clip-path=\"url(#clip732)\" cx=\"1559.13\" cy=\"1323.52\" r=\"14\" fill=\"#e26f46\" fill-rule=\"evenodd\" fill-opacity=\"1\" stroke=\"#000000\" stroke-opacity=\"1\" stroke-width=\"3.2\"/>\n",
       "<circle clip-path=\"url(#clip732)\" cx=\"1585.24\" cy=\"1302.3\" r=\"14\" fill=\"#e26f46\" fill-rule=\"evenodd\" fill-opacity=\"1\" stroke=\"#000000\" stroke-opacity=\"1\" stroke-width=\"3.2\"/>\n",
       "<circle clip-path=\"url(#clip732)\" cx=\"1611.34\" cy=\"1279.39\" r=\"14\" fill=\"#e26f46\" fill-rule=\"evenodd\" fill-opacity=\"1\" stroke=\"#000000\" stroke-opacity=\"1\" stroke-width=\"3.2\"/>\n",
       "<circle clip-path=\"url(#clip732)\" cx=\"1637.45\" cy=\"1254.78\" r=\"14\" fill=\"#e26f46\" fill-rule=\"evenodd\" fill-opacity=\"1\" stroke=\"#000000\" stroke-opacity=\"1\" stroke-width=\"3.2\"/>\n",
       "<circle clip-path=\"url(#clip732)\" cx=\"1663.56\" cy=\"1228.48\" r=\"14\" fill=\"#e26f46\" fill-rule=\"evenodd\" fill-opacity=\"1\" stroke=\"#000000\" stroke-opacity=\"1\" stroke-width=\"3.2\"/>\n",
       "<circle clip-path=\"url(#clip732)\" cx=\"1689.66\" cy=\"1200.47\" r=\"14\" fill=\"#e26f46\" fill-rule=\"evenodd\" fill-opacity=\"1\" stroke=\"#000000\" stroke-opacity=\"1\" stroke-width=\"3.2\"/>\n",
       "<circle clip-path=\"url(#clip732)\" cx=\"1715.77\" cy=\"1170.77\" r=\"14\" fill=\"#e26f46\" fill-rule=\"evenodd\" fill-opacity=\"1\" stroke=\"#000000\" stroke-opacity=\"1\" stroke-width=\"3.2\"/>\n",
       "<circle clip-path=\"url(#clip732)\" cx=\"1741.87\" cy=\"1139.38\" r=\"14\" fill=\"#e26f46\" fill-rule=\"evenodd\" fill-opacity=\"1\" stroke=\"#000000\" stroke-opacity=\"1\" stroke-width=\"3.2\"/>\n",
       "<circle clip-path=\"url(#clip732)\" cx=\"1767.98\" cy=\"1106.28\" r=\"14\" fill=\"#e26f46\" fill-rule=\"evenodd\" fill-opacity=\"1\" stroke=\"#000000\" stroke-opacity=\"1\" stroke-width=\"3.2\"/>\n",
       "<circle clip-path=\"url(#clip732)\" cx=\"1794.09\" cy=\"1071.49\" r=\"14\" fill=\"#e26f46\" fill-rule=\"evenodd\" fill-opacity=\"1\" stroke=\"#000000\" stroke-opacity=\"1\" stroke-width=\"3.2\"/>\n",
       "<circle clip-path=\"url(#clip732)\" cx=\"1820.19\" cy=\"1035\" r=\"14\" fill=\"#e26f46\" fill-rule=\"evenodd\" fill-opacity=\"1\" stroke=\"#000000\" stroke-opacity=\"1\" stroke-width=\"3.2\"/>\n",
       "<circle clip-path=\"url(#clip732)\" cx=\"1846.3\" cy=\"996.813\" r=\"14\" fill=\"#e26f46\" fill-rule=\"evenodd\" fill-opacity=\"1\" stroke=\"#000000\" stroke-opacity=\"1\" stroke-width=\"3.2\"/>\n",
       "<circle clip-path=\"url(#clip732)\" cx=\"1872.4\" cy=\"956.93\" r=\"14\" fill=\"#e26f46\" fill-rule=\"evenodd\" fill-opacity=\"1\" stroke=\"#000000\" stroke-opacity=\"1\" stroke-width=\"3.2\"/>\n",
       "<circle clip-path=\"url(#clip732)\" cx=\"1898.51\" cy=\"915.349\" r=\"14\" fill=\"#e26f46\" fill-rule=\"evenodd\" fill-opacity=\"1\" stroke=\"#000000\" stroke-opacity=\"1\" stroke-width=\"3.2\"/>\n",
       "<circle clip-path=\"url(#clip732)\" cx=\"1924.62\" cy=\"872.071\" r=\"14\" fill=\"#e26f46\" fill-rule=\"evenodd\" fill-opacity=\"1\" stroke=\"#000000\" stroke-opacity=\"1\" stroke-width=\"3.2\"/>\n",
       "<circle clip-path=\"url(#clip732)\" cx=\"1950.72\" cy=\"827.096\" r=\"14\" fill=\"#e26f46\" fill-rule=\"evenodd\" fill-opacity=\"1\" stroke=\"#000000\" stroke-opacity=\"1\" stroke-width=\"3.2\"/>\n",
       "<circle clip-path=\"url(#clip732)\" cx=\"1976.83\" cy=\"780.423\" r=\"14\" fill=\"#e26f46\" fill-rule=\"evenodd\" fill-opacity=\"1\" stroke=\"#000000\" stroke-opacity=\"1\" stroke-width=\"3.2\"/>\n",
       "<circle clip-path=\"url(#clip732)\" cx=\"2002.93\" cy=\"732.054\" r=\"14\" fill=\"#e26f46\" fill-rule=\"evenodd\" fill-opacity=\"1\" stroke=\"#000000\" stroke-opacity=\"1\" stroke-width=\"3.2\"/>\n",
       "<circle clip-path=\"url(#clip732)\" cx=\"2029.04\" cy=\"681.987\" r=\"14\" fill=\"#e26f46\" fill-rule=\"evenodd\" fill-opacity=\"1\" stroke=\"#000000\" stroke-opacity=\"1\" stroke-width=\"3.2\"/>\n",
       "<circle clip-path=\"url(#clip732)\" cx=\"2055.15\" cy=\"630.223\" r=\"14\" fill=\"#e26f46\" fill-rule=\"evenodd\" fill-opacity=\"1\" stroke=\"#000000\" stroke-opacity=\"1\" stroke-width=\"3.2\"/>\n",
       "<circle clip-path=\"url(#clip732)\" cx=\"2081.25\" cy=\"576.762\" r=\"14\" fill=\"#e26f46\" fill-rule=\"evenodd\" fill-opacity=\"1\" stroke=\"#000000\" stroke-opacity=\"1\" stroke-width=\"3.2\"/>\n",
       "<circle clip-path=\"url(#clip732)\" cx=\"2107.36\" cy=\"521.604\" r=\"14\" fill=\"#e26f46\" fill-rule=\"evenodd\" fill-opacity=\"1\" stroke=\"#000000\" stroke-opacity=\"1\" stroke-width=\"3.2\"/>\n",
       "<circle clip-path=\"url(#clip732)\" cx=\"2133.46\" cy=\"464.749\" r=\"14\" fill=\"#e26f46\" fill-rule=\"evenodd\" fill-opacity=\"1\" stroke=\"#000000\" stroke-opacity=\"1\" stroke-width=\"3.2\"/>\n",
       "<circle clip-path=\"url(#clip732)\" cx=\"2159.57\" cy=\"406.196\" r=\"14\" fill=\"#e26f46\" fill-rule=\"evenodd\" fill-opacity=\"1\" stroke=\"#000000\" stroke-opacity=\"1\" stroke-width=\"3.2\"/>\n",
       "<circle clip-path=\"url(#clip732)\" cx=\"2185.68\" cy=\"345.947\" r=\"14\" fill=\"#e26f46\" fill-rule=\"evenodd\" fill-opacity=\"1\" stroke=\"#000000\" stroke-opacity=\"1\" stroke-width=\"3.2\"/>\n",
       "<circle clip-path=\"url(#clip732)\" cx=\"2211.78\" cy=\"284\" r=\"14\" fill=\"#e26f46\" fill-rule=\"evenodd\" fill-opacity=\"1\" stroke=\"#000000\" stroke-opacity=\"1\" stroke-width=\"3.2\"/>\n",
       "<circle clip-path=\"url(#clip732)\" cx=\"2237.89\" cy=\"220.356\" r=\"14\" fill=\"#e26f46\" fill-rule=\"evenodd\" fill-opacity=\"1\" stroke=\"#000000\" stroke-opacity=\"1\" stroke-width=\"3.2\"/>\n",
       "<circle clip-path=\"url(#clip732)\" cx=\"2264\" cy=\"155.015\" r=\"14\" fill=\"#e26f46\" fill-rule=\"evenodd\" fill-opacity=\"1\" stroke=\"#000000\" stroke-opacity=\"1\" stroke-width=\"3.2\"/>\n",
       "<circle clip-path=\"url(#clip732)\" cx=\"2290.1\" cy=\"87.9763\" r=\"14\" fill=\"#e26f46\" fill-rule=\"evenodd\" fill-opacity=\"1\" stroke=\"#000000\" stroke-opacity=\"1\" stroke-width=\"3.2\"/>\n",
       "<path clip-path=\"url(#clip730)\" d=\"\n",
       "M1894 250.738 L2278.96 250.738 L2278.96 95.2176 L1894 95.2176  Z\n",
       "  \" fill=\"#ffffff\" fill-rule=\"evenodd\" fill-opacity=\"1\"/>\n",
       "<polyline clip-path=\"url(#clip730)\" style=\"stroke:#000000; stroke-linecap:butt; stroke-linejoin:round; stroke-width:4; stroke-opacity:1; fill:none\" points=\"\n",
       "  1894,250.738 2278.96,250.738 2278.96,95.2176 1894,95.2176 1894,250.738 \n",
       "  \"/>\n",
       "<polyline clip-path=\"url(#clip730)\" style=\"stroke:#009af9; stroke-linecap:butt; stroke-linejoin:round; stroke-width:4; stroke-opacity:1; fill:none\" points=\"\n",
       "  1918.6,147.058 2066.19,147.058 \n",
       "  \"/>\n",
       "<path clip-path=\"url(#clip730)\" d=\"M2090.79 128.319 L2095.05 128.319 L2095.05 164.338 L2090.79 164.338 L2090.79 128.319 Z\" fill=\"#000000\" fill-rule=\"evenodd\" fill-opacity=\"1\" /><path clip-path=\"url(#clip730)\" d=\"M2103.96 138.412 L2108.22 138.412 L2108.22 164.338 L2103.96 164.338 L2103.96 138.412 M2103.96 128.319 L2108.22 128.319 L2108.22 133.713 L2103.96 133.713 L2103.96 128.319 Z\" fill=\"#000000\" fill-rule=\"evenodd\" fill-opacity=\"1\" /><path clip-path=\"url(#clip730)\" d=\"M2138.68 148.689 L2138.68 164.338 L2134.42 164.338 L2134.42 148.828 Q2134.42 145.148 2132.99 143.319 Q2131.55 141.49 2128.68 141.49 Q2125.23 141.49 2123.24 143.69 Q2121.25 145.889 2121.25 149.685 L2121.25 164.338 L2116.97 164.338 L2116.97 138.412 L2121.25 138.412 L2121.25 142.44 Q2122.78 140.102 2124.84 138.944 Q2126.92 137.787 2129.63 137.787 Q2134.1 137.787 2136.39 140.565 Q2138.68 143.319 2138.68 148.689 Z\" fill=\"#000000\" fill-rule=\"evenodd\" fill-opacity=\"1\" /><path clip-path=\"url(#clip730)\" d=\"M2169.35 150.31 L2169.35 152.393 L2149.77 152.393 Q2150.05 156.791 2152.41 159.106 Q2154.79 161.398 2159.03 161.398 Q2161.48 161.398 2163.77 160.796 Q2166.09 160.194 2168.36 158.99 L2168.36 163.018 Q2166.06 163.99 2163.66 164.5 Q2161.25 165.009 2158.77 165.009 Q2152.57 165.009 2148.93 161.398 Q2145.32 157.787 2145.32 151.629 Q2145.32 145.264 2148.75 141.537 Q2152.2 137.787 2158.03 137.787 Q2163.26 137.787 2166.3 141.166 Q2169.35 144.523 2169.35 150.31 M2165.09 149.06 Q2165.05 145.565 2163.12 143.481 Q2161.23 141.398 2158.08 141.398 Q2154.51 141.398 2152.36 143.412 Q2150.23 145.426 2149.91 149.083 L2165.09 149.06 Z\" fill=\"#000000\" fill-rule=\"evenodd\" fill-opacity=\"1\" /><circle clip-path=\"url(#clip730)\" cx=\"1992.4\" cy=\"198.898\" r=\"23\" fill=\"#e26f46\" fill-rule=\"evenodd\" fill-opacity=\"1\" stroke=\"#000000\" stroke-opacity=\"1\" stroke-width=\"5.12\"/>\n",
       "<path clip-path=\"url(#clip730)\" d=\"M2095.07 212.289 L2095.07 226.039 L2090.79 226.039 L2090.79 190.252 L2095.07 190.252 L2095.07 194.187 Q2096.41 191.872 2098.45 190.761 Q2100.51 189.627 2103.36 189.627 Q2108.08 189.627 2111.02 193.377 Q2113.98 197.127 2113.98 203.238 Q2113.98 209.349 2111.02 213.099 Q2108.08 216.849 2103.36 216.849 Q2100.51 216.849 2098.45 215.738 Q2096.41 214.603 2095.07 212.289 M2109.56 203.238 Q2109.56 198.539 2107.62 195.877 Q2105.69 193.192 2102.31 193.192 Q2098.93 193.192 2096.99 195.877 Q2095.07 198.539 2095.07 203.238 Q2095.07 207.937 2096.99 210.622 Q2098.93 213.284 2102.31 213.284 Q2105.69 213.284 2107.62 210.622 Q2109.56 207.937 2109.56 203.238 Z\" fill=\"#000000\" fill-rule=\"evenodd\" fill-opacity=\"1\" /><path clip-path=\"url(#clip730)\" d=\"M2131.09 193.238 Q2127.66 193.238 2125.67 195.923 Q2123.68 198.585 2123.68 203.238 Q2123.68 207.891 2125.65 210.576 Q2127.64 213.238 2131.09 213.238 Q2134.49 213.238 2136.48 210.553 Q2138.47 207.867 2138.47 203.238 Q2138.47 198.631 2136.48 195.946 Q2134.49 193.238 2131.09 193.238 M2131.09 189.627 Q2136.64 189.627 2139.81 193.238 Q2142.99 196.849 2142.99 203.238 Q2142.99 209.604 2139.81 213.238 Q2136.64 216.849 2131.09 216.849 Q2125.51 216.849 2122.34 213.238 Q2119.19 209.604 2119.19 203.238 Q2119.19 196.849 2122.34 193.238 Q2125.51 189.627 2131.09 189.627 Z\" fill=\"#000000\" fill-rule=\"evenodd\" fill-opacity=\"1\" /><path clip-path=\"url(#clip730)\" d=\"M2150.05 190.252 L2154.3 190.252 L2154.3 216.178 L2150.05 216.178 L2150.05 190.252 M2150.05 180.159 L2154.3 180.159 L2154.3 185.553 L2150.05 185.553 L2150.05 180.159 Z\" fill=\"#000000\" fill-rule=\"evenodd\" fill-opacity=\"1\" /><path clip-path=\"url(#clip730)\" d=\"M2184.77 200.529 L2184.77 216.178 L2180.51 216.178 L2180.51 200.668 Q2180.51 196.988 2179.07 195.159 Q2177.64 193.33 2174.77 193.33 Q2171.32 193.33 2169.33 195.53 Q2167.34 197.729 2167.34 201.525 L2167.34 216.178 L2163.05 216.178 L2163.05 190.252 L2167.34 190.252 L2167.34 194.28 Q2168.86 191.942 2170.92 190.784 Q2173.01 189.627 2175.72 189.627 Q2180.18 189.627 2182.48 192.405 Q2184.77 195.159 2184.77 200.529 Z\" fill=\"#000000\" fill-rule=\"evenodd\" fill-opacity=\"1\" /><path clip-path=\"url(#clip730)\" d=\"M2197.48 182.891 L2197.48 190.252 L2206.25 190.252 L2206.25 193.562 L2197.48 193.562 L2197.48 207.636 Q2197.48 210.807 2198.33 211.71 Q2199.21 212.613 2201.87 212.613 L2206.25 212.613 L2206.25 216.178 L2201.87 216.178 Q2196.94 216.178 2195.07 214.349 Q2193.19 212.497 2193.19 207.636 L2193.19 193.562 L2190.07 193.562 L2190.07 190.252 L2193.19 190.252 L2193.19 182.891 L2197.48 182.891 Z\" fill=\"#000000\" fill-rule=\"evenodd\" fill-opacity=\"1\" /><path clip-path=\"url(#clip730)\" d=\"M2228.38 191.016 L2228.38 195.043 Q2226.57 194.117 2224.63 193.655 Q2222.68 193.192 2220.6 193.192 Q2217.43 193.192 2215.83 194.164 Q2214.26 195.136 2214.26 197.08 Q2214.26 198.562 2215.39 199.418 Q2216.53 200.252 2219.95 201.016 L2221.41 201.34 Q2225.95 202.312 2227.85 204.094 Q2229.77 205.854 2229.77 209.025 Q2229.77 212.636 2226.9 214.742 Q2224.05 216.849 2219.05 216.849 Q2216.97 216.849 2214.7 216.432 Q2212.45 216.039 2209.95 215.228 L2209.95 210.83 Q2212.31 212.057 2214.61 212.682 Q2216.9 213.284 2219.14 213.284 Q2222.15 213.284 2223.77 212.266 Q2225.39 211.224 2225.39 209.349 Q2225.39 207.613 2224.21 206.687 Q2223.05 205.761 2219.1 204.904 L2217.61 204.557 Q2213.66 203.724 2211.9 202.011 Q2210.14 200.275 2210.14 197.266 Q2210.14 193.608 2212.73 191.618 Q2215.32 189.627 2220.09 189.627 Q2222.45 189.627 2224.54 189.974 Q2226.62 190.321 2228.38 191.016 Z\" fill=\"#000000\" fill-rule=\"evenodd\" fill-opacity=\"1\" /></svg>\n"
      ]
     },
     "execution_count": 64,
     "metadata": {},
     "output_type": "execute_result"
    }
   ],
   "source": [
    "plot(x,y,label=\"line\")\n",
    "scatter!(x,y,label=\"points\")\n",
    "\n",
    "# Here we have used ! so that the scatter shows on the same plot as the line using plot function"
   ]
  },
  {
   "cell_type": "code",
   "execution_count": 65,
   "id": "dc5ca2b6",
   "metadata": {},
   "outputs": [
    {
     "name": "stderr",
     "output_type": "stream",
     "text": [
      "\u001b[32m\u001b[1m   Resolving\u001b[22m\u001b[39m package versions...\n",
      "\u001b[32m\u001b[1m  No Changes\u001b[22m\u001b[39m to `~/.julia/environments/v1.7/Project.toml`\n",
      "\u001b[32m\u001b[1m  No Changes\u001b[22m\u001b[39m to `~/.julia/environments/v1.7/Manifest.toml`\n"
     ]
    },
    {
     "data": {
      "application/vnd.webio.node+json": {
       "children": [],
       "instanceArgs": {
        "namespace": "html",
        "tag": "div"
       },
       "nodeType": "DOM",
       "props": {},
       "type": "node"
      },
      "text/html": [
       "<div style=\"padding: 1em; background-color: #f8d6da; border: 1px solid #f5c6cb; font-weight: bold;\">\n",
       "<p>The WebIO Jupyter extension was not detected. See the\n",
       "<a href=\"https://juliagizmos.github.io/WebIO.jl/latest/providers/ijulia/\" target=\"_blank\">\n",
       "    WebIO Jupyter integration documentation\n",
       "</a>\n",
       "for more information.\n",
       "</div>\n"
      ],
      "text/plain": [
       "WebIO._IJuliaInit()"
      ]
     },
     "metadata": {},
     "output_type": "display_data"
    },
    {
     "data": {
      "text/plain": [
       "Plots.PlotlyJSBackend()"
      ]
     },
     "execution_count": 65,
     "metadata": {},
     "output_type": "execute_result"
    }
   ],
   "source": [
    "# Loading plotlyjs backend\n",
    "Pkg.add(\"PlotlyJS\")\n",
    "plotlyjs()"
   ]
  },
  {
   "cell_type": "code",
   "execution_count": 66,
   "id": "89865f0f",
   "metadata": {},
   "outputs": [
    {
     "data": {
      "application/vnd.plotly.v1+json": {
       "data": [
        {
         "colorbar": {
          "title": ""
         },
         "legendgroup": "line",
         "line": {
          "color": "rgba(0, 154, 250, 1.000)",
          "dash": "solid",
          "shape": "linear",
          "width": 1
         },
         "mode": "lines",
         "name": "line",
         "showlegend": true,
         "type": "scatter",
         "x": [
          -4,
          -3.9,
          -3.8,
          -3.7,
          -3.6,
          -3.5,
          -3.4,
          -3.3,
          -3.2,
          -3.1,
          -3,
          -2.9,
          -2.8,
          -2.7,
          -2.6,
          -2.5,
          -2.4,
          -2.3,
          -2.2,
          -2.1,
          -2,
          -1.9,
          -1.8,
          -1.7,
          -1.6,
          -1.5,
          -1.4,
          -1.3,
          -1.2,
          -1.1,
          -1,
          -0.9,
          -0.8,
          -0.7,
          -0.6,
          -0.5,
          -0.4,
          -0.3,
          -0.2,
          -0.1,
          0,
          0.1,
          0.2,
          0.3,
          0.4,
          0.5,
          0.6,
          0.7,
          0.8,
          0.9,
          1,
          1.1,
          1.2,
          1.3,
          1.4,
          1.5,
          1.6,
          1.7,
          1.8,
          1.9,
          2,
          2.1,
          2.2,
          2.3,
          2.4,
          2.5,
          2.6,
          2.7,
          2.8,
          2.9,
          3,
          3.1,
          3.2,
          3.3,
          3.4,
          3.5,
          3.6,
          3.7,
          3.8,
          3.9,
          4
         ],
         "xaxis": "x",
         "y": [
          16,
          15.209999999999999,
          14.44,
          13.690000000000001,
          12.96,
          12.25,
          11.559999999999999,
          10.889999999999999,
          10.240000000000002,
          9.610000000000001,
          9,
          8.41,
          7.839999999999999,
          7.290000000000001,
          6.760000000000001,
          6.25,
          5.76,
          5.289999999999999,
          4.840000000000001,
          4.41,
          4,
          3.61,
          3.24,
          2.8899999999999997,
          2.5600000000000005,
          2.25,
          1.9599999999999997,
          1.6900000000000002,
          1.44,
          1.2100000000000002,
          1,
          0.81,
          0.6400000000000001,
          0.48999999999999994,
          0.36,
          0.25,
          0.16000000000000003,
          0.09,
          0.04000000000000001,
          0.010000000000000002,
          0,
          0.010000000000000002,
          0.04000000000000001,
          0.09,
          0.16000000000000003,
          0.25,
          0.36,
          0.48999999999999994,
          0.6400000000000001,
          0.81,
          1,
          1.2100000000000002,
          1.44,
          1.6900000000000002,
          1.9599999999999997,
          2.25,
          2.5600000000000005,
          2.8899999999999997,
          3.24,
          3.61,
          4,
          4.41,
          4.840000000000001,
          5.289999999999999,
          5.76,
          6.25,
          6.760000000000001,
          7.290000000000001,
          7.839999999999999,
          8.41,
          9,
          9.610000000000001,
          10.240000000000002,
          10.889999999999999,
          11.559999999999999,
          12.25,
          12.96,
          13.690000000000001,
          14.44,
          15.209999999999999,
          16
         ],
         "yaxis": "y",
         "zmax": null,
         "zmin": null
        },
        {
         "colorbar": {
          "title": ""
         },
         "legendgroup": "points",
         "marker": {
          "color": "rgba(227, 111, 71, 1.000)",
          "line": {
           "color": "rgba(0, 0, 0, 1.000)",
           "width": 1
          },
          "size": 8,
          "symbol": "circle"
         },
         "mode": "markers",
         "name": "points",
         "showlegend": true,
         "type": "scatter",
         "x": [
          -4,
          -3.9,
          -3.8,
          -3.7,
          -3.6,
          -3.5,
          -3.4,
          -3.3,
          -3.2,
          -3.1,
          -3,
          -2.9,
          -2.8,
          -2.7,
          -2.6,
          -2.5,
          -2.4,
          -2.3,
          -2.2,
          -2.1,
          -2,
          -1.9,
          -1.8,
          -1.7,
          -1.6,
          -1.5,
          -1.4,
          -1.3,
          -1.2,
          -1.1,
          -1,
          -0.9,
          -0.8,
          -0.7,
          -0.6,
          -0.5,
          -0.4,
          -0.3,
          -0.2,
          -0.1,
          0,
          0.1,
          0.2,
          0.3,
          0.4,
          0.5,
          0.6,
          0.7,
          0.8,
          0.9,
          1,
          1.1,
          1.2,
          1.3,
          1.4,
          1.5,
          1.6,
          1.7,
          1.8,
          1.9,
          2,
          2.1,
          2.2,
          2.3,
          2.4,
          2.5,
          2.6,
          2.7,
          2.8,
          2.9,
          3,
          3.1,
          3.2,
          3.3,
          3.4,
          3.5,
          3.6,
          3.7,
          3.8,
          3.9,
          4
         ],
         "xaxis": "x",
         "y": [
          16,
          15.209999999999999,
          14.44,
          13.690000000000001,
          12.96,
          12.25,
          11.559999999999999,
          10.889999999999999,
          10.240000000000002,
          9.610000000000001,
          9,
          8.41,
          7.839999999999999,
          7.290000000000001,
          6.760000000000001,
          6.25,
          5.76,
          5.289999999999999,
          4.840000000000001,
          4.41,
          4,
          3.61,
          3.24,
          2.8899999999999997,
          2.5600000000000005,
          2.25,
          1.9599999999999997,
          1.6900000000000002,
          1.44,
          1.2100000000000002,
          1,
          0.81,
          0.6400000000000001,
          0.48999999999999994,
          0.36,
          0.25,
          0.16000000000000003,
          0.09,
          0.04000000000000001,
          0.010000000000000002,
          0,
          0.010000000000000002,
          0.04000000000000001,
          0.09,
          0.16000000000000003,
          0.25,
          0.36,
          0.48999999999999994,
          0.6400000000000001,
          0.81,
          1,
          1.2100000000000002,
          1.44,
          1.6900000000000002,
          1.9599999999999997,
          2.25,
          2.5600000000000005,
          2.8899999999999997,
          3.24,
          3.61,
          4,
          4.41,
          4.840000000000001,
          5.289999999999999,
          5.76,
          6.25,
          6.760000000000001,
          7.290000000000001,
          7.839999999999999,
          8.41,
          9,
          9.610000000000001,
          10.240000000000002,
          10.889999999999999,
          11.559999999999999,
          12.25,
          12.96,
          13.690000000000001,
          14.44,
          15.209999999999999,
          16
         ],
         "yaxis": "y",
         "zmax": null,
         "zmin": null
        }
       ],
       "layout": {
        "annotations": [],
        "height": 400,
        "legend_position": {
         "bgcolor": "rgba(255, 255, 255, 1.000)",
         "bordercolor": "rgba(0, 0, 0, 1.000)",
         "borderwidth": 1,
         "font": {
          "color": "rgba(0, 0, 0, 1.000)",
          "family": "sans-serif",
          "size": 11
         },
         "title": {
          "font": {
           "color": "rgba(0, 0, 0, 1.000)",
           "family": "sans-serif",
           "size": 15
          },
          "text": ""
         },
         "tracegroupgap": 0,
         "traceorder": "normal",
         "x": 1,
         "xanchor": "auto",
         "y": 1,
         "yanchor": "auto"
        },
        "margin": {
         "b": 20,
         "l": 0,
         "r": 0,
         "t": 20
        },
        "paper_bgcolor": "rgba(255, 255, 255, 1.000)",
        "plot_bgcolor": "rgba(255, 255, 255, 1.000)",
        "showlegend": true,
        "width": 600,
        "xaxis": {
         "anchor": "y",
         "domain": [
          0.03619130941965587,
          0.9934383202099738
         ],
         "gridcolor": "rgba(0, 0, 0, 0.100)",
         "gridwidth": 0.5,
         "linecolor": "rgba(0, 0, 0, 1.000)",
         "mirror": false,
         "range": [
          -4.24,
          4.24
         ],
         "showgrid": true,
         "showline": true,
         "showticklabels": true,
         "tickangle": 0,
         "tickcolor": "rgb(0, 0, 0)",
         "tickfont": {
          "color": "rgba(0, 0, 0, 1.000)",
          "family": "sans-serif",
          "size": 11
         },
         "tickmode": "array",
         "ticks": "inside",
         "ticktext": [
          "-4",
          "-2",
          "0",
          "2",
          "4"
         ],
         "tickvals": [
          -4,
          -2,
          0,
          2,
          4
         ],
         "title": "",
         "titlefont": {
          "color": "rgba(0, 0, 0, 1.000)",
          "family": "sans-serif",
          "size": 15
         },
         "type": "-",
         "visible": true,
         "zeroline": false,
         "zerolinecolor": "rgba(0, 0, 0, 1.000)"
        },
        "yaxis": {
         "anchor": "x",
         "domain": [
          0.03762029746281716,
          0.9901574803149606
         ],
         "gridcolor": "rgba(0, 0, 0, 0.100)",
         "gridwidth": 0.5,
         "linecolor": "rgba(0, 0, 0, 1.000)",
         "mirror": false,
         "range": [
          -0.48,
          16.48
         ],
         "showgrid": true,
         "showline": true,
         "showticklabels": true,
         "tickangle": 0,
         "tickcolor": "rgb(0, 0, 0)",
         "tickfont": {
          "color": "rgba(0, 0, 0, 1.000)",
          "family": "sans-serif",
          "size": 11
         },
         "tickmode": "array",
         "ticks": "inside",
         "ticktext": [
          "0",
          "5",
          "10",
          "15"
         ],
         "tickvals": [
          0,
          5,
          10,
          15
         ],
         "title": "",
         "titlefont": {
          "color": "rgba(0, 0, 0, 1.000)",
          "family": "sans-serif",
          "size": 15
         },
         "type": "-",
         "visible": true,
         "zeroline": false,
         "zerolinecolor": "rgba(0, 0, 0, 1.000)"
        }
       }
      },
      "text/html": [
       "    <div id=\"1154b27d-d852-4572-88e9-f0c6dd1ff38b\" style=\"width:600px;height:400px;\"></div>\n",
       "    <script>\n",
       "        requirejs.config({\n",
       "        paths: {\n",
       "            Plotly: 'https://cdn.plot.ly/plotly-2.6.3.min'\n",
       "        }\n",
       "    });\n",
       "    require(['Plotly'], function (Plotly) {\n",
       "\n",
       "        Plotly.newPlot('1154b27d-d852-4572-88e9-f0c6dd1ff38b', [\n",
       "    {\n",
       "        \"xaxis\": \"x\",\n",
       "        \"colorbar\": {\n",
       "            \"title\": \"\"\n",
       "        },\n",
       "        \"yaxis\": \"y\",\n",
       "        \"x\": [\n",
       "            -4.0,\n",
       "            -3.9,\n",
       "            -3.8,\n",
       "            -3.7,\n",
       "            -3.6,\n",
       "            -3.5,\n",
       "            -3.4,\n",
       "            -3.3,\n",
       "            -3.2,\n",
       "            -3.1,\n",
       "            -3.0,\n",
       "            -2.9,\n",
       "            -2.8,\n",
       "            -2.7,\n",
       "            -2.6,\n",
       "            -2.5,\n",
       "            -2.4,\n",
       "            -2.3,\n",
       "            -2.2,\n",
       "            -2.1,\n",
       "            -2.0,\n",
       "            -1.9,\n",
       "            -1.8,\n",
       "            -1.7,\n",
       "            -1.6,\n",
       "            -1.5,\n",
       "            -1.4,\n",
       "            -1.3,\n",
       "            -1.2,\n",
       "            -1.1,\n",
       "            -1.0,\n",
       "            -0.9,\n",
       "            -0.8,\n",
       "            -0.7,\n",
       "            -0.6,\n",
       "            -0.5,\n",
       "            -0.4,\n",
       "            -0.3,\n",
       "            -0.2,\n",
       "            -0.1,\n",
       "            0.0,\n",
       "            0.1,\n",
       "            0.2,\n",
       "            0.3,\n",
       "            0.4,\n",
       "            0.5,\n",
       "            0.6,\n",
       "            0.7,\n",
       "            0.8,\n",
       "            0.9,\n",
       "            1.0,\n",
       "            1.1,\n",
       "            1.2,\n",
       "            1.3,\n",
       "            1.4,\n",
       "            1.5,\n",
       "            1.6,\n",
       "            1.7,\n",
       "            1.8,\n",
       "            1.9,\n",
       "            2.0,\n",
       "            2.1,\n",
       "            2.2,\n",
       "            2.3,\n",
       "            2.4,\n",
       "            2.5,\n",
       "            2.6,\n",
       "            2.7,\n",
       "            2.8,\n",
       "            2.9,\n",
       "            3.0,\n",
       "            3.1,\n",
       "            3.2,\n",
       "            3.3,\n",
       "            3.4,\n",
       "            3.5,\n",
       "            3.6,\n",
       "            3.7,\n",
       "            3.8,\n",
       "            3.9,\n",
       "            4.0\n",
       "        ],\n",
       "        \"showlegend\": true,\n",
       "        \"mode\": \"lines\",\n",
       "        \"name\": \"line\",\n",
       "        \"zmin\": null,\n",
       "        \"legendgroup\": \"line\",\n",
       "        \"zmax\": null,\n",
       "        \"line\": {\n",
       "            \"color\": \"rgba(0, 154, 250, 1.000)\",\n",
       "            \"shape\": \"linear\",\n",
       "            \"dash\": \"solid\",\n",
       "            \"width\": 1\n",
       "        },\n",
       "        \"y\": [\n",
       "            16.0,\n",
       "            15.209999999999999,\n",
       "            14.44,\n",
       "            13.690000000000001,\n",
       "            12.96,\n",
       "            12.25,\n",
       "            11.559999999999999,\n",
       "            10.889999999999999,\n",
       "            10.240000000000002,\n",
       "            9.610000000000001,\n",
       "            9.0,\n",
       "            8.41,\n",
       "            7.839999999999999,\n",
       "            7.290000000000001,\n",
       "            6.760000000000001,\n",
       "            6.25,\n",
       "            5.76,\n",
       "            5.289999999999999,\n",
       "            4.840000000000001,\n",
       "            4.41,\n",
       "            4.0,\n",
       "            3.61,\n",
       "            3.24,\n",
       "            2.8899999999999997,\n",
       "            2.5600000000000005,\n",
       "            2.25,\n",
       "            1.9599999999999997,\n",
       "            1.6900000000000002,\n",
       "            1.44,\n",
       "            1.2100000000000002,\n",
       "            1.0,\n",
       "            0.81,\n",
       "            0.6400000000000001,\n",
       "            0.48999999999999994,\n",
       "            0.36,\n",
       "            0.25,\n",
       "            0.16000000000000003,\n",
       "            0.09,\n",
       "            0.04000000000000001,\n",
       "            0.010000000000000002,\n",
       "            0.0,\n",
       "            0.010000000000000002,\n",
       "            0.04000000000000001,\n",
       "            0.09,\n",
       "            0.16000000000000003,\n",
       "            0.25,\n",
       "            0.36,\n",
       "            0.48999999999999994,\n",
       "            0.6400000000000001,\n",
       "            0.81,\n",
       "            1.0,\n",
       "            1.2100000000000002,\n",
       "            1.44,\n",
       "            1.6900000000000002,\n",
       "            1.9599999999999997,\n",
       "            2.25,\n",
       "            2.5600000000000005,\n",
       "            2.8899999999999997,\n",
       "            3.24,\n",
       "            3.61,\n",
       "            4.0,\n",
       "            4.41,\n",
       "            4.840000000000001,\n",
       "            5.289999999999999,\n",
       "            5.76,\n",
       "            6.25,\n",
       "            6.760000000000001,\n",
       "            7.290000000000001,\n",
       "            7.839999999999999,\n",
       "            8.41,\n",
       "            9.0,\n",
       "            9.610000000000001,\n",
       "            10.240000000000002,\n",
       "            10.889999999999999,\n",
       "            11.559999999999999,\n",
       "            12.25,\n",
       "            12.96,\n",
       "            13.690000000000001,\n",
       "            14.44,\n",
       "            15.209999999999999,\n",
       "            16.0\n",
       "        ],\n",
       "        \"type\": \"scatter\"\n",
       "    },\n",
       "    {\n",
       "        \"xaxis\": \"x\",\n",
       "        \"colorbar\": {\n",
       "            \"title\": \"\"\n",
       "        },\n",
       "        \"yaxis\": \"y\",\n",
       "        \"x\": [\n",
       "            -4.0,\n",
       "            -3.9,\n",
       "            -3.8,\n",
       "            -3.7,\n",
       "            -3.6,\n",
       "            -3.5,\n",
       "            -3.4,\n",
       "            -3.3,\n",
       "            -3.2,\n",
       "            -3.1,\n",
       "            -3.0,\n",
       "            -2.9,\n",
       "            -2.8,\n",
       "            -2.7,\n",
       "            -2.6,\n",
       "            -2.5,\n",
       "            -2.4,\n",
       "            -2.3,\n",
       "            -2.2,\n",
       "            -2.1,\n",
       "            -2.0,\n",
       "            -1.9,\n",
       "            -1.8,\n",
       "            -1.7,\n",
       "            -1.6,\n",
       "            -1.5,\n",
       "            -1.4,\n",
       "            -1.3,\n",
       "            -1.2,\n",
       "            -1.1,\n",
       "            -1.0,\n",
       "            -0.9,\n",
       "            -0.8,\n",
       "            -0.7,\n",
       "            -0.6,\n",
       "            -0.5,\n",
       "            -0.4,\n",
       "            -0.3,\n",
       "            -0.2,\n",
       "            -0.1,\n",
       "            0.0,\n",
       "            0.1,\n",
       "            0.2,\n",
       "            0.3,\n",
       "            0.4,\n",
       "            0.5,\n",
       "            0.6,\n",
       "            0.7,\n",
       "            0.8,\n",
       "            0.9,\n",
       "            1.0,\n",
       "            1.1,\n",
       "            1.2,\n",
       "            1.3,\n",
       "            1.4,\n",
       "            1.5,\n",
       "            1.6,\n",
       "            1.7,\n",
       "            1.8,\n",
       "            1.9,\n",
       "            2.0,\n",
       "            2.1,\n",
       "            2.2,\n",
       "            2.3,\n",
       "            2.4,\n",
       "            2.5,\n",
       "            2.6,\n",
       "            2.7,\n",
       "            2.8,\n",
       "            2.9,\n",
       "            3.0,\n",
       "            3.1,\n",
       "            3.2,\n",
       "            3.3,\n",
       "            3.4,\n",
       "            3.5,\n",
       "            3.6,\n",
       "            3.7,\n",
       "            3.8,\n",
       "            3.9,\n",
       "            4.0\n",
       "        ],\n",
       "        \"showlegend\": true,\n",
       "        \"mode\": \"markers\",\n",
       "        \"name\": \"points\",\n",
       "        \"zmin\": null,\n",
       "        \"legendgroup\": \"points\",\n",
       "        \"marker\": {\n",
       "            \"symbol\": \"circle\",\n",
       "            \"color\": \"rgba(227, 111, 71, 1.000)\",\n",
       "            \"line\": {\n",
       "                \"color\": \"rgba(0, 0, 0, 1.000)\",\n",
       "                \"width\": 1\n",
       "            },\n",
       "            \"size\": 8\n",
       "        },\n",
       "        \"zmax\": null,\n",
       "        \"y\": [\n",
       "            16.0,\n",
       "            15.209999999999999,\n",
       "            14.44,\n",
       "            13.690000000000001,\n",
       "            12.96,\n",
       "            12.25,\n",
       "            11.559999999999999,\n",
       "            10.889999999999999,\n",
       "            10.240000000000002,\n",
       "            9.610000000000001,\n",
       "            9.0,\n",
       "            8.41,\n",
       "            7.839999999999999,\n",
       "            7.290000000000001,\n",
       "            6.760000000000001,\n",
       "            6.25,\n",
       "            5.76,\n",
       "            5.289999999999999,\n",
       "            4.840000000000001,\n",
       "            4.41,\n",
       "            4.0,\n",
       "            3.61,\n",
       "            3.24,\n",
       "            2.8899999999999997,\n",
       "            2.5600000000000005,\n",
       "            2.25,\n",
       "            1.9599999999999997,\n",
       "            1.6900000000000002,\n",
       "            1.44,\n",
       "            1.2100000000000002,\n",
       "            1.0,\n",
       "            0.81,\n",
       "            0.6400000000000001,\n",
       "            0.48999999999999994,\n",
       "            0.36,\n",
       "            0.25,\n",
       "            0.16000000000000003,\n",
       "            0.09,\n",
       "            0.04000000000000001,\n",
       "            0.010000000000000002,\n",
       "            0.0,\n",
       "            0.010000000000000002,\n",
       "            0.04000000000000001,\n",
       "            0.09,\n",
       "            0.16000000000000003,\n",
       "            0.25,\n",
       "            0.36,\n",
       "            0.48999999999999994,\n",
       "            0.6400000000000001,\n",
       "            0.81,\n",
       "            1.0,\n",
       "            1.2100000000000002,\n",
       "            1.44,\n",
       "            1.6900000000000002,\n",
       "            1.9599999999999997,\n",
       "            2.25,\n",
       "            2.5600000000000005,\n",
       "            2.8899999999999997,\n",
       "            3.24,\n",
       "            3.61,\n",
       "            4.0,\n",
       "            4.41,\n",
       "            4.840000000000001,\n",
       "            5.289999999999999,\n",
       "            5.76,\n",
       "            6.25,\n",
       "            6.760000000000001,\n",
       "            7.290000000000001,\n",
       "            7.839999999999999,\n",
       "            8.41,\n",
       "            9.0,\n",
       "            9.610000000000001,\n",
       "            10.240000000000002,\n",
       "            10.889999999999999,\n",
       "            11.559999999999999,\n",
       "            12.25,\n",
       "            12.96,\n",
       "            13.690000000000001,\n",
       "            14.44,\n",
       "            15.209999999999999,\n",
       "            16.0\n",
       "        ],\n",
       "        \"type\": \"scatter\"\n",
       "    }\n",
       "]\n",
       ", {\n",
       "    \"showlegend\": true,\n",
       "    \"xaxis\": {\n",
       "        \"showticklabels\": true,\n",
       "        \"gridwidth\": 0.5,\n",
       "        \"tickvals\": [\n",
       "            -4.0,\n",
       "            -2.0,\n",
       "            0.0,\n",
       "            2.0,\n",
       "            4.0\n",
       "        ],\n",
       "        \"range\": [\n",
       "            -4.24,\n",
       "            4.24\n",
       "        ],\n",
       "        \"domain\": [\n",
       "            0.03619130941965587,\n",
       "            0.9934383202099738\n",
       "        ],\n",
       "        \"mirror\": false,\n",
       "        \"tickangle\": 0,\n",
       "        \"showline\": true,\n",
       "        \"ticktext\": [\n",
       "            \"-4\",\n",
       "            \"-2\",\n",
       "            \"0\",\n",
       "            \"2\",\n",
       "            \"4\"\n",
       "        ],\n",
       "        \"zeroline\": false,\n",
       "        \"tickfont\": {\n",
       "            \"color\": \"rgba(0, 0, 0, 1.000)\",\n",
       "            \"family\": \"sans-serif\",\n",
       "            \"size\": 11\n",
       "        },\n",
       "        \"zerolinecolor\": \"rgba(0, 0, 0, 1.000)\",\n",
       "        \"anchor\": \"y\",\n",
       "        \"visible\": true,\n",
       "        \"ticks\": \"inside\",\n",
       "        \"tickmode\": \"array\",\n",
       "        \"linecolor\": \"rgba(0, 0, 0, 1.000)\",\n",
       "        \"showgrid\": true,\n",
       "        \"title\": \"\",\n",
       "        \"gridcolor\": \"rgba(0, 0, 0, 0.100)\",\n",
       "        \"titlefont\": {\n",
       "            \"color\": \"rgba(0, 0, 0, 1.000)\",\n",
       "            \"family\": \"sans-serif\",\n",
       "            \"size\": 15\n",
       "        },\n",
       "        \"tickcolor\": \"rgb(0, 0, 0)\",\n",
       "        \"type\": \"-\"\n",
       "    },\n",
       "    \"paper_bgcolor\": \"rgba(255, 255, 255, 1.000)\",\n",
       "    \"annotations\": [],\n",
       "    \"height\": 400,\n",
       "    \"margin\": {\n",
       "        \"l\": 0,\n",
       "        \"b\": 20,\n",
       "        \"r\": 0,\n",
       "        \"t\": 20\n",
       "    },\n",
       "    \"plot_bgcolor\": \"rgba(255, 255, 255, 1.000)\",\n",
       "    \"yaxis\": {\n",
       "        \"showticklabels\": true,\n",
       "        \"gridwidth\": 0.5,\n",
       "        \"tickvals\": [\n",
       "            0.0,\n",
       "            5.0,\n",
       "            10.0,\n",
       "            15.0\n",
       "        ],\n",
       "        \"range\": [\n",
       "            -0.48,\n",
       "            16.48\n",
       "        ],\n",
       "        \"domain\": [\n",
       "            0.03762029746281716,\n",
       "            0.9901574803149606\n",
       "        ],\n",
       "        \"mirror\": false,\n",
       "        \"tickangle\": 0,\n",
       "        \"showline\": true,\n",
       "        \"ticktext\": [\n",
       "            \"0\",\n",
       "            \"5\",\n",
       "            \"10\",\n",
       "            \"15\"\n",
       "        ],\n",
       "        \"zeroline\": false,\n",
       "        \"tickfont\": {\n",
       "            \"color\": \"rgba(0, 0, 0, 1.000)\",\n",
       "            \"family\": \"sans-serif\",\n",
       "            \"size\": 11\n",
       "        },\n",
       "        \"zerolinecolor\": \"rgba(0, 0, 0, 1.000)\",\n",
       "        \"anchor\": \"x\",\n",
       "        \"visible\": true,\n",
       "        \"ticks\": \"inside\",\n",
       "        \"tickmode\": \"array\",\n",
       "        \"linecolor\": \"rgba(0, 0, 0, 1.000)\",\n",
       "        \"showgrid\": true,\n",
       "        \"title\": \"\",\n",
       "        \"gridcolor\": \"rgba(0, 0, 0, 0.100)\",\n",
       "        \"titlefont\": {\n",
       "            \"color\": \"rgba(0, 0, 0, 1.000)\",\n",
       "            \"family\": \"sans-serif\",\n",
       "            \"size\": 15\n",
       "        },\n",
       "        \"tickcolor\": \"rgb(0, 0, 0)\",\n",
       "        \"type\": \"-\"\n",
       "    },\n",
       "    \"legend_position\": {\n",
       "        \"yanchor\": \"auto\",\n",
       "        \"xanchor\": \"auto\",\n",
       "        \"bordercolor\": \"rgba(0, 0, 0, 1.000)\",\n",
       "        \"bgcolor\": \"rgba(255, 255, 255, 1.000)\",\n",
       "        \"borderwidth\": 1,\n",
       "        \"tracegroupgap\": 0,\n",
       "        \"y\": 1.0,\n",
       "        \"font\": {\n",
       "            \"color\": \"rgba(0, 0, 0, 1.000)\",\n",
       "            \"family\": \"sans-serif\",\n",
       "            \"size\": 11\n",
       "        },\n",
       "        \"title\": {\n",
       "            \"font\": {\n",
       "                \"color\": \"rgba(0, 0, 0, 1.000)\",\n",
       "                \"family\": \"sans-serif\",\n",
       "                \"size\": 15\n",
       "            },\n",
       "            \"text\": \"\"\n",
       "        },\n",
       "        \"traceorder\": \"normal\",\n",
       "        \"x\": 1.0\n",
       "    },\n",
       "    \"width\": 600\n",
       "}\n",
       ");\n",
       "\n",
       "    });\n",
       "    </script>\n"
      ]
     },
     "execution_count": 66,
     "metadata": {},
     "output_type": "execute_result"
    }
   ],
   "source": [
    "plot(x,y,label=\"line\")\n",
    "scatter!(x,y,label=\"points\")"
   ]
  },
  {
   "cell_type": "code",
   "execution_count": 67,
   "id": "4b978a5a",
   "metadata": {},
   "outputs": [
    {
     "data": {
      "text/plain": [
       "6-element Vector{Int64}:\n",
       " 45000\n",
       " 20000\n",
       " 15000\n",
       "  5000\n",
       "   400\n",
       "    17"
      ]
     },
     "execution_count": 67,
     "metadata": {},
     "output_type": "execute_result"
    }
   ],
   "source": [
    "# Adding labels and title in a plot\n",
    "globalTemp = [14.4, 14.5, 14.8, 15.2, 15.5, 15.8]\n",
    "numPirates = [45000, 20000, 15000, 5000, 400, 17]"
   ]
  },
  {
   "cell_type": "code",
   "execution_count": 68,
   "id": "898fd7bc",
   "metadata": {},
   "outputs": [
    {
     "data": {
      "application/vnd.plotly.v1+json": {
       "data": [
        {
         "colorbar": {
          "title": ""
         },
         "legendgroup": "y1",
         "line": {
          "color": "rgba(0, 154, 250, 1.000)",
          "dash": "solid",
          "shape": "linear",
          "width": 1
         },
         "mode": "lines",
         "name": "y1",
         "showlegend": true,
         "type": "scatter",
         "x": [
          45000,
          20000,
          15000,
          5000,
          400,
          17
         ],
         "xaxis": "x",
         "y": [
          14.4,
          14.5,
          14.8,
          15.2,
          15.5,
          15.8
         ],
         "yaxis": "y",
         "zmax": null,
         "zmin": null
        },
        {
         "colorbar": {
          "title": ""
         },
         "legendgroup": "y2",
         "marker": {
          "color": "rgba(227, 111, 71, 1.000)",
          "line": {
           "color": "rgba(0, 0, 0, 1.000)",
           "width": 1
          },
          "size": 8,
          "symbol": "circle"
         },
         "mode": "markers",
         "name": "y2",
         "showlegend": true,
         "type": "scatter",
         "x": [
          45000,
          20000,
          15000,
          5000,
          400,
          17
         ],
         "xaxis": "x",
         "y": [
          14.4,
          14.5,
          14.8,
          15.2,
          15.5,
          15.8
         ],
         "yaxis": "y",
         "zmax": null,
         "zmin": null
        }
       ],
       "layout": {
        "annotations": [
         {
          "font": {
           "color": "rgba(0, 0, 0, 1.000)",
           "family": "sans-serif",
           "size": 20
          },
          "rotation": 0,
          "showarrow": false,
          "text": "Relation b/w Pirate population and Temperature",
          "x": 0.5497685185185185,
          "xanchor": "center",
          "xref": "paper",
          "y": 1,
          "yanchor": "top",
          "yref": "paper"
         }
        ],
        "height": 400,
        "margin": {
         "b": 20,
         "l": 0,
         "r": 0,
         "t": 20
        },
        "paper_bgcolor": "rgba(255, 255, 255, 1.000)",
        "plot_bgcolor": "rgba(255, 255, 255, 1.000)",
        "showlegend": false,
        "width": 600,
        "xaxis": {
         "anchor": "y",
         "domain": [
          0.10609871682706327,
          0.9934383202099737
         ],
         "gridcolor": "rgba(0, 0, 0, 0.100)",
         "gridwidth": 0.5,
         "linecolor": "rgba(0, 0, 0, 1.000)",
         "mirror": false,
         "range": [
          46349.49,
          -1332.49
         ],
         "showgrid": true,
         "showline": true,
         "showticklabels": true,
         "tickangle": 0,
         "tickcolor": "rgb(0, 0, 0)",
         "tickfont": {
          "color": "rgba(0, 0, 0, 1.000)",
          "family": "sans-serif",
          "size": 11
         },
         "tickmode": "array",
         "ticks": "inside",
         "ticktext": [
          "0",
          "1.0×10⁴",
          "2.0×10⁴",
          "3.0×10⁴",
          "4.0×10⁴"
         ],
         "tickvals": [
          0,
          10000,
          20000,
          30000,
          40000
         ],
         "title": "Number of Pirates",
         "titlefont": {
          "color": "rgba(0, 0, 0, 1.000)",
          "family": "sans-serif",
          "size": 15
         },
         "type": "-",
         "visible": true,
         "zeroline": false,
         "zerolinecolor": "rgba(0, 0, 0, 1.000)"
        },
        "yaxis": {
         "anchor": "x",
         "domain": [
          0.07581474190726165,
          0.9415463692038496
         ],
         "gridcolor": "rgba(0, 0, 0, 0.100)",
         "gridwidth": 0.5,
         "linecolor": "rgba(0, 0, 0, 1.000)",
         "mirror": false,
         "range": [
          14.358,
          15.842
         ],
         "showgrid": true,
         "showline": true,
         "showticklabels": true,
         "tickangle": 0,
         "tickcolor": "rgb(0, 0, 0)",
         "tickfont": {
          "color": "rgba(0, 0, 0, 1.000)",
          "family": "sans-serif",
          "size": 11
         },
         "tickmode": "array",
         "ticks": "inside",
         "ticktext": [
          "14.50",
          "14.75",
          "15.00",
          "15.25",
          "15.50",
          "15.75"
         ],
         "tickvals": [
          14.5,
          14.75,
          15,
          15.25,
          15.5,
          15.75
         ],
         "title": "Temperature (C)",
         "titlefont": {
          "color": "rgba(0, 0, 0, 1.000)",
          "family": "sans-serif",
          "size": 15
         },
         "type": "-",
         "visible": true,
         "zeroline": false,
         "zerolinecolor": "rgba(0, 0, 0, 1.000)"
        }
       }
      },
      "text/html": [
       "    <div id=\"0b6265d6-14d0-430c-8ede-c466baa8241f\" style=\"width:600px;height:400px;\"></div>\n",
       "    <script>\n",
       "        requirejs.config({\n",
       "        paths: {\n",
       "            Plotly: 'https://cdn.plot.ly/plotly-2.6.3.min'\n",
       "        }\n",
       "    });\n",
       "    require(['Plotly'], function (Plotly) {\n",
       "\n",
       "        Plotly.newPlot('0b6265d6-14d0-430c-8ede-c466baa8241f', [\n",
       "    {\n",
       "        \"xaxis\": \"x\",\n",
       "        \"colorbar\": {\n",
       "            \"title\": \"\"\n",
       "        },\n",
       "        \"yaxis\": \"y\",\n",
       "        \"x\": [\n",
       "            45000.0,\n",
       "            20000.0,\n",
       "            15000.0,\n",
       "            5000.0,\n",
       "            400.0,\n",
       "            17.0\n",
       "        ],\n",
       "        \"showlegend\": true,\n",
       "        \"mode\": \"lines\",\n",
       "        \"name\": \"y1\",\n",
       "        \"zmin\": null,\n",
       "        \"legendgroup\": \"y1\",\n",
       "        \"zmax\": null,\n",
       "        \"line\": {\n",
       "            \"color\": \"rgba(0, 154, 250, 1.000)\",\n",
       "            \"shape\": \"linear\",\n",
       "            \"dash\": \"solid\",\n",
       "            \"width\": 1\n",
       "        },\n",
       "        \"y\": [\n",
       "            14.4,\n",
       "            14.5,\n",
       "            14.8,\n",
       "            15.2,\n",
       "            15.5,\n",
       "            15.8\n",
       "        ],\n",
       "        \"type\": \"scatter\"\n",
       "    },\n",
       "    {\n",
       "        \"xaxis\": \"x\",\n",
       "        \"colorbar\": {\n",
       "            \"title\": \"\"\n",
       "        },\n",
       "        \"yaxis\": \"y\",\n",
       "        \"x\": [\n",
       "            45000.0,\n",
       "            20000.0,\n",
       "            15000.0,\n",
       "            5000.0,\n",
       "            400.0,\n",
       "            17.0\n",
       "        ],\n",
       "        \"showlegend\": true,\n",
       "        \"mode\": \"markers\",\n",
       "        \"name\": \"y2\",\n",
       "        \"zmin\": null,\n",
       "        \"legendgroup\": \"y2\",\n",
       "        \"marker\": {\n",
       "            \"symbol\": \"circle\",\n",
       "            \"color\": \"rgba(227, 111, 71, 1.000)\",\n",
       "            \"line\": {\n",
       "                \"color\": \"rgba(0, 0, 0, 1.000)\",\n",
       "                \"width\": 1\n",
       "            },\n",
       "            \"size\": 8\n",
       "        },\n",
       "        \"zmax\": null,\n",
       "        \"y\": [\n",
       "            14.4,\n",
       "            14.5,\n",
       "            14.8,\n",
       "            15.2,\n",
       "            15.5,\n",
       "            15.8\n",
       "        ],\n",
       "        \"type\": \"scatter\"\n",
       "    }\n",
       "]\n",
       ", {\n",
       "    \"showlegend\": false,\n",
       "    \"xaxis\": {\n",
       "        \"showticklabels\": true,\n",
       "        \"gridwidth\": 0.5,\n",
       "        \"tickvals\": [\n",
       "            0.0,\n",
       "            10000.0,\n",
       "            20000.0,\n",
       "            30000.0,\n",
       "            40000.0\n",
       "        ],\n",
       "        \"range\": [\n",
       "            46349.49,\n",
       "            -1332.49\n",
       "        ],\n",
       "        \"domain\": [\n",
       "            0.10609871682706327,\n",
       "            0.9934383202099737\n",
       "        ],\n",
       "        \"mirror\": false,\n",
       "        \"tickangle\": 0,\n",
       "        \"showline\": true,\n",
       "        \"ticktext\": [\n",
       "            \"0\",\n",
       "            \"1.0×10⁴\",\n",
       "            \"2.0×10⁴\",\n",
       "            \"3.0×10⁴\",\n",
       "            \"4.0×10⁴\"\n",
       "        ],\n",
       "        \"zeroline\": false,\n",
       "        \"tickfont\": {\n",
       "            \"color\": \"rgba(0, 0, 0, 1.000)\",\n",
       "            \"family\": \"sans-serif\",\n",
       "            \"size\": 11\n",
       "        },\n",
       "        \"zerolinecolor\": \"rgba(0, 0, 0, 1.000)\",\n",
       "        \"anchor\": \"y\",\n",
       "        \"visible\": true,\n",
       "        \"ticks\": \"inside\",\n",
       "        \"tickmode\": \"array\",\n",
       "        \"linecolor\": \"rgba(0, 0, 0, 1.000)\",\n",
       "        \"showgrid\": true,\n",
       "        \"title\": \"Number of Pirates\",\n",
       "        \"gridcolor\": \"rgba(0, 0, 0, 0.100)\",\n",
       "        \"titlefont\": {\n",
       "            \"color\": \"rgba(0, 0, 0, 1.000)\",\n",
       "            \"family\": \"sans-serif\",\n",
       "            \"size\": 15\n",
       "        },\n",
       "        \"tickcolor\": \"rgb(0, 0, 0)\",\n",
       "        \"type\": \"-\"\n",
       "    },\n",
       "    \"paper_bgcolor\": \"rgba(255, 255, 255, 1.000)\",\n",
       "    \"annotations\": [\n",
       "        {\n",
       "            \"yanchor\": \"top\",\n",
       "            \"xanchor\": \"center\",\n",
       "            \"rotation\": -0.0,\n",
       "            \"y\": 1.0,\n",
       "            \"font\": {\n",
       "                \"color\": \"rgba(0, 0, 0, 1.000)\",\n",
       "                \"family\": \"sans-serif\",\n",
       "                \"size\": 20\n",
       "            },\n",
       "            \"yref\": \"paper\",\n",
       "            \"showarrow\": false,\n",
       "            \"text\": \"Relation b/w Pirate population and Temperature\",\n",
       "            \"xref\": \"paper\",\n",
       "            \"x\": 0.5497685185185185\n",
       "        }\n",
       "    ],\n",
       "    \"height\": 400,\n",
       "    \"margin\": {\n",
       "        \"l\": 0,\n",
       "        \"b\": 20,\n",
       "        \"r\": 0,\n",
       "        \"t\": 20\n",
       "    },\n",
       "    \"plot_bgcolor\": \"rgba(255, 255, 255, 1.000)\",\n",
       "    \"yaxis\": {\n",
       "        \"showticklabels\": true,\n",
       "        \"gridwidth\": 0.5,\n",
       "        \"tickvals\": [\n",
       "            14.5,\n",
       "            14.75,\n",
       "            15.0,\n",
       "            15.25,\n",
       "            15.5,\n",
       "            15.75\n",
       "        ],\n",
       "        \"range\": [\n",
       "            14.358,\n",
       "            15.842\n",
       "        ],\n",
       "        \"domain\": [\n",
       "            0.07581474190726165,\n",
       "            0.9415463692038496\n",
       "        ],\n",
       "        \"mirror\": false,\n",
       "        \"tickangle\": 0,\n",
       "        \"showline\": true,\n",
       "        \"ticktext\": [\n",
       "            \"14.50\",\n",
       "            \"14.75\",\n",
       "            \"15.00\",\n",
       "            \"15.25\",\n",
       "            \"15.50\",\n",
       "            \"15.75\"\n",
       "        ],\n",
       "        \"zeroline\": false,\n",
       "        \"tickfont\": {\n",
       "            \"color\": \"rgba(0, 0, 0, 1.000)\",\n",
       "            \"family\": \"sans-serif\",\n",
       "            \"size\": 11\n",
       "        },\n",
       "        \"zerolinecolor\": \"rgba(0, 0, 0, 1.000)\",\n",
       "        \"anchor\": \"x\",\n",
       "        \"visible\": true,\n",
       "        \"ticks\": \"inside\",\n",
       "        \"tickmode\": \"array\",\n",
       "        \"linecolor\": \"rgba(0, 0, 0, 1.000)\",\n",
       "        \"showgrid\": true,\n",
       "        \"title\": \"Temperature (C)\",\n",
       "        \"gridcolor\": \"rgba(0, 0, 0, 0.100)\",\n",
       "        \"titlefont\": {\n",
       "            \"color\": \"rgba(0, 0, 0, 1.000)\",\n",
       "            \"family\": \"sans-serif\",\n",
       "            \"size\": 15\n",
       "        },\n",
       "        \"tickcolor\": \"rgb(0, 0, 0)\",\n",
       "        \"type\": \"-\"\n",
       "    },\n",
       "    \"width\": 600\n",
       "}\n",
       ");\n",
       "\n",
       "    });\n",
       "    </script>\n"
      ]
     },
     "execution_count": 68,
     "metadata": {},
     "output_type": "execute_result"
    }
   ],
   "source": [
    "# Plotting data\n",
    "plot(numPirates,globalTemp,legend=false)\n",
    "scatter!(numPirates,globalTemp,legend=false)\n",
    "\n",
    "# Reversing x-axis (Because by defafult x-axis moves from smaller to larger values)\n",
    "xflip!()\n",
    "\n",
    "# Adding title and labels\n",
    "xlabel!(\"Number of Pirates\")\n",
    "ylabel!(\"Temperature (C)\")\n",
    "title!(\"Relation b/w Pirate population and Temperature\")"
   ]
  },
  {
   "cell_type": "code",
   "execution_count": 69,
   "id": "cae6f9c6",
   "metadata": {},
   "outputs": [
    {
     "data": {
      "application/vnd.plotly.v1+json": {
       "data": [
        {
         "colorbar": {
          "title": ""
         },
         "legendgroup": "y1",
         "line": {
          "color": "rgba(0, 154, 250, 1.000)",
          "dash": "solid",
          "shape": "linear",
          "width": 1
         },
         "mode": "lines",
         "name": "y1",
         "showlegend": true,
         "type": "scatter",
         "x": [
          -4,
          -3.9,
          -3.8,
          -3.7,
          -3.6,
          -3.5,
          -3.4,
          -3.3,
          -3.2,
          -3.1,
          -3,
          -2.9,
          -2.8,
          -2.7,
          -2.6,
          -2.5,
          -2.4,
          -2.3,
          -2.2,
          -2.1,
          -2,
          -1.9,
          -1.8,
          -1.7,
          -1.6,
          -1.5,
          -1.4,
          -1.3,
          -1.2,
          -1.1,
          -1,
          -0.9,
          -0.8,
          -0.7,
          -0.6,
          -0.5,
          -0.4,
          -0.3,
          -0.2,
          -0.1,
          0,
          0.1,
          0.2,
          0.3,
          0.4,
          0.5,
          0.6,
          0.7,
          0.8,
          0.9,
          1,
          1.1,
          1.2,
          1.3,
          1.4,
          1.5,
          1.6,
          1.7,
          1.8,
          1.9,
          2,
          2.1,
          2.2,
          2.3,
          2.4,
          2.5,
          2.6,
          2.7,
          2.8,
          2.9,
          3,
          3.1,
          3.2,
          3.3,
          3.4,
          3.5,
          3.6,
          3.7,
          3.8,
          3.9,
          4
         ],
         "xaxis": "x1",
         "y": [
          -4,
          -3.9,
          -3.8,
          -3.7,
          -3.6,
          -3.5,
          -3.4,
          -3.3,
          -3.2,
          -3.1,
          -3,
          -2.9,
          -2.8,
          -2.7,
          -2.6,
          -2.5,
          -2.4,
          -2.3,
          -2.2,
          -2.1,
          -2,
          -1.9,
          -1.8,
          -1.7,
          -1.6,
          -1.5,
          -1.4,
          -1.3,
          -1.2,
          -1.1,
          -1,
          -0.9,
          -0.8,
          -0.7,
          -0.6,
          -0.5,
          -0.4,
          -0.3,
          -0.2,
          -0.1,
          0,
          0.1,
          0.2,
          0.3,
          0.4,
          0.5,
          0.6,
          0.7,
          0.8,
          0.9,
          1,
          1.1,
          1.2,
          1.3,
          1.4,
          1.5,
          1.6,
          1.7,
          1.8,
          1.9,
          2,
          2.1,
          2.2,
          2.3,
          2.4,
          2.5,
          2.6,
          2.7,
          2.8,
          2.9,
          3,
          3.1,
          3.2,
          3.3,
          3.4,
          3.5,
          3.6,
          3.7,
          3.8,
          3.9,
          4
         ],
         "yaxis": "y1",
         "zmax": null,
         "zmin": null
        },
        {
         "colorbar": {
          "title": ""
         },
         "legendgroup": "y1",
         "line": {
          "color": "rgba(0, 154, 250, 1.000)",
          "dash": "solid",
          "shape": "linear",
          "width": 1
         },
         "mode": "lines",
         "name": "y1",
         "showlegend": true,
         "type": "scatter",
         "x": [
          -4,
          -3.9,
          -3.8,
          -3.7,
          -3.6,
          -3.5,
          -3.4,
          -3.3,
          -3.2,
          -3.1,
          -3,
          -2.9,
          -2.8,
          -2.7,
          -2.6,
          -2.5,
          -2.4,
          -2.3,
          -2.2,
          -2.1,
          -2,
          -1.9,
          -1.8,
          -1.7,
          -1.6,
          -1.5,
          -1.4,
          -1.3,
          -1.2,
          -1.1,
          -1,
          -0.9,
          -0.8,
          -0.7,
          -0.6,
          -0.5,
          -0.4,
          -0.3,
          -0.2,
          -0.1,
          0,
          0.1,
          0.2,
          0.3,
          0.4,
          0.5,
          0.6,
          0.7,
          0.8,
          0.9,
          1,
          1.1,
          1.2,
          1.3,
          1.4,
          1.5,
          1.6,
          1.7,
          1.8,
          1.9,
          2,
          2.1,
          2.2,
          2.3,
          2.4,
          2.5,
          2.6,
          2.7,
          2.8,
          2.9,
          3,
          3.1,
          3.2,
          3.3,
          3.4,
          3.5,
          3.6,
          3.7,
          3.8,
          3.9,
          4
         ],
         "xaxis": "x2",
         "y": [
          16,
          15.209999999999999,
          14.44,
          13.690000000000001,
          12.96,
          12.25,
          11.559999999999999,
          10.889999999999999,
          10.240000000000002,
          9.610000000000001,
          9,
          8.41,
          7.839999999999999,
          7.290000000000001,
          6.760000000000001,
          6.25,
          5.76,
          5.289999999999999,
          4.840000000000001,
          4.41,
          4,
          3.61,
          3.24,
          2.8899999999999997,
          2.5600000000000005,
          2.25,
          1.9599999999999997,
          1.6900000000000002,
          1.44,
          1.2100000000000002,
          1,
          0.81,
          0.6400000000000001,
          0.48999999999999994,
          0.36,
          0.25,
          0.16000000000000003,
          0.09,
          0.04000000000000001,
          0.010000000000000002,
          0,
          0.010000000000000002,
          0.04000000000000001,
          0.09,
          0.16000000000000003,
          0.25,
          0.36,
          0.48999999999999994,
          0.6400000000000001,
          0.81,
          1,
          1.2100000000000002,
          1.44,
          1.6900000000000002,
          1.9599999999999997,
          2.25,
          2.5600000000000005,
          2.8899999999999997,
          3.24,
          3.61,
          4,
          4.41,
          4.840000000000001,
          5.289999999999999,
          5.76,
          6.25,
          6.760000000000001,
          7.290000000000001,
          7.839999999999999,
          8.41,
          9,
          9.610000000000001,
          10.240000000000002,
          10.889999999999999,
          11.559999999999999,
          12.25,
          12.96,
          13.690000000000001,
          14.44,
          15.209999999999999,
          16
         ],
         "yaxis": "y2",
         "zmax": null,
         "zmin": null
        },
        {
         "colorbar": {
          "title": ""
         },
         "legendgroup": "y1",
         "line": {
          "color": "rgba(0, 154, 250, 1.000)",
          "dash": "solid",
          "shape": "linear",
          "width": 1
         },
         "mode": "lines",
         "name": "y1",
         "showlegend": true,
         "type": "scatter",
         "x": [
          -4,
          -3.9,
          -3.8,
          -3.7,
          -3.6,
          -3.5,
          -3.4,
          -3.3,
          -3.2,
          -3.1,
          -3,
          -2.9,
          -2.8,
          -2.7,
          -2.6,
          -2.5,
          -2.4,
          -2.3,
          -2.2,
          -2.1,
          -2,
          -1.9,
          -1.8,
          -1.7,
          -1.6,
          -1.5,
          -1.4,
          -1.3,
          -1.2,
          -1.1,
          -1,
          -0.9,
          -0.8,
          -0.7,
          -0.6,
          -0.5,
          -0.4,
          -0.3,
          -0.2,
          -0.1,
          0,
          0.1,
          0.2,
          0.3,
          0.4,
          0.5,
          0.6,
          0.7,
          0.8,
          0.9,
          1,
          1.1,
          1.2,
          1.3,
          1.4,
          1.5,
          1.6,
          1.7,
          1.8,
          1.9,
          2,
          2.1,
          2.2,
          2.3,
          2.4,
          2.5,
          2.6,
          2.7,
          2.8,
          2.9,
          3,
          3.1,
          3.2,
          3.3,
          3.4,
          3.5,
          3.6,
          3.7,
          3.8,
          3.9,
          4
         ],
         "xaxis": "x3",
         "y": [
          -64,
          -59.318999999999996,
          -54.87199999999999,
          -50.653000000000006,
          -46.656000000000006,
          -42.875,
          -39.303999999999995,
          -35.937,
          -32.76800000000001,
          -29.791000000000004,
          -27,
          -24.389,
          -21.951999999999995,
          -19.683000000000003,
          -17.576000000000004,
          -15.625,
          -13.824,
          -12.166999999999996,
          -10.648000000000003,
          -9.261000000000001,
          -8,
          -6.858999999999999,
          -5.832000000000001,
          -4.912999999999999,
          -4.096000000000001,
          -3.375,
          -2.7439999999999993,
          -2.1970000000000005,
          -1.728,
          -1.3310000000000004,
          -1,
          -0.7290000000000001,
          -0.5120000000000001,
          -0.3429999999999999,
          -0.216,
          -0.125,
          -0.06400000000000002,
          -0.027,
          -0.008000000000000002,
          -0.0010000000000000002,
          0,
          0.0010000000000000002,
          0.008000000000000002,
          0.027,
          0.06400000000000002,
          0.125,
          0.216,
          0.3429999999999999,
          0.5120000000000001,
          0.7290000000000001,
          1,
          1.3310000000000004,
          1.728,
          2.1970000000000005,
          2.7439999999999993,
          3.375,
          4.096000000000001,
          4.912999999999999,
          5.832000000000001,
          6.858999999999999,
          8,
          9.261000000000001,
          10.648000000000003,
          12.166999999999996,
          13.824,
          15.625,
          17.576000000000004,
          19.683000000000003,
          21.951999999999995,
          24.389,
          27,
          29.791000000000004,
          32.76800000000001,
          35.937,
          39.303999999999995,
          42.875,
          46.656000000000006,
          50.653000000000006,
          54.87199999999999,
          59.318999999999996,
          64
         ],
         "yaxis": "y3",
         "zmax": null,
         "zmin": null
        },
        {
         "colorbar": {
          "title": ""
         },
         "legendgroup": "y1",
         "line": {
          "color": "rgba(0, 154, 250, 1.000)",
          "dash": "solid",
          "shape": "linear",
          "width": 1
         },
         "mode": "lines",
         "name": "y1",
         "showlegend": true,
         "type": "scatter",
         "x": [
          -4,
          -3.9,
          -3.8,
          -3.7,
          -3.6,
          -3.5,
          -3.4,
          -3.3,
          -3.2,
          -3.1,
          -3,
          -2.9,
          -2.8,
          -2.7,
          -2.6,
          -2.5,
          -2.4,
          -2.3,
          -2.2,
          -2.1,
          -2,
          -1.9,
          -1.8,
          -1.7,
          -1.6,
          -1.5,
          -1.4,
          -1.3,
          -1.2,
          -1.1,
          -1,
          -0.9,
          -0.8,
          -0.7,
          -0.6,
          -0.5,
          -0.4,
          -0.3,
          -0.2,
          -0.1,
          0,
          0.1,
          0.2,
          0.3,
          0.4,
          0.5,
          0.6,
          0.7,
          0.8,
          0.9,
          1,
          1.1,
          1.2,
          1.3,
          1.4,
          1.5,
          1.6,
          1.7,
          1.8,
          1.9,
          2,
          2.1,
          2.2,
          2.3,
          2.4,
          2.5,
          2.6,
          2.7,
          2.8,
          2.9,
          3,
          3.1,
          3.2,
          3.3,
          3.4,
          3.5,
          3.6,
          3.7,
          3.8,
          3.9,
          4
         ],
         "xaxis": "x4",
         "y": [
          256,
          231.34409999999997,
          208.51359999999997,
          187.41610000000003,
          167.9616,
          150.0625,
          133.63359999999997,
          118.59209999999997,
          104.85760000000002,
          92.35210000000001,
          81,
          70.7281,
          61.46559999999999,
          53.144100000000016,
          45.69760000000001,
          39.0625,
          33.1776,
          27.98409999999999,
          23.425600000000006,
          19.448100000000004,
          16,
          13.032099999999998,
          10.4976,
          8.352099999999998,
          6.553600000000001,
          5.0625,
          3.8415999999999992,
          2.8561000000000005,
          2.0736,
          1.4641000000000004,
          1,
          0.6561,
          0.4096000000000001,
          0.24009999999999995,
          0.1296,
          0.0625,
          0.025600000000000005,
          0.0081,
          0.0016000000000000003,
          0.00010000000000000002,
          0,
          0.00010000000000000002,
          0.0016000000000000003,
          0.0081,
          0.025600000000000005,
          0.0625,
          0.1296,
          0.24009999999999995,
          0.4096000000000001,
          0.6561,
          1,
          1.4641000000000004,
          2.0736,
          2.8561000000000005,
          3.8415999999999992,
          5.0625,
          6.553600000000001,
          8.352099999999998,
          10.4976,
          13.032099999999998,
          16,
          19.448100000000004,
          23.425600000000006,
          27.98409999999999,
          33.1776,
          39.0625,
          45.69760000000001,
          53.144100000000016,
          61.46559999999999,
          70.7281,
          81,
          92.35210000000001,
          104.85760000000002,
          118.59209999999997,
          133.63359999999997,
          150.0625,
          167.9616,
          187.41610000000003,
          208.51359999999997,
          231.34409999999997,
          256
         ],
         "yaxis": "y4",
         "zmax": null,
         "zmin": null
        }
       ],
       "layout": {
        "annotations": [],
        "height": 400,
        "margin": {
         "b": 20,
         "l": 0,
         "r": 0,
         "t": 20
        },
        "paper_bgcolor": "rgba(255, 255, 255, 1.000)",
        "plot_bgcolor": "rgba(255, 255, 255, 1.000)",
        "showlegend": false,
        "width": 600,
        "xaxis1": {
         "anchor": "y1",
         "domain": [
          0.05100612423447069,
          0.4934383202099738
         ],
         "gridcolor": "rgba(0, 0, 0, 0.100)",
         "gridwidth": 0.5,
         "linecolor": "rgba(0, 0, 0, 1.000)",
         "mirror": false,
         "range": [
          -4.24,
          4.24
         ],
         "showgrid": true,
         "showline": true,
         "showticklabels": true,
         "tickangle": 0,
         "tickcolor": "rgb(0, 0, 0)",
         "tickfont": {
          "color": "rgba(0, 0, 0, 1.000)",
          "family": "sans-serif",
          "size": 11
         },
         "tickmode": "array",
         "ticks": "inside",
         "ticktext": [
          "-4",
          "-2",
          "0",
          "2",
          "4"
         ],
         "tickvals": [
          -4,
          -2,
          0,
          2,
          4
         ],
         "title": "",
         "titlefont": {
          "color": "rgba(0, 0, 0, 1.000)",
          "family": "sans-serif",
          "size": 15
         },
         "type": "-",
         "visible": true,
         "zeroline": false,
         "zerolinecolor": "rgba(0, 0, 0, 1.000)"
        },
        "xaxis2": {
         "anchor": "y2",
         "domain": [
          0.5510061242344708,
          0.9934383202099739
         ],
         "gridcolor": "rgba(0, 0, 0, 0.100)",
         "gridwidth": 0.5,
         "linecolor": "rgba(0, 0, 0, 1.000)",
         "mirror": false,
         "range": [
          -4.24,
          4.24
         ],
         "showgrid": true,
         "showline": true,
         "showticklabels": true,
         "tickangle": 0,
         "tickcolor": "rgb(0, 0, 0)",
         "tickfont": {
          "color": "rgba(0, 0, 0, 1.000)",
          "family": "sans-serif",
          "size": 11
         },
         "tickmode": "array",
         "ticks": "inside",
         "ticktext": [
          "-4",
          "-2",
          "0",
          "2",
          "4"
         ],
         "tickvals": [
          -4,
          -2,
          0,
          2,
          4
         ],
         "title": "",
         "titlefont": {
          "color": "rgba(0, 0, 0, 1.000)",
          "family": "sans-serif",
          "size": 15
         },
         "type": "-",
         "visible": true,
         "zeroline": false,
         "zerolinecolor": "rgba(0, 0, 0, 1.000)"
        },
        "xaxis3": {
         "anchor": "y3",
         "domain": [
          0.05100612423447069,
          0.4934383202099738
         ],
         "gridcolor": "rgba(0, 0, 0, 0.100)",
         "gridwidth": 0.5,
         "linecolor": "rgba(0, 0, 0, 1.000)",
         "mirror": false,
         "range": [
          -4.24,
          4.24
         ],
         "showgrid": true,
         "showline": true,
         "showticklabels": true,
         "tickangle": 0,
         "tickcolor": "rgb(0, 0, 0)",
         "tickfont": {
          "color": "rgba(0, 0, 0, 1.000)",
          "family": "sans-serif",
          "size": 11
         },
         "tickmode": "array",
         "ticks": "inside",
         "ticktext": [
          "-4",
          "-2",
          "0",
          "2",
          "4"
         ],
         "tickvals": [
          -4,
          -2,
          0,
          2,
          4
         ],
         "title": "",
         "titlefont": {
          "color": "rgba(0, 0, 0, 1.000)",
          "family": "sans-serif",
          "size": 15
         },
         "type": "-",
         "visible": true,
         "zeroline": false,
         "zerolinecolor": "rgba(0, 0, 0, 1.000)"
        },
        "xaxis4": {
         "anchor": "y4",
         "domain": [
          0.5510061242344708,
          0.9934383202099739
         ],
         "gridcolor": "rgba(0, 0, 0, 0.100)",
         "gridwidth": 0.5,
         "linecolor": "rgba(0, 0, 0, 1.000)",
         "mirror": false,
         "range": [
          -4.24,
          4.24
         ],
         "showgrid": true,
         "showline": true,
         "showticklabels": true,
         "tickangle": 0,
         "tickcolor": "rgb(0, 0, 0)",
         "tickfont": {
          "color": "rgba(0, 0, 0, 1.000)",
          "family": "sans-serif",
          "size": 11
         },
         "tickmode": "array",
         "ticks": "inside",
         "ticktext": [
          "-4",
          "-2",
          "0",
          "2",
          "4"
         ],
         "tickvals": [
          -4,
          -2,
          0,
          2,
          4
         ],
         "title": "",
         "titlefont": {
          "color": "rgba(0, 0, 0, 1.000)",
          "family": "sans-serif",
          "size": 15
         },
         "type": "-",
         "visible": true,
         "zeroline": false,
         "zerolinecolor": "rgba(0, 0, 0, 1.000)"
        },
        "yaxis1": {
         "anchor": "x1",
         "domain": [
          0.5376202974628171,
          0.9901574803149606
         ],
         "gridcolor": "rgba(0, 0, 0, 0.100)",
         "gridwidth": 0.5,
         "linecolor": "rgba(0, 0, 0, 1.000)",
         "mirror": false,
         "range": [
          -4.24,
          4.24
         ],
         "showgrid": true,
         "showline": true,
         "showticklabels": true,
         "tickangle": 0,
         "tickcolor": "rgb(0, 0, 0)",
         "tickfont": {
          "color": "rgba(0, 0, 0, 1.000)",
          "family": "sans-serif",
          "size": 11
         },
         "tickmode": "array",
         "ticks": "inside",
         "ticktext": [
          "-4",
          "-2",
          "0",
          "2",
          "4"
         ],
         "tickvals": [
          -4,
          -2,
          0,
          2,
          4
         ],
         "title": "",
         "titlefont": {
          "color": "rgba(0, 0, 0, 1.000)",
          "family": "sans-serif",
          "size": 15
         },
         "type": "-",
         "visible": true,
         "zeroline": false,
         "zerolinecolor": "rgba(0, 0, 0, 1.000)"
        },
        "yaxis2": {
         "anchor": "x2",
         "domain": [
          0.5376202974628171,
          0.9901574803149606
         ],
         "gridcolor": "rgba(0, 0, 0, 0.100)",
         "gridwidth": 0.5,
         "linecolor": "rgba(0, 0, 0, 1.000)",
         "mirror": false,
         "range": [
          -0.48,
          16.48
         ],
         "showgrid": true,
         "showline": true,
         "showticklabels": true,
         "tickangle": 0,
         "tickcolor": "rgb(0, 0, 0)",
         "tickfont": {
          "color": "rgba(0, 0, 0, 1.000)",
          "family": "sans-serif",
          "size": 11
         },
         "tickmode": "array",
         "ticks": "inside",
         "ticktext": [
          "0",
          "5",
          "10",
          "15"
         ],
         "tickvals": [
          0,
          5,
          10,
          15
         ],
         "title": "",
         "titlefont": {
          "color": "rgba(0, 0, 0, 1.000)",
          "family": "sans-serif",
          "size": 15
         },
         "type": "-",
         "visible": true,
         "zeroline": false,
         "zerolinecolor": "rgba(0, 0, 0, 1.000)"
        },
        "yaxis3": {
         "anchor": "x3",
         "domain": [
          0.03762029746281716,
          0.4901574803149606
         ],
         "gridcolor": "rgba(0, 0, 0, 0.100)",
         "gridwidth": 0.5,
         "linecolor": "rgba(0, 0, 0, 1.000)",
         "mirror": false,
         "range": [
          -67.84,
          67.84
         ],
         "showgrid": true,
         "showline": true,
         "showticklabels": true,
         "tickangle": 0,
         "tickcolor": "rgb(0, 0, 0)",
         "tickfont": {
          "color": "rgba(0, 0, 0, 1.000)",
          "family": "sans-serif",
          "size": 11
         },
         "tickmode": "array",
         "ticks": "inside",
         "ticktext": [
          "-50",
          "-25",
          "0",
          "25",
          "50"
         ],
         "tickvals": [
          -50,
          -25,
          0,
          25,
          50
         ],
         "title": "",
         "titlefont": {
          "color": "rgba(0, 0, 0, 1.000)",
          "family": "sans-serif",
          "size": 15
         },
         "type": "-",
         "visible": true,
         "zeroline": false,
         "zerolinecolor": "rgba(0, 0, 0, 1.000)"
        },
        "yaxis4": {
         "anchor": "x4",
         "domain": [
          0.03762029746281716,
          0.4901574803149606
         ],
         "gridcolor": "rgba(0, 0, 0, 0.100)",
         "gridwidth": 0.5,
         "linecolor": "rgba(0, 0, 0, 1.000)",
         "mirror": false,
         "range": [
          -7.68,
          263.68
         ],
         "showgrid": true,
         "showline": true,
         "showticklabels": true,
         "tickangle": 0,
         "tickcolor": "rgb(0, 0, 0)",
         "tickfont": {
          "color": "rgba(0, 0, 0, 1.000)",
          "family": "sans-serif",
          "size": 11
         },
         "tickmode": "array",
         "ticks": "inside",
         "ticktext": [
          "0",
          "50",
          "100",
          "150",
          "200",
          "250"
         ],
         "tickvals": [
          0,
          50,
          100,
          150,
          200,
          250
         ],
         "title": "",
         "titlefont": {
          "color": "rgba(0, 0, 0, 1.000)",
          "family": "sans-serif",
          "size": 15
         },
         "type": "-",
         "visible": true,
         "zeroline": false,
         "zerolinecolor": "rgba(0, 0, 0, 1.000)"
        }
       }
      },
      "text/html": [
       "    <div id=\"239e3f98-812e-42da-b0ba-9b64b690439e\" style=\"width:600px;height:400px;\"></div>\n",
       "    <script>\n",
       "        requirejs.config({\n",
       "        paths: {\n",
       "            Plotly: 'https://cdn.plot.ly/plotly-2.6.3.min'\n",
       "        }\n",
       "    });\n",
       "    require(['Plotly'], function (Plotly) {\n",
       "\n",
       "        Plotly.newPlot('239e3f98-812e-42da-b0ba-9b64b690439e', [\n",
       "    {\n",
       "        \"xaxis\": \"x1\",\n",
       "        \"colorbar\": {\n",
       "            \"title\": \"\"\n",
       "        },\n",
       "        \"yaxis\": \"y1\",\n",
       "        \"x\": [\n",
       "            -4.0,\n",
       "            -3.9,\n",
       "            -3.8,\n",
       "            -3.7,\n",
       "            -3.6,\n",
       "            -3.5,\n",
       "            -3.4,\n",
       "            -3.3,\n",
       "            -3.2,\n",
       "            -3.1,\n",
       "            -3.0,\n",
       "            -2.9,\n",
       "            -2.8,\n",
       "            -2.7,\n",
       "            -2.6,\n",
       "            -2.5,\n",
       "            -2.4,\n",
       "            -2.3,\n",
       "            -2.2,\n",
       "            -2.1,\n",
       "            -2.0,\n",
       "            -1.9,\n",
       "            -1.8,\n",
       "            -1.7,\n",
       "            -1.6,\n",
       "            -1.5,\n",
       "            -1.4,\n",
       "            -1.3,\n",
       "            -1.2,\n",
       "            -1.1,\n",
       "            -1.0,\n",
       "            -0.9,\n",
       "            -0.8,\n",
       "            -0.7,\n",
       "            -0.6,\n",
       "            -0.5,\n",
       "            -0.4,\n",
       "            -0.3,\n",
       "            -0.2,\n",
       "            -0.1,\n",
       "            0.0,\n",
       "            0.1,\n",
       "            0.2,\n",
       "            0.3,\n",
       "            0.4,\n",
       "            0.5,\n",
       "            0.6,\n",
       "            0.7,\n",
       "            0.8,\n",
       "            0.9,\n",
       "            1.0,\n",
       "            1.1,\n",
       "            1.2,\n",
       "            1.3,\n",
       "            1.4,\n",
       "            1.5,\n",
       "            1.6,\n",
       "            1.7,\n",
       "            1.8,\n",
       "            1.9,\n",
       "            2.0,\n",
       "            2.1,\n",
       "            2.2,\n",
       "            2.3,\n",
       "            2.4,\n",
       "            2.5,\n",
       "            2.6,\n",
       "            2.7,\n",
       "            2.8,\n",
       "            2.9,\n",
       "            3.0,\n",
       "            3.1,\n",
       "            3.2,\n",
       "            3.3,\n",
       "            3.4,\n",
       "            3.5,\n",
       "            3.6,\n",
       "            3.7,\n",
       "            3.8,\n",
       "            3.9,\n",
       "            4.0\n",
       "        ],\n",
       "        \"showlegend\": true,\n",
       "        \"mode\": \"lines\",\n",
       "        \"name\": \"y1\",\n",
       "        \"zmin\": null,\n",
       "        \"legendgroup\": \"y1\",\n",
       "        \"zmax\": null,\n",
       "        \"line\": {\n",
       "            \"color\": \"rgba(0, 154, 250, 1.000)\",\n",
       "            \"shape\": \"linear\",\n",
       "            \"dash\": \"solid\",\n",
       "            \"width\": 1\n",
       "        },\n",
       "        \"y\": [\n",
       "            -4.0,\n",
       "            -3.9,\n",
       "            -3.8,\n",
       "            -3.7,\n",
       "            -3.6,\n",
       "            -3.5,\n",
       "            -3.4,\n",
       "            -3.3,\n",
       "            -3.2,\n",
       "            -3.1,\n",
       "            -3.0,\n",
       "            -2.9,\n",
       "            -2.8,\n",
       "            -2.7,\n",
       "            -2.6,\n",
       "            -2.5,\n",
       "            -2.4,\n",
       "            -2.3,\n",
       "            -2.2,\n",
       "            -2.1,\n",
       "            -2.0,\n",
       "            -1.9,\n",
       "            -1.8,\n",
       "            -1.7,\n",
       "            -1.6,\n",
       "            -1.5,\n",
       "            -1.4,\n",
       "            -1.3,\n",
       "            -1.2,\n",
       "            -1.1,\n",
       "            -1.0,\n",
       "            -0.9,\n",
       "            -0.8,\n",
       "            -0.7,\n",
       "            -0.6,\n",
       "            -0.5,\n",
       "            -0.4,\n",
       "            -0.3,\n",
       "            -0.2,\n",
       "            -0.1,\n",
       "            0.0,\n",
       "            0.1,\n",
       "            0.2,\n",
       "            0.3,\n",
       "            0.4,\n",
       "            0.5,\n",
       "            0.6,\n",
       "            0.7,\n",
       "            0.8,\n",
       "            0.9,\n",
       "            1.0,\n",
       "            1.1,\n",
       "            1.2,\n",
       "            1.3,\n",
       "            1.4,\n",
       "            1.5,\n",
       "            1.6,\n",
       "            1.7,\n",
       "            1.8,\n",
       "            1.9,\n",
       "            2.0,\n",
       "            2.1,\n",
       "            2.2,\n",
       "            2.3,\n",
       "            2.4,\n",
       "            2.5,\n",
       "            2.6,\n",
       "            2.7,\n",
       "            2.8,\n",
       "            2.9,\n",
       "            3.0,\n",
       "            3.1,\n",
       "            3.2,\n",
       "            3.3,\n",
       "            3.4,\n",
       "            3.5,\n",
       "            3.6,\n",
       "            3.7,\n",
       "            3.8,\n",
       "            3.9,\n",
       "            4.0\n",
       "        ],\n",
       "        \"type\": \"scatter\"\n",
       "    },\n",
       "    {\n",
       "        \"xaxis\": \"x2\",\n",
       "        \"colorbar\": {\n",
       "            \"title\": \"\"\n",
       "        },\n",
       "        \"yaxis\": \"y2\",\n",
       "        \"x\": [\n",
       "            -4.0,\n",
       "            -3.9,\n",
       "            -3.8,\n",
       "            -3.7,\n",
       "            -3.6,\n",
       "            -3.5,\n",
       "            -3.4,\n",
       "            -3.3,\n",
       "            -3.2,\n",
       "            -3.1,\n",
       "            -3.0,\n",
       "            -2.9,\n",
       "            -2.8,\n",
       "            -2.7,\n",
       "            -2.6,\n",
       "            -2.5,\n",
       "            -2.4,\n",
       "            -2.3,\n",
       "            -2.2,\n",
       "            -2.1,\n",
       "            -2.0,\n",
       "            -1.9,\n",
       "            -1.8,\n",
       "            -1.7,\n",
       "            -1.6,\n",
       "            -1.5,\n",
       "            -1.4,\n",
       "            -1.3,\n",
       "            -1.2,\n",
       "            -1.1,\n",
       "            -1.0,\n",
       "            -0.9,\n",
       "            -0.8,\n",
       "            -0.7,\n",
       "            -0.6,\n",
       "            -0.5,\n",
       "            -0.4,\n",
       "            -0.3,\n",
       "            -0.2,\n",
       "            -0.1,\n",
       "            0.0,\n",
       "            0.1,\n",
       "            0.2,\n",
       "            0.3,\n",
       "            0.4,\n",
       "            0.5,\n",
       "            0.6,\n",
       "            0.7,\n",
       "            0.8,\n",
       "            0.9,\n",
       "            1.0,\n",
       "            1.1,\n",
       "            1.2,\n",
       "            1.3,\n",
       "            1.4,\n",
       "            1.5,\n",
       "            1.6,\n",
       "            1.7,\n",
       "            1.8,\n",
       "            1.9,\n",
       "            2.0,\n",
       "            2.1,\n",
       "            2.2,\n",
       "            2.3,\n",
       "            2.4,\n",
       "            2.5,\n",
       "            2.6,\n",
       "            2.7,\n",
       "            2.8,\n",
       "            2.9,\n",
       "            3.0,\n",
       "            3.1,\n",
       "            3.2,\n",
       "            3.3,\n",
       "            3.4,\n",
       "            3.5,\n",
       "            3.6,\n",
       "            3.7,\n",
       "            3.8,\n",
       "            3.9,\n",
       "            4.0\n",
       "        ],\n",
       "        \"showlegend\": true,\n",
       "        \"mode\": \"lines\",\n",
       "        \"name\": \"y1\",\n",
       "        \"zmin\": null,\n",
       "        \"legendgroup\": \"y1\",\n",
       "        \"zmax\": null,\n",
       "        \"line\": {\n",
       "            \"color\": \"rgba(0, 154, 250, 1.000)\",\n",
       "            \"shape\": \"linear\",\n",
       "            \"dash\": \"solid\",\n",
       "            \"width\": 1\n",
       "        },\n",
       "        \"y\": [\n",
       "            16.0,\n",
       "            15.209999999999999,\n",
       "            14.44,\n",
       "            13.690000000000001,\n",
       "            12.96,\n",
       "            12.25,\n",
       "            11.559999999999999,\n",
       "            10.889999999999999,\n",
       "            10.240000000000002,\n",
       "            9.610000000000001,\n",
       "            9.0,\n",
       "            8.41,\n",
       "            7.839999999999999,\n",
       "            7.290000000000001,\n",
       "            6.760000000000001,\n",
       "            6.25,\n",
       "            5.76,\n",
       "            5.289999999999999,\n",
       "            4.840000000000001,\n",
       "            4.41,\n",
       "            4.0,\n",
       "            3.61,\n",
       "            3.24,\n",
       "            2.8899999999999997,\n",
       "            2.5600000000000005,\n",
       "            2.25,\n",
       "            1.9599999999999997,\n",
       "            1.6900000000000002,\n",
       "            1.44,\n",
       "            1.2100000000000002,\n",
       "            1.0,\n",
       "            0.81,\n",
       "            0.6400000000000001,\n",
       "            0.48999999999999994,\n",
       "            0.36,\n",
       "            0.25,\n",
       "            0.16000000000000003,\n",
       "            0.09,\n",
       "            0.04000000000000001,\n",
       "            0.010000000000000002,\n",
       "            0.0,\n",
       "            0.010000000000000002,\n",
       "            0.04000000000000001,\n",
       "            0.09,\n",
       "            0.16000000000000003,\n",
       "            0.25,\n",
       "            0.36,\n",
       "            0.48999999999999994,\n",
       "            0.6400000000000001,\n",
       "            0.81,\n",
       "            1.0,\n",
       "            1.2100000000000002,\n",
       "            1.44,\n",
       "            1.6900000000000002,\n",
       "            1.9599999999999997,\n",
       "            2.25,\n",
       "            2.5600000000000005,\n",
       "            2.8899999999999997,\n",
       "            3.24,\n",
       "            3.61,\n",
       "            4.0,\n",
       "            4.41,\n",
       "            4.840000000000001,\n",
       "            5.289999999999999,\n",
       "            5.76,\n",
       "            6.25,\n",
       "            6.760000000000001,\n",
       "            7.290000000000001,\n",
       "            7.839999999999999,\n",
       "            8.41,\n",
       "            9.0,\n",
       "            9.610000000000001,\n",
       "            10.240000000000002,\n",
       "            10.889999999999999,\n",
       "            11.559999999999999,\n",
       "            12.25,\n",
       "            12.96,\n",
       "            13.690000000000001,\n",
       "            14.44,\n",
       "            15.209999999999999,\n",
       "            16.0\n",
       "        ],\n",
       "        \"type\": \"scatter\"\n",
       "    },\n",
       "    {\n",
       "        \"xaxis\": \"x3\",\n",
       "        \"colorbar\": {\n",
       "            \"title\": \"\"\n",
       "        },\n",
       "        \"yaxis\": \"y3\",\n",
       "        \"x\": [\n",
       "            -4.0,\n",
       "            -3.9,\n",
       "            -3.8,\n",
       "            -3.7,\n",
       "            -3.6,\n",
       "            -3.5,\n",
       "            -3.4,\n",
       "            -3.3,\n",
       "            -3.2,\n",
       "            -3.1,\n",
       "            -3.0,\n",
       "            -2.9,\n",
       "            -2.8,\n",
       "            -2.7,\n",
       "            -2.6,\n",
       "            -2.5,\n",
       "            -2.4,\n",
       "            -2.3,\n",
       "            -2.2,\n",
       "            -2.1,\n",
       "            -2.0,\n",
       "            -1.9,\n",
       "            -1.8,\n",
       "            -1.7,\n",
       "            -1.6,\n",
       "            -1.5,\n",
       "            -1.4,\n",
       "            -1.3,\n",
       "            -1.2,\n",
       "            -1.1,\n",
       "            -1.0,\n",
       "            -0.9,\n",
       "            -0.8,\n",
       "            -0.7,\n",
       "            -0.6,\n",
       "            -0.5,\n",
       "            -0.4,\n",
       "            -0.3,\n",
       "            -0.2,\n",
       "            -0.1,\n",
       "            0.0,\n",
       "            0.1,\n",
       "            0.2,\n",
       "            0.3,\n",
       "            0.4,\n",
       "            0.5,\n",
       "            0.6,\n",
       "            0.7,\n",
       "            0.8,\n",
       "            0.9,\n",
       "            1.0,\n",
       "            1.1,\n",
       "            1.2,\n",
       "            1.3,\n",
       "            1.4,\n",
       "            1.5,\n",
       "            1.6,\n",
       "            1.7,\n",
       "            1.8,\n",
       "            1.9,\n",
       "            2.0,\n",
       "            2.1,\n",
       "            2.2,\n",
       "            2.3,\n",
       "            2.4,\n",
       "            2.5,\n",
       "            2.6,\n",
       "            2.7,\n",
       "            2.8,\n",
       "            2.9,\n",
       "            3.0,\n",
       "            3.1,\n",
       "            3.2,\n",
       "            3.3,\n",
       "            3.4,\n",
       "            3.5,\n",
       "            3.6,\n",
       "            3.7,\n",
       "            3.8,\n",
       "            3.9,\n",
       "            4.0\n",
       "        ],\n",
       "        \"showlegend\": true,\n",
       "        \"mode\": \"lines\",\n",
       "        \"name\": \"y1\",\n",
       "        \"zmin\": null,\n",
       "        \"legendgroup\": \"y1\",\n",
       "        \"zmax\": null,\n",
       "        \"line\": {\n",
       "            \"color\": \"rgba(0, 154, 250, 1.000)\",\n",
       "            \"shape\": \"linear\",\n",
       "            \"dash\": \"solid\",\n",
       "            \"width\": 1\n",
       "        },\n",
       "        \"y\": [\n",
       "            -64.0,\n",
       "            -59.318999999999996,\n",
       "            -54.87199999999999,\n",
       "            -50.653000000000006,\n",
       "            -46.656000000000006,\n",
       "            -42.875,\n",
       "            -39.303999999999995,\n",
       "            -35.937,\n",
       "            -32.76800000000001,\n",
       "            -29.791000000000004,\n",
       "            -27.0,\n",
       "            -24.389,\n",
       "            -21.951999999999995,\n",
       "            -19.683000000000003,\n",
       "            -17.576000000000004,\n",
       "            -15.625,\n",
       "            -13.824,\n",
       "            -12.166999999999996,\n",
       "            -10.648000000000003,\n",
       "            -9.261000000000001,\n",
       "            -8.0,\n",
       "            -6.858999999999999,\n",
       "            -5.832000000000001,\n",
       "            -4.912999999999999,\n",
       "            -4.096000000000001,\n",
       "            -3.375,\n",
       "            -2.7439999999999993,\n",
       "            -2.1970000000000005,\n",
       "            -1.728,\n",
       "            -1.3310000000000004,\n",
       "            -1.0,\n",
       "            -0.7290000000000001,\n",
       "            -0.5120000000000001,\n",
       "            -0.3429999999999999,\n",
       "            -0.216,\n",
       "            -0.125,\n",
       "            -0.06400000000000002,\n",
       "            -0.027,\n",
       "            -0.008000000000000002,\n",
       "            -0.0010000000000000002,\n",
       "            0.0,\n",
       "            0.0010000000000000002,\n",
       "            0.008000000000000002,\n",
       "            0.027,\n",
       "            0.06400000000000002,\n",
       "            0.125,\n",
       "            0.216,\n",
       "            0.3429999999999999,\n",
       "            0.5120000000000001,\n",
       "            0.7290000000000001,\n",
       "            1.0,\n",
       "            1.3310000000000004,\n",
       "            1.728,\n",
       "            2.1970000000000005,\n",
       "            2.7439999999999993,\n",
       "            3.375,\n",
       "            4.096000000000001,\n",
       "            4.912999999999999,\n",
       "            5.832000000000001,\n",
       "            6.858999999999999,\n",
       "            8.0,\n",
       "            9.261000000000001,\n",
       "            10.648000000000003,\n",
       "            12.166999999999996,\n",
       "            13.824,\n",
       "            15.625,\n",
       "            17.576000000000004,\n",
       "            19.683000000000003,\n",
       "            21.951999999999995,\n",
       "            24.389,\n",
       "            27.0,\n",
       "            29.791000000000004,\n",
       "            32.76800000000001,\n",
       "            35.937,\n",
       "            39.303999999999995,\n",
       "            42.875,\n",
       "            46.656000000000006,\n",
       "            50.653000000000006,\n",
       "            54.87199999999999,\n",
       "            59.318999999999996,\n",
       "            64.0\n",
       "        ],\n",
       "        \"type\": \"scatter\"\n",
       "    },\n",
       "    {\n",
       "        \"xaxis\": \"x4\",\n",
       "        \"colorbar\": {\n",
       "            \"title\": \"\"\n",
       "        },\n",
       "        \"yaxis\": \"y4\",\n",
       "        \"x\": [\n",
       "            -4.0,\n",
       "            -3.9,\n",
       "            -3.8,\n",
       "            -3.7,\n",
       "            -3.6,\n",
       "            -3.5,\n",
       "            -3.4,\n",
       "            -3.3,\n",
       "            -3.2,\n",
       "            -3.1,\n",
       "            -3.0,\n",
       "            -2.9,\n",
       "            -2.8,\n",
       "            -2.7,\n",
       "            -2.6,\n",
       "            -2.5,\n",
       "            -2.4,\n",
       "            -2.3,\n",
       "            -2.2,\n",
       "            -2.1,\n",
       "            -2.0,\n",
       "            -1.9,\n",
       "            -1.8,\n",
       "            -1.7,\n",
       "            -1.6,\n",
       "            -1.5,\n",
       "            -1.4,\n",
       "            -1.3,\n",
       "            -1.2,\n",
       "            -1.1,\n",
       "            -1.0,\n",
       "            -0.9,\n",
       "            -0.8,\n",
       "            -0.7,\n",
       "            -0.6,\n",
       "            -0.5,\n",
       "            -0.4,\n",
       "            -0.3,\n",
       "            -0.2,\n",
       "            -0.1,\n",
       "            0.0,\n",
       "            0.1,\n",
       "            0.2,\n",
       "            0.3,\n",
       "            0.4,\n",
       "            0.5,\n",
       "            0.6,\n",
       "            0.7,\n",
       "            0.8,\n",
       "            0.9,\n",
       "            1.0,\n",
       "            1.1,\n",
       "            1.2,\n",
       "            1.3,\n",
       "            1.4,\n",
       "            1.5,\n",
       "            1.6,\n",
       "            1.7,\n",
       "            1.8,\n",
       "            1.9,\n",
       "            2.0,\n",
       "            2.1,\n",
       "            2.2,\n",
       "            2.3,\n",
       "            2.4,\n",
       "            2.5,\n",
       "            2.6,\n",
       "            2.7,\n",
       "            2.8,\n",
       "            2.9,\n",
       "            3.0,\n",
       "            3.1,\n",
       "            3.2,\n",
       "            3.3,\n",
       "            3.4,\n",
       "            3.5,\n",
       "            3.6,\n",
       "            3.7,\n",
       "            3.8,\n",
       "            3.9,\n",
       "            4.0\n",
       "        ],\n",
       "        \"showlegend\": true,\n",
       "        \"mode\": \"lines\",\n",
       "        \"name\": \"y1\",\n",
       "        \"zmin\": null,\n",
       "        \"legendgroup\": \"y1\",\n",
       "        \"zmax\": null,\n",
       "        \"line\": {\n",
       "            \"color\": \"rgba(0, 154, 250, 1.000)\",\n",
       "            \"shape\": \"linear\",\n",
       "            \"dash\": \"solid\",\n",
       "            \"width\": 1\n",
       "        },\n",
       "        \"y\": [\n",
       "            256.0,\n",
       "            231.34409999999997,\n",
       "            208.51359999999997,\n",
       "            187.41610000000003,\n",
       "            167.9616,\n",
       "            150.0625,\n",
       "            133.63359999999997,\n",
       "            118.59209999999997,\n",
       "            104.85760000000002,\n",
       "            92.35210000000001,\n",
       "            81.0,\n",
       "            70.7281,\n",
       "            61.46559999999999,\n",
       "            53.144100000000016,\n",
       "            45.69760000000001,\n",
       "            39.0625,\n",
       "            33.1776,\n",
       "            27.98409999999999,\n",
       "            23.425600000000006,\n",
       "            19.448100000000004,\n",
       "            16.0,\n",
       "            13.032099999999998,\n",
       "            10.4976,\n",
       "            8.352099999999998,\n",
       "            6.553600000000001,\n",
       "            5.0625,\n",
       "            3.8415999999999992,\n",
       "            2.8561000000000005,\n",
       "            2.0736,\n",
       "            1.4641000000000004,\n",
       "            1.0,\n",
       "            0.6561,\n",
       "            0.4096000000000001,\n",
       "            0.24009999999999995,\n",
       "            0.1296,\n",
       "            0.0625,\n",
       "            0.025600000000000005,\n",
       "            0.0081,\n",
       "            0.0016000000000000003,\n",
       "            0.00010000000000000002,\n",
       "            0.0,\n",
       "            0.00010000000000000002,\n",
       "            0.0016000000000000003,\n",
       "            0.0081,\n",
       "            0.025600000000000005,\n",
       "            0.0625,\n",
       "            0.1296,\n",
       "            0.24009999999999995,\n",
       "            0.4096000000000001,\n",
       "            0.6561,\n",
       "            1.0,\n",
       "            1.4641000000000004,\n",
       "            2.0736,\n",
       "            2.8561000000000005,\n",
       "            3.8415999999999992,\n",
       "            5.0625,\n",
       "            6.553600000000001,\n",
       "            8.352099999999998,\n",
       "            10.4976,\n",
       "            13.032099999999998,\n",
       "            16.0,\n",
       "            19.448100000000004,\n",
       "            23.425600000000006,\n",
       "            27.98409999999999,\n",
       "            33.1776,\n",
       "            39.0625,\n",
       "            45.69760000000001,\n",
       "            53.144100000000016,\n",
       "            61.46559999999999,\n",
       "            70.7281,\n",
       "            81.0,\n",
       "            92.35210000000001,\n",
       "            104.85760000000002,\n",
       "            118.59209999999997,\n",
       "            133.63359999999997,\n",
       "            150.0625,\n",
       "            167.9616,\n",
       "            187.41610000000003,\n",
       "            208.51359999999997,\n",
       "            231.34409999999997,\n",
       "            256.0\n",
       "        ],\n",
       "        \"type\": \"scatter\"\n",
       "    }\n",
       "]\n",
       ", {\n",
       "    \"showlegend\": false,\n",
       "    \"paper_bgcolor\": \"rgba(255, 255, 255, 1.000)\",\n",
       "    \"xaxis1\": {\n",
       "        \"showticklabels\": true,\n",
       "        \"gridwidth\": 0.5,\n",
       "        \"tickvals\": [\n",
       "            -4.0,\n",
       "            -2.0,\n",
       "            0.0,\n",
       "            2.0,\n",
       "            4.0\n",
       "        ],\n",
       "        \"range\": [\n",
       "            -4.24,\n",
       "            4.24\n",
       "        ],\n",
       "        \"domain\": [\n",
       "            0.05100612423447069,\n",
       "            0.4934383202099738\n",
       "        ],\n",
       "        \"mirror\": false,\n",
       "        \"tickangle\": 0,\n",
       "        \"showline\": true,\n",
       "        \"ticktext\": [\n",
       "            \"-4\",\n",
       "            \"-2\",\n",
       "            \"0\",\n",
       "            \"2\",\n",
       "            \"4\"\n",
       "        ],\n",
       "        \"zeroline\": false,\n",
       "        \"tickfont\": {\n",
       "            \"color\": \"rgba(0, 0, 0, 1.000)\",\n",
       "            \"family\": \"sans-serif\",\n",
       "            \"size\": 11\n",
       "        },\n",
       "        \"zerolinecolor\": \"rgba(0, 0, 0, 1.000)\",\n",
       "        \"anchor\": \"y1\",\n",
       "        \"visible\": true,\n",
       "        \"ticks\": \"inside\",\n",
       "        \"tickmode\": \"array\",\n",
       "        \"linecolor\": \"rgba(0, 0, 0, 1.000)\",\n",
       "        \"showgrid\": true,\n",
       "        \"title\": \"\",\n",
       "        \"gridcolor\": \"rgba(0, 0, 0, 0.100)\",\n",
       "        \"titlefont\": {\n",
       "            \"color\": \"rgba(0, 0, 0, 1.000)\",\n",
       "            \"family\": \"sans-serif\",\n",
       "            \"size\": 15\n",
       "        },\n",
       "        \"tickcolor\": \"rgb(0, 0, 0)\",\n",
       "        \"type\": \"-\"\n",
       "    },\n",
       "    \"yaxis3\": {\n",
       "        \"showticklabels\": true,\n",
       "        \"gridwidth\": 0.5,\n",
       "        \"tickvals\": [\n",
       "            -50.0,\n",
       "            -25.0,\n",
       "            0.0,\n",
       "            25.0,\n",
       "            50.0\n",
       "        ],\n",
       "        \"range\": [\n",
       "            -67.84,\n",
       "            67.84\n",
       "        ],\n",
       "        \"domain\": [\n",
       "            0.03762029746281716,\n",
       "            0.4901574803149606\n",
       "        ],\n",
       "        \"mirror\": false,\n",
       "        \"tickangle\": 0,\n",
       "        \"showline\": true,\n",
       "        \"ticktext\": [\n",
       "            \"-50\",\n",
       "            \"-25\",\n",
       "            \"0\",\n",
       "            \"25\",\n",
       "            \"50\"\n",
       "        ],\n",
       "        \"zeroline\": false,\n",
       "        \"tickfont\": {\n",
       "            \"color\": \"rgba(0, 0, 0, 1.000)\",\n",
       "            \"family\": \"sans-serif\",\n",
       "            \"size\": 11\n",
       "        },\n",
       "        \"zerolinecolor\": \"rgba(0, 0, 0, 1.000)\",\n",
       "        \"anchor\": \"x3\",\n",
       "        \"visible\": true,\n",
       "        \"ticks\": \"inside\",\n",
       "        \"tickmode\": \"array\",\n",
       "        \"linecolor\": \"rgba(0, 0, 0, 1.000)\",\n",
       "        \"showgrid\": true,\n",
       "        \"title\": \"\",\n",
       "        \"gridcolor\": \"rgba(0, 0, 0, 0.100)\",\n",
       "        \"titlefont\": {\n",
       "            \"color\": \"rgba(0, 0, 0, 1.000)\",\n",
       "            \"family\": \"sans-serif\",\n",
       "            \"size\": 15\n",
       "        },\n",
       "        \"tickcolor\": \"rgb(0, 0, 0)\",\n",
       "        \"type\": \"-\"\n",
       "    },\n",
       "    \"height\": 400,\n",
       "    \"yaxis4\": {\n",
       "        \"showticklabels\": true,\n",
       "        \"gridwidth\": 0.5,\n",
       "        \"tickvals\": [\n",
       "            0.0,\n",
       "            50.0,\n",
       "            100.0,\n",
       "            150.0,\n",
       "            200.0,\n",
       "            250.0\n",
       "        ],\n",
       "        \"range\": [\n",
       "            -7.68,\n",
       "            263.68\n",
       "        ],\n",
       "        \"domain\": [\n",
       "            0.03762029746281716,\n",
       "            0.4901574803149606\n",
       "        ],\n",
       "        \"mirror\": false,\n",
       "        \"tickangle\": 0,\n",
       "        \"showline\": true,\n",
       "        \"ticktext\": [\n",
       "            \"0\",\n",
       "            \"50\",\n",
       "            \"100\",\n",
       "            \"150\",\n",
       "            \"200\",\n",
       "            \"250\"\n",
       "        ],\n",
       "        \"zeroline\": false,\n",
       "        \"tickfont\": {\n",
       "            \"color\": \"rgba(0, 0, 0, 1.000)\",\n",
       "            \"family\": \"sans-serif\",\n",
       "            \"size\": 11\n",
       "        },\n",
       "        \"zerolinecolor\": \"rgba(0, 0, 0, 1.000)\",\n",
       "        \"anchor\": \"x4\",\n",
       "        \"visible\": true,\n",
       "        \"ticks\": \"inside\",\n",
       "        \"tickmode\": \"array\",\n",
       "        \"linecolor\": \"rgba(0, 0, 0, 1.000)\",\n",
       "        \"showgrid\": true,\n",
       "        \"title\": \"\",\n",
       "        \"gridcolor\": \"rgba(0, 0, 0, 0.100)\",\n",
       "        \"titlefont\": {\n",
       "            \"color\": \"rgba(0, 0, 0, 1.000)\",\n",
       "            \"family\": \"sans-serif\",\n",
       "            \"size\": 15\n",
       "        },\n",
       "        \"tickcolor\": \"rgb(0, 0, 0)\",\n",
       "        \"type\": \"-\"\n",
       "    },\n",
       "    \"yaxis2\": {\n",
       "        \"showticklabels\": true,\n",
       "        \"gridwidth\": 0.5,\n",
       "        \"tickvals\": [\n",
       "            0.0,\n",
       "            5.0,\n",
       "            10.0,\n",
       "            15.0\n",
       "        ],\n",
       "        \"range\": [\n",
       "            -0.48,\n",
       "            16.48\n",
       "        ],\n",
       "        \"domain\": [\n",
       "            0.5376202974628171,\n",
       "            0.9901574803149606\n",
       "        ],\n",
       "        \"mirror\": false,\n",
       "        \"tickangle\": 0,\n",
       "        \"showline\": true,\n",
       "        \"ticktext\": [\n",
       "            \"0\",\n",
       "            \"5\",\n",
       "            \"10\",\n",
       "            \"15\"\n",
       "        ],\n",
       "        \"zeroline\": false,\n",
       "        \"tickfont\": {\n",
       "            \"color\": \"rgba(0, 0, 0, 1.000)\",\n",
       "            \"family\": \"sans-serif\",\n",
       "            \"size\": 11\n",
       "        },\n",
       "        \"zerolinecolor\": \"rgba(0, 0, 0, 1.000)\",\n",
       "        \"anchor\": \"x2\",\n",
       "        \"visible\": true,\n",
       "        \"ticks\": \"inside\",\n",
       "        \"tickmode\": \"array\",\n",
       "        \"linecolor\": \"rgba(0, 0, 0, 1.000)\",\n",
       "        \"showgrid\": true,\n",
       "        \"title\": \"\",\n",
       "        \"gridcolor\": \"rgba(0, 0, 0, 0.100)\",\n",
       "        \"titlefont\": {\n",
       "            \"color\": \"rgba(0, 0, 0, 1.000)\",\n",
       "            \"family\": \"sans-serif\",\n",
       "            \"size\": 15\n",
       "        },\n",
       "        \"tickcolor\": \"rgb(0, 0, 0)\",\n",
       "        \"type\": \"-\"\n",
       "    },\n",
       "    \"xaxis3\": {\n",
       "        \"showticklabels\": true,\n",
       "        \"gridwidth\": 0.5,\n",
       "        \"tickvals\": [\n",
       "            -4.0,\n",
       "            -2.0,\n",
       "            0.0,\n",
       "            2.0,\n",
       "            4.0\n",
       "        ],\n",
       "        \"range\": [\n",
       "            -4.24,\n",
       "            4.24\n",
       "        ],\n",
       "        \"domain\": [\n",
       "            0.05100612423447069,\n",
       "            0.4934383202099738\n",
       "        ],\n",
       "        \"mirror\": false,\n",
       "        \"tickangle\": 0,\n",
       "        \"showline\": true,\n",
       "        \"ticktext\": [\n",
       "            \"-4\",\n",
       "            \"-2\",\n",
       "            \"0\",\n",
       "            \"2\",\n",
       "            \"4\"\n",
       "        ],\n",
       "        \"zeroline\": false,\n",
       "        \"tickfont\": {\n",
       "            \"color\": \"rgba(0, 0, 0, 1.000)\",\n",
       "            \"family\": \"sans-serif\",\n",
       "            \"size\": 11\n",
       "        },\n",
       "        \"zerolinecolor\": \"rgba(0, 0, 0, 1.000)\",\n",
       "        \"anchor\": \"y3\",\n",
       "        \"visible\": true,\n",
       "        \"ticks\": \"inside\",\n",
       "        \"tickmode\": \"array\",\n",
       "        \"linecolor\": \"rgba(0, 0, 0, 1.000)\",\n",
       "        \"showgrid\": true,\n",
       "        \"title\": \"\",\n",
       "        \"gridcolor\": \"rgba(0, 0, 0, 0.100)\",\n",
       "        \"titlefont\": {\n",
       "            \"color\": \"rgba(0, 0, 0, 1.000)\",\n",
       "            \"family\": \"sans-serif\",\n",
       "            \"size\": 15\n",
       "        },\n",
       "        \"tickcolor\": \"rgb(0, 0, 0)\",\n",
       "        \"type\": \"-\"\n",
       "    },\n",
       "    \"xaxis4\": {\n",
       "        \"showticklabels\": true,\n",
       "        \"gridwidth\": 0.5,\n",
       "        \"tickvals\": [\n",
       "            -4.0,\n",
       "            -2.0,\n",
       "            0.0,\n",
       "            2.0,\n",
       "            4.0\n",
       "        ],\n",
       "        \"range\": [\n",
       "            -4.24,\n",
       "            4.24\n",
       "        ],\n",
       "        \"domain\": [\n",
       "            0.5510061242344708,\n",
       "            0.9934383202099739\n",
       "        ],\n",
       "        \"mirror\": false,\n",
       "        \"tickangle\": 0,\n",
       "        \"showline\": true,\n",
       "        \"ticktext\": [\n",
       "            \"-4\",\n",
       "            \"-2\",\n",
       "            \"0\",\n",
       "            \"2\",\n",
       "            \"4\"\n",
       "        ],\n",
       "        \"zeroline\": false,\n",
       "        \"tickfont\": {\n",
       "            \"color\": \"rgba(0, 0, 0, 1.000)\",\n",
       "            \"family\": \"sans-serif\",\n",
       "            \"size\": 11\n",
       "        },\n",
       "        \"zerolinecolor\": \"rgba(0, 0, 0, 1.000)\",\n",
       "        \"anchor\": \"y4\",\n",
       "        \"visible\": true,\n",
       "        \"ticks\": \"inside\",\n",
       "        \"tickmode\": \"array\",\n",
       "        \"linecolor\": \"rgba(0, 0, 0, 1.000)\",\n",
       "        \"showgrid\": true,\n",
       "        \"title\": \"\",\n",
       "        \"gridcolor\": \"rgba(0, 0, 0, 0.100)\",\n",
       "        \"titlefont\": {\n",
       "            \"color\": \"rgba(0, 0, 0, 1.000)\",\n",
       "            \"family\": \"sans-serif\",\n",
       "            \"size\": 15\n",
       "        },\n",
       "        \"tickcolor\": \"rgb(0, 0, 0)\",\n",
       "        \"type\": \"-\"\n",
       "    },\n",
       "    \"yaxis1\": {\n",
       "        \"showticklabels\": true,\n",
       "        \"gridwidth\": 0.5,\n",
       "        \"tickvals\": [\n",
       "            -4.0,\n",
       "            -2.0,\n",
       "            0.0,\n",
       "            2.0,\n",
       "            4.0\n",
       "        ],\n",
       "        \"range\": [\n",
       "            -4.24,\n",
       "            4.24\n",
       "        ],\n",
       "        \"domain\": [\n",
       "            0.5376202974628171,\n",
       "            0.9901574803149606\n",
       "        ],\n",
       "        \"mirror\": false,\n",
       "        \"tickangle\": 0,\n",
       "        \"showline\": true,\n",
       "        \"ticktext\": [\n",
       "            \"-4\",\n",
       "            \"-2\",\n",
       "            \"0\",\n",
       "            \"2\",\n",
       "            \"4\"\n",
       "        ],\n",
       "        \"zeroline\": false,\n",
       "        \"tickfont\": {\n",
       "            \"color\": \"rgba(0, 0, 0, 1.000)\",\n",
       "            \"family\": \"sans-serif\",\n",
       "            \"size\": 11\n",
       "        },\n",
       "        \"zerolinecolor\": \"rgba(0, 0, 0, 1.000)\",\n",
       "        \"anchor\": \"x1\",\n",
       "        \"visible\": true,\n",
       "        \"ticks\": \"inside\",\n",
       "        \"tickmode\": \"array\",\n",
       "        \"linecolor\": \"rgba(0, 0, 0, 1.000)\",\n",
       "        \"showgrid\": true,\n",
       "        \"title\": \"\",\n",
       "        \"gridcolor\": \"rgba(0, 0, 0, 0.100)\",\n",
       "        \"titlefont\": {\n",
       "            \"color\": \"rgba(0, 0, 0, 1.000)\",\n",
       "            \"family\": \"sans-serif\",\n",
       "            \"size\": 15\n",
       "        },\n",
       "        \"tickcolor\": \"rgb(0, 0, 0)\",\n",
       "        \"type\": \"-\"\n",
       "    },\n",
       "    \"annotations\": [],\n",
       "    \"xaxis2\": {\n",
       "        \"showticklabels\": true,\n",
       "        \"gridwidth\": 0.5,\n",
       "        \"tickvals\": [\n",
       "            -4.0,\n",
       "            -2.0,\n",
       "            0.0,\n",
       "            2.0,\n",
       "            4.0\n",
       "        ],\n",
       "        \"range\": [\n",
       "            -4.24,\n",
       "            4.24\n",
       "        ],\n",
       "        \"domain\": [\n",
       "            0.5510061242344708,\n",
       "            0.9934383202099739\n",
       "        ],\n",
       "        \"mirror\": false,\n",
       "        \"tickangle\": 0,\n",
       "        \"showline\": true,\n",
       "        \"ticktext\": [\n",
       "            \"-4\",\n",
       "            \"-2\",\n",
       "            \"0\",\n",
       "            \"2\",\n",
       "            \"4\"\n",
       "        ],\n",
       "        \"zeroline\": false,\n",
       "        \"tickfont\": {\n",
       "            \"color\": \"rgba(0, 0, 0, 1.000)\",\n",
       "            \"family\": \"sans-serif\",\n",
       "            \"size\": 11\n",
       "        },\n",
       "        \"zerolinecolor\": \"rgba(0, 0, 0, 1.000)\",\n",
       "        \"anchor\": \"y2\",\n",
       "        \"visible\": true,\n",
       "        \"ticks\": \"inside\",\n",
       "        \"tickmode\": \"array\",\n",
       "        \"linecolor\": \"rgba(0, 0, 0, 1.000)\",\n",
       "        \"showgrid\": true,\n",
       "        \"title\": \"\",\n",
       "        \"gridcolor\": \"rgba(0, 0, 0, 0.100)\",\n",
       "        \"titlefont\": {\n",
       "            \"color\": \"rgba(0, 0, 0, 1.000)\",\n",
       "            \"family\": \"sans-serif\",\n",
       "            \"size\": 15\n",
       "        },\n",
       "        \"tickcolor\": \"rgb(0, 0, 0)\",\n",
       "        \"type\": \"-\"\n",
       "    },\n",
       "    \"plot_bgcolor\": \"rgba(255, 255, 255, 1.000)\",\n",
       "    \"margin\": {\n",
       "        \"l\": 0,\n",
       "        \"b\": 20,\n",
       "        \"r\": 0,\n",
       "        \"t\": 20\n",
       "    },\n",
       "    \"width\": 600\n",
       "}\n",
       ");\n",
       "\n",
       "    });\n",
       "    </script>\n"
      ]
     },
     "execution_count": 69,
     "metadata": {},
     "output_type": "execute_result"
    }
   ],
   "source": [
    "# Creating subplots\n",
    "p1 = plot(x,x)\n",
    "p2 = plot(x,x.^2)\n",
    "p3 = plot(x,x.^3)\n",
    "p4 = plot(x,x.^4)\n",
    "plot(p1,p2,p3,p4,layout = (2,2),legend=false)"
   ]
  },
  {
   "cell_type": "markdown",
   "id": "acfa66db",
   "metadata": {},
   "source": [
    "## Multiple Dispatch "
   ]
  },
  {
   "cell_type": "markdown",
   "id": "0cee9d66",
   "metadata": {},
   "source": [
    "Multiple Dispatch is a key feature in Julia, where the language decides which method to run by looking at the arguments of the function.    "
   ]
  },
  {
   "cell_type": "code",
   "execution_count": 72,
   "id": "ee86c267",
   "metadata": {},
   "outputs": [
    {
     "data": {
      "text/html": [
       "# 277 methods for generic function <b>+</b>:<ul><li> +(x::<b>T</b>, y::<b>T</b>)<i> where T<:Union{Int128, Int16, Int32, Int64, Int8, UInt128, UInt16, UInt32, UInt64, UInt8}</i> in Base at <a href=\"https://github.com/JuliaLang/julia/tree/bf534986350a991e4a1b29126de0342ffd76205e/base/int.jl#L87\" target=\"_blank\">int.jl:87</a></li> <li> +(c::<b>Union{UInt16, UInt32, UInt64, UInt8}</b>, x::<b>BigInt</b>) in Base.GMP at <a href=\"https://github.com/JuliaLang/julia/tree/bf534986350a991e4a1b29126de0342ffd76205e/base/gmp.jl#L529\" target=\"_blank\">gmp.jl:529</a></li> <li> +(c::<b>Union{Int16, Int32, Int64, Int8}</b>, x::<b>BigInt</b>) in Base.GMP at <a href=\"https://github.com/JuliaLang/julia/tree/bf534986350a991e4a1b29126de0342ffd76205e/base/gmp.jl#L535\" target=\"_blank\">gmp.jl:535</a></li> <li> +(c::<b>Union{UInt16, UInt32, UInt64, UInt8}</b>, x::<b>BigFloat</b>) in Base.MPFR at <a href=\"https://github.com/JuliaLang/julia/tree/bf534986350a991e4a1b29126de0342ffd76205e/base/mpfr.jl#L390\" target=\"_blank\">mpfr.jl:390</a></li> <li> +(c::<b>Union{Int16, Int32, Int64, Int8}</b>, x::<b>BigFloat</b>) in Base.MPFR at <a href=\"https://github.com/JuliaLang/julia/tree/bf534986350a991e4a1b29126de0342ffd76205e/base/mpfr.jl#L398\" target=\"_blank\">mpfr.jl:398</a></li> <li> +(c::<b>Union{Float16, Float32, Float64}</b>, x::<b>BigFloat</b>) in Base.MPFR at <a href=\"https://github.com/JuliaLang/julia/tree/bf534986350a991e4a1b29126de0342ffd76205e/base/mpfr.jl#L406\" target=\"_blank\">mpfr.jl:406</a></li> <li> +(x::<b>Union{Dates.CompoundPeriod, Dates.Period}</b>) in Dates at <a href=\"file:///Users/julia/buildbot/worker/package_macos64/build/usr/share/julia/stdlib/v1.7/Dates/src/periods.jl\" target=\"_blank\">/Applications/Julia-1.7.app/Contents/Resources/julia/share/julia/stdlib/v1.7/Dates/src/periods.jl:372</a></li> <li> +(a::<b>Union{LMS, XYZ}</b>, b::<b>Union{LMS, XYZ}</b>) in Colors at <a href=\"file:///Users/ankurbhayana/.julia/packages/Colors/yDxFN/src/algorithms.jl\" target=\"_blank\">/Users/ankurbhayana/.julia/packages/Colors/yDxFN/src/algorithms.jl:4</a></li> <li> +(l1::<b>Lazy.List</b>, ls::<b>Lazy.List...</b>) in Lazy at <a href=\"file:///Users/ankurbhayana/.julia/packages/Lazy/9Xnd3/src/Lazy.jl\" target=\"_blank\">/Users/ankurbhayana/.julia/packages/Lazy/9Xnd3/src/Lazy.jl:20</a></li> <li> +(A::<b>LinearAlgebra.UnitUpperTriangular</b>, B::<b>LinearAlgebra.UpperTriangular</b>) in LinearAlgebra at <a href=\"file:///Users/julia/buildbot/worker/package_macos64/build/usr/share/julia/stdlib/v1.7/LinearAlgebra/src/triangular.jl\" target=\"_blank\">/Applications/Julia-1.7.app/Contents/Resources/julia/share/julia/stdlib/v1.7/LinearAlgebra/src/triangular.jl:640</a></li> <li> +(A::<b>LinearAlgebra.UnitUpperTriangular</b>, B::<b>LinearAlgebra.UnitUpperTriangular</b>) in LinearAlgebra at <a href=\"file:///Users/julia/buildbot/worker/package_macos64/build/usr/share/julia/stdlib/v1.7/LinearAlgebra/src/triangular.jl\" target=\"_blank\">/Applications/Julia-1.7.app/Contents/Resources/julia/share/julia/stdlib/v1.7/LinearAlgebra/src/triangular.jl:642</a></li> <li> +(UL::<b>LinearAlgebra.UnitUpperTriangular</b>, J::<b>LinearAlgebra.UniformScaling</b>) in LinearAlgebra at <a href=\"file:///Users/julia/buildbot/worker/package_macos64/build/usr/share/julia/stdlib/v1.7/LinearAlgebra/src/uniformscaling.jl\" target=\"_blank\">/Applications/Julia-1.7.app/Contents/Resources/julia/share/julia/stdlib/v1.7/LinearAlgebra/src/uniformscaling.jl:182</a></li> <li> +(x::<b>LinearAlgebra.UnitUpperTriangular</b>, H::<b>LinearAlgebra.UpperHessenberg</b>) in LinearAlgebra at <a href=\"file:///Users/julia/buildbot/worker/package_macos64/build/usr/share/julia/stdlib/v1.7/LinearAlgebra/src/hessenberg.jl\" target=\"_blank\">/Applications/Julia-1.7.app/Contents/Resources/julia/share/julia/stdlib/v1.7/LinearAlgebra/src/hessenberg.jl:107</a></li> <li> +(A::<b>LinearAlgebra.UnitUpperTriangular</b>, B::<b>LinearAlgebra.Bidiagonal</b>) in LinearAlgebra at <a href=\"file:///Users/julia/buildbot/worker/package_macos64/build/usr/share/julia/stdlib/v1.7/LinearAlgebra/src/special.jl\" target=\"_blank\">/Applications/Julia-1.7.app/Contents/Resources/julia/share/julia/stdlib/v1.7/LinearAlgebra/src/special.jl:86</a></li> <li> +(a::<b>TransparentGray</b>, b::<b>TransparentGray</b>) in ColorVectorSpace at <a href=\"file:///Users/ankurbhayana/.julia/packages/ColorVectorSpace/CPykb/src/ColorVectorSpace.jl\" target=\"_blank\">/Users/ankurbhayana/.julia/packages/ColorVectorSpace/CPykb/src/ColorVectorSpace.jl:322</a></li> <li> +(a::<b>TransparentColor{C, T, 4} where {C<:AbstractRGB, T}</b>, b::<b>TransparentColor{C, T, 4} where {C<:AbstractRGB, T}</b>) in ColorVectorSpace at <a href=\"file:///Users/ankurbhayana/.julia/packages/ColorVectorSpace/CPykb/src/ColorVectorSpace.jl\" target=\"_blank\">/Users/ankurbhayana/.julia/packages/ColorVectorSpace/CPykb/src/ColorVectorSpace.jl:273</a></li> <li> +(c::<b>Union{TransparentColor{C, Bool}, C} where C<:Union{AbstractRGB{Bool}, AbstractGray{Bool}}</b>) in ColorVectorSpace at <a href=\"file:///Users/ankurbhayana/.julia/packages/ColorVectorSpace/CPykb/src/ColorVectorSpace.jl\" target=\"_blank\">/Users/ankurbhayana/.julia/packages/ColorVectorSpace/CPykb/src/ColorVectorSpace.jl:249</a></li> <li> +(r1::<b>LinRange{T}</b>, r2::<b>LinRange{T}</b>)<i> where T</i> in Base at <a href=\"https://github.com/JuliaLang/julia/tree/bf534986350a991e4a1b29126de0342ffd76205e/base/range.jl#L1354\" target=\"_blank\">range.jl:1354</a></li> <li> +(a::<b>AbstractGray{Bool}</b>, b::<b>Bool</b>) in ColorVectorSpace at <a href=\"file:///Users/ankurbhayana/.julia/packages/ColorVectorSpace/CPykb/src/ColorVectorSpace.jl\" target=\"_blank\">/Users/ankurbhayana/.julia/packages/ColorVectorSpace/CPykb/src/ColorVectorSpace.jl:332</a></li> <li> +(a::<b>AbstractGray{Bool}</b>, b::<b>Number</b>) in ColorVectorSpace at <a href=\"file:///Users/ankurbhayana/.julia/packages/ColorVectorSpace/CPykb/src/ColorVectorSpace.jl\" target=\"_blank\">/Users/ankurbhayana/.julia/packages/ColorVectorSpace/CPykb/src/ColorVectorSpace.jl:331</a></li> <li> +(a::<b>AbstractGray</b>, b::<b>Number</b>) in ColorVectorSpace at <a href=\"file:///Users/ankurbhayana/.julia/packages/ColorVectorSpace/CPykb/src/ColorVectorSpace.jl\" target=\"_blank\">/Users/ankurbhayana/.julia/packages/ColorVectorSpace/CPykb/src/ColorVectorSpace.jl:330</a></li> <li> +(Da::<b>LinearAlgebra.Diagonal</b>, Db::<b>LinearAlgebra.Diagonal</b>) in LinearAlgebra at <a href=\"file:///Users/julia/buildbot/worker/package_macos64/build/usr/share/julia/stdlib/v1.7/LinearAlgebra/src/diagonal.jl\" target=\"_blank\">/Applications/Julia-1.7.app/Contents/Resources/julia/share/julia/stdlib/v1.7/LinearAlgebra/src/diagonal.jl:172</a></li> <li> +(D::<b>LinearAlgebra.Diagonal</b>, S::<b>LinearAlgebra.Symmetric</b>) in LinearAlgebra at <a href=\"file:///Users/julia/buildbot/worker/package_macos64/build/usr/share/julia/stdlib/v1.7/LinearAlgebra/src/diagonal.jl\" target=\"_blank\">/Applications/Julia-1.7.app/Contents/Resources/julia/share/julia/stdlib/v1.7/LinearAlgebra/src/diagonal.jl:176</a></li> <li> +(D::<b>LinearAlgebra.Diagonal{var\"#s859\", V} where {var\"#s859\"<:Real, V<:AbstractVector{var\"#s859\"}}</b>, H::<b>LinearAlgebra.Hermitian</b>) in LinearAlgebra at <a href=\"file:///Users/julia/buildbot/worker/package_macos64/build/usr/share/julia/stdlib/v1.7/LinearAlgebra/src/diagonal.jl\" target=\"_blank\">/Applications/Julia-1.7.app/Contents/Resources/julia/share/julia/stdlib/v1.7/LinearAlgebra/src/diagonal.jl:182</a></li> <li> +(x::<b>LinearAlgebra.Diagonal</b>, H::<b>LinearAlgebra.UpperHessenberg</b>) in LinearAlgebra at <a href=\"file:///Users/julia/buildbot/worker/package_macos64/build/usr/share/julia/stdlib/v1.7/LinearAlgebra/src/hessenberg.jl\" target=\"_blank\">/Applications/Julia-1.7.app/Contents/Resources/julia/share/julia/stdlib/v1.7/LinearAlgebra/src/hessenberg.jl:107</a></li> <li> +(A::<b>LinearAlgebra.Diagonal</b>, B::<b>LinearAlgebra.Bidiagonal</b>) in LinearAlgebra at <a href=\"file:///Users/julia/buildbot/worker/package_macos64/build/usr/share/julia/stdlib/v1.7/LinearAlgebra/src/special.jl\" target=\"_blank\">/Applications/Julia-1.7.app/Contents/Resources/julia/share/julia/stdlib/v1.7/LinearAlgebra/src/special.jl:125</a></li> <li> +(A::<b>LinearAlgebra.Diagonal</b>, B::<b>LinearAlgebra.SymTridiagonal</b>) in LinearAlgebra at <a href=\"file:///Users/julia/buildbot/worker/package_macos64/build/usr/share/julia/stdlib/v1.7/LinearAlgebra/src/special.jl\" target=\"_blank\">/Applications/Julia-1.7.app/Contents/Resources/julia/share/julia/stdlib/v1.7/LinearAlgebra/src/special.jl:135</a></li> <li> +(A::<b>LinearAlgebra.Diagonal</b>, B::<b>LinearAlgebra.Tridiagonal</b>) in LinearAlgebra at <a href=\"file:///Users/julia/buildbot/worker/package_macos64/build/usr/share/julia/stdlib/v1.7/LinearAlgebra/src/special.jl\" target=\"_blank\">/Applications/Julia-1.7.app/Contents/Resources/julia/share/julia/stdlib/v1.7/LinearAlgebra/src/special.jl:163</a></li> <li> +(A::<b>LinearAlgebra.Diagonal{var\"#s859\", V} where {var\"#s859\"<:Number, V<:AbstractVector{var\"#s859\"}}</b>, B::<b>LinearAlgebra.UniformScaling</b>) in LinearAlgebra at <a href=\"file:///Users/julia/buildbot/worker/package_macos64/build/usr/share/julia/stdlib/v1.7/LinearAlgebra/src/special.jl\" target=\"_blank\">/Applications/Julia-1.7.app/Contents/Resources/julia/share/julia/stdlib/v1.7/LinearAlgebra/src/special.jl:241</a></li> <li> +(A::<b>SparseArrays.AbstractSparseMatrix</b>, B::<b>LinearAlgebra.Hermitian{<:Any, <:SparseArrays.AbstractSparseMatrix}</b>) in SparseArrays at <a href=\"file:///Users/julia/buildbot/worker/package_macos64/build/usr/share/julia/stdlib/v1.7/SparseArrays/src/linalg.jl\" target=\"_blank\">/Applications/Julia-1.7.app/Contents/Resources/julia/share/julia/stdlib/v1.7/SparseArrays/src/linalg.jl:14</a></li> <li> +(A::<b>SparseArrays.AbstractSparseMatrix</b>, B::<b>LinearAlgebra.Hermitian</b>) in SparseArrays at <a href=\"file:///Users/julia/buildbot/worker/package_macos64/build/usr/share/julia/stdlib/v1.7/SparseArrays/src/linalg.jl\" target=\"_blank\">/Applications/Julia-1.7.app/Contents/Resources/julia/share/julia/stdlib/v1.7/SparseArrays/src/linalg.jl:17</a></li> <li> +(A::<b>SparseArrays.AbstractSparseMatrix</b>, B::<b>LinearAlgebra.Symmetric{<:Any, <:SparseArrays.AbstractSparseMatrix}</b>) in SparseArrays at <a href=\"file:///Users/julia/buildbot/worker/package_macos64/build/usr/share/julia/stdlib/v1.7/SparseArrays/src/linalg.jl\" target=\"_blank\">/Applications/Julia-1.7.app/Contents/Resources/julia/share/julia/stdlib/v1.7/SparseArrays/src/linalg.jl:14</a></li> <li> +(A::<b>SparseArrays.AbstractSparseMatrix</b>, B::<b>LinearAlgebra.Symmetric</b>) in SparseArrays at <a href=\"file:///Users/julia/buildbot/worker/package_macos64/build/usr/share/julia/stdlib/v1.7/SparseArrays/src/linalg.jl\" target=\"_blank\">/Applications/Julia-1.7.app/Contents/Resources/julia/share/julia/stdlib/v1.7/SparseArrays/src/linalg.jl:17</a></li> <li> +(x::<b>P</b>, y::<b>P</b>)<i> where P<:Dates.Period</i> in Dates at <a href=\"file:///Users/julia/buildbot/worker/package_macos64/build/usr/share/julia/stdlib/v1.7/Dates/src/periods.jl\" target=\"_blank\">/Applications/Julia-1.7.app/Contents/Resources/julia/share/julia/stdlib/v1.7/Dates/src/periods.jl:79</a></li> <li> +(x::<b>Dates.Period</b>, y::<b>Dates.Period</b>) in Dates at <a href=\"file:///Users/julia/buildbot/worker/package_macos64/build/usr/share/julia/stdlib/v1.7/Dates/src/periods.jl\" target=\"_blank\">/Applications/Julia-1.7.app/Contents/Resources/julia/share/julia/stdlib/v1.7/Dates/src/periods.jl:361</a></li> <li> +(y::<b>Dates.Period</b>, x::<b>Dates.CompoundPeriod</b>) in Dates at <a href=\"file:///Users/julia/buildbot/worker/package_macos64/build/usr/share/julia/stdlib/v1.7/Dates/src/periods.jl\" target=\"_blank\">/Applications/Julia-1.7.app/Contents/Resources/julia/share/julia/stdlib/v1.7/Dates/src/periods.jl:363</a></li> <li> +(y::<b>Dates.Period</b>, x::<b>Dates.TimeType</b>) in Dates at <a href=\"file:///Users/julia/buildbot/worker/package_macos64/build/usr/share/julia/stdlib/v1.7/Dates/src/arithmetic.jl\" target=\"_blank\">/Applications/Julia-1.7.app/Contents/Resources/julia/share/julia/stdlib/v1.7/Dates/src/arithmetic.jl:85</a></li> <li> +(x::<b>Dates.Period</b>, r::<b>AbstractRange{<:Dates.TimeType}</b>) in Dates at <a href=\"file:///Users/julia/buildbot/worker/package_macos64/build/usr/share/julia/stdlib/v1.7/Dates/src/ranges.jl\" target=\"_blank\">/Applications/Julia-1.7.app/Contents/Resources/julia/share/julia/stdlib/v1.7/Dates/src/ranges.jl:62</a></li> <li> +(y::<b>Union{Dates.CompoundPeriod, Dates.Period}</b>, x::<b>AbstractArray{<:Dates.TimeType}</b>) in Dates at <a href=\"file:///Users/julia/buildbot/worker/package_macos64/build/usr/share/julia/stdlib/v1.7/Dates/src/deprecated.jl\" target=\"_blank\">/Applications/Julia-1.7.app/Contents/Resources/julia/share/julia/stdlib/v1.7/Dates/src/deprecated.jl:14</a></li> <li> +(A::<b>LinearAlgebra.Bidiagonal</b>, B::<b>LinearAlgebra.Bidiagonal</b>) in LinearAlgebra at <a href=\"file:///Users/julia/buildbot/worker/package_macos64/build/usr/share/julia/stdlib/v1.7/LinearAlgebra/src/bidiag.jl\" target=\"_blank\">/Applications/Julia-1.7.app/Contents/Resources/julia/share/julia/stdlib/v1.7/LinearAlgebra/src/bidiag.jl:354</a></li> <li> +(x::<b>LinearAlgebra.Bidiagonal</b>, H::<b>LinearAlgebra.UpperHessenberg</b>) in LinearAlgebra at <a href=\"file:///Users/julia/buildbot/worker/package_macos64/build/usr/share/julia/stdlib/v1.7/LinearAlgebra/src/hessenberg.jl\" target=\"_blank\">/Applications/Julia-1.7.app/Contents/Resources/julia/share/julia/stdlib/v1.7/LinearAlgebra/src/hessenberg.jl:107</a></li> <li> +(A::<b>LinearAlgebra.Bidiagonal</b>, B::<b>LinearAlgebra.UpperTriangular</b>) in LinearAlgebra at <a href=\"file:///Users/julia/buildbot/worker/package_macos64/build/usr/share/julia/stdlib/v1.7/LinearAlgebra/src/special.jl\" target=\"_blank\">/Applications/Julia-1.7.app/Contents/Resources/julia/share/julia/stdlib/v1.7/LinearAlgebra/src/special.jl:94</a></li> <li> +(A::<b>LinearAlgebra.Bidiagonal</b>, B::<b>LinearAlgebra.UnitUpperTriangular</b>) in LinearAlgebra at <a href=\"file:///Users/julia/buildbot/worker/package_macos64/build/usr/share/julia/stdlib/v1.7/LinearAlgebra/src/special.jl\" target=\"_blank\">/Applications/Julia-1.7.app/Contents/Resources/julia/share/julia/stdlib/v1.7/LinearAlgebra/src/special.jl:94</a></li> <li> +(A::<b>LinearAlgebra.Bidiagonal</b>, B::<b>LinearAlgebra.LowerTriangular</b>) in LinearAlgebra at <a href=\"file:///Users/julia/buildbot/worker/package_macos64/build/usr/share/julia/stdlib/v1.7/LinearAlgebra/src/special.jl\" target=\"_blank\">/Applications/Julia-1.7.app/Contents/Resources/julia/share/julia/stdlib/v1.7/LinearAlgebra/src/special.jl:94</a></li> <li> +(A::<b>LinearAlgebra.Bidiagonal</b>, B::<b>LinearAlgebra.UnitLowerTriangular</b>) in LinearAlgebra at <a href=\"file:///Users/julia/buildbot/worker/package_macos64/build/usr/share/julia/stdlib/v1.7/LinearAlgebra/src/special.jl\" target=\"_blank\">/Applications/Julia-1.7.app/Contents/Resources/julia/share/julia/stdlib/v1.7/LinearAlgebra/src/special.jl:94</a></li> <li> +(A::<b>LinearAlgebra.Bidiagonal</b>, B::<b>LinearAlgebra.Diagonal</b>) in LinearAlgebra at <a href=\"file:///Users/julia/buildbot/worker/package_macos64/build/usr/share/julia/stdlib/v1.7/LinearAlgebra/src/special.jl\" target=\"_blank\">/Applications/Julia-1.7.app/Contents/Resources/julia/share/julia/stdlib/v1.7/LinearAlgebra/src/special.jl:115</a></li> <li> +(A::<b>LinearAlgebra.Bidiagonal</b>, B::<b>LinearAlgebra.Tridiagonal</b>) in LinearAlgebra at <a href=\"file:///Users/julia/buildbot/worker/package_macos64/build/usr/share/julia/stdlib/v1.7/LinearAlgebra/src/special.jl\" target=\"_blank\">/Applications/Julia-1.7.app/Contents/Resources/julia/share/julia/stdlib/v1.7/LinearAlgebra/src/special.jl:183</a></li> <li> +(A::<b>LinearAlgebra.Bidiagonal</b>, B::<b>LinearAlgebra.SymTridiagonal</b>) in LinearAlgebra at <a href=\"file:///Users/julia/buildbot/worker/package_macos64/build/usr/share/julia/stdlib/v1.7/LinearAlgebra/src/special.jl\" target=\"_blank\">/Applications/Julia-1.7.app/Contents/Resources/julia/share/julia/stdlib/v1.7/LinearAlgebra/src/special.jl:203</a></li> <li> +(A::<b>LinearAlgebra.Bidiagonal{var\"#s859\", V} where {var\"#s859\"<:Number, V<:AbstractVector{var\"#s859\"}}</b>, B::<b>LinearAlgebra.UniformScaling</b>) in LinearAlgebra at <a href=\"file:///Users/julia/buildbot/worker/package_macos64/build/usr/share/julia/stdlib/v1.7/LinearAlgebra/src/special.jl\" target=\"_blank\">/Applications/Julia-1.7.app/Contents/Resources/julia/share/julia/stdlib/v1.7/LinearAlgebra/src/special.jl:236</a></li> <li> +(A::<b>LinearAlgebra.SymTridiagonal</b>, B::<b>LinearAlgebra.SymTridiagonal</b>) in LinearAlgebra at <a href=\"file:///Users/julia/buildbot/worker/package_macos64/build/usr/share/julia/stdlib/v1.7/LinearAlgebra/src/tridiag.jl\" target=\"_blank\">/Applications/Julia-1.7.app/Contents/Resources/julia/share/julia/stdlib/v1.7/LinearAlgebra/src/tridiag.jl:208</a></li> <li> +(A::<b>LinearAlgebra.SymTridiagonal</b>, B::<b>LinearAlgebra.Symmetric</b>) in LinearAlgebra at <a href=\"file:///Users/julia/buildbot/worker/package_macos64/build/usr/share/julia/stdlib/v1.7/LinearAlgebra/src/symmetric.jl\" target=\"_blank\">/Applications/Julia-1.7.app/Contents/Resources/julia/share/julia/stdlib/v1.7/LinearAlgebra/src/symmetric.jl:485</a></li> <li> +(A::<b>LinearAlgebra.SymTridiagonal{var\"#s857\", V} where {var\"#s857\"<:Real, V<:AbstractVector{var\"#s857\"}}</b>, B::<b>LinearAlgebra.Hermitian</b>) in LinearAlgebra at <a href=\"file:///Users/julia/buildbot/worker/package_macos64/build/usr/share/julia/stdlib/v1.7/LinearAlgebra/src/symmetric.jl\" target=\"_blank\">/Applications/Julia-1.7.app/Contents/Resources/julia/share/julia/stdlib/v1.7/LinearAlgebra/src/symmetric.jl:487</a></li> <li> +(x::<b>LinearAlgebra.SymTridiagonal</b>, H::<b>LinearAlgebra.UpperHessenberg</b>) in LinearAlgebra at <a href=\"file:///Users/julia/buildbot/worker/package_macos64/build/usr/share/julia/stdlib/v1.7/LinearAlgebra/src/hessenberg.jl\" target=\"_blank\">/Applications/Julia-1.7.app/Contents/Resources/julia/share/julia/stdlib/v1.7/LinearAlgebra/src/hessenberg.jl:107</a></li> <li> +(A::<b>LinearAlgebra.SymTridiagonal</b>, B::<b>LinearAlgebra.Diagonal</b>) in LinearAlgebra at <a href=\"file:///Users/julia/buildbot/worker/package_macos64/build/usr/share/julia/stdlib/v1.7/LinearAlgebra/src/special.jl\" target=\"_blank\">/Applications/Julia-1.7.app/Contents/Resources/julia/share/julia/stdlib/v1.7/LinearAlgebra/src/special.jl:145</a></li> <li> +(A::<b>LinearAlgebra.SymTridiagonal</b>, B::<b>LinearAlgebra.Tridiagonal</b>) in LinearAlgebra at <a href=\"file:///Users/julia/buildbot/worker/package_macos64/build/usr/share/julia/stdlib/v1.7/LinearAlgebra/src/special.jl\" target=\"_blank\">/Applications/Julia-1.7.app/Contents/Resources/julia/share/julia/stdlib/v1.7/LinearAlgebra/src/special.jl:159</a></li> <li> +(A::<b>LinearAlgebra.SymTridiagonal</b>, B::<b>LinearAlgebra.Bidiagonal</b>) in LinearAlgebra at <a href=\"file:///Users/julia/buildbot/worker/package_macos64/build/usr/share/julia/stdlib/v1.7/LinearAlgebra/src/special.jl\" target=\"_blank\">/Applications/Julia-1.7.app/Contents/Resources/julia/share/julia/stdlib/v1.7/LinearAlgebra/src/special.jl:213</a></li> <li> +(A::<b>LinearAlgebra.SymTridiagonal{var\"#s859\", V} where {var\"#s859\"<:Number, V<:AbstractVector{var\"#s859\"}}</b>, B::<b>LinearAlgebra.UniformScaling</b>) in LinearAlgebra at <a href=\"file:///Users/julia/buildbot/worker/package_macos64/build/usr/share/julia/stdlib/v1.7/LinearAlgebra/src/special.jl\" target=\"_blank\">/Applications/Julia-1.7.app/Contents/Resources/julia/share/julia/stdlib/v1.7/LinearAlgebra/src/special.jl:231</a></li> <li> +(a::<b>ChainRulesCore.Tangent{P}</b>, b::<b>ChainRulesCore.Tangent{P}</b>)<i> where P</i> in ChainRulesCore at <a href=\"file:///Users/ankurbhayana/.julia/packages/ChainRulesCore/RbX5a/src/tangent_arithmetic.jl\" target=\"_blank\">/Users/ankurbhayana/.julia/packages/ChainRulesCore/RbX5a/src/tangent_arithmetic.jl:129</a></li> <li> +(a::<b>ChainRulesCore.Tangent</b>, b::<b>ChainRulesCore.AbstractThunk</b>) in ChainRulesCore at <a href=\"file:///Users/ankurbhayana/.julia/packages/ChainRulesCore/RbX5a/src/tangent_arithmetic.jl\" target=\"_blank\">/Users/ankurbhayana/.julia/packages/ChainRulesCore/RbX5a/src/tangent_arithmetic.jl:123</a></li> <li> +(a::<b>ChainRulesCore.Tangent</b>, ::<b>ChainRulesCore.ZeroTangent</b>) in ChainRulesCore at <a href=\"file:///Users/ankurbhayana/.julia/packages/ChainRulesCore/RbX5a/src/tangent_arithmetic.jl\" target=\"_blank\">/Users/ankurbhayana/.julia/packages/ChainRulesCore/RbX5a/src/tangent_arithmetic.jl:100</a></li> <li> +(a::<b>ChainRulesCore.Tangent</b>, ::<b>ChainRulesCore.NoTangent</b>) in ChainRulesCore at <a href=\"file:///Users/ankurbhayana/.julia/packages/ChainRulesCore/RbX5a/src/tangent_arithmetic.jl\" target=\"_blank\">/Users/ankurbhayana/.julia/packages/ChainRulesCore/RbX5a/src/tangent_arithmetic.jl:60</a></li> <li> +(::<b>ChainRulesCore.Tangent</b>, x::<b>ChainRulesCore.NotImplemented</b>) in ChainRulesCore at <a href=\"file:///Users/ankurbhayana/.julia/packages/ChainRulesCore/RbX5a/src/tangent_arithmetic.jl\" target=\"_blank\">/Users/ankurbhayana/.julia/packages/ChainRulesCore/RbX5a/src/tangent_arithmetic.jl:25</a></li> <li> +(a::<b>ChainRulesCore.Tangent{P}</b>, b::<b>P</b>)<i> where P</i> in ChainRulesCore at <a href=\"file:///Users/ankurbhayana/.julia/packages/ChainRulesCore/RbX5a/src/tangent_arithmetic.jl\" target=\"_blank\">/Users/ankurbhayana/.julia/packages/ChainRulesCore/RbX5a/src/tangent_arithmetic.jl:146</a></li> <li> +(A::<b>SparseArrays.AbstractSparseMatrixCSC</b>, B::<b>SparseArrays.AbstractSparseMatrixCSC</b>) in SparseArrays at <a href=\"file:///Users/julia/buildbot/worker/package_macos64/build/usr/share/julia/stdlib/v1.7/SparseArrays/src/sparsematrix.jl\" target=\"_blank\">/Applications/Julia-1.7.app/Contents/Resources/julia/share/julia/stdlib/v1.7/SparseArrays/src/sparsematrix.jl:1771</a></li> <li> +(x::<b>SparseArrays.AbstractSparseVector</b>, y::<b>SparseArrays.AbstractSparseVector</b>) in SparseArrays at <a href=\"file:///Users/julia/buildbot/worker/package_macos64/build/usr/share/julia/stdlib/v1.7/SparseArrays/src/sparsevector.jl\" target=\"_blank\">/Applications/Julia-1.7.app/Contents/Resources/julia/share/julia/stdlib/v1.7/SparseArrays/src/sparsevector.jl:1355</a></li> <li> +(A::<b>SparseArrays.AbstractSparseMatrixCSC</b>, B::<b>Array</b>) in SparseArrays at <a href=\"file:///Users/julia/buildbot/worker/package_macos64/build/usr/share/julia/stdlib/v1.7/SparseArrays/src/sparsematrix.jl\" target=\"_blank\">/Applications/Julia-1.7.app/Contents/Resources/julia/share/julia/stdlib/v1.7/SparseArrays/src/sparsematrix.jl:1774</a></li> <li> +(A::<b>SparseArrays.AbstractSparseMatrixCSC</b>, J::<b>LinearAlgebra.UniformScaling</b>) in SparseArrays at <a href=\"file:///Users/julia/buildbot/worker/package_macos64/build/usr/share/julia/stdlib/v1.7/SparseArrays/src/sparsematrix.jl\" target=\"_blank\">/Applications/Julia-1.7.app/Contents/Resources/julia/share/julia/stdlib/v1.7/SparseArrays/src/sparsematrix.jl:3754</a></li> <li> +(r::<b>AbstractRange{<:Dates.TimeType}</b>, x::<b>Dates.Period</b>) in Dates at <a href=\"file:///Users/julia/buildbot/worker/package_macos64/build/usr/share/julia/stdlib/v1.7/Dates/src/ranges.jl\" target=\"_blank\">/Applications/Julia-1.7.app/Contents/Resources/julia/share/julia/stdlib/v1.7/Dates/src/ranges.jl:63</a></li> <li> +(y::<b>Dates.TimeType</b>, x::<b>StridedArray{<:Union{Dates.CompoundPeriod, Dates.Period}}</b>) in Dates at <a href=\"file:///Users/julia/buildbot/worker/package_macos64/build/usr/share/julia/stdlib/v1.7/Dates/src/deprecated.jl\" target=\"_blank\">/Applications/Julia-1.7.app/Contents/Resources/julia/share/julia/stdlib/v1.7/Dates/src/deprecated.jl:18</a></li> <li> +(A::<b>LinearAlgebra.UnitLowerTriangular</b>, B::<b>LinearAlgebra.LowerTriangular</b>) in LinearAlgebra at <a href=\"file:///Users/julia/buildbot/worker/package_macos64/build/usr/share/julia/stdlib/v1.7/LinearAlgebra/src/triangular.jl\" target=\"_blank\">/Applications/Julia-1.7.app/Contents/Resources/julia/share/julia/stdlib/v1.7/LinearAlgebra/src/triangular.jl:641</a></li> <li> +(A::<b>LinearAlgebra.UnitLowerTriangular</b>, B::<b>LinearAlgebra.UnitLowerTriangular</b>) in LinearAlgebra at <a href=\"file:///Users/julia/buildbot/worker/package_macos64/build/usr/share/julia/stdlib/v1.7/LinearAlgebra/src/triangular.jl\" target=\"_blank\">/Applications/Julia-1.7.app/Contents/Resources/julia/share/julia/stdlib/v1.7/LinearAlgebra/src/triangular.jl:643</a></li> <li> +(UL::<b>LinearAlgebra.UnitLowerTriangular</b>, J::<b>LinearAlgebra.UniformScaling</b>) in LinearAlgebra at <a href=\"file:///Users/julia/buildbot/worker/package_macos64/build/usr/share/julia/stdlib/v1.7/LinearAlgebra/src/uniformscaling.jl\" target=\"_blank\">/Applications/Julia-1.7.app/Contents/Resources/julia/share/julia/stdlib/v1.7/LinearAlgebra/src/uniformscaling.jl:182</a></li> <li> +(A::<b>LinearAlgebra.UnitLowerTriangular</b>, B::<b>LinearAlgebra.Bidiagonal</b>) in LinearAlgebra at <a href=\"file:///Users/julia/buildbot/worker/package_macos64/build/usr/share/julia/stdlib/v1.7/LinearAlgebra/src/special.jl\" target=\"_blank\">/Applications/Julia-1.7.app/Contents/Resources/julia/share/julia/stdlib/v1.7/LinearAlgebra/src/special.jl:86</a></li> <li> +(x::<b>GeometryBasics.OffsetInteger{O}</b>, y::<b>GeometryBasics.OffsetInteger{O}</b>)<i> where O</i> in GeometryBasics at <a href=\"file:///Users/ankurbhayana/.julia/packages/GeometryBasics/3PqdK/src/offsetintegers.jl\" target=\"_blank\">/Users/ankurbhayana/.julia/packages/GeometryBasics/3PqdK/src/offsetintegers.jl:63</a></li> <li> +(z::<b>Complex</b>, w::<b>Complex</b>) in Base at <a href=\"https://github.com/JuliaLang/julia/tree/bf534986350a991e4a1b29126de0342ffd76205e/base/complex.jl#L288\" target=\"_blank\">complex.jl:288</a></li> <li> +(x::<b>Ptr</b>, y::<b>Integer</b>) in Base at <a href=\"https://github.com/JuliaLang/julia/tree/bf534986350a991e4a1b29126de0342ffd76205e/base/pointer.jl#L159\" target=\"_blank\">pointer.jl:159</a></li> <li> +(x::<b>T</b>, y::<b>Integer</b>)<i> where T<:AbstractChar</i> in Base at <a href=\"https://github.com/JuliaLang/julia/tree/bf534986350a991e4a1b29126de0342ffd76205e/base/char.jl#L237\" target=\"_blank\">char.jl:237</a></li> <li> +(bb1::<b>Measures.BoundingBox</b>, bb2::<b>Measures.BoundingBox</b>) in Plots at <a href=\"file:///Users/ankurbhayana/.julia/packages/Plots/1KWPG/src/layouts.jl\" target=\"_blank\">/Users/ankurbhayana/.julia/packages/Plots/1KWPG/src/layouts.jl:19</a></li> <li> +(A::<b>LinearAlgebra.Symmetric</b>, B::<b>LinearAlgebra.Symmetric</b>) in LinearAlgebra at <a href=\"file:///Users/julia/buildbot/worker/package_macos64/build/usr/share/julia/stdlib/v1.7/LinearAlgebra/src/symmetric.jl\" target=\"_blank\">/Applications/Julia-1.7.app/Contents/Resources/julia/share/julia/stdlib/v1.7/LinearAlgebra/src/symmetric.jl:469</a></li> <li> +(A::<b>LinearAlgebra.Symmetric</b>, B::<b>LinearAlgebra.SymTridiagonal</b>) in LinearAlgebra at <a href=\"file:///Users/julia/buildbot/worker/package_macos64/build/usr/share/julia/stdlib/v1.7/LinearAlgebra/src/symmetric.jl\" target=\"_blank\">/Applications/Julia-1.7.app/Contents/Resources/julia/share/julia/stdlib/v1.7/LinearAlgebra/src/symmetric.jl:486</a></li> <li> +(S::<b>LinearAlgebra.Symmetric</b>, D::<b>LinearAlgebra.Diagonal</b>) in LinearAlgebra at <a href=\"file:///Users/julia/buildbot/worker/package_macos64/build/usr/share/julia/stdlib/v1.7/LinearAlgebra/src/diagonal.jl\" target=\"_blank\">/Applications/Julia-1.7.app/Contents/Resources/julia/share/julia/stdlib/v1.7/LinearAlgebra/src/diagonal.jl:179</a></li> <li> +(A::<b>LinearAlgebra.Symmetric{<:Any, <:SparseArrays.AbstractSparseMatrix}</b>, B::<b>SparseArrays.AbstractSparseMatrix</b>) in SparseArrays at <a href=\"file:///Users/julia/buildbot/worker/package_macos64/build/usr/share/julia/stdlib/v1.7/SparseArrays/src/linalg.jl\" target=\"_blank\">/Applications/Julia-1.7.app/Contents/Resources/julia/share/julia/stdlib/v1.7/SparseArrays/src/linalg.jl:15</a></li> <li> +(A::<b>LinearAlgebra.Symmetric</b>, B::<b>SparseArrays.AbstractSparseMatrix</b>) in SparseArrays at <a href=\"file:///Users/julia/buildbot/worker/package_macos64/build/usr/share/julia/stdlib/v1.7/SparseArrays/src/linalg.jl\" target=\"_blank\">/Applications/Julia-1.7.app/Contents/Resources/julia/share/julia/stdlib/v1.7/SparseArrays/src/linalg.jl:18</a></li> <li> +(A::<b>LinearAlgebra.Symmetric{<:Real, <:SparseArrays.AbstractSparseMatrix}</b>, B::<b>LinearAlgebra.Hermitian{<:Any, <:SparseArrays.AbstractSparseMatrix}</b>) in SparseArrays at <a href=\"file:///Users/julia/buildbot/worker/package_macos64/build/usr/share/julia/stdlib/v1.7/SparseArrays/src/linalg.jl\" target=\"_blank\">/Applications/Julia-1.7.app/Contents/Resources/julia/share/julia/stdlib/v1.7/SparseArrays/src/linalg.jl:25</a></li> <li> +(A::<b>LinearAlgebra.Symmetric{var\"#s858\", S} where {var\"#s858\"<:Real, S<:(AbstractMatrix{<:var\"#s858\"})}</b>, B::<b>LinearAlgebra.Hermitian</b>) in LinearAlgebra at <a href=\"file:///Users/julia/buildbot/worker/package_macos64/build/usr/share/julia/stdlib/v1.7/LinearAlgebra/src/symmetric.jl\" target=\"_blank\">/Applications/Julia-1.7.app/Contents/Resources/julia/share/julia/stdlib/v1.7/LinearAlgebra/src/symmetric.jl:484</a></li> <li> +(A::<b>LinearAlgebra.Symmetric{<:Any, <:SparseArrays.AbstractSparseMatrix}</b>, B::<b>LinearAlgebra.Hermitian{<:Any, <:SparseArrays.AbstractSparseMatrix}</b>) in SparseArrays at <a href=\"file:///Users/julia/buildbot/worker/package_macos64/build/usr/share/julia/stdlib/v1.7/SparseArrays/src/linalg.jl\" target=\"_blank\">/Applications/Julia-1.7.app/Contents/Resources/julia/share/julia/stdlib/v1.7/SparseArrays/src/linalg.jl:23</a></li> <li> +(A::<b>LinearAlgebra.Hermitian</b>, B::<b>LinearAlgebra.Hermitian</b>) in LinearAlgebra at <a href=\"file:///Users/julia/buildbot/worker/package_macos64/build/usr/share/julia/stdlib/v1.7/LinearAlgebra/src/symmetric.jl\" target=\"_blank\">/Applications/Julia-1.7.app/Contents/Resources/julia/share/julia/stdlib/v1.7/LinearAlgebra/src/symmetric.jl:469</a></li> <li> +(A::<b>LinearAlgebra.Hermitian</b>, B::<b>LinearAlgebra.SymTridiagonal{var\"#s856\", V} where {var\"#s856\"<:Real, V<:AbstractVector{var\"#s856\"}}</b>) in LinearAlgebra at <a href=\"file:///Users/julia/buildbot/worker/package_macos64/build/usr/share/julia/stdlib/v1.7/LinearAlgebra/src/symmetric.jl\" target=\"_blank\">/Applications/Julia-1.7.app/Contents/Resources/julia/share/julia/stdlib/v1.7/LinearAlgebra/src/symmetric.jl:488</a></li> <li> +(H::<b>LinearAlgebra.Hermitian</b>, D::<b>LinearAlgebra.Diagonal{var\"#s859\", V} where {var\"#s859\"<:Real, V<:AbstractVector{var\"#s859\"}}</b>) in LinearAlgebra at <a href=\"file:///Users/julia/buildbot/worker/package_macos64/build/usr/share/julia/stdlib/v1.7/LinearAlgebra/src/diagonal.jl\" target=\"_blank\">/Applications/Julia-1.7.app/Contents/Resources/julia/share/julia/stdlib/v1.7/LinearAlgebra/src/diagonal.jl:185</a></li> <li> +(A::<b>LinearAlgebra.Hermitian</b>, J::<b>LinearAlgebra.UniformScaling{<:Complex}</b>) in LinearAlgebra at <a href=\"file:///Users/julia/buildbot/worker/package_macos64/build/usr/share/julia/stdlib/v1.7/LinearAlgebra/src/uniformscaling.jl\" target=\"_blank\">/Applications/Julia-1.7.app/Contents/Resources/julia/share/julia/stdlib/v1.7/LinearAlgebra/src/uniformscaling.jl:196</a></li> <li> +(A::<b>LinearAlgebra.Hermitian{<:Any, <:SparseArrays.AbstractSparseMatrix}</b>, B::<b>SparseArrays.AbstractSparseMatrix</b>) in SparseArrays at <a href=\"file:///Users/julia/buildbot/worker/package_macos64/build/usr/share/julia/stdlib/v1.7/SparseArrays/src/linalg.jl\" target=\"_blank\">/Applications/Julia-1.7.app/Contents/Resources/julia/share/julia/stdlib/v1.7/SparseArrays/src/linalg.jl:15</a></li> <li> +(A::<b>LinearAlgebra.Hermitian</b>, B::<b>SparseArrays.AbstractSparseMatrix</b>) in SparseArrays at <a href=\"file:///Users/julia/buildbot/worker/package_macos64/build/usr/share/julia/stdlib/v1.7/SparseArrays/src/linalg.jl\" target=\"_blank\">/Applications/Julia-1.7.app/Contents/Resources/julia/share/julia/stdlib/v1.7/SparseArrays/src/linalg.jl:18</a></li> <li> +(A::<b>LinearAlgebra.Hermitian{<:Any, <:SparseArrays.AbstractSparseMatrix}</b>, B::<b>LinearAlgebra.Symmetric{<:Real, <:SparseArrays.AbstractSparseMatrix}</b>) in SparseArrays at <a href=\"file:///Users/julia/buildbot/worker/package_macos64/build/usr/share/julia/stdlib/v1.7/SparseArrays/src/linalg.jl\" target=\"_blank\">/Applications/Julia-1.7.app/Contents/Resources/julia/share/julia/stdlib/v1.7/SparseArrays/src/linalg.jl:26</a></li> <li> +(A::<b>LinearAlgebra.Hermitian</b>, B::<b>LinearAlgebra.Symmetric{var\"#s859\", S} where {var\"#s859\"<:Real, S<:(AbstractMatrix{<:var\"#s859\"})}</b>) in LinearAlgebra at <a href=\"file:///Users/julia/buildbot/worker/package_macos64/build/usr/share/julia/stdlib/v1.7/LinearAlgebra/src/symmetric.jl\" target=\"_blank\">/Applications/Julia-1.7.app/Contents/Resources/julia/share/julia/stdlib/v1.7/LinearAlgebra/src/symmetric.jl:483</a></li> <li> +(A::<b>LinearAlgebra.Hermitian{<:Any, <:SparseArrays.AbstractSparseMatrix}</b>, B::<b>LinearAlgebra.Symmetric{<:Any, <:SparseArrays.AbstractSparseMatrix}</b>) in SparseArrays at <a href=\"file:///Users/julia/buildbot/worker/package_macos64/build/usr/share/julia/stdlib/v1.7/SparseArrays/src/linalg.jl\" target=\"_blank\">/Applications/Julia-1.7.app/Contents/Resources/julia/share/julia/stdlib/v1.7/SparseArrays/src/linalg.jl:24</a></li> <li> +(A::<b>Array</b>, Bs::<b>Array...</b>) in Base at <a href=\"https://github.com/JuliaLang/julia/tree/bf534986350a991e4a1b29126de0342ffd76205e/base/arraymath.jl#L43\" target=\"_blank\">arraymath.jl:43</a></li> <li> +(X::<b>StridedArray{<:Union{Dates.CompoundPeriod, Dates.Period}}</b>, Y::<b>StridedArray{<:Union{Dates.CompoundPeriod, Dates.Period}}</b>) in Dates at <a href=\"file:///Users/julia/buildbot/worker/package_macos64/build/usr/share/julia/stdlib/v1.7/Dates/src/deprecated.jl\" target=\"_blank\">/Applications/Julia-1.7.app/Contents/Resources/julia/share/julia/stdlib/v1.7/Dates/src/deprecated.jl:62</a></li> <li> +(A::<b>Array</b>, B::<b>SparseArrays.AbstractSparseMatrixCSC</b>) in SparseArrays at <a href=\"file:///Users/julia/buildbot/worker/package_macos64/build/usr/share/julia/stdlib/v1.7/SparseArrays/src/sparsematrix.jl\" target=\"_blank\">/Applications/Julia-1.7.app/Contents/Resources/julia/share/julia/stdlib/v1.7/SparseArrays/src/sparsematrix.jl:1775</a></li> <li> +(x::<b>StridedArray{<:Union{Dates.CompoundPeriod, Dates.Period}}</b>) in Dates at <a href=\"file:///Users/julia/buildbot/worker/package_macos64/build/usr/share/julia/stdlib/v1.7/Dates/src/deprecated.jl\" target=\"_blank\">/Applications/Julia-1.7.app/Contents/Resources/julia/share/julia/stdlib/v1.7/Dates/src/deprecated.jl:55</a></li> <li> +(x::<b>StridedArray{<:Union{Dates.CompoundPeriod, Dates.Period}}</b>, y::<b>Dates.TimeType</b>) in Dates at <a href=\"file:///Users/julia/buildbot/worker/package_macos64/build/usr/share/julia/stdlib/v1.7/Dates/src/deprecated.jl\" target=\"_blank\">/Applications/Julia-1.7.app/Contents/Resources/julia/share/julia/stdlib/v1.7/Dates/src/deprecated.jl:10</a></li> <li> +(A::<b>LinearAlgebra.LowerTriangular</b>, B::<b>LinearAlgebra.LowerTriangular</b>) in LinearAlgebra at <a href=\"file:///Users/julia/buildbot/worker/package_macos64/build/usr/share/julia/stdlib/v1.7/LinearAlgebra/src/triangular.jl\" target=\"_blank\">/Applications/Julia-1.7.app/Contents/Resources/julia/share/julia/stdlib/v1.7/LinearAlgebra/src/triangular.jl:637</a></li> <li> +(A::<b>LinearAlgebra.LowerTriangular</b>, B::<b>LinearAlgebra.UnitLowerTriangular</b>) in LinearAlgebra at <a href=\"file:///Users/julia/buildbot/worker/package_macos64/build/usr/share/julia/stdlib/v1.7/LinearAlgebra/src/triangular.jl\" target=\"_blank\">/Applications/Julia-1.7.app/Contents/Resources/julia/share/julia/stdlib/v1.7/LinearAlgebra/src/triangular.jl:639</a></li> <li> +(A::<b>LinearAlgebra.LowerTriangular</b>, B::<b>LinearAlgebra.Bidiagonal</b>) in LinearAlgebra at <a href=\"file:///Users/julia/buildbot/worker/package_macos64/build/usr/share/julia/stdlib/v1.7/LinearAlgebra/src/special.jl\" target=\"_blank\">/Applications/Julia-1.7.app/Contents/Resources/julia/share/julia/stdlib/v1.7/LinearAlgebra/src/special.jl:86</a></li> <li> +(A::<b>LinearAlgebra.UpperTriangular</b>, B::<b>LinearAlgebra.UpperTriangular</b>) in LinearAlgebra at <a href=\"file:///Users/julia/buildbot/worker/package_macos64/build/usr/share/julia/stdlib/v1.7/LinearAlgebra/src/triangular.jl\" target=\"_blank\">/Applications/Julia-1.7.app/Contents/Resources/julia/share/julia/stdlib/v1.7/LinearAlgebra/src/triangular.jl:636</a></li> <li> +(A::<b>LinearAlgebra.UpperTriangular</b>, B::<b>LinearAlgebra.UnitUpperTriangular</b>) in LinearAlgebra at <a href=\"file:///Users/julia/buildbot/worker/package_macos64/build/usr/share/julia/stdlib/v1.7/LinearAlgebra/src/triangular.jl\" target=\"_blank\">/Applications/Julia-1.7.app/Contents/Resources/julia/share/julia/stdlib/v1.7/LinearAlgebra/src/triangular.jl:638</a></li> <li> +(A::<b>LinearAlgebra.AbstractTriangular</b>, B::<b>LinearAlgebra.AbstractTriangular</b>) in LinearAlgebra at <a href=\"file:///Users/julia/buildbot/worker/package_macos64/build/usr/share/julia/stdlib/v1.7/LinearAlgebra/src/triangular.jl\" target=\"_blank\">/Applications/Julia-1.7.app/Contents/Resources/julia/share/julia/stdlib/v1.7/LinearAlgebra/src/triangular.jl:644</a></li> <li> +(x::<b>LinearAlgebra.UpperTriangular</b>, H::<b>LinearAlgebra.UpperHessenberg</b>) in LinearAlgebra at <a href=\"file:///Users/julia/buildbot/worker/package_macos64/build/usr/share/julia/stdlib/v1.7/LinearAlgebra/src/hessenberg.jl\" target=\"_blank\">/Applications/Julia-1.7.app/Contents/Resources/julia/share/julia/stdlib/v1.7/LinearAlgebra/src/hessenberg.jl:107</a></li> <li> +(A::<b>LinearAlgebra.UpperTriangular</b>, B::<b>LinearAlgebra.Bidiagonal</b>) in LinearAlgebra at <a href=\"file:///Users/julia/buildbot/worker/package_macos64/build/usr/share/julia/stdlib/v1.7/LinearAlgebra/src/special.jl\" target=\"_blank\">/Applications/Julia-1.7.app/Contents/Resources/julia/share/julia/stdlib/v1.7/LinearAlgebra/src/special.jl:86</a></li> <li> +(x::<b>Base.TwicePrecision</b>, y::<b>Number</b>) in Base at <a href=\"https://github.com/JuliaLang/julia/tree/bf534986350a991e4a1b29126de0342ffd76205e/base/twiceprecision.jl#L279\" target=\"_blank\">twiceprecision.jl:279</a></li> <li> +(x::<b>Base.TwicePrecision{T}</b>, y::<b>Base.TwicePrecision{T}</b>)<i> where T</i> in Base at <a href=\"https://github.com/JuliaLang/julia/tree/bf534986350a991e4a1b29126de0342ffd76205e/base/twiceprecision.jl#L285\" target=\"_blank\">twiceprecision.jl:285</a></li> <li> +(x::<b>Base.TwicePrecision</b>, y::<b>Base.TwicePrecision</b>) in Base at <a href=\"https://github.com/JuliaLang/julia/tree/bf534986350a991e4a1b29126de0342ffd76205e/base/twiceprecision.jl#L290\" target=\"_blank\">twiceprecision.jl:290</a></li> <li> +(r1::<b>StepRangeLen{T, R}</b>, r2::<b>StepRangeLen{T, R}</b>)<i> where {R<:Base.TwicePrecision, T}</i> in Base at <a href=\"https://github.com/JuliaLang/julia/tree/bf534986350a991e4a1b29126de0342ffd76205e/base/twiceprecision.jl#L613\" target=\"_blank\">twiceprecision.jl:613</a></li> <li> +(r1::<b>StepRangeLen{T, S}</b>, r2::<b>StepRangeLen{T, S}</b>)<i> where {T, S}</i> in Base at <a href=\"https://github.com/JuliaLang/julia/tree/bf534986350a991e4a1b29126de0342ffd76205e/base/range.jl#L1370\" target=\"_blank\">range.jl:1370</a></li> <li> +(h::<b>GeometryBasics.HyperRectangle{N, T}</b>, move::<b>StaticArrays.StaticVector{N}</b>)<i> where {N, T}</i> in GeometryBasics at <a href=\"file:///Users/ankurbhayana/.julia/packages/GeometryBasics/3PqdK/src/primitives/rectangles.jl\" target=\"_blank\">/Users/ankurbhayana/.julia/packages/GeometryBasics/3PqdK/src/primitives/rectangles.jl:273</a></li> <li> +(h::<b>GeometryBasics.HyperRectangle{N, T}</b>, move::<b>Number</b>)<i> where {N, T}</i> in GeometryBasics at <a href=\"file:///Users/ankurbhayana/.julia/packages/GeometryBasics/3PqdK/src/primitives/rectangles.jl\" target=\"_blank\">/Users/ankurbhayana/.julia/packages/GeometryBasics/3PqdK/src/primitives/rectangles.jl:267</a></li> <li> +(a::<b>StaticArrays.StaticMatrix</b>, b::<b>LinearAlgebra.UniformScaling</b>) in StaticArrays at <a href=\"file:///Users/ankurbhayana/.julia/packages/StaticArrays/58yy1/src/linalg.jl\" target=\"_blank\">/Users/ankurbhayana/.julia/packages/StaticArrays/58yy1/src/linalg.jl:29</a></li> <li> +(a::<b>StaticArrays.StaticArray</b>) in StaticArrays at <a href=\"file:///Users/ankurbhayana/.julia/packages/StaticArrays/58yy1/src/linalg.jl\" target=\"_blank\">/Users/ankurbhayana/.julia/packages/StaticArrays/58yy1/src/linalg.jl:7</a></li> <li> +(x::<b>AbstractArray{<:Dates.TimeType}</b>, y::<b>Union{Dates.CompoundPeriod, Dates.Period}</b>) in Dates at <a href=\"file:///Users/julia/buildbot/worker/package_macos64/build/usr/share/julia/stdlib/v1.7/Dates/src/deprecated.jl\" target=\"_blank\">/Applications/Julia-1.7.app/Contents/Resources/julia/share/julia/stdlib/v1.7/Dates/src/deprecated.jl:6</a></li> <li> +(a::<b>StaticArrays.StaticArray</b>, b::<b>StaticArrays.StaticArray</b>) in StaticArrays at <a href=\"file:///Users/ankurbhayana/.julia/packages/StaticArrays/58yy1/src/linalg.jl\" target=\"_blank\">/Users/ankurbhayana/.julia/packages/StaticArrays/58yy1/src/linalg.jl:12</a></li> <li> +(a::<b>AbstractArray</b>, b::<b>StaticArrays.StaticArray</b>) in StaticArrays at <a href=\"file:///Users/ankurbhayana/.julia/packages/StaticArrays/58yy1/src/linalg.jl\" target=\"_blank\">/Users/ankurbhayana/.julia/packages/StaticArrays/58yy1/src/linalg.jl:13</a></li> <li> +(a::<b>StaticArrays.StaticArray</b>, b::<b>AbstractArray</b>) in StaticArrays at <a href=\"file:///Users/ankurbhayana/.julia/packages/StaticArrays/58yy1/src/linalg.jl\" target=\"_blank\">/Users/ankurbhayana/.julia/packages/StaticArrays/58yy1/src/linalg.jl:14</a></li> <li> +(x::<b>Dates.Instant</b>) in Dates at <a href=\"file:///Users/julia/buildbot/worker/package_macos64/build/usr/share/julia/stdlib/v1.7/Dates/src/arithmetic.jl\" target=\"_blank\">/Applications/Julia-1.7.app/Contents/Resources/julia/share/julia/stdlib/v1.7/Dates/src/arithmetic.jl:4</a></li> <li> +(x::<b>AbstractIrrational</b>, y::<b>AbstractIrrational</b>) in Base at <a href=\"https://github.com/JuliaLang/julia/tree/bf534986350a991e4a1b29126de0342ffd76205e/base/irrationals.jl#L158\" target=\"_blank\">irrationals.jl:158</a></li> <li> +(x::<b>Rational</b>, y::<b>Integer</b>) in Base at <a href=\"https://github.com/JuliaLang/julia/tree/bf534986350a991e4a1b29126de0342ffd76205e/base/rational.jl#L311\" target=\"_blank\">rational.jl:311</a></li> <li> +(a::<b>AbstractRGB</b>, b::<b>AbstractRGB</b>) in ColorVectorSpace at <a href=\"file:///Users/ankurbhayana/.julia/packages/ColorVectorSpace/CPykb/src/ColorVectorSpace.jl\" target=\"_blank\">/Users/ankurbhayana/.julia/packages/ColorVectorSpace/CPykb/src/ColorVectorSpace.jl:271</a></li> <li> +(a::<b>AbstractGray{Bool}</b>, b::<b>AbstractGray{Bool}</b>) in ColorVectorSpace at <a href=\"file:///Users/ankurbhayana/.julia/packages/ColorVectorSpace/CPykb/src/ColorVectorSpace.jl\" target=\"_blank\">/Users/ankurbhayana/.julia/packages/ColorVectorSpace/CPykb/src/ColorVectorSpace.jl:321</a></li> <li> +(c::<b>Union{TransparentColor{C, T}, C} where {T, C<:Union{AbstractRGB{T}, AbstractGray{T}}}</b>) in ColorVectorSpace at <a href=\"file:///Users/ankurbhayana/.julia/packages/ColorVectorSpace/CPykb/src/ColorVectorSpace.jl\" target=\"_blank\">/Users/ankurbhayana/.julia/packages/ColorVectorSpace/CPykb/src/ColorVectorSpace.jl:248</a></li> <li> +(a::<b>AbstractGray</b>, b::<b>AbstractGray</b>) in ColorVectorSpace at <a href=\"file:///Users/ankurbhayana/.julia/packages/ColorVectorSpace/CPykb/src/ColorVectorSpace.jl\" target=\"_blank\">/Users/ankurbhayana/.julia/packages/ColorVectorSpace/CPykb/src/ColorVectorSpace.jl:320</a></li> <li> +(a::<b>Union{TransparentColor{C, T}, C} where {T, C<:Union{AbstractRGB{T}, AbstractGray{T}}}</b>, b::<b>Union{TransparentColor{C, T}, C} where {T, C<:Union{AbstractRGB{T}, AbstractGray{T}}}</b>) in ColorVectorSpace at <a href=\"file:///Users/ankurbhayana/.julia/packages/ColorVectorSpace/CPykb/src/ColorVectorSpace.jl\" target=\"_blank\">/Users/ankurbhayana/.julia/packages/ColorVectorSpace/CPykb/src/ColorVectorSpace.jl:259</a></li> <li> +(a::<b>Dict</b>, d::<b>ChainRulesCore.Tangent{P}</b>)<i> where P</i> in ChainRulesCore at <a href=\"file:///Users/ankurbhayana/.julia/packages/ChainRulesCore/RbX5a/src/tangent_arithmetic.jl\" target=\"_blank\">/Users/ankurbhayana/.julia/packages/ChainRulesCore/RbX5a/src/tangent_arithmetic.jl:145</a></li> <li> +(F::<b>LinearAlgebra.Hessenberg</b>, J::<b>LinearAlgebra.UniformScaling</b>) in LinearAlgebra at <a href=\"file:///Users/julia/buildbot/worker/package_macos64/build/usr/share/julia/stdlib/v1.7/LinearAlgebra/src/hessenberg.jl\" target=\"_blank\">/Applications/Julia-1.7.app/Contents/Resources/julia/share/julia/stdlib/v1.7/LinearAlgebra/src/hessenberg.jl:640</a></li> <li> +(a::<b>Measures.Length{U}</b>, b::<b>Measures.Length{U}</b>)<i> where U</i> in Measures at <a href=\"file:///Users/ankurbhayana/.julia/packages/Measures/0Zkai/src/length.jl\" target=\"_blank\">/Users/ankurbhayana/.julia/packages/Measures/0Zkai/src/length.jl:28</a></li> <li> +(a::<b>Measures.Measure</b>, b::<b>Measures.Measure</b>) in Measures at <a href=\"file:///Users/ankurbhayana/.julia/packages/Measures/0Zkai/src/operations.jl\" target=\"_blank\">/Users/ankurbhayana/.julia/packages/Measures/0Zkai/src/operations.jl:41</a></li> <li> +(a::<b>Tuple{Vararg{Measures.Measure, N}}</b>, b::<b>Tuple{Vararg{Measures.Measure, N}}</b>)<i> where N</i> in Measures at <a href=\"file:///Users/ankurbhayana/.julia/packages/Measures/0Zkai/src/point.jl\" target=\"_blank\">/Users/ankurbhayana/.julia/packages/Measures/0Zkai/src/point.jl:21</a></li> <li> +(a::<b>Tuple{Vararg{Measures.Measure, N}} where N</b>, b::<b>Tuple{Vararg{Measures.Measure, N}} where N</b>) in Measures at <a href=\"file:///Users/ankurbhayana/.julia/packages/Measures/0Zkai/src/point.jl\" target=\"_blank\">/Users/ankurbhayana/.julia/packages/Measures/0Zkai/src/point.jl:15</a></li> <li> +(y::<b>AbstractFloat</b>, x::<b>Bool</b>) in Base at <a href=\"https://github.com/JuliaLang/julia/tree/bf534986350a991e4a1b29126de0342ffd76205e/base/bool.jl#L172\" target=\"_blank\">bool.jl:172</a></li> <li> +(p::<b>SpecialFunctions.SimplePoly{S}</b>, q::<b>SpecialFunctions.SimplePoly{T}</b>)<i> where {S, T}</i> in SpecialFunctions at <a href=\"file:///Users/ankurbhayana/.julia/packages/SpecialFunctions/PAbhC/src/expint.jl\" target=\"_blank\">/Users/ankurbhayana/.julia/packages/SpecialFunctions/PAbhC/src/expint.jl:11</a></li> <li> +(x::<b>X</b>, y::<b>X</b>)<i> where X<:FixedPointNumbers.FixedPoint</i> in FixedPointNumbers at <a href=\"file:///Users/ankurbhayana/.julia/packages/FixedPointNumbers/HAGk2/src/FixedPointNumbers.jl\" target=\"_blank\">/Users/ankurbhayana/.julia/packages/FixedPointNumbers/HAGk2/src/FixedPointNumbers.jl:237</a></li> <li> +(A::<b>LinearAlgebra.UpperHessenberg</b>, B::<b>LinearAlgebra.UpperHessenberg</b>) in LinearAlgebra at <a href=\"file:///Users/julia/buildbot/worker/package_macos64/build/usr/share/julia/stdlib/v1.7/LinearAlgebra/src/hessenberg.jl\" target=\"_blank\">/Applications/Julia-1.7.app/Contents/Resources/julia/share/julia/stdlib/v1.7/LinearAlgebra/src/hessenberg.jl:99</a></li> <li> +(H::<b>LinearAlgebra.UpperHessenberg</b>, x::<b>LinearAlgebra.UniformScaling</b>) in LinearAlgebra at <a href=\"file:///Users/julia/buildbot/worker/package_macos64/build/usr/share/julia/stdlib/v1.7/LinearAlgebra/src/hessenberg.jl\" target=\"_blank\">/Applications/Julia-1.7.app/Contents/Resources/julia/share/julia/stdlib/v1.7/LinearAlgebra/src/hessenberg.jl:106</a></li> <li> +(H::<b>LinearAlgebra.UpperHessenberg</b>, x::<b>LinearAlgebra.Diagonal</b>) in LinearAlgebra at <a href=\"file:///Users/julia/buildbot/worker/package_macos64/build/usr/share/julia/stdlib/v1.7/LinearAlgebra/src/hessenberg.jl\" target=\"_blank\">/Applications/Julia-1.7.app/Contents/Resources/julia/share/julia/stdlib/v1.7/LinearAlgebra/src/hessenberg.jl:106</a></li> <li> +(H::<b>LinearAlgebra.UpperHessenberg</b>, x::<b>LinearAlgebra.Bidiagonal</b>) in LinearAlgebra at <a href=\"file:///Users/julia/buildbot/worker/package_macos64/build/usr/share/julia/stdlib/v1.7/LinearAlgebra/src/hessenberg.jl\" target=\"_blank\">/Applications/Julia-1.7.app/Contents/Resources/julia/share/julia/stdlib/v1.7/LinearAlgebra/src/hessenberg.jl:106</a></li> <li> +(H::<b>LinearAlgebra.UpperHessenberg</b>, x::<b>LinearAlgebra.Tridiagonal</b>) in LinearAlgebra at <a href=\"file:///Users/julia/buildbot/worker/package_macos64/build/usr/share/julia/stdlib/v1.7/LinearAlgebra/src/hessenberg.jl\" target=\"_blank\">/Applications/Julia-1.7.app/Contents/Resources/julia/share/julia/stdlib/v1.7/LinearAlgebra/src/hessenberg.jl:106</a></li> <li> +(H::<b>LinearAlgebra.UpperHessenberg</b>, x::<b>LinearAlgebra.SymTridiagonal</b>) in LinearAlgebra at <a href=\"file:///Users/julia/buildbot/worker/package_macos64/build/usr/share/julia/stdlib/v1.7/LinearAlgebra/src/hessenberg.jl\" target=\"_blank\">/Applications/Julia-1.7.app/Contents/Resources/julia/share/julia/stdlib/v1.7/LinearAlgebra/src/hessenberg.jl:106</a></li> <li> +(H::<b>LinearAlgebra.UpperHessenberg</b>, x::<b>LinearAlgebra.UpperTriangular</b>) in LinearAlgebra at <a href=\"file:///Users/julia/buildbot/worker/package_macos64/build/usr/share/julia/stdlib/v1.7/LinearAlgebra/src/hessenberg.jl\" target=\"_blank\">/Applications/Julia-1.7.app/Contents/Resources/julia/share/julia/stdlib/v1.7/LinearAlgebra/src/hessenberg.jl:106</a></li> <li> +(H::<b>LinearAlgebra.UpperHessenberg</b>, x::<b>LinearAlgebra.UnitUpperTriangular</b>) in LinearAlgebra at <a href=\"file:///Users/julia/buildbot/worker/package_macos64/build/usr/share/julia/stdlib/v1.7/LinearAlgebra/src/hessenberg.jl\" target=\"_blank\">/Applications/Julia-1.7.app/Contents/Resources/julia/share/julia/stdlib/v1.7/LinearAlgebra/src/hessenberg.jl:106</a></li> <li> +(a::<b>ColorVectorSpace.RGBRGB</b>) in ColorVectorSpace at <a href=\"file:///Users/ankurbhayana/.julia/packages/ColorVectorSpace/CPykb/src/ColorVectorSpace.jl\" target=\"_blank\">/Users/ankurbhayana/.julia/packages/ColorVectorSpace/CPykb/src/ColorVectorSpace.jl:421</a></li> <li> +(a::<b>ColorVectorSpace.RGBRGB</b>, b::<b>ColorVectorSpace.RGBRGB</b>) in ColorVectorSpace at <a href=\"file:///Users/ankurbhayana/.julia/packages/ColorVectorSpace/CPykb/src/ColorVectorSpace.jl\" target=\"_blank\">/Users/ankurbhayana/.julia/packages/ColorVectorSpace/CPykb/src/ColorVectorSpace.jl:423</a></li> <li> +(a::<b>ChainRulesCore.AbstractThunk</b>, b::<b>ChainRulesCore.Tangent</b>) in ChainRulesCore at <a href=\"file:///Users/ankurbhayana/.julia/packages/ChainRulesCore/RbX5a/src/tangent_arithmetic.jl\" target=\"_blank\">/Users/ankurbhayana/.julia/packages/ChainRulesCore/RbX5a/src/tangent_arithmetic.jl:122</a></li> <li> +(a::<b>ChainRulesCore.AbstractThunk</b>, b::<b>ChainRulesCore.AbstractThunk</b>) in ChainRulesCore at <a href=\"file:///Users/ankurbhayana/.julia/packages/ChainRulesCore/RbX5a/src/tangent_arithmetic.jl\" target=\"_blank\">/Users/ankurbhayana/.julia/packages/ChainRulesCore/RbX5a/src/tangent_arithmetic.jl:119</a></li> <li> +(a::<b>ChainRulesCore.AbstractThunk</b>, ::<b>ChainRulesCore.ZeroTangent</b>) in ChainRulesCore at <a href=\"file:///Users/ankurbhayana/.julia/packages/ChainRulesCore/RbX5a/src/tangent_arithmetic.jl\" target=\"_blank\">/Users/ankurbhayana/.julia/packages/ChainRulesCore/RbX5a/src/tangent_arithmetic.jl:100</a></li> <li> +(a::<b>ChainRulesCore.AbstractThunk</b>, ::<b>ChainRulesCore.NoTangent</b>) in ChainRulesCore at <a href=\"file:///Users/ankurbhayana/.julia/packages/ChainRulesCore/RbX5a/src/tangent_arithmetic.jl\" target=\"_blank\">/Users/ankurbhayana/.julia/packages/ChainRulesCore/RbX5a/src/tangent_arithmetic.jl:60</a></li> <li> +(::<b>ChainRulesCore.AbstractThunk</b>, x::<b>ChainRulesCore.NotImplemented</b>) in ChainRulesCore at <a href=\"file:///Users/ankurbhayana/.julia/packages/ChainRulesCore/RbX5a/src/tangent_arithmetic.jl\" target=\"_blank\">/Users/ankurbhayana/.julia/packages/ChainRulesCore/RbX5a/src/tangent_arithmetic.jl:25</a></li> <li> +(a::<b>ChainRulesCore.AbstractThunk</b>, b) in ChainRulesCore at <a href=\"file:///Users/ankurbhayana/.julia/packages/ChainRulesCore/RbX5a/src/tangent_arithmetic.jl\" target=\"_blank\">/Users/ankurbhayana/.julia/packages/ChainRulesCore/RbX5a/src/tangent_arithmetic.jl:122</a></li> <li> +(A::<b>LinearAlgebra.Tridiagonal</b>, B::<b>LinearAlgebra.Tridiagonal</b>) in LinearAlgebra at <a href=\"file:///Users/julia/buildbot/worker/package_macos64/build/usr/share/julia/stdlib/v1.7/LinearAlgebra/src/tridiag.jl\" target=\"_blank\">/Applications/Julia-1.7.app/Contents/Resources/julia/share/julia/stdlib/v1.7/LinearAlgebra/src/tridiag.jl:740</a></li> <li> +(x::<b>LinearAlgebra.Tridiagonal</b>, H::<b>LinearAlgebra.UpperHessenberg</b>) in LinearAlgebra at <a href=\"file:///Users/julia/buildbot/worker/package_macos64/build/usr/share/julia/stdlib/v1.7/LinearAlgebra/src/hessenberg.jl\" target=\"_blank\">/Applications/Julia-1.7.app/Contents/Resources/julia/share/julia/stdlib/v1.7/LinearAlgebra/src/hessenberg.jl:107</a></li> <li> +(A::<b>LinearAlgebra.Tridiagonal</b>, B::<b>LinearAlgebra.SymTridiagonal</b>) in LinearAlgebra at <a href=\"file:///Users/julia/buildbot/worker/package_macos64/build/usr/share/julia/stdlib/v1.7/LinearAlgebra/src/special.jl\" target=\"_blank\">/Applications/Julia-1.7.app/Contents/Resources/julia/share/julia/stdlib/v1.7/LinearAlgebra/src/special.jl:157</a></li> <li> +(A::<b>LinearAlgebra.Tridiagonal</b>, B::<b>LinearAlgebra.Diagonal</b>) in LinearAlgebra at <a href=\"file:///Users/julia/buildbot/worker/package_macos64/build/usr/share/julia/stdlib/v1.7/LinearAlgebra/src/special.jl\" target=\"_blank\">/Applications/Julia-1.7.app/Contents/Resources/julia/share/julia/stdlib/v1.7/LinearAlgebra/src/special.jl:173</a></li> <li> +(A::<b>LinearAlgebra.Tridiagonal</b>, B::<b>LinearAlgebra.Bidiagonal</b>) in LinearAlgebra at <a href=\"file:///Users/julia/buildbot/worker/package_macos64/build/usr/share/julia/stdlib/v1.7/LinearAlgebra/src/special.jl\" target=\"_blank\">/Applications/Julia-1.7.app/Contents/Resources/julia/share/julia/stdlib/v1.7/LinearAlgebra/src/special.jl:193</a></li> <li> +(A::<b>LinearAlgebra.Tridiagonal{var\"#s859\", V} where {var\"#s859\"<:Number, V<:AbstractVector{var\"#s859\"}}</b>, B::<b>LinearAlgebra.UniformScaling</b>) in LinearAlgebra at <a href=\"file:///Users/julia/buildbot/worker/package_macos64/build/usr/share/julia/stdlib/v1.7/LinearAlgebra/src/special.jl\" target=\"_blank\">/Applications/Julia-1.7.app/Contents/Resources/julia/share/julia/stdlib/v1.7/LinearAlgebra/src/special.jl:226</a></li> <li> +(A::<b>BitArray</b>, B::<b>BitArray</b>) in Base at <a href=\"https://github.com/JuliaLang/julia/tree/bf534986350a991e4a1b29126de0342ffd76205e/base/bitarray.jl#L1180\" target=\"_blank\">bitarray.jl:1180</a></li> <li> +(r1::<b>OrdinalRange</b>, r2::<b>OrdinalRange</b>) in Base at <a href=\"https://github.com/JuliaLang/julia/tree/bf534986350a991e4a1b29126de0342ffd76205e/base/range.jl#L1347\" target=\"_blank\">range.jl:1347</a></li> <li> +(r1::<b>Union{LinRange, OrdinalRange, StepRangeLen}</b>, r2::<b>Union{LinRange, OrdinalRange, StepRangeLen}</b>) in Base at <a href=\"https://github.com/JuliaLang/julia/tree/bf534986350a991e4a1b29126de0342ffd76205e/base/range.jl#L1363\" target=\"_blank\">range.jl:1363</a></li> <li> +(A::<b>AbstractArray</b>, B::<b>AbstractArray</b>) in Base at <a href=\"https://github.com/JuliaLang/julia/tree/bf534986350a991e4a1b29126de0342ffd76205e/base/arraymath.jl#L37\" target=\"_blank\">arraymath.jl:37</a></li> <li> +(index1::<b>CartesianIndex{N}</b>, index2::<b>CartesianIndex{N}</b>)<i> where N</i> in Base.IteratorsMD at <a href=\"https://github.com/JuliaLang/julia/tree/bf534986350a991e4a1b29126de0342ffd76205e/base/multidimensional.jl#L114\" target=\"_blank\">multidimensional.jl:114</a></li> <li> +(J::<b>LinearAlgebra.UniformScaling</b>) in LinearAlgebra at <a href=\"file:///Users/julia/buildbot/worker/package_macos64/build/usr/share/julia/stdlib/v1.7/LinearAlgebra/src/uniformscaling.jl\" target=\"_blank\">/Applications/Julia-1.7.app/Contents/Resources/julia/share/julia/stdlib/v1.7/LinearAlgebra/src/uniformscaling.jl:150</a></li> <li> +(J::<b>LinearAlgebra.UniformScaling</b>, x::<b>Number</b>) in LinearAlgebra at <a href=\"file:///Users/julia/buildbot/worker/package_macos64/build/usr/share/julia/stdlib/v1.7/LinearAlgebra/src/uniformscaling.jl\" target=\"_blank\">/Applications/Julia-1.7.app/Contents/Resources/julia/share/julia/stdlib/v1.7/LinearAlgebra/src/uniformscaling.jl:145</a></li> <li> +(J1::<b>LinearAlgebra.UniformScaling</b>, J2::<b>LinearAlgebra.UniformScaling</b>) in LinearAlgebra at <a href=\"file:///Users/julia/buildbot/worker/package_macos64/build/usr/share/julia/stdlib/v1.7/LinearAlgebra/src/uniformscaling.jl\" target=\"_blank\">/Applications/Julia-1.7.app/Contents/Resources/julia/share/julia/stdlib/v1.7/LinearAlgebra/src/uniformscaling.jl:151</a></li> <li> +(J::<b>LinearAlgebra.UniformScaling</b>, B::<b>BitMatrix</b>) in LinearAlgebra at <a href=\"file:///Users/julia/buildbot/worker/package_macos64/build/usr/share/julia/stdlib/v1.7/LinearAlgebra/src/uniformscaling.jl\" target=\"_blank\">/Applications/Julia-1.7.app/Contents/Resources/julia/share/julia/stdlib/v1.7/LinearAlgebra/src/uniformscaling.jl:153</a></li> <li> +(x::<b>LinearAlgebra.UniformScaling</b>, H::<b>LinearAlgebra.UpperHessenberg</b>) in LinearAlgebra at <a href=\"file:///Users/julia/buildbot/worker/package_macos64/build/usr/share/julia/stdlib/v1.7/LinearAlgebra/src/hessenberg.jl\" target=\"_blank\">/Applications/Julia-1.7.app/Contents/Resources/julia/share/julia/stdlib/v1.7/LinearAlgebra/src/hessenberg.jl:107</a></li> <li> +(J::<b>LinearAlgebra.UniformScaling</b>, F::<b>LinearAlgebra.Hessenberg</b>) in LinearAlgebra at <a href=\"file:///Users/julia/buildbot/worker/package_macos64/build/usr/share/julia/stdlib/v1.7/LinearAlgebra/src/hessenberg.jl\" target=\"_blank\">/Applications/Julia-1.7.app/Contents/Resources/julia/share/julia/stdlib/v1.7/LinearAlgebra/src/hessenberg.jl:641</a></li> <li> +(A::<b>LinearAlgebra.UniformScaling</b>, B::<b>LinearAlgebra.Tridiagonal{var\"#s859\", V} where {var\"#s859\"<:Number, V<:AbstractVector{var\"#s859\"}}</b>) in LinearAlgebra at <a href=\"file:///Users/julia/buildbot/worker/package_macos64/build/usr/share/julia/stdlib/v1.7/LinearAlgebra/src/special.jl\" target=\"_blank\">/Applications/Julia-1.7.app/Contents/Resources/julia/share/julia/stdlib/v1.7/LinearAlgebra/src/special.jl:245</a></li> <li> +(A::<b>LinearAlgebra.UniformScaling</b>, B::<b>LinearAlgebra.SymTridiagonal{var\"#s859\", V} where {var\"#s859\"<:Number, V<:AbstractVector{var\"#s859\"}}</b>) in LinearAlgebra at <a href=\"file:///Users/julia/buildbot/worker/package_macos64/build/usr/share/julia/stdlib/v1.7/LinearAlgebra/src/special.jl\" target=\"_blank\">/Applications/Julia-1.7.app/Contents/Resources/julia/share/julia/stdlib/v1.7/LinearAlgebra/src/special.jl:250</a></li> <li> +(A::<b>LinearAlgebra.UniformScaling</b>, B::<b>LinearAlgebra.Bidiagonal{var\"#s859\", V} where {var\"#s859\"<:Number, V<:AbstractVector{var\"#s859\"}}</b>) in LinearAlgebra at <a href=\"file:///Users/julia/buildbot/worker/package_macos64/build/usr/share/julia/stdlib/v1.7/LinearAlgebra/src/special.jl\" target=\"_blank\">/Applications/Julia-1.7.app/Contents/Resources/julia/share/julia/stdlib/v1.7/LinearAlgebra/src/special.jl:255</a></li> <li> +(A::<b>LinearAlgebra.UniformScaling</b>, B::<b>LinearAlgebra.Diagonal{var\"#s859\", V} where {var\"#s859\"<:Number, V<:AbstractVector{var\"#s859\"}}</b>) in LinearAlgebra at <a href=\"file:///Users/julia/buildbot/worker/package_macos64/build/usr/share/julia/stdlib/v1.7/LinearAlgebra/src/special.jl\" target=\"_blank\">/Applications/Julia-1.7.app/Contents/Resources/julia/share/julia/stdlib/v1.7/LinearAlgebra/src/special.jl:260</a></li> <li> +(a::<b>LinearAlgebra.UniformScaling</b>, b::<b>StaticArrays.StaticMatrix</b>) in StaticArrays at <a href=\"file:///Users/ankurbhayana/.julia/packages/StaticArrays/58yy1/src/linalg.jl\" target=\"_blank\">/Users/ankurbhayana/.julia/packages/StaticArrays/58yy1/src/linalg.jl:30</a></li> <li> +(J::<b>LinearAlgebra.UniformScaling</b>, A::<b>AbstractMatrix</b>) in LinearAlgebra at <a href=\"file:///Users/julia/buildbot/worker/package_macos64/build/usr/share/julia/stdlib/v1.7/LinearAlgebra/src/uniformscaling.jl\" target=\"_blank\">/Applications/Julia-1.7.app/Contents/Resources/julia/share/julia/stdlib/v1.7/LinearAlgebra/src/uniformscaling.jl:154</a></li> <li> +(x::<b>Bool</b>) in Base at <a href=\"https://github.com/JuliaLang/julia/tree/bf534986350a991e4a1b29126de0342ffd76205e/base/bool.jl#L159\" target=\"_blank\">bool.jl:159</a></li> <li> +(x::<b>Integer</b>, y::<b>Ptr</b>) in Base at <a href=\"https://github.com/JuliaLang/julia/tree/bf534986350a991e4a1b29126de0342ffd76205e/base/pointer.jl#L161\" target=\"_blank\">pointer.jl:161</a></li> <li> +(y::<b>Integer</b>, x::<b>Rational</b>) in Base at <a href=\"https://github.com/JuliaLang/julia/tree/bf534986350a991e4a1b29126de0342ffd76205e/base/rational.jl#L318\" target=\"_blank\">rational.jl:318</a></li> <li> +(x::<b>Integer</b>, y::<b>AbstractChar</b>) in Base at <a href=\"https://github.com/JuliaLang/julia/tree/bf534986350a991e4a1b29126de0342ffd76205e/base/char.jl#L247\" target=\"_blank\">char.jl:247</a></li> <li> +(x::<b>Number</b>, y::<b>Base.TwicePrecision</b>) in Base at <a href=\"https://github.com/JuliaLang/julia/tree/bf534986350a991e4a1b29126de0342ffd76205e/base/twiceprecision.jl#L283\" target=\"_blank\">twiceprecision.jl:283</a></li> <li> +(::<b>Number</b>, ::<b>Missing</b>) in Base at <a href=\"https://github.com/JuliaLang/julia/tree/bf534986350a991e4a1b29126de0342ffd76205e/base/missing.jl#L124\" target=\"_blank\">missing.jl:124</a></li> <li> +(x::<b>Number</b>, J::<b>LinearAlgebra.UniformScaling</b>) in LinearAlgebra at <a href=\"file:///Users/julia/buildbot/worker/package_macos64/build/usr/share/julia/stdlib/v1.7/LinearAlgebra/src/uniformscaling.jl\" target=\"_blank\">/Applications/Julia-1.7.app/Contents/Resources/julia/share/julia/stdlib/v1.7/LinearAlgebra/src/uniformscaling.jl:146</a></li> <li> +(a::<b>Number</b>, b::<b>AbstractGray</b>) in ColorVectorSpace at <a href=\"file:///Users/ankurbhayana/.julia/packages/ColorVectorSpace/CPykb/src/ColorVectorSpace.jl\" target=\"_blank\">/Users/ankurbhayana/.julia/packages/ColorVectorSpace/CPykb/src/ColorVectorSpace.jl:333</a></li> <li> +(x::<b>Bool</b>, y::<b>T</b>)<i> where T<:AbstractFloat</i> in Base at <a href=\"https://github.com/JuliaLang/julia/tree/bf534986350a991e4a1b29126de0342ffd76205e/base/bool.jl#L169\" target=\"_blank\">bool.jl:169</a></li> <li> +(x::<b>Bool</b>, y::<b>Bool</b>) in Base at <a href=\"https://github.com/JuliaLang/julia/tree/bf534986350a991e4a1b29126de0342ffd76205e/base/bool.jl#L162\" target=\"_blank\">bool.jl:162</a></li> <li> +(x::<b>Bool</b>, z::<b>Complex{Bool}</b>) in Base at <a href=\"https://github.com/JuliaLang/julia/tree/bf534986350a991e4a1b29126de0342ffd76205e/base/complex.jl#L299\" target=\"_blank\">complex.jl:299</a></li> <li> +(x::<b>Bool</b>, z::<b>Complex</b>) in Base at <a href=\"https://github.com/JuliaLang/julia/tree/bf534986350a991e4a1b29126de0342ffd76205e/base/complex.jl#L306\" target=\"_blank\">complex.jl:306</a></li> <li> +(::<b>ChainRulesCore.NoTangent</b>, b::<b>ChainRulesCore.Tangent</b>) in ChainRulesCore at <a href=\"file:///Users/ankurbhayana/.julia/packages/ChainRulesCore/RbX5a/src/tangent_arithmetic.jl\" target=\"_blank\">/Users/ankurbhayana/.julia/packages/ChainRulesCore/RbX5a/src/tangent_arithmetic.jl:59</a></li> <li> +(::<b>ChainRulesCore.NoTangent</b>, b::<b>ChainRulesCore.AbstractThunk</b>) in ChainRulesCore at <a href=\"file:///Users/ankurbhayana/.julia/packages/ChainRulesCore/RbX5a/src/tangent_arithmetic.jl\" target=\"_blank\">/Users/ankurbhayana/.julia/packages/ChainRulesCore/RbX5a/src/tangent_arithmetic.jl:59</a></li> <li> +(::<b>ChainRulesCore.NoTangent</b>, ::<b>ChainRulesCore.ZeroTangent</b>) in ChainRulesCore at <a href=\"file:///Users/ankurbhayana/.julia/packages/ChainRulesCore/RbX5a/src/tangent_arithmetic.jl\" target=\"_blank\">/Users/ankurbhayana/.julia/packages/ChainRulesCore/RbX5a/src/tangent_arithmetic.jl:73</a></li> <li> +(::<b>ChainRulesCore.NoTangent</b>, ::<b>ChainRulesCore.NoTangent</b>) in ChainRulesCore at <a href=\"file:///Users/ankurbhayana/.julia/packages/ChainRulesCore/RbX5a/src/tangent_arithmetic.jl\" target=\"_blank\">/Users/ankurbhayana/.julia/packages/ChainRulesCore/RbX5a/src/tangent_arithmetic.jl:53</a></li> <li> +(::<b>ChainRulesCore.NoTangent</b>, x::<b>ChainRulesCore.NotImplemented</b>) in ChainRulesCore at <a href=\"file:///Users/ankurbhayana/.julia/packages/ChainRulesCore/RbX5a/src/tangent_arithmetic.jl\" target=\"_blank\">/Users/ankurbhayana/.julia/packages/ChainRulesCore/RbX5a/src/tangent_arithmetic.jl:25</a></li> <li> +(::<b>ChainRulesCore.NoTangent</b>, b) in ChainRulesCore at <a href=\"file:///Users/ankurbhayana/.julia/packages/ChainRulesCore/RbX5a/src/tangent_arithmetic.jl\" target=\"_blank\">/Users/ankurbhayana/.julia/packages/ChainRulesCore/RbX5a/src/tangent_arithmetic.jl:59</a></li> <li> +(::<b>ChainRulesCore.ZeroTangent</b>, b::<b>ChainRulesCore.Tangent</b>) in ChainRulesCore at <a href=\"file:///Users/ankurbhayana/.julia/packages/ChainRulesCore/RbX5a/src/tangent_arithmetic.jl\" target=\"_blank\">/Users/ankurbhayana/.julia/packages/ChainRulesCore/RbX5a/src/tangent_arithmetic.jl:99</a></li> <li> +(::<b>ChainRulesCore.ZeroTangent</b>, b::<b>ChainRulesCore.AbstractThunk</b>) in ChainRulesCore at <a href=\"file:///Users/ankurbhayana/.julia/packages/ChainRulesCore/RbX5a/src/tangent_arithmetic.jl\" target=\"_blank\">/Users/ankurbhayana/.julia/packages/ChainRulesCore/RbX5a/src/tangent_arithmetic.jl:99</a></li> <li> +(::<b>ChainRulesCore.ZeroTangent</b>, ::<b>ChainRulesCore.ZeroTangent</b>) in ChainRulesCore at <a href=\"file:///Users/ankurbhayana/.julia/packages/ChainRulesCore/RbX5a/src/tangent_arithmetic.jl\" target=\"_blank\">/Users/ankurbhayana/.julia/packages/ChainRulesCore/RbX5a/src/tangent_arithmetic.jl:93</a></li> <li> +(::<b>ChainRulesCore.ZeroTangent</b>, ::<b>ChainRulesCore.NoTangent</b>) in ChainRulesCore at <a href=\"file:///Users/ankurbhayana/.julia/packages/ChainRulesCore/RbX5a/src/tangent_arithmetic.jl\" target=\"_blank\">/Users/ankurbhayana/.julia/packages/ChainRulesCore/RbX5a/src/tangent_arithmetic.jl:74</a></li> <li> +(::<b>ChainRulesCore.ZeroTangent</b>, x::<b>ChainRulesCore.NotImplemented</b>) in ChainRulesCore at <a href=\"file:///Users/ankurbhayana/.julia/packages/ChainRulesCore/RbX5a/src/tangent_arithmetic.jl\" target=\"_blank\">/Users/ankurbhayana/.julia/packages/ChainRulesCore/RbX5a/src/tangent_arithmetic.jl:25</a></li> <li> +(::<b>ChainRulesCore.ZeroTangent</b>, b) in ChainRulesCore at <a href=\"file:///Users/ankurbhayana/.julia/packages/ChainRulesCore/RbX5a/src/tangent_arithmetic.jl\" target=\"_blank\">/Users/ankurbhayana/.julia/packages/ChainRulesCore/RbX5a/src/tangent_arithmetic.jl:99</a></li> <li> +(dt::<b>Dates.DateTime</b>, y::<b>Dates.Year</b>) in Dates at <a href=\"file:///Users/julia/buildbot/worker/package_macos64/build/usr/share/julia/stdlib/v1.7/Dates/src/arithmetic.jl\" target=\"_blank\">/Applications/Julia-1.7.app/Contents/Resources/julia/share/julia/stdlib/v1.7/Dates/src/arithmetic.jl:23</a></li> <li> +(dt::<b>Dates.DateTime</b>, z::<b>Dates.Month</b>) in Dates at <a href=\"file:///Users/julia/buildbot/worker/package_macos64/build/usr/share/julia/stdlib/v1.7/Dates/src/arithmetic.jl\" target=\"_blank\">/Applications/Julia-1.7.app/Contents/Resources/julia/share/julia/stdlib/v1.7/Dates/src/arithmetic.jl:47</a></li> <li> +(x::<b>Dates.DateTime</b>, y::<b>Dates.Quarter</b>) in Dates at <a href=\"file:///Users/julia/buildbot/worker/package_macos64/build/usr/share/julia/stdlib/v1.7/Dates/src/arithmetic.jl\" target=\"_blank\">/Applications/Julia-1.7.app/Contents/Resources/julia/share/julia/stdlib/v1.7/Dates/src/arithmetic.jl:75</a></li> <li> +(x::<b>Dates.DateTime</b>, y::<b>Dates.Period</b>) in Dates at <a href=\"file:///Users/julia/buildbot/worker/package_macos64/build/usr/share/julia/stdlib/v1.7/Dates/src/arithmetic.jl\" target=\"_blank\">/Applications/Julia-1.7.app/Contents/Resources/julia/share/julia/stdlib/v1.7/Dates/src/arithmetic.jl:81</a></li> <li> +(B::<b>BitMatrix</b>, J::<b>LinearAlgebra.UniformScaling</b>) in LinearAlgebra at <a href=\"file:///Users/julia/buildbot/worker/package_macos64/build/usr/share/julia/stdlib/v1.7/LinearAlgebra/src/uniformscaling.jl\" target=\"_blank\">/Applications/Julia-1.7.app/Contents/Resources/julia/share/julia/stdlib/v1.7/LinearAlgebra/src/uniformscaling.jl:152</a></li> <li> +(A::<b>AbstractMatrix</b>, J::<b>LinearAlgebra.UniformScaling</b>) in LinearAlgebra at <a href=\"file:///Users/julia/buildbot/worker/package_macos64/build/usr/share/julia/stdlib/v1.7/LinearAlgebra/src/uniformscaling.jl\" target=\"_blank\">/Applications/Julia-1.7.app/Contents/Resources/julia/share/julia/stdlib/v1.7/LinearAlgebra/src/uniformscaling.jl:215</a></li> <li> +(x::<b>AbstractArray{<:Number}</b>) in Base at <a href=\"https://github.com/JuliaLang/julia/tree/bf534986350a991e4a1b29126de0342ffd76205e/base/abstractarraymath.jl#L104\" target=\"_blank\">abstractarraymath.jl:104</a></li> <li> +(x::<b>Float64</b>, y::<b>Float64</b>) in Base at <a href=\"https://github.com/JuliaLang/julia/tree/bf534986350a991e4a1b29126de0342ffd76205e/base/float.jl#L399\" target=\"_blank\">float.jl:399</a></li> <li> +(x::<b>ChainRulesCore.NotImplemented</b>, ::<b>ChainRulesCore.Tangent</b>) in ChainRulesCore at <a href=\"file:///Users/ankurbhayana/.julia/packages/ChainRulesCore/RbX5a/src/tangent_arithmetic.jl\" target=\"_blank\">/Users/ankurbhayana/.julia/packages/ChainRulesCore/RbX5a/src/tangent_arithmetic.jl:24</a></li> <li> +(x::<b>ChainRulesCore.NotImplemented</b>, ::<b>ChainRulesCore.AbstractThunk</b>) in ChainRulesCore at <a href=\"file:///Users/ankurbhayana/.julia/packages/ChainRulesCore/RbX5a/src/tangent_arithmetic.jl\" target=\"_blank\">/Users/ankurbhayana/.julia/packages/ChainRulesCore/RbX5a/src/tangent_arithmetic.jl:24</a></li> <li> +(x::<b>ChainRulesCore.NotImplemented</b>, ::<b>ChainRulesCore.NoTangent</b>) in ChainRulesCore at <a href=\"file:///Users/ankurbhayana/.julia/packages/ChainRulesCore/RbX5a/src/tangent_arithmetic.jl\" target=\"_blank\">/Users/ankurbhayana/.julia/packages/ChainRulesCore/RbX5a/src/tangent_arithmetic.jl:24</a></li> <li> +(x::<b>ChainRulesCore.NotImplemented</b>, ::<b>ChainRulesCore.ZeroTangent</b>) in ChainRulesCore at <a href=\"file:///Users/ankurbhayana/.julia/packages/ChainRulesCore/RbX5a/src/tangent_arithmetic.jl\" target=\"_blank\">/Users/ankurbhayana/.julia/packages/ChainRulesCore/RbX5a/src/tangent_arithmetic.jl:24</a></li> <li> +(x::<b>ChainRulesCore.NotImplemented</b>, ::<b>ChainRulesCore.NotImplemented</b>) in ChainRulesCore at <a href=\"file:///Users/ankurbhayana/.julia/packages/ChainRulesCore/RbX5a/src/tangent_arithmetic.jl\" target=\"_blank\">/Users/ankurbhayana/.julia/packages/ChainRulesCore/RbX5a/src/tangent_arithmetic.jl:19</a></li> <li> +(x::<b>ChainRulesCore.NotImplemented</b>, ::<b>Any</b>) in ChainRulesCore at <a href=\"file:///Users/ankurbhayana/.julia/packages/ChainRulesCore/RbX5a/src/tangent_arithmetic.jl\" target=\"_blank\">/Users/ankurbhayana/.julia/packages/ChainRulesCore/RbX5a/src/tangent_arithmetic.jl:24</a></li> <li> +(x::<b>ChainRulesCore.AbstractTangent</b>) in ChainRulesCore at <a href=\"file:///Users/ankurbhayana/.julia/packages/ChainRulesCore/RbX5a/src/tangent_types/abstract_tangent.jl\" target=\"_blank\">/Users/ankurbhayana/.julia/packages/ChainRulesCore/RbX5a/src/tangent_types/abstract_tangent.jl:38</a></li> <li> +(::<b>Missing</b>) in Base at <a href=\"https://github.com/JuliaLang/julia/tree/bf534986350a991e4a1b29126de0342ffd76205e/base/missing.jl#L101\" target=\"_blank\">missing.jl:101</a></li> <li> +(::<b>Missing</b>, ::<b>Number</b>) in Base at <a href=\"https://github.com/JuliaLang/julia/tree/bf534986350a991e4a1b29126de0342ffd76205e/base/missing.jl#L123\" target=\"_blank\">missing.jl:123</a></li> <li> +(x::<b>Missing</b>, y::<b>Dates.AbstractTime</b>) in Dates at <a href=\"file:///Users/julia/buildbot/worker/package_macos64/build/usr/share/julia/stdlib/v1.7/Dates/src/arithmetic.jl\" target=\"_blank\">/Applications/Julia-1.7.app/Contents/Resources/julia/share/julia/stdlib/v1.7/Dates/src/arithmetic.jl:89</a></li> <li> +(::<b>Missing</b>, ::<b>Missing</b>) in Base at <a href=\"https://github.com/JuliaLang/julia/tree/bf534986350a991e4a1b29126de0342ffd76205e/base/missing.jl#L122\" target=\"_blank\">missing.jl:122</a></li> <li> +(dt::<b>Dates.Date</b>, t::<b>Dates.Time</b>) in Dates at <a href=\"file:///Users/julia/buildbot/worker/package_macos64/build/usr/share/julia/stdlib/v1.7/Dates/src/arithmetic.jl\" target=\"_blank\">/Applications/Julia-1.7.app/Contents/Resources/julia/share/julia/stdlib/v1.7/Dates/src/arithmetic.jl:19</a></li> <li> +(dt::<b>Dates.Date</b>, y::<b>Dates.Year</b>) in Dates at <a href=\"file:///Users/julia/buildbot/worker/package_macos64/build/usr/share/julia/stdlib/v1.7/Dates/src/arithmetic.jl\" target=\"_blank\">/Applications/Julia-1.7.app/Contents/Resources/julia/share/julia/stdlib/v1.7/Dates/src/arithmetic.jl:27</a></li> <li> +(dt::<b>Dates.Date</b>, z::<b>Dates.Month</b>) in Dates at <a href=\"file:///Users/julia/buildbot/worker/package_macos64/build/usr/share/julia/stdlib/v1.7/Dates/src/arithmetic.jl\" target=\"_blank\">/Applications/Julia-1.7.app/Contents/Resources/julia/share/julia/stdlib/v1.7/Dates/src/arithmetic.jl:54</a></li> <li> +(x::<b>Dates.Date</b>, y::<b>Dates.Quarter</b>) in Dates at <a href=\"file:///Users/julia/buildbot/worker/package_macos64/build/usr/share/julia/stdlib/v1.7/Dates/src/arithmetic.jl\" target=\"_blank\">/Applications/Julia-1.7.app/Contents/Resources/julia/share/julia/stdlib/v1.7/Dates/src/arithmetic.jl:73</a></li> <li> +(x::<b>Dates.Date</b>, y::<b>Dates.Week</b>) in Dates at <a href=\"file:///Users/julia/buildbot/worker/package_macos64/build/usr/share/julia/stdlib/v1.7/Dates/src/arithmetic.jl\" target=\"_blank\">/Applications/Julia-1.7.app/Contents/Resources/julia/share/julia/stdlib/v1.7/Dates/src/arithmetic.jl:77</a></li> <li> +(x::<b>Dates.Date</b>, y::<b>Dates.Day</b>) in Dates at <a href=\"file:///Users/julia/buildbot/worker/package_macos64/build/usr/share/julia/stdlib/v1.7/Dates/src/arithmetic.jl\" target=\"_blank\">/Applications/Julia-1.7.app/Contents/Resources/julia/share/julia/stdlib/v1.7/Dates/src/arithmetic.jl:79</a></li> <li> +(x::<b>Dates.CompoundPeriod</b>, y::<b>Dates.Period</b>) in Dates at <a href=\"file:///Users/julia/buildbot/worker/package_macos64/build/usr/share/julia/stdlib/v1.7/Dates/src/periods.jl\" target=\"_blank\">/Applications/Julia-1.7.app/Contents/Resources/julia/share/julia/stdlib/v1.7/Dates/src/periods.jl:362</a></li> <li> +(x::<b>Dates.CompoundPeriod</b>, y::<b>Dates.TimeType</b>) in Dates at <a href=\"file:///Users/julia/buildbot/worker/package_macos64/build/usr/share/julia/stdlib/v1.7/Dates/src/periods.jl\" target=\"_blank\">/Applications/Julia-1.7.app/Contents/Resources/julia/share/julia/stdlib/v1.7/Dates/src/periods.jl:392</a></li> <li> +(x::<b>Dates.CompoundPeriod</b>, y::<b>Dates.CompoundPeriod</b>) in Dates at <a href=\"file:///Users/julia/buildbot/worker/package_macos64/build/usr/share/julia/stdlib/v1.7/Dates/src/periods.jl\" target=\"_blank\">/Applications/Julia-1.7.app/Contents/Resources/julia/share/julia/stdlib/v1.7/Dates/src/periods.jl:364</a></li> <li> +(x::<b>Rational{BigInt}</b>, y::<b>Rational{BigInt}</b>) in Base.GMP.MPQ at <a href=\"https://github.com/JuliaLang/julia/tree/bf534986350a991e4a1b29126de0342ffd76205e/base/gmp.jl#L885\" target=\"_blank\">gmp.jl:885</a></li> <li> +(x::<b>Rational</b>) in Base at <a href=\"https://github.com/JuliaLang/julia/tree/bf534986350a991e4a1b29126de0342ffd76205e/base/rational.jl#L268\" target=\"_blank\">rational.jl:268</a></li> <li> +(x::<b>Real</b>, z::<b>Complex{Bool}</b>) in Base at <a href=\"https://github.com/JuliaLang/julia/tree/bf534986350a991e4a1b29126de0342ffd76205e/base/complex.jl#L313\" target=\"_blank\">complex.jl:313</a></li> <li> +(x::<b>Real</b>, z::<b>Complex</b>) in Base at <a href=\"https://github.com/JuliaLang/julia/tree/bf534986350a991e4a1b29126de0342ffd76205e/base/complex.jl#L325\" target=\"_blank\">complex.jl:325</a></li> <li> +(x::<b>Rational</b>, y::<b>Rational</b>) in Base at <a href=\"https://github.com/JuliaLang/julia/tree/bf534986350a991e4a1b29126de0342ffd76205e/base/rational.jl#L282\" target=\"_blank\">rational.jl:282</a></li> <li> +(z::<b>Complex{Bool}</b>, x::<b>Bool</b>) in Base at <a href=\"https://github.com/JuliaLang/julia/tree/bf534986350a991e4a1b29126de0342ffd76205e/base/complex.jl#L300\" target=\"_blank\">complex.jl:300</a></li> <li> +(z::<b>Complex</b>, x::<b>Bool</b>) in Base at <a href=\"https://github.com/JuliaLang/julia/tree/bf534986350a991e4a1b29126de0342ffd76205e/base/complex.jl#L307\" target=\"_blank\">complex.jl:307</a></li> <li> +(z::<b>Complex{Bool}</b>, x::<b>Real</b>) in Base at <a href=\"https://github.com/JuliaLang/julia/tree/bf534986350a991e4a1b29126de0342ffd76205e/base/complex.jl#L314\" target=\"_blank\">complex.jl:314</a></li> <li> +(z::<b>Complex</b>) in Base at <a href=\"https://github.com/JuliaLang/julia/tree/bf534986350a991e4a1b29126de0342ffd76205e/base/complex.jl#L286\" target=\"_blank\">complex.jl:286</a></li> <li> +(z::<b>Complex</b>, x::<b>Real</b>) in Base at <a href=\"https://github.com/JuliaLang/julia/tree/bf534986350a991e4a1b29126de0342ffd76205e/base/complex.jl#L326\" target=\"_blank\">complex.jl:326</a></li> <li> +(level::<b>Base.CoreLogging.LogLevel</b>, inc::<b>Integer</b>) in Base.CoreLogging at <a href=\"https://github.com/JuliaLang/julia/tree/bf534986350a991e4a1b29126de0342ffd76205e/base/logging.jl#L131\" target=\"_blank\">logging.jl:131</a></li> <li> +(x::<b>Float16</b>, y::<b>Float16</b>) in Base at <a href=\"https://github.com/JuliaLang/julia/tree/bf534986350a991e4a1b29126de0342ffd76205e/base/float.jl#L397\" target=\"_blank\">float.jl:397</a></li> <li> +(x::<b>Dates.Time</b>, y::<b>Dates.TimePeriod</b>) in Dates at <a href=\"file:///Users/julia/buildbot/worker/package_macos64/build/usr/share/julia/stdlib/v1.7/Dates/src/arithmetic.jl\" target=\"_blank\">/Applications/Julia-1.7.app/Contents/Resources/julia/share/julia/stdlib/v1.7/Dates/src/arithmetic.jl:83</a></li> <li> +(t::<b>Dates.Time</b>, dt::<b>Dates.Date</b>) in Dates at <a href=\"file:///Users/julia/buildbot/worker/package_macos64/build/usr/share/julia/stdlib/v1.7/Dates/src/arithmetic.jl\" target=\"_blank\">/Applications/Julia-1.7.app/Contents/Resources/julia/share/julia/stdlib/v1.7/Dates/src/arithmetic.jl:20</a></li> <li> +(x::<b>Dates.TimeType</b>) in Dates at <a href=\"file:///Users/julia/buildbot/worker/package_macos64/build/usr/share/julia/stdlib/v1.7/Dates/src/arithmetic.jl\" target=\"_blank\">/Applications/Julia-1.7.app/Contents/Resources/julia/share/julia/stdlib/v1.7/Dates/src/arithmetic.jl:8</a></li> <li> +(x::<b>Dates.AbstractTime</b>, y::<b>Missing</b>) in Dates at <a href=\"file:///Users/julia/buildbot/worker/package_macos64/build/usr/share/julia/stdlib/v1.7/Dates/src/arithmetic.jl\" target=\"_blank\">/Applications/Julia-1.7.app/Contents/Resources/julia/share/julia/stdlib/v1.7/Dates/src/arithmetic.jl:88</a></li> <li> +(a::<b>Dates.TimeType</b>, b::<b>Dates.Period</b>, c::<b>Dates.Period</b>) in Dates at <a href=\"file:///Users/julia/buildbot/worker/package_macos64/build/usr/share/julia/stdlib/v1.7/Dates/src/periods.jl\" target=\"_blank\">/Applications/Julia-1.7.app/Contents/Resources/julia/share/julia/stdlib/v1.7/Dates/src/periods.jl:383</a></li> <li> +(a::<b>Dates.TimeType</b>, b::<b>Dates.Period</b>, c::<b>Dates.Period</b>, d::<b>Dates.Period...</b>) in Dates at <a href=\"file:///Users/julia/buildbot/worker/package_macos64/build/usr/share/julia/stdlib/v1.7/Dates/src/periods.jl\" target=\"_blank\">/Applications/Julia-1.7.app/Contents/Resources/julia/share/julia/stdlib/v1.7/Dates/src/periods.jl:384</a></li> <li> +(x::<b>Dates.TimeType</b>, y::<b>Dates.CompoundPeriod</b>) in Dates at <a href=\"file:///Users/julia/buildbot/worker/package_macos64/build/usr/share/julia/stdlib/v1.7/Dates/src/periods.jl\" target=\"_blank\">/Applications/Julia-1.7.app/Contents/Resources/julia/share/julia/stdlib/v1.7/Dates/src/periods.jl:386</a></li> <li> +(x::<b>BigInt</b>, c::<b>Union{UInt16, UInt32, UInt64, UInt8}</b>) in Base.GMP at <a href=\"https://github.com/JuliaLang/julia/tree/bf534986350a991e4a1b29126de0342ffd76205e/base/gmp.jl#L528\" target=\"_blank\">gmp.jl:528</a></li> <li> +(x::<b>BigInt</b>, c::<b>Union{Int16, Int32, Int64, Int8}</b>) in Base.GMP at <a href=\"https://github.com/JuliaLang/julia/tree/bf534986350a991e4a1b29126de0342ffd76205e/base/gmp.jl#L534\" target=\"_blank\">gmp.jl:534</a></li> <li> +(x::<b>BigInt</b>, y::<b>BigInt</b>) in Base.GMP at <a href=\"https://github.com/JuliaLang/julia/tree/bf534986350a991e4a1b29126de0342ffd76205e/base/gmp.jl#L480\" target=\"_blank\">gmp.jl:480</a></li> <li> +(a::<b>BigInt</b>, b::<b>BigInt</b>, c::<b>BigInt</b>) in Base.GMP at <a href=\"https://github.com/JuliaLang/julia/tree/bf534986350a991e4a1b29126de0342ffd76205e/base/gmp.jl#L520\" target=\"_blank\">gmp.jl:520</a></li> <li> +(a::<b>BigInt</b>, b::<b>BigInt</b>, c::<b>BigInt</b>, d::<b>BigInt</b>) in Base.GMP at <a href=\"https://github.com/JuliaLang/julia/tree/bf534986350a991e4a1b29126de0342ffd76205e/base/gmp.jl#L521\" target=\"_blank\">gmp.jl:521</a></li> <li> +(a::<b>BigInt</b>, b::<b>BigInt</b>, c::<b>BigInt</b>, d::<b>BigInt</b>, e::<b>BigInt</b>) in Base.GMP at <a href=\"https://github.com/JuliaLang/julia/tree/bf534986350a991e4a1b29126de0342ffd76205e/base/gmp.jl#L522\" target=\"_blank\">gmp.jl:522</a></li> <li> +(x::<b>BigInt</b>, y::<b>BigInt</b>, rest::<b>BigInt...</b>) in Base.GMP at <a href=\"https://github.com/JuliaLang/julia/tree/bf534986350a991e4a1b29126de0342ffd76205e/base/gmp.jl#L635\" target=\"_blank\">gmp.jl:635</a></li> <li> +(a::<b>Integer</b>, b::<b>Integer</b>) in Base at <a href=\"https://github.com/JuliaLang/julia/tree/bf534986350a991e4a1b29126de0342ffd76205e/base/int.jl#L978\" target=\"_blank\">int.jl:978</a></li> <li> +(c::<b>BigInt</b>, x::<b>BigFloat</b>) in Base.MPFR at <a href=\"https://github.com/JuliaLang/julia/tree/bf534986350a991e4a1b29126de0342ffd76205e/base/mpfr.jl#L414\" target=\"_blank\">mpfr.jl:414</a></li> <li> +(a::<b>Pkg.Resolve.FieldValue</b>, b::<b>Pkg.Resolve.FieldValue</b>) in Pkg.Resolve at <a href=\"file:///Users/julia/buildbot/worker/package_macos64/build/usr/share/julia/stdlib/v1.7/Pkg/src/Resolve/fieldvalues.jl\" target=\"_blank\">/Applications/Julia-1.7.app/Contents/Resources/julia/share/julia/stdlib/v1.7/Pkg/src/Resolve/fieldvalues.jl:43</a></li> <li> +(a::<b>Pkg.Resolve.VersionWeight</b>, b::<b>Pkg.Resolve.VersionWeight</b>) in Pkg.Resolve at <a href=\"file:///Users/julia/buildbot/worker/package_macos64/build/usr/share/julia/stdlib/v1.7/Pkg/src/Resolve/versionweights.jl\" target=\"_blank\">/Applications/Julia-1.7.app/Contents/Resources/julia/share/julia/stdlib/v1.7/Pkg/src/Resolve/versionweights.jl:22</a></li> <li> +(x::<b>BigFloat</b>, c::<b>Union{UInt16, UInt32, UInt64, UInt8}</b>) in Base.MPFR at <a href=\"https://github.com/JuliaLang/julia/tree/bf534986350a991e4a1b29126de0342ffd76205e/base/mpfr.jl#L385\" target=\"_blank\">mpfr.jl:385</a></li> <li> +(x::<b>BigFloat</b>, c::<b>Union{Int16, Int32, Int64, Int8}</b>) in Base.MPFR at <a href=\"https://github.com/JuliaLang/julia/tree/bf534986350a991e4a1b29126de0342ffd76205e/base/mpfr.jl#L393\" target=\"_blank\">mpfr.jl:393</a></li> <li> +(x::<b>BigFloat</b>, c::<b>Union{Float16, Float32, Float64}</b>) in Base.MPFR at <a href=\"https://github.com/JuliaLang/julia/tree/bf534986350a991e4a1b29126de0342ffd76205e/base/mpfr.jl#L401\" target=\"_blank\">mpfr.jl:401</a></li> <li> +(x::<b>BigFloat</b>, y::<b>BigFloat</b>) in Base.MPFR at <a href=\"https://github.com/JuliaLang/julia/tree/bf534986350a991e4a1b29126de0342ffd76205e/base/mpfr.jl#L378\" target=\"_blank\">mpfr.jl:378</a></li> <li> +(x::<b>BigFloat</b>, c::<b>BigInt</b>) in Base.MPFR at <a href=\"https://github.com/JuliaLang/julia/tree/bf534986350a991e4a1b29126de0342ffd76205e/base/mpfr.jl#L409\" target=\"_blank\">mpfr.jl:409</a></li> <li> +(a::<b>BigFloat</b>, b::<b>BigFloat</b>, c::<b>BigFloat</b>) in Base.MPFR at <a href=\"https://github.com/JuliaLang/julia/tree/bf534986350a991e4a1b29126de0342ffd76205e/base/mpfr.jl#L550\" target=\"_blank\">mpfr.jl:550</a></li> <li> +(a::<b>BigFloat</b>, b::<b>BigFloat</b>, c::<b>BigFloat</b>, d::<b>BigFloat</b>) in Base.MPFR at <a href=\"https://github.com/JuliaLang/julia/tree/bf534986350a991e4a1b29126de0342ffd76205e/base/mpfr.jl#L556\" target=\"_blank\">mpfr.jl:556</a></li> <li> +(a::<b>BigFloat</b>, b::<b>BigFloat</b>, c::<b>BigFloat</b>, d::<b>BigFloat</b>, e::<b>BigFloat</b>) in Base.MPFR at <a href=\"https://github.com/JuliaLang/julia/tree/bf534986350a991e4a1b29126de0342ffd76205e/base/mpfr.jl#L563\" target=\"_blank\">mpfr.jl:563</a></li> <li> +(x::<b>Float32</b>, y::<b>Float32</b>) in Base at <a href=\"https://github.com/JuliaLang/julia/tree/bf534986350a991e4a1b29126de0342ffd76205e/base/float.jl#L398\" target=\"_blank\">float.jl:398</a></li> <li> +(x::<b>Number</b>) in Base at <a href=\"https://github.com/JuliaLang/julia/tree/bf534986350a991e4a1b29126de0342ffd76205e/base/operators.jl#L592\" target=\"_blank\">operators.jl:592</a></li> <li> +(a::<b>P</b>, d::<b>ChainRulesCore.Tangent{P}</b>)<i> where P</i> in ChainRulesCore at <a href=\"file:///Users/ankurbhayana/.julia/packages/ChainRulesCore/RbX5a/src/tangent_arithmetic.jl\" target=\"_blank\">/Users/ankurbhayana/.julia/packages/ChainRulesCore/RbX5a/src/tangent_arithmetic.jl:133</a></li> <li> +(a, b::<b>ChainRulesCore.AbstractThunk</b>) in ChainRulesCore at <a href=\"file:///Users/ankurbhayana/.julia/packages/ChainRulesCore/RbX5a/src/tangent_arithmetic.jl\" target=\"_blank\">/Users/ankurbhayana/.julia/packages/ChainRulesCore/RbX5a/src/tangent_arithmetic.jl:123</a></li> <li> +(a, ::<b>ChainRulesCore.ZeroTangent</b>) in ChainRulesCore at <a href=\"file:///Users/ankurbhayana/.julia/packages/ChainRulesCore/RbX5a/src/tangent_arithmetic.jl\" target=\"_blank\">/Users/ankurbhayana/.julia/packages/ChainRulesCore/RbX5a/src/tangent_arithmetic.jl:100</a></li> <li> +(a, ::<b>ChainRulesCore.NoTangent</b>) in ChainRulesCore at <a href=\"file:///Users/ankurbhayana/.julia/packages/ChainRulesCore/RbX5a/src/tangent_arithmetic.jl\" target=\"_blank\">/Users/ankurbhayana/.julia/packages/ChainRulesCore/RbX5a/src/tangent_arithmetic.jl:60</a></li> <li> +(::<b>Any</b>, x::<b>ChainRulesCore.NotImplemented</b>) in ChainRulesCore at <a href=\"file:///Users/ankurbhayana/.julia/packages/ChainRulesCore/RbX5a/src/tangent_arithmetic.jl\" target=\"_blank\">/Users/ankurbhayana/.julia/packages/ChainRulesCore/RbX5a/src/tangent_arithmetic.jl:25</a></li> <li> +(x::<b>T</b>, y::<b>T</b>)<i> where T<:Number</i> in Base at <a href=\"https://github.com/JuliaLang/julia/tree/bf534986350a991e4a1b29126de0342ffd76205e/base/promotion.jl#L454\" target=\"_blank\">promotion.jl:454</a></li> <li> +(x::<b>Number</b>, y::<b>Number</b>) in Base at <a href=\"https://github.com/JuliaLang/julia/tree/bf534986350a991e4a1b29126de0342ffd76205e/base/promotion.jl#L379\" target=\"_blank\">promotion.jl:379</a></li> <li> +(a, b, c, xs...) in Base at <a href=\"https://github.com/JuliaLang/julia/tree/bf534986350a991e4a1b29126de0342ffd76205e/base/operators.jl#L655\" target=\"_blank\">operators.jl:655</a></li> </ul>"
      ],
      "text/plain": [
       "# 277 methods for generic function \"+\":\n",
       "[1] +(x::T, y::T) where T<:Union{Int128, Int16, Int32, Int64, Int8, UInt128, UInt16, UInt32, UInt64, UInt8} in Base at int.jl:87\n",
       "[2] +(c::Union{UInt16, UInt32, UInt64, UInt8}, x::BigInt) in Base.GMP at gmp.jl:529\n",
       "[3] +(c::Union{Int16, Int32, Int64, Int8}, x::BigInt) in Base.GMP at gmp.jl:535\n",
       "[4] +(c::Union{UInt16, UInt32, UInt64, UInt8}, x::BigFloat) in Base.MPFR at mpfr.jl:390\n",
       "[5] +(c::Union{Int16, Int32, Int64, Int8}, x::BigFloat) in Base.MPFR at mpfr.jl:398\n",
       "[6] +(c::Union{Float16, Float32, Float64}, x::BigFloat) in Base.MPFR at mpfr.jl:406\n",
       "[7] +(x::Union{Dates.CompoundPeriod, Dates.Period}) in Dates at /Applications/Julia-1.7.app/Contents/Resources/julia/share/julia/stdlib/v1.7/Dates/src/periods.jl:372\n",
       "[8] +(a::Union{LMS, XYZ}, b::Union{LMS, XYZ}) in Colors at /Users/ankurbhayana/.julia/packages/Colors/yDxFN/src/algorithms.jl:4\n",
       "[9] +(l1::Lazy.List, ls::Lazy.List...) in Lazy at /Users/ankurbhayana/.julia/packages/Lazy/9Xnd3/src/Lazy.jl:20\n",
       "[10] +(A::LinearAlgebra.UnitUpperTriangular, B::LinearAlgebra.UpperTriangular) in LinearAlgebra at /Applications/Julia-1.7.app/Contents/Resources/julia/share/julia/stdlib/v1.7/LinearAlgebra/src/triangular.jl:640\n",
       "[11] +(A::LinearAlgebra.UnitUpperTriangular, B::LinearAlgebra.UnitUpperTriangular) in LinearAlgebra at /Applications/Julia-1.7.app/Contents/Resources/julia/share/julia/stdlib/v1.7/LinearAlgebra/src/triangular.jl:642\n",
       "[12] +(UL::LinearAlgebra.UnitUpperTriangular, J::LinearAlgebra.UniformScaling) in LinearAlgebra at /Applications/Julia-1.7.app/Contents/Resources/julia/share/julia/stdlib/v1.7/LinearAlgebra/src/uniformscaling.jl:182\n",
       "[13] +(x::LinearAlgebra.UnitUpperTriangular, H::LinearAlgebra.UpperHessenberg) in LinearAlgebra at /Applications/Julia-1.7.app/Contents/Resources/julia/share/julia/stdlib/v1.7/LinearAlgebra/src/hessenberg.jl:107\n",
       "[14] +(A::LinearAlgebra.UnitUpperTriangular, B::LinearAlgebra.Bidiagonal) in LinearAlgebra at /Applications/Julia-1.7.app/Contents/Resources/julia/share/julia/stdlib/v1.7/LinearAlgebra/src/special.jl:86\n",
       "[15] +(a::TransparentGray, b::TransparentGray) in ColorVectorSpace at /Users/ankurbhayana/.julia/packages/ColorVectorSpace/CPykb/src/ColorVectorSpace.jl:322\n",
       "[16] +(a::TransparentColor{C, T, 4} where {C<:AbstractRGB, T}, b::TransparentColor{C, T, 4} where {C<:AbstractRGB, T}) in ColorVectorSpace at /Users/ankurbhayana/.julia/packages/ColorVectorSpace/CPykb/src/ColorVectorSpace.jl:273\n",
       "[17] +(c::Union{TransparentColor{C, Bool}, C} where C<:Union{AbstractRGB{Bool}, AbstractGray{Bool}}) in ColorVectorSpace at /Users/ankurbhayana/.julia/packages/ColorVectorSpace/CPykb/src/ColorVectorSpace.jl:249\n",
       "[18] +(r1::LinRange{T}, r2::LinRange{T}) where T in Base at range.jl:1354\n",
       "[19] +(a::AbstractGray{Bool}, b::Bool) in ColorVectorSpace at /Users/ankurbhayana/.julia/packages/ColorVectorSpace/CPykb/src/ColorVectorSpace.jl:332\n",
       "[20] +(a::AbstractGray{Bool}, b::Number) in ColorVectorSpace at /Users/ankurbhayana/.julia/packages/ColorVectorSpace/CPykb/src/ColorVectorSpace.jl:331\n",
       "[21] +(a::AbstractGray, b::Number) in ColorVectorSpace at /Users/ankurbhayana/.julia/packages/ColorVectorSpace/CPykb/src/ColorVectorSpace.jl:330\n",
       "[22] +(Da::LinearAlgebra.Diagonal, Db::LinearAlgebra.Diagonal) in LinearAlgebra at /Applications/Julia-1.7.app/Contents/Resources/julia/share/julia/stdlib/v1.7/LinearAlgebra/src/diagonal.jl:172\n",
       "[23] +(D::LinearAlgebra.Diagonal, S::LinearAlgebra.Symmetric) in LinearAlgebra at /Applications/Julia-1.7.app/Contents/Resources/julia/share/julia/stdlib/v1.7/LinearAlgebra/src/diagonal.jl:176\n",
       "[24] +(D::LinearAlgebra.Diagonal{var\"#s859\", V} where {var\"#s859\"<:Real, V<:AbstractVector{var\"#s859\"}}, H::LinearAlgebra.Hermitian) in LinearAlgebra at /Applications/Julia-1.7.app/Contents/Resources/julia/share/julia/stdlib/v1.7/LinearAlgebra/src/diagonal.jl:182\n",
       "[25] +(x::LinearAlgebra.Diagonal, H::LinearAlgebra.UpperHessenberg) in LinearAlgebra at /Applications/Julia-1.7.app/Contents/Resources/julia/share/julia/stdlib/v1.7/LinearAlgebra/src/hessenberg.jl:107\n",
       "[26] +(A::LinearAlgebra.Diagonal, B::LinearAlgebra.Bidiagonal) in LinearAlgebra at /Applications/Julia-1.7.app/Contents/Resources/julia/share/julia/stdlib/v1.7/LinearAlgebra/src/special.jl:125\n",
       "[27] +(A::LinearAlgebra.Diagonal, B::LinearAlgebra.SymTridiagonal) in LinearAlgebra at /Applications/Julia-1.7.app/Contents/Resources/julia/share/julia/stdlib/v1.7/LinearAlgebra/src/special.jl:135\n",
       "[28] +(A::LinearAlgebra.Diagonal, B::LinearAlgebra.Tridiagonal) in LinearAlgebra at /Applications/Julia-1.7.app/Contents/Resources/julia/share/julia/stdlib/v1.7/LinearAlgebra/src/special.jl:163\n",
       "[29] +(A::LinearAlgebra.Diagonal{var\"#s859\", V} where {var\"#s859\"<:Number, V<:AbstractVector{var\"#s859\"}}, B::LinearAlgebra.UniformScaling) in LinearAlgebra at /Applications/Julia-1.7.app/Contents/Resources/julia/share/julia/stdlib/v1.7/LinearAlgebra/src/special.jl:241\n",
       "[30] +(A::SparseArrays.AbstractSparseMatrix, B::LinearAlgebra.Hermitian{<:Any, <:SparseArrays.AbstractSparseMatrix}) in SparseArrays at /Applications/Julia-1.7.app/Contents/Resources/julia/share/julia/stdlib/v1.7/SparseArrays/src/linalg.jl:14\n",
       "[31] +(A::SparseArrays.AbstractSparseMatrix, B::LinearAlgebra.Hermitian) in SparseArrays at /Applications/Julia-1.7.app/Contents/Resources/julia/share/julia/stdlib/v1.7/SparseArrays/src/linalg.jl:17\n",
       "[32] +(A::SparseArrays.AbstractSparseMatrix, B::LinearAlgebra.Symmetric{<:Any, <:SparseArrays.AbstractSparseMatrix}) in SparseArrays at /Applications/Julia-1.7.app/Contents/Resources/julia/share/julia/stdlib/v1.7/SparseArrays/src/linalg.jl:14\n",
       "[33] +(A::SparseArrays.AbstractSparseMatrix, B::LinearAlgebra.Symmetric) in SparseArrays at /Applications/Julia-1.7.app/Contents/Resources/julia/share/julia/stdlib/v1.7/SparseArrays/src/linalg.jl:17\n",
       "[34] +(x::P, y::P) where P<:Dates.Period in Dates at /Applications/Julia-1.7.app/Contents/Resources/julia/share/julia/stdlib/v1.7/Dates/src/periods.jl:79\n",
       "[35] +(x::Dates.Period, y::Dates.Period) in Dates at /Applications/Julia-1.7.app/Contents/Resources/julia/share/julia/stdlib/v1.7/Dates/src/periods.jl:361\n",
       "[36] +(y::Dates.Period, x::Dates.CompoundPeriod) in Dates at /Applications/Julia-1.7.app/Contents/Resources/julia/share/julia/stdlib/v1.7/Dates/src/periods.jl:363\n",
       "[37] +(y::Dates.Period, x::Dates.TimeType) in Dates at /Applications/Julia-1.7.app/Contents/Resources/julia/share/julia/stdlib/v1.7/Dates/src/arithmetic.jl:85\n",
       "[38] +(x::Dates.Period, r::AbstractRange{<:Dates.TimeType}) in Dates at /Applications/Julia-1.7.app/Contents/Resources/julia/share/julia/stdlib/v1.7/Dates/src/ranges.jl:62\n",
       "[39] +(y::Union{Dates.CompoundPeriod, Dates.Period}, x::AbstractArray{<:Dates.TimeType}) in Dates at /Applications/Julia-1.7.app/Contents/Resources/julia/share/julia/stdlib/v1.7/Dates/src/deprecated.jl:14\n",
       "[40] +(A::LinearAlgebra.Bidiagonal, B::LinearAlgebra.Bidiagonal) in LinearAlgebra at /Applications/Julia-1.7.app/Contents/Resources/julia/share/julia/stdlib/v1.7/LinearAlgebra/src/bidiag.jl:354\n",
       "[41] +(x::LinearAlgebra.Bidiagonal, H::LinearAlgebra.UpperHessenberg) in LinearAlgebra at /Applications/Julia-1.7.app/Contents/Resources/julia/share/julia/stdlib/v1.7/LinearAlgebra/src/hessenberg.jl:107\n",
       "[42] +(A::LinearAlgebra.Bidiagonal, B::LinearAlgebra.UpperTriangular) in LinearAlgebra at /Applications/Julia-1.7.app/Contents/Resources/julia/share/julia/stdlib/v1.7/LinearAlgebra/src/special.jl:94\n",
       "[43] +(A::LinearAlgebra.Bidiagonal, B::LinearAlgebra.UnitUpperTriangular) in LinearAlgebra at /Applications/Julia-1.7.app/Contents/Resources/julia/share/julia/stdlib/v1.7/LinearAlgebra/src/special.jl:94\n",
       "[44] +(A::LinearAlgebra.Bidiagonal, B::LinearAlgebra.LowerTriangular) in LinearAlgebra at /Applications/Julia-1.7.app/Contents/Resources/julia/share/julia/stdlib/v1.7/LinearAlgebra/src/special.jl:94\n",
       "[45] +(A::LinearAlgebra.Bidiagonal, B::LinearAlgebra.UnitLowerTriangular) in LinearAlgebra at /Applications/Julia-1.7.app/Contents/Resources/julia/share/julia/stdlib/v1.7/LinearAlgebra/src/special.jl:94\n",
       "[46] +(A::LinearAlgebra.Bidiagonal, B::LinearAlgebra.Diagonal) in LinearAlgebra at /Applications/Julia-1.7.app/Contents/Resources/julia/share/julia/stdlib/v1.7/LinearAlgebra/src/special.jl:115\n",
       "[47] +(A::LinearAlgebra.Bidiagonal, B::LinearAlgebra.Tridiagonal) in LinearAlgebra at /Applications/Julia-1.7.app/Contents/Resources/julia/share/julia/stdlib/v1.7/LinearAlgebra/src/special.jl:183\n",
       "[48] +(A::LinearAlgebra.Bidiagonal, B::LinearAlgebra.SymTridiagonal) in LinearAlgebra at /Applications/Julia-1.7.app/Contents/Resources/julia/share/julia/stdlib/v1.7/LinearAlgebra/src/special.jl:203\n",
       "[49] +(A::LinearAlgebra.Bidiagonal{var\"#s859\", V} where {var\"#s859\"<:Number, V<:AbstractVector{var\"#s859\"}}, B::LinearAlgebra.UniformScaling) in LinearAlgebra at /Applications/Julia-1.7.app/Contents/Resources/julia/share/julia/stdlib/v1.7/LinearAlgebra/src/special.jl:236\n",
       "[50] +(A::LinearAlgebra.SymTridiagonal, B::LinearAlgebra.SymTridiagonal) in LinearAlgebra at /Applications/Julia-1.7.app/Contents/Resources/julia/share/julia/stdlib/v1.7/LinearAlgebra/src/tridiag.jl:208\n",
       "[51] +(A::LinearAlgebra.SymTridiagonal, B::LinearAlgebra.Symmetric) in LinearAlgebra at /Applications/Julia-1.7.app/Contents/Resources/julia/share/julia/stdlib/v1.7/LinearAlgebra/src/symmetric.jl:485\n",
       "[52] +(A::LinearAlgebra.SymTridiagonal{var\"#s857\", V} where {var\"#s857\"<:Real, V<:AbstractVector{var\"#s857\"}}, B::LinearAlgebra.Hermitian) in LinearAlgebra at /Applications/Julia-1.7.app/Contents/Resources/julia/share/julia/stdlib/v1.7/LinearAlgebra/src/symmetric.jl:487\n",
       "[53] +(x::LinearAlgebra.SymTridiagonal, H::LinearAlgebra.UpperHessenberg) in LinearAlgebra at /Applications/Julia-1.7.app/Contents/Resources/julia/share/julia/stdlib/v1.7/LinearAlgebra/src/hessenberg.jl:107\n",
       "[54] +(A::LinearAlgebra.SymTridiagonal, B::LinearAlgebra.Diagonal) in LinearAlgebra at /Applications/Julia-1.7.app/Contents/Resources/julia/share/julia/stdlib/v1.7/LinearAlgebra/src/special.jl:145\n",
       "[55] +(A::LinearAlgebra.SymTridiagonal, B::LinearAlgebra.Tridiagonal) in LinearAlgebra at /Applications/Julia-1.7.app/Contents/Resources/julia/share/julia/stdlib/v1.7/LinearAlgebra/src/special.jl:159\n",
       "[56] +(A::LinearAlgebra.SymTridiagonal, B::LinearAlgebra.Bidiagonal) in LinearAlgebra at /Applications/Julia-1.7.app/Contents/Resources/julia/share/julia/stdlib/v1.7/LinearAlgebra/src/special.jl:213\n",
       "[57] +(A::LinearAlgebra.SymTridiagonal{var\"#s859\", V} where {var\"#s859\"<:Number, V<:AbstractVector{var\"#s859\"}}, B::LinearAlgebra.UniformScaling) in LinearAlgebra at /Applications/Julia-1.7.app/Contents/Resources/julia/share/julia/stdlib/v1.7/LinearAlgebra/src/special.jl:231\n",
       "[58] +(a::ChainRulesCore.Tangent{P}, b::ChainRulesCore.Tangent{P}) where P in ChainRulesCore at /Users/ankurbhayana/.julia/packages/ChainRulesCore/RbX5a/src/tangent_arithmetic.jl:129\n",
       "[59] +(a::ChainRulesCore.Tangent, b::ChainRulesCore.AbstractThunk) in ChainRulesCore at /Users/ankurbhayana/.julia/packages/ChainRulesCore/RbX5a/src/tangent_arithmetic.jl:123\n",
       "[60] +(a::ChainRulesCore.Tangent, ::ChainRulesCore.ZeroTangent) in ChainRulesCore at /Users/ankurbhayana/.julia/packages/ChainRulesCore/RbX5a/src/tangent_arithmetic.jl:100\n",
       "[61] +(a::ChainRulesCore.Tangent, ::ChainRulesCore.NoTangent) in ChainRulesCore at /Users/ankurbhayana/.julia/packages/ChainRulesCore/RbX5a/src/tangent_arithmetic.jl:60\n",
       "[62] +(::ChainRulesCore.Tangent, x::ChainRulesCore.NotImplemented) in ChainRulesCore at /Users/ankurbhayana/.julia/packages/ChainRulesCore/RbX5a/src/tangent_arithmetic.jl:25\n",
       "[63] +(a::ChainRulesCore.Tangent{P}, b::P) where P in ChainRulesCore at /Users/ankurbhayana/.julia/packages/ChainRulesCore/RbX5a/src/tangent_arithmetic.jl:146\n",
       "[64] +(A::SparseArrays.AbstractSparseMatrixCSC, B::SparseArrays.AbstractSparseMatrixCSC) in SparseArrays at /Applications/Julia-1.7.app/Contents/Resources/julia/share/julia/stdlib/v1.7/SparseArrays/src/sparsematrix.jl:1771\n",
       "[65] +(x::SparseArrays.AbstractSparseVector, y::SparseArrays.AbstractSparseVector) in SparseArrays at /Applications/Julia-1.7.app/Contents/Resources/julia/share/julia/stdlib/v1.7/SparseArrays/src/sparsevector.jl:1355\n",
       "[66] +(A::SparseArrays.AbstractSparseMatrixCSC, B::Array) in SparseArrays at /Applications/Julia-1.7.app/Contents/Resources/julia/share/julia/stdlib/v1.7/SparseArrays/src/sparsematrix.jl:1774\n",
       "[67] +(A::SparseArrays.AbstractSparseMatrixCSC, J::LinearAlgebra.UniformScaling) in SparseArrays at /Applications/Julia-1.7.app/Contents/Resources/julia/share/julia/stdlib/v1.7/SparseArrays/src/sparsematrix.jl:3754\n",
       "[68] +(r::AbstractRange{<:Dates.TimeType}, x::Dates.Period) in Dates at /Applications/Julia-1.7.app/Contents/Resources/julia/share/julia/stdlib/v1.7/Dates/src/ranges.jl:63\n",
       "[69] +(y::Dates.TimeType, x::StridedArray{<:Union{Dates.CompoundPeriod, Dates.Period}}) in Dates at /Applications/Julia-1.7.app/Contents/Resources/julia/share/julia/stdlib/v1.7/Dates/src/deprecated.jl:18\n",
       "[70] +(A::LinearAlgebra.UnitLowerTriangular, B::LinearAlgebra.LowerTriangular) in LinearAlgebra at /Applications/Julia-1.7.app/Contents/Resources/julia/share/julia/stdlib/v1.7/LinearAlgebra/src/triangular.jl:641\n",
       "[71] +(A::LinearAlgebra.UnitLowerTriangular, B::LinearAlgebra.UnitLowerTriangular) in LinearAlgebra at /Applications/Julia-1.7.app/Contents/Resources/julia/share/julia/stdlib/v1.7/LinearAlgebra/src/triangular.jl:643\n",
       "[72] +(UL::LinearAlgebra.UnitLowerTriangular, J::LinearAlgebra.UniformScaling) in LinearAlgebra at /Applications/Julia-1.7.app/Contents/Resources/julia/share/julia/stdlib/v1.7/LinearAlgebra/src/uniformscaling.jl:182\n",
       "[73] +(A::LinearAlgebra.UnitLowerTriangular, B::LinearAlgebra.Bidiagonal) in LinearAlgebra at /Applications/Julia-1.7.app/Contents/Resources/julia/share/julia/stdlib/v1.7/LinearAlgebra/src/special.jl:86\n",
       "[74] +(x::GeometryBasics.OffsetInteger{O}, y::GeometryBasics.OffsetInteger{O}) where O in GeometryBasics at /Users/ankurbhayana/.julia/packages/GeometryBasics/3PqdK/src/offsetintegers.jl:63\n",
       "[75] +(z::Complex, w::Complex) in Base at complex.jl:288\n",
       "[76] +(x::Ptr, y::Integer) in Base at pointer.jl:159\n",
       "[77] +(x::T, y::Integer) where T<:AbstractChar in Base at char.jl:237\n",
       "[78] +(bb1::Measures.BoundingBox, bb2::Measures.BoundingBox) in Plots at /Users/ankurbhayana/.julia/packages/Plots/1KWPG/src/layouts.jl:19\n",
       "[79] +(A::LinearAlgebra.Symmetric, B::LinearAlgebra.Symmetric) in LinearAlgebra at /Applications/Julia-1.7.app/Contents/Resources/julia/share/julia/stdlib/v1.7/LinearAlgebra/src/symmetric.jl:469\n",
       "[80] +(A::LinearAlgebra.Symmetric, B::LinearAlgebra.SymTridiagonal) in LinearAlgebra at /Applications/Julia-1.7.app/Contents/Resources/julia/share/julia/stdlib/v1.7/LinearAlgebra/src/symmetric.jl:486\n",
       "[81] +(S::LinearAlgebra.Symmetric, D::LinearAlgebra.Diagonal) in LinearAlgebra at /Applications/Julia-1.7.app/Contents/Resources/julia/share/julia/stdlib/v1.7/LinearAlgebra/src/diagonal.jl:179\n",
       "[82] +(A::LinearAlgebra.Symmetric{<:Any, <:SparseArrays.AbstractSparseMatrix}, B::SparseArrays.AbstractSparseMatrix) in SparseArrays at /Applications/Julia-1.7.app/Contents/Resources/julia/share/julia/stdlib/v1.7/SparseArrays/src/linalg.jl:15\n",
       "[83] +(A::LinearAlgebra.Symmetric, B::SparseArrays.AbstractSparseMatrix) in SparseArrays at /Applications/Julia-1.7.app/Contents/Resources/julia/share/julia/stdlib/v1.7/SparseArrays/src/linalg.jl:18\n",
       "[84] +(A::LinearAlgebra.Symmetric{<:Real, <:SparseArrays.AbstractSparseMatrix}, B::LinearAlgebra.Hermitian{<:Any, <:SparseArrays.AbstractSparseMatrix}) in SparseArrays at /Applications/Julia-1.7.app/Contents/Resources/julia/share/julia/stdlib/v1.7/SparseArrays/src/linalg.jl:25\n",
       "[85] +(A::LinearAlgebra.Symmetric{var\"#s858\", S} where {var\"#s858\"<:Real, S<:(AbstractMatrix{<:var\"#s858\"})}, B::LinearAlgebra.Hermitian) in LinearAlgebra at /Applications/Julia-1.7.app/Contents/Resources/julia/share/julia/stdlib/v1.7/LinearAlgebra/src/symmetric.jl:484\n",
       "[86] +(A::LinearAlgebra.Symmetric{<:Any, <:SparseArrays.AbstractSparseMatrix}, B::LinearAlgebra.Hermitian{<:Any, <:SparseArrays.AbstractSparseMatrix}) in SparseArrays at /Applications/Julia-1.7.app/Contents/Resources/julia/share/julia/stdlib/v1.7/SparseArrays/src/linalg.jl:23\n",
       "[87] +(A::LinearAlgebra.Hermitian, B::LinearAlgebra.Hermitian) in LinearAlgebra at /Applications/Julia-1.7.app/Contents/Resources/julia/share/julia/stdlib/v1.7/LinearAlgebra/src/symmetric.jl:469\n",
       "[88] +(A::LinearAlgebra.Hermitian, B::LinearAlgebra.SymTridiagonal{var\"#s856\", V} where {var\"#s856\"<:Real, V<:AbstractVector{var\"#s856\"}}) in LinearAlgebra at /Applications/Julia-1.7.app/Contents/Resources/julia/share/julia/stdlib/v1.7/LinearAlgebra/src/symmetric.jl:488\n",
       "[89] +(H::LinearAlgebra.Hermitian, D::LinearAlgebra.Diagonal{var\"#s859\", V} where {var\"#s859\"<:Real, V<:AbstractVector{var\"#s859\"}}) in LinearAlgebra at /Applications/Julia-1.7.app/Contents/Resources/julia/share/julia/stdlib/v1.7/LinearAlgebra/src/diagonal.jl:185\n",
       "[90] +(A::LinearAlgebra.Hermitian, J::LinearAlgebra.UniformScaling{<:Complex}) in LinearAlgebra at /Applications/Julia-1.7.app/Contents/Resources/julia/share/julia/stdlib/v1.7/LinearAlgebra/src/uniformscaling.jl:196\n",
       "[91] +(A::LinearAlgebra.Hermitian{<:Any, <:SparseArrays.AbstractSparseMatrix}, B::SparseArrays.AbstractSparseMatrix) in SparseArrays at /Applications/Julia-1.7.app/Contents/Resources/julia/share/julia/stdlib/v1.7/SparseArrays/src/linalg.jl:15\n",
       "[92] +(A::LinearAlgebra.Hermitian, B::SparseArrays.AbstractSparseMatrix) in SparseArrays at /Applications/Julia-1.7.app/Contents/Resources/julia/share/julia/stdlib/v1.7/SparseArrays/src/linalg.jl:18\n",
       "[93] +(A::LinearAlgebra.Hermitian{<:Any, <:SparseArrays.AbstractSparseMatrix}, B::LinearAlgebra.Symmetric{<:Real, <:SparseArrays.AbstractSparseMatrix}) in SparseArrays at /Applications/Julia-1.7.app/Contents/Resources/julia/share/julia/stdlib/v1.7/SparseArrays/src/linalg.jl:26\n",
       "[94] +(A::LinearAlgebra.Hermitian, B::LinearAlgebra.Symmetric{var\"#s859\", S} where {var\"#s859\"<:Real, S<:(AbstractMatrix{<:var\"#s859\"})}) in LinearAlgebra at /Applications/Julia-1.7.app/Contents/Resources/julia/share/julia/stdlib/v1.7/LinearAlgebra/src/symmetric.jl:483\n",
       "[95] +(A::LinearAlgebra.Hermitian{<:Any, <:SparseArrays.AbstractSparseMatrix}, B::LinearAlgebra.Symmetric{<:Any, <:SparseArrays.AbstractSparseMatrix}) in SparseArrays at /Applications/Julia-1.7.app/Contents/Resources/julia/share/julia/stdlib/v1.7/SparseArrays/src/linalg.jl:24\n",
       "[96] +(A::Array, Bs::Array...) in Base at arraymath.jl:43\n",
       "[97] +(X::StridedArray{<:Union{Dates.CompoundPeriod, Dates.Period}}, Y::StridedArray{<:Union{Dates.CompoundPeriod, Dates.Period}}) in Dates at /Applications/Julia-1.7.app/Contents/Resources/julia/share/julia/stdlib/v1.7/Dates/src/deprecated.jl:62\n",
       "[98] +(A::Array, B::SparseArrays.AbstractSparseMatrixCSC) in SparseArrays at /Applications/Julia-1.7.app/Contents/Resources/julia/share/julia/stdlib/v1.7/SparseArrays/src/sparsematrix.jl:1775\n",
       "[99] +(x::StridedArray{<:Union{Dates.CompoundPeriod, Dates.Period}}) in Dates at /Applications/Julia-1.7.app/Contents/Resources/julia/share/julia/stdlib/v1.7/Dates/src/deprecated.jl:55\n",
       "[100] +(x::StridedArray{<:Union{Dates.CompoundPeriod, Dates.Period}}, y::Dates.TimeType) in Dates at /Applications/Julia-1.7.app/Contents/Resources/julia/share/julia/stdlib/v1.7/Dates/src/deprecated.jl:10\n",
       "[101] +(A::LinearAlgebra.LowerTriangular, B::LinearAlgebra.LowerTriangular) in LinearAlgebra at /Applications/Julia-1.7.app/Contents/Resources/julia/share/julia/stdlib/v1.7/LinearAlgebra/src/triangular.jl:637\n",
       "[102] +(A::LinearAlgebra.LowerTriangular, B::LinearAlgebra.UnitLowerTriangular) in LinearAlgebra at /Applications/Julia-1.7.app/Contents/Resources/julia/share/julia/stdlib/v1.7/LinearAlgebra/src/triangular.jl:639\n",
       "[103] +(A::LinearAlgebra.LowerTriangular, B::LinearAlgebra.Bidiagonal) in LinearAlgebra at /Applications/Julia-1.7.app/Contents/Resources/julia/share/julia/stdlib/v1.7/LinearAlgebra/src/special.jl:86\n",
       "[104] +(A::LinearAlgebra.UpperTriangular, B::LinearAlgebra.UpperTriangular) in LinearAlgebra at /Applications/Julia-1.7.app/Contents/Resources/julia/share/julia/stdlib/v1.7/LinearAlgebra/src/triangular.jl:636\n",
       "[105] +(A::LinearAlgebra.UpperTriangular, B::LinearAlgebra.UnitUpperTriangular) in LinearAlgebra at /Applications/Julia-1.7.app/Contents/Resources/julia/share/julia/stdlib/v1.7/LinearAlgebra/src/triangular.jl:638\n",
       "[106] +(A::LinearAlgebra.AbstractTriangular, B::LinearAlgebra.AbstractTriangular) in LinearAlgebra at /Applications/Julia-1.7.app/Contents/Resources/julia/share/julia/stdlib/v1.7/LinearAlgebra/src/triangular.jl:644\n",
       "[107] +(x::LinearAlgebra.UpperTriangular, H::LinearAlgebra.UpperHessenberg) in LinearAlgebra at /Applications/Julia-1.7.app/Contents/Resources/julia/share/julia/stdlib/v1.7/LinearAlgebra/src/hessenberg.jl:107\n",
       "[108] +(A::LinearAlgebra.UpperTriangular, B::LinearAlgebra.Bidiagonal) in LinearAlgebra at /Applications/Julia-1.7.app/Contents/Resources/julia/share/julia/stdlib/v1.7/LinearAlgebra/src/special.jl:86\n",
       "[109] +(x::Base.TwicePrecision, y::Number) in Base at twiceprecision.jl:279\n",
       "[110] +(x::Base.TwicePrecision{T}, y::Base.TwicePrecision{T}) where T in Base at twiceprecision.jl:285\n",
       "[111] +(x::Base.TwicePrecision, y::Base.TwicePrecision) in Base at twiceprecision.jl:290\n",
       "[112] +(r1::StepRangeLen{T, R}, r2::StepRangeLen{T, R}) where {R<:Base.TwicePrecision, T} in Base at twiceprecision.jl:613\n",
       "[113] +(r1::StepRangeLen{T, S}, r2::StepRangeLen{T, S}) where {T, S} in Base at range.jl:1370\n",
       "[114] +(h::GeometryBasics.HyperRectangle{N, T}, move::StaticArrays.StaticVector{N}) where {N, T} in GeometryBasics at /Users/ankurbhayana/.julia/packages/GeometryBasics/3PqdK/src/primitives/rectangles.jl:273\n",
       "[115] +(h::GeometryBasics.HyperRectangle{N, T}, move::Number) where {N, T} in GeometryBasics at /Users/ankurbhayana/.julia/packages/GeometryBasics/3PqdK/src/primitives/rectangles.jl:267\n",
       "[116] +(a::StaticArrays.StaticMatrix, b::LinearAlgebra.UniformScaling) in StaticArrays at /Users/ankurbhayana/.julia/packages/StaticArrays/58yy1/src/linalg.jl:29\n",
       "[117] +(a::StaticArrays.StaticArray) in StaticArrays at /Users/ankurbhayana/.julia/packages/StaticArrays/58yy1/src/linalg.jl:7\n",
       "[118] +(x::AbstractArray{<:Dates.TimeType}, y::Union{Dates.CompoundPeriod, Dates.Period}) in Dates at /Applications/Julia-1.7.app/Contents/Resources/julia/share/julia/stdlib/v1.7/Dates/src/deprecated.jl:6\n",
       "[119] +(a::StaticArrays.StaticArray, b::StaticArrays.StaticArray) in StaticArrays at /Users/ankurbhayana/.julia/packages/StaticArrays/58yy1/src/linalg.jl:12\n",
       "[120] +(a::AbstractArray, b::StaticArrays.StaticArray) in StaticArrays at /Users/ankurbhayana/.julia/packages/StaticArrays/58yy1/src/linalg.jl:13\n",
       "[121] +(a::StaticArrays.StaticArray, b::AbstractArray) in StaticArrays at /Users/ankurbhayana/.julia/packages/StaticArrays/58yy1/src/linalg.jl:14\n",
       "[122] +(x::Dates.Instant) in Dates at /Applications/Julia-1.7.app/Contents/Resources/julia/share/julia/stdlib/v1.7/Dates/src/arithmetic.jl:4\n",
       "[123] +(x::AbstractIrrational, y::AbstractIrrational) in Base at irrationals.jl:158\n",
       "[124] +(x::Rational, y::Integer) in Base at rational.jl:311\n",
       "[125] +(a::AbstractRGB, b::AbstractRGB) in ColorVectorSpace at /Users/ankurbhayana/.julia/packages/ColorVectorSpace/CPykb/src/ColorVectorSpace.jl:271\n",
       "[126] +(a::AbstractGray{Bool}, b::AbstractGray{Bool}) in ColorVectorSpace at /Users/ankurbhayana/.julia/packages/ColorVectorSpace/CPykb/src/ColorVectorSpace.jl:321\n",
       "[127] +(c::Union{TransparentColor{C, T}, C} where {T, C<:Union{AbstractRGB{T}, AbstractGray{T}}}) in ColorVectorSpace at /Users/ankurbhayana/.julia/packages/ColorVectorSpace/CPykb/src/ColorVectorSpace.jl:248\n",
       "[128] +(a::AbstractGray, b::AbstractGray) in ColorVectorSpace at /Users/ankurbhayana/.julia/packages/ColorVectorSpace/CPykb/src/ColorVectorSpace.jl:320\n",
       "[129] +(a::Union{TransparentColor{C, T}, C} where {T, C<:Union{AbstractRGB{T}, AbstractGray{T}}}, b::Union{TransparentColor{C, T}, C} where {T, C<:Union{AbstractRGB{T}, AbstractGray{T}}}) in ColorVectorSpace at /Users/ankurbhayana/.julia/packages/ColorVectorSpace/CPykb/src/ColorVectorSpace.jl:259\n",
       "[130] +(a::Dict, d::ChainRulesCore.Tangent{P}) where P in ChainRulesCore at /Users/ankurbhayana/.julia/packages/ChainRulesCore/RbX5a/src/tangent_arithmetic.jl:145\n",
       "[131] +(F::LinearAlgebra.Hessenberg, J::LinearAlgebra.UniformScaling) in LinearAlgebra at /Applications/Julia-1.7.app/Contents/Resources/julia/share/julia/stdlib/v1.7/LinearAlgebra/src/hessenberg.jl:640\n",
       "[132] +(a::Measures.Length{U}, b::Measures.Length{U}) where U in Measures at /Users/ankurbhayana/.julia/packages/Measures/0Zkai/src/length.jl:28\n",
       "[133] +(a::Measures.Measure, b::Measures.Measure) in Measures at /Users/ankurbhayana/.julia/packages/Measures/0Zkai/src/operations.jl:41\n",
       "[134] +(a::Tuple{Vararg{Measures.Measure, N}}, b::Tuple{Vararg{Measures.Measure, N}}) where N in Measures at /Users/ankurbhayana/.julia/packages/Measures/0Zkai/src/point.jl:21\n",
       "[135] +(a::Tuple{Vararg{Measures.Measure, N}} where N, b::Tuple{Vararg{Measures.Measure, N}} where N) in Measures at /Users/ankurbhayana/.julia/packages/Measures/0Zkai/src/point.jl:15\n",
       "[136] +(y::AbstractFloat, x::Bool) in Base at bool.jl:172\n",
       "[137] +(p::SpecialFunctions.SimplePoly{S}, q::SpecialFunctions.SimplePoly{T}) where {S, T} in SpecialFunctions at /Users/ankurbhayana/.julia/packages/SpecialFunctions/PAbhC/src/expint.jl:11\n",
       "[138] +(x::X, y::X) where X<:FixedPointNumbers.FixedPoint in FixedPointNumbers at /Users/ankurbhayana/.julia/packages/FixedPointNumbers/HAGk2/src/FixedPointNumbers.jl:237\n",
       "[139] +(A::LinearAlgebra.UpperHessenberg, B::LinearAlgebra.UpperHessenberg) in LinearAlgebra at /Applications/Julia-1.7.app/Contents/Resources/julia/share/julia/stdlib/v1.7/LinearAlgebra/src/hessenberg.jl:99\n",
       "[140] +(H::LinearAlgebra.UpperHessenberg, x::LinearAlgebra.UniformScaling) in LinearAlgebra at /Applications/Julia-1.7.app/Contents/Resources/julia/share/julia/stdlib/v1.7/LinearAlgebra/src/hessenberg.jl:106\n",
       "[141] +(H::LinearAlgebra.UpperHessenberg, x::LinearAlgebra.Diagonal) in LinearAlgebra at /Applications/Julia-1.7.app/Contents/Resources/julia/share/julia/stdlib/v1.7/LinearAlgebra/src/hessenberg.jl:106\n",
       "[142] +(H::LinearAlgebra.UpperHessenberg, x::LinearAlgebra.Bidiagonal) in LinearAlgebra at /Applications/Julia-1.7.app/Contents/Resources/julia/share/julia/stdlib/v1.7/LinearAlgebra/src/hessenberg.jl:106\n",
       "[143] +(H::LinearAlgebra.UpperHessenberg, x::LinearAlgebra.Tridiagonal) in LinearAlgebra at /Applications/Julia-1.7.app/Contents/Resources/julia/share/julia/stdlib/v1.7/LinearAlgebra/src/hessenberg.jl:106\n",
       "[144] +(H::LinearAlgebra.UpperHessenberg, x::LinearAlgebra.SymTridiagonal) in LinearAlgebra at /Applications/Julia-1.7.app/Contents/Resources/julia/share/julia/stdlib/v1.7/LinearAlgebra/src/hessenberg.jl:106\n",
       "[145] +(H::LinearAlgebra.UpperHessenberg, x::LinearAlgebra.UpperTriangular) in LinearAlgebra at /Applications/Julia-1.7.app/Contents/Resources/julia/share/julia/stdlib/v1.7/LinearAlgebra/src/hessenberg.jl:106\n",
       "[146] +(H::LinearAlgebra.UpperHessenberg, x::LinearAlgebra.UnitUpperTriangular) in LinearAlgebra at /Applications/Julia-1.7.app/Contents/Resources/julia/share/julia/stdlib/v1.7/LinearAlgebra/src/hessenberg.jl:106\n",
       "[147] +(a::ColorVectorSpace.RGBRGB) in ColorVectorSpace at /Users/ankurbhayana/.julia/packages/ColorVectorSpace/CPykb/src/ColorVectorSpace.jl:421\n",
       "[148] +(a::ColorVectorSpace.RGBRGB, b::ColorVectorSpace.RGBRGB) in ColorVectorSpace at /Users/ankurbhayana/.julia/packages/ColorVectorSpace/CPykb/src/ColorVectorSpace.jl:423\n",
       "[149] +(a::ChainRulesCore.AbstractThunk, b::ChainRulesCore.Tangent) in ChainRulesCore at /Users/ankurbhayana/.julia/packages/ChainRulesCore/RbX5a/src/tangent_arithmetic.jl:122\n",
       "[150] +(a::ChainRulesCore.AbstractThunk, b::ChainRulesCore.AbstractThunk) in ChainRulesCore at /Users/ankurbhayana/.julia/packages/ChainRulesCore/RbX5a/src/tangent_arithmetic.jl:119\n",
       "[151] +(a::ChainRulesCore.AbstractThunk, ::ChainRulesCore.ZeroTangent) in ChainRulesCore at /Users/ankurbhayana/.julia/packages/ChainRulesCore/RbX5a/src/tangent_arithmetic.jl:100\n",
       "[152] +(a::ChainRulesCore.AbstractThunk, ::ChainRulesCore.NoTangent) in ChainRulesCore at /Users/ankurbhayana/.julia/packages/ChainRulesCore/RbX5a/src/tangent_arithmetic.jl:60\n",
       "[153] +(::ChainRulesCore.AbstractThunk, x::ChainRulesCore.NotImplemented) in ChainRulesCore at /Users/ankurbhayana/.julia/packages/ChainRulesCore/RbX5a/src/tangent_arithmetic.jl:25\n",
       "[154] +(a::ChainRulesCore.AbstractThunk, b) in ChainRulesCore at /Users/ankurbhayana/.julia/packages/ChainRulesCore/RbX5a/src/tangent_arithmetic.jl:122\n",
       "[155] +(A::LinearAlgebra.Tridiagonal, B::LinearAlgebra.Tridiagonal) in LinearAlgebra at /Applications/Julia-1.7.app/Contents/Resources/julia/share/julia/stdlib/v1.7/LinearAlgebra/src/tridiag.jl:740\n",
       "[156] +(x::LinearAlgebra.Tridiagonal, H::LinearAlgebra.UpperHessenberg) in LinearAlgebra at /Applications/Julia-1.7.app/Contents/Resources/julia/share/julia/stdlib/v1.7/LinearAlgebra/src/hessenberg.jl:107\n",
       "[157] +(A::LinearAlgebra.Tridiagonal, B::LinearAlgebra.SymTridiagonal) in LinearAlgebra at /Applications/Julia-1.7.app/Contents/Resources/julia/share/julia/stdlib/v1.7/LinearAlgebra/src/special.jl:157\n",
       "[158] +(A::LinearAlgebra.Tridiagonal, B::LinearAlgebra.Diagonal) in LinearAlgebra at /Applications/Julia-1.7.app/Contents/Resources/julia/share/julia/stdlib/v1.7/LinearAlgebra/src/special.jl:173\n",
       "[159] +(A::LinearAlgebra.Tridiagonal, B::LinearAlgebra.Bidiagonal) in LinearAlgebra at /Applications/Julia-1.7.app/Contents/Resources/julia/share/julia/stdlib/v1.7/LinearAlgebra/src/special.jl:193\n",
       "[160] +(A::LinearAlgebra.Tridiagonal{var\"#s859\", V} where {var\"#s859\"<:Number, V<:AbstractVector{var\"#s859\"}}, B::LinearAlgebra.UniformScaling) in LinearAlgebra at /Applications/Julia-1.7.app/Contents/Resources/julia/share/julia/stdlib/v1.7/LinearAlgebra/src/special.jl:226\n",
       "[161] +(A::BitArray, B::BitArray) in Base at bitarray.jl:1180\n",
       "[162] +(r1::OrdinalRange, r2::OrdinalRange) in Base at range.jl:1347\n",
       "[163] +(r1::Union{LinRange, OrdinalRange, StepRangeLen}, r2::Union{LinRange, OrdinalRange, StepRangeLen}) in Base at range.jl:1363\n",
       "[164] +(A::AbstractArray, B::AbstractArray) in Base at arraymath.jl:37\n",
       "[165] +(index1::CartesianIndex{N}, index2::CartesianIndex{N}) where N in Base.IteratorsMD at multidimensional.jl:114\n",
       "[166] +(J::LinearAlgebra.UniformScaling) in LinearAlgebra at /Applications/Julia-1.7.app/Contents/Resources/julia/share/julia/stdlib/v1.7/LinearAlgebra/src/uniformscaling.jl:150\n",
       "[167] +(J::LinearAlgebra.UniformScaling, x::Number) in LinearAlgebra at /Applications/Julia-1.7.app/Contents/Resources/julia/share/julia/stdlib/v1.7/LinearAlgebra/src/uniformscaling.jl:145\n",
       "[168] +(J1::LinearAlgebra.UniformScaling, J2::LinearAlgebra.UniformScaling) in LinearAlgebra at /Applications/Julia-1.7.app/Contents/Resources/julia/share/julia/stdlib/v1.7/LinearAlgebra/src/uniformscaling.jl:151\n",
       "[169] +(J::LinearAlgebra.UniformScaling, B::BitMatrix) in LinearAlgebra at /Applications/Julia-1.7.app/Contents/Resources/julia/share/julia/stdlib/v1.7/LinearAlgebra/src/uniformscaling.jl:153\n",
       "[170] +(x::LinearAlgebra.UniformScaling, H::LinearAlgebra.UpperHessenberg) in LinearAlgebra at /Applications/Julia-1.7.app/Contents/Resources/julia/share/julia/stdlib/v1.7/LinearAlgebra/src/hessenberg.jl:107\n",
       "[171] +(J::LinearAlgebra.UniformScaling, F::LinearAlgebra.Hessenberg) in LinearAlgebra at /Applications/Julia-1.7.app/Contents/Resources/julia/share/julia/stdlib/v1.7/LinearAlgebra/src/hessenberg.jl:641\n",
       "[172] +(A::LinearAlgebra.UniformScaling, B::LinearAlgebra.Tridiagonal{var\"#s859\", V} where {var\"#s859\"<:Number, V<:AbstractVector{var\"#s859\"}}) in LinearAlgebra at /Applications/Julia-1.7.app/Contents/Resources/julia/share/julia/stdlib/v1.7/LinearAlgebra/src/special.jl:245\n",
       "[173] +(A::LinearAlgebra.UniformScaling, B::LinearAlgebra.SymTridiagonal{var\"#s859\", V} where {var\"#s859\"<:Number, V<:AbstractVector{var\"#s859\"}}) in LinearAlgebra at /Applications/Julia-1.7.app/Contents/Resources/julia/share/julia/stdlib/v1.7/LinearAlgebra/src/special.jl:250\n",
       "[174] +(A::LinearAlgebra.UniformScaling, B::LinearAlgebra.Bidiagonal{var\"#s859\", V} where {var\"#s859\"<:Number, V<:AbstractVector{var\"#s859\"}}) in LinearAlgebra at /Applications/Julia-1.7.app/Contents/Resources/julia/share/julia/stdlib/v1.7/LinearAlgebra/src/special.jl:255\n",
       "[175] +(A::LinearAlgebra.UniformScaling, B::LinearAlgebra.Diagonal{var\"#s859\", V} where {var\"#s859\"<:Number, V<:AbstractVector{var\"#s859\"}}) in LinearAlgebra at /Applications/Julia-1.7.app/Contents/Resources/julia/share/julia/stdlib/v1.7/LinearAlgebra/src/special.jl:260\n",
       "[176] +(a::LinearAlgebra.UniformScaling, b::StaticArrays.StaticMatrix) in StaticArrays at /Users/ankurbhayana/.julia/packages/StaticArrays/58yy1/src/linalg.jl:30\n",
       "[177] +(J::LinearAlgebra.UniformScaling, A::AbstractMatrix) in LinearAlgebra at /Applications/Julia-1.7.app/Contents/Resources/julia/share/julia/stdlib/v1.7/LinearAlgebra/src/uniformscaling.jl:154\n",
       "[178] +(x::Bool) in Base at bool.jl:159\n",
       "[179] +(x::Integer, y::Ptr) in Base at pointer.jl:161\n",
       "[180] +(y::Integer, x::Rational) in Base at rational.jl:318\n",
       "[181] +(x::Integer, y::AbstractChar) in Base at char.jl:247\n",
       "[182] +(x::Number, y::Base.TwicePrecision) in Base at twiceprecision.jl:283\n",
       "[183] +(::Number, ::Missing) in Base at missing.jl:124\n",
       "[184] +(x::Number, J::LinearAlgebra.UniformScaling) in LinearAlgebra at /Applications/Julia-1.7.app/Contents/Resources/julia/share/julia/stdlib/v1.7/LinearAlgebra/src/uniformscaling.jl:146\n",
       "[185] +(a::Number, b::AbstractGray) in ColorVectorSpace at /Users/ankurbhayana/.julia/packages/ColorVectorSpace/CPykb/src/ColorVectorSpace.jl:333\n",
       "[186] +(x::Bool, y::T) where T<:AbstractFloat in Base at bool.jl:169\n",
       "[187] +(x::Bool, y::Bool) in Base at bool.jl:162\n",
       "[188] +(x::Bool, z::Complex{Bool}) in Base at complex.jl:299\n",
       "[189] +(x::Bool, z::Complex) in Base at complex.jl:306\n",
       "[190] +(::ChainRulesCore.NoTangent, b::ChainRulesCore.Tangent) in ChainRulesCore at /Users/ankurbhayana/.julia/packages/ChainRulesCore/RbX5a/src/tangent_arithmetic.jl:59\n",
       "[191] +(::ChainRulesCore.NoTangent, b::ChainRulesCore.AbstractThunk) in ChainRulesCore at /Users/ankurbhayana/.julia/packages/ChainRulesCore/RbX5a/src/tangent_arithmetic.jl:59\n",
       "[192] +(::ChainRulesCore.NoTangent, ::ChainRulesCore.ZeroTangent) in ChainRulesCore at /Users/ankurbhayana/.julia/packages/ChainRulesCore/RbX5a/src/tangent_arithmetic.jl:73\n",
       "[193] +(::ChainRulesCore.NoTangent, ::ChainRulesCore.NoTangent) in ChainRulesCore at /Users/ankurbhayana/.julia/packages/ChainRulesCore/RbX5a/src/tangent_arithmetic.jl:53\n",
       "[194] +(::ChainRulesCore.NoTangent, x::ChainRulesCore.NotImplemented) in ChainRulesCore at /Users/ankurbhayana/.julia/packages/ChainRulesCore/RbX5a/src/tangent_arithmetic.jl:25\n",
       "[195] +(::ChainRulesCore.NoTangent, b) in ChainRulesCore at /Users/ankurbhayana/.julia/packages/ChainRulesCore/RbX5a/src/tangent_arithmetic.jl:59\n",
       "[196] +(::ChainRulesCore.ZeroTangent, b::ChainRulesCore.Tangent) in ChainRulesCore at /Users/ankurbhayana/.julia/packages/ChainRulesCore/RbX5a/src/tangent_arithmetic.jl:99\n",
       "[197] +(::ChainRulesCore.ZeroTangent, b::ChainRulesCore.AbstractThunk) in ChainRulesCore at /Users/ankurbhayana/.julia/packages/ChainRulesCore/RbX5a/src/tangent_arithmetic.jl:99\n",
       "[198] +(::ChainRulesCore.ZeroTangent, ::ChainRulesCore.ZeroTangent) in ChainRulesCore at /Users/ankurbhayana/.julia/packages/ChainRulesCore/RbX5a/src/tangent_arithmetic.jl:93\n",
       "[199] +(::ChainRulesCore.ZeroTangent, ::ChainRulesCore.NoTangent) in ChainRulesCore at /Users/ankurbhayana/.julia/packages/ChainRulesCore/RbX5a/src/tangent_arithmetic.jl:74\n",
       "[200] +(::ChainRulesCore.ZeroTangent, x::ChainRulesCore.NotImplemented) in ChainRulesCore at /Users/ankurbhayana/.julia/packages/ChainRulesCore/RbX5a/src/tangent_arithmetic.jl:25\n",
       "[201] +(::ChainRulesCore.ZeroTangent, b) in ChainRulesCore at /Users/ankurbhayana/.julia/packages/ChainRulesCore/RbX5a/src/tangent_arithmetic.jl:99\n",
       "[202] +(dt::Dates.DateTime, y::Dates.Year) in Dates at /Applications/Julia-1.7.app/Contents/Resources/julia/share/julia/stdlib/v1.7/Dates/src/arithmetic.jl:23\n",
       "[203] +(dt::Dates.DateTime, z::Dates.Month) in Dates at /Applications/Julia-1.7.app/Contents/Resources/julia/share/julia/stdlib/v1.7/Dates/src/arithmetic.jl:47\n",
       "[204] +(x::Dates.DateTime, y::Dates.Quarter) in Dates at /Applications/Julia-1.7.app/Contents/Resources/julia/share/julia/stdlib/v1.7/Dates/src/arithmetic.jl:75\n",
       "[205] +(x::Dates.DateTime, y::Dates.Period) in Dates at /Applications/Julia-1.7.app/Contents/Resources/julia/share/julia/stdlib/v1.7/Dates/src/arithmetic.jl:81\n",
       "[206] +(B::BitMatrix, J::LinearAlgebra.UniformScaling) in LinearAlgebra at /Applications/Julia-1.7.app/Contents/Resources/julia/share/julia/stdlib/v1.7/LinearAlgebra/src/uniformscaling.jl:152\n",
       "[207] +(A::AbstractMatrix, J::LinearAlgebra.UniformScaling) in LinearAlgebra at /Applications/Julia-1.7.app/Contents/Resources/julia/share/julia/stdlib/v1.7/LinearAlgebra/src/uniformscaling.jl:215\n",
       "[208] +(x::AbstractArray{<:Number}) in Base at abstractarraymath.jl:104\n",
       "[209] +(x::Float64, y::Float64) in Base at float.jl:399\n",
       "[210] +(x::ChainRulesCore.NotImplemented, ::ChainRulesCore.Tangent) in ChainRulesCore at /Users/ankurbhayana/.julia/packages/ChainRulesCore/RbX5a/src/tangent_arithmetic.jl:24\n",
       "[211] +(x::ChainRulesCore.NotImplemented, ::ChainRulesCore.AbstractThunk) in ChainRulesCore at /Users/ankurbhayana/.julia/packages/ChainRulesCore/RbX5a/src/tangent_arithmetic.jl:24\n",
       "[212] +(x::ChainRulesCore.NotImplemented, ::ChainRulesCore.NoTangent) in ChainRulesCore at /Users/ankurbhayana/.julia/packages/ChainRulesCore/RbX5a/src/tangent_arithmetic.jl:24\n",
       "[213] +(x::ChainRulesCore.NotImplemented, ::ChainRulesCore.ZeroTangent) in ChainRulesCore at /Users/ankurbhayana/.julia/packages/ChainRulesCore/RbX5a/src/tangent_arithmetic.jl:24\n",
       "[214] +(x::ChainRulesCore.NotImplemented, ::ChainRulesCore.NotImplemented) in ChainRulesCore at /Users/ankurbhayana/.julia/packages/ChainRulesCore/RbX5a/src/tangent_arithmetic.jl:19\n",
       "[215] +(x::ChainRulesCore.NotImplemented, ::Any) in ChainRulesCore at /Users/ankurbhayana/.julia/packages/ChainRulesCore/RbX5a/src/tangent_arithmetic.jl:24\n",
       "[216] +(x::ChainRulesCore.AbstractTangent) in ChainRulesCore at /Users/ankurbhayana/.julia/packages/ChainRulesCore/RbX5a/src/tangent_types/abstract_tangent.jl:38\n",
       "[217] +(::Missing) in Base at missing.jl:101\n",
       "[218] +(::Missing, ::Number) in Base at missing.jl:123\n",
       "[219] +(x::Missing, y::Dates.AbstractTime) in Dates at /Applications/Julia-1.7.app/Contents/Resources/julia/share/julia/stdlib/v1.7/Dates/src/arithmetic.jl:89\n",
       "[220] +(::Missing, ::Missing) in Base at missing.jl:122\n",
       "[221] +(dt::Dates.Date, t::Dates.Time) in Dates at /Applications/Julia-1.7.app/Contents/Resources/julia/share/julia/stdlib/v1.7/Dates/src/arithmetic.jl:19\n",
       "[222] +(dt::Dates.Date, y::Dates.Year) in Dates at /Applications/Julia-1.7.app/Contents/Resources/julia/share/julia/stdlib/v1.7/Dates/src/arithmetic.jl:27\n",
       "[223] +(dt::Dates.Date, z::Dates.Month) in Dates at /Applications/Julia-1.7.app/Contents/Resources/julia/share/julia/stdlib/v1.7/Dates/src/arithmetic.jl:54\n",
       "[224] +(x::Dates.Date, y::Dates.Quarter) in Dates at /Applications/Julia-1.7.app/Contents/Resources/julia/share/julia/stdlib/v1.7/Dates/src/arithmetic.jl:73\n",
       "[225] +(x::Dates.Date, y::Dates.Week) in Dates at /Applications/Julia-1.7.app/Contents/Resources/julia/share/julia/stdlib/v1.7/Dates/src/arithmetic.jl:77\n",
       "[226] +(x::Dates.Date, y::Dates.Day) in Dates at /Applications/Julia-1.7.app/Contents/Resources/julia/share/julia/stdlib/v1.7/Dates/src/arithmetic.jl:79\n",
       "[227] +(x::Dates.CompoundPeriod, y::Dates.Period) in Dates at /Applications/Julia-1.7.app/Contents/Resources/julia/share/julia/stdlib/v1.7/Dates/src/periods.jl:362\n",
       "[228] +(x::Dates.CompoundPeriod, y::Dates.TimeType) in Dates at /Applications/Julia-1.7.app/Contents/Resources/julia/share/julia/stdlib/v1.7/Dates/src/periods.jl:392\n",
       "[229] +(x::Dates.CompoundPeriod, y::Dates.CompoundPeriod) in Dates at /Applications/Julia-1.7.app/Contents/Resources/julia/share/julia/stdlib/v1.7/Dates/src/periods.jl:364\n",
       "[230] +(x::Rational{BigInt}, y::Rational{BigInt}) in Base.GMP.MPQ at gmp.jl:885\n",
       "[231] +(x::Rational) in Base at rational.jl:268\n",
       "[232] +(x::Real, z::Complex{Bool}) in Base at complex.jl:313\n",
       "[233] +(x::Real, z::Complex) in Base at complex.jl:325\n",
       "[234] +(x::Rational, y::Rational) in Base at rational.jl:282\n",
       "[235] +(z::Complex{Bool}, x::Bool) in Base at complex.jl:300\n",
       "[236] +(z::Complex, x::Bool) in Base at complex.jl:307\n",
       "[237] +(z::Complex{Bool}, x::Real) in Base at complex.jl:314\n",
       "[238] +(z::Complex) in Base at complex.jl:286\n",
       "[239] +(z::Complex, x::Real) in Base at complex.jl:326\n",
       "[240] +(level::Base.CoreLogging.LogLevel, inc::Integer) in Base.CoreLogging at logging.jl:131\n",
       "[241] +(x::Float16, y::Float16) in Base at float.jl:397\n",
       "[242] +(x::Dates.Time, y::Dates.TimePeriod) in Dates at /Applications/Julia-1.7.app/Contents/Resources/julia/share/julia/stdlib/v1.7/Dates/src/arithmetic.jl:83\n",
       "[243] +(t::Dates.Time, dt::Dates.Date) in Dates at /Applications/Julia-1.7.app/Contents/Resources/julia/share/julia/stdlib/v1.7/Dates/src/arithmetic.jl:20\n",
       "[244] +(x::Dates.TimeType) in Dates at /Applications/Julia-1.7.app/Contents/Resources/julia/share/julia/stdlib/v1.7/Dates/src/arithmetic.jl:8\n",
       "[245] +(x::Dates.AbstractTime, y::Missing) in Dates at /Applications/Julia-1.7.app/Contents/Resources/julia/share/julia/stdlib/v1.7/Dates/src/arithmetic.jl:88\n",
       "[246] +(a::Dates.TimeType, b::Dates.Period, c::Dates.Period) in Dates at /Applications/Julia-1.7.app/Contents/Resources/julia/share/julia/stdlib/v1.7/Dates/src/periods.jl:383\n",
       "[247] +(a::Dates.TimeType, b::Dates.Period, c::Dates.Period, d::Dates.Period...) in Dates at /Applications/Julia-1.7.app/Contents/Resources/julia/share/julia/stdlib/v1.7/Dates/src/periods.jl:384\n",
       "[248] +(x::Dates.TimeType, y::Dates.CompoundPeriod) in Dates at /Applications/Julia-1.7.app/Contents/Resources/julia/share/julia/stdlib/v1.7/Dates/src/periods.jl:386\n",
       "[249] +(x::BigInt, c::Union{UInt16, UInt32, UInt64, UInt8}) in Base.GMP at gmp.jl:528\n",
       "[250] +(x::BigInt, c::Union{Int16, Int32, Int64, Int8}) in Base.GMP at gmp.jl:534\n",
       "[251] +(x::BigInt, y::BigInt) in Base.GMP at gmp.jl:480\n",
       "[252] +(a::BigInt, b::BigInt, c::BigInt) in Base.GMP at gmp.jl:520\n",
       "[253] +(a::BigInt, b::BigInt, c::BigInt, d::BigInt) in Base.GMP at gmp.jl:521\n",
       "[254] +(a::BigInt, b::BigInt, c::BigInt, d::BigInt, e::BigInt) in Base.GMP at gmp.jl:522\n",
       "[255] +(x::BigInt, y::BigInt, rest::BigInt...) in Base.GMP at gmp.jl:635\n",
       "[256] +(a::Integer, b::Integer) in Base at int.jl:978\n",
       "[257] +(c::BigInt, x::BigFloat) in Base.MPFR at mpfr.jl:414\n",
       "[258] +(a::Pkg.Resolve.FieldValue, b::Pkg.Resolve.FieldValue) in Pkg.Resolve at /Applications/Julia-1.7.app/Contents/Resources/julia/share/julia/stdlib/v1.7/Pkg/src/Resolve/fieldvalues.jl:43\n",
       "[259] +(a::Pkg.Resolve.VersionWeight, b::Pkg.Resolve.VersionWeight) in Pkg.Resolve at /Applications/Julia-1.7.app/Contents/Resources/julia/share/julia/stdlib/v1.7/Pkg/src/Resolve/versionweights.jl:22\n",
       "[260] +(x::BigFloat, c::Union{UInt16, UInt32, UInt64, UInt8}) in Base.MPFR at mpfr.jl:385\n",
       "[261] +(x::BigFloat, c::Union{Int16, Int32, Int64, Int8}) in Base.MPFR at mpfr.jl:393\n",
       "[262] +(x::BigFloat, c::Union{Float16, Float32, Float64}) in Base.MPFR at mpfr.jl:401\n",
       "[263] +(x::BigFloat, y::BigFloat) in Base.MPFR at mpfr.jl:378\n",
       "[264] +(x::BigFloat, c::BigInt) in Base.MPFR at mpfr.jl:409\n",
       "[265] +(a::BigFloat, b::BigFloat, c::BigFloat) in Base.MPFR at mpfr.jl:550\n",
       "[266] +(a::BigFloat, b::BigFloat, c::BigFloat, d::BigFloat) in Base.MPFR at mpfr.jl:556\n",
       "[267] +(a::BigFloat, b::BigFloat, c::BigFloat, d::BigFloat, e::BigFloat) in Base.MPFR at mpfr.jl:563\n",
       "[268] +(x::Float32, y::Float32) in Base at float.jl:398\n",
       "[269] +(x::Number) in Base at operators.jl:592\n",
       "[270] +(a::P, d::ChainRulesCore.Tangent{P}) where P in ChainRulesCore at /Users/ankurbhayana/.julia/packages/ChainRulesCore/RbX5a/src/tangent_arithmetic.jl:133\n",
       "[271] +(a, b::ChainRulesCore.AbstractThunk) in ChainRulesCore at /Users/ankurbhayana/.julia/packages/ChainRulesCore/RbX5a/src/tangent_arithmetic.jl:123\n",
       "[272] +(a, ::ChainRulesCore.ZeroTangent) in ChainRulesCore at /Users/ankurbhayana/.julia/packages/ChainRulesCore/RbX5a/src/tangent_arithmetic.jl:100\n",
       "[273] +(a, ::ChainRulesCore.NoTangent) in ChainRulesCore at /Users/ankurbhayana/.julia/packages/ChainRulesCore/RbX5a/src/tangent_arithmetic.jl:60\n",
       "[274] +(::Any, x::ChainRulesCore.NotImplemented) in ChainRulesCore at /Users/ankurbhayana/.julia/packages/ChainRulesCore/RbX5a/src/tangent_arithmetic.jl:25\n",
       "[275] +(x::T, y::T) where T<:Number in Base at promotion.jl:454\n",
       "[276] +(x::Number, y::Number) in Base at promotion.jl:379\n",
       "[277] +(a, b, c, xs...) in Base at operators.jl:655"
      ]
     },
     "execution_count": 72,
     "metadata": {},
     "output_type": "execute_result"
    }
   ],
   "source": [
    "# Listing all methods that has name '+'\n",
    "methods(+)\n",
    "\n",
    "# Here we can see that there are 277 (at the time this notebook is written) functions associated with +"
   ]
  },
  {
   "cell_type": "code",
   "execution_count": 73,
   "id": "8eda1d8a",
   "metadata": {},
   "outputs": [
    {
     "data": {
      "text/html": [
       "+(x::<b>T</b>, y::<b>T</b>)<i> where T<:Union{Int128, Int16, Int32, Int64, Int8, UInt128, UInt16, UInt32, UInt64, UInt8}</i> in Base at <a href=\"https://github.com/JuliaLang/julia/tree/bf534986350a991e4a1b29126de0342ffd76205e/base/int.jl#L87\" target=\"_blank\">int.jl:87</a>"
      ],
      "text/plain": [
       "+(x::T, y::T) where T<:Union{Int128, Int16, Int32, Int64, Int8, UInt128, UInt16, UInt32, UInt64, UInt8} in Base at int.jl:87"
      ]
     },
     "execution_count": 73,
     "metadata": {},
     "output_type": "execute_result"
    }
   ],
   "source": [
    "# We can use @which macro to check which method we are using when we call +\n",
    "\n",
    "# Here we are giving input as two integers\n",
    "@which 3+3"
   ]
  },
  {
   "cell_type": "code",
   "execution_count": 76,
   "id": "ba64b0b0",
   "metadata": {},
   "outputs": [
    {
     "data": {
      "text/html": [
       "+(x::<b>Float64</b>, y::<b>Float64</b>) in Base at <a href=\"https://github.com/JuliaLang/julia/tree/bf534986350a991e4a1b29126de0342ffd76205e/base/float.jl#L399\" target=\"_blank\">float.jl:399</a>"
      ],
      "text/plain": [
       "+(x::Float64, y::Float64) in Base at float.jl:399"
      ]
     },
     "execution_count": 76,
     "metadata": {},
     "output_type": "execute_result"
    }
   ],
   "source": [
    "# Here we are giving input as two floats to +\n",
    "@which 3.0 + 3.0"
   ]
  },
  {
   "cell_type": "code",
   "execution_count": 77,
   "id": "19ee76cc",
   "metadata": {},
   "outputs": [
    {
     "data": {
      "text/html": [
       "+(x::<b>Number</b>, y::<b>Number</b>) in Base at <a href=\"https://github.com/JuliaLang/julia/tree/bf534986350a991e4a1b29126de0342ffd76205e/base/promotion.jl#L379\" target=\"_blank\">promotion.jl:379</a>"
      ],
      "text/plain": [
       "+(x::Number, y::Number) in Base at promotion.jl:379"
      ]
     },
     "execution_count": 77,
     "metadata": {},
     "output_type": "execute_result"
    }
   ],
   "source": [
    "# Here we are giving input as int and a float to +\n",
    "@which 3 + 3.0"
   ]
  },
  {
   "cell_type": "code",
   "execution_count": 78,
   "id": "87bf37dd",
   "metadata": {},
   "outputs": [
    {
     "data": {
      "text/html": [
       "+(x::<b>Bool</b>, y::<b>Bool</b>) in Base at <a href=\"https://github.com/JuliaLang/julia/tree/bf534986350a991e4a1b29126de0342ffd76205e/base/bool.jl#L162\" target=\"_blank\">bool.jl:162</a>"
      ],
      "text/plain": [
       "+(x::Bool, y::Bool) in Base at bool.jl:162"
      ]
     },
     "execution_count": 78,
     "metadata": {},
     "output_type": "execute_result"
    }
   ],
   "source": [
    "# Here we are giving input as boolian to +\n",
    "@which true+true"
   ]
  },
  {
   "cell_type": "code",
   "execution_count": 79,
   "id": "a7b0e2b3",
   "metadata": {},
   "outputs": [],
   "source": [
    "# We can also extend + by defining new methods"
   ]
  },
  {
   "cell_type": "code",
   "execution_count": 80,
   "id": "b7867a18",
   "metadata": {},
   "outputs": [],
   "source": [
    "# But we need to firstly import + from Base\n",
    "import Base: +"
   ]
  },
  {
   "cell_type": "code",
   "execution_count": 81,
   "id": "cb275bb9",
   "metadata": {},
   "outputs": [],
   "source": [
    "# if we try to add two add strings by default, we know that it will show error\n",
    "# For exp - \"Hello\" + \"World\""
   ]
  },
  {
   "cell_type": "code",
   "execution_count": 82,
   "id": "9b96bdde",
   "metadata": {},
   "outputs": [
    {
     "data": {
      "text/plain": [
       "+ (generic function with 278 methods)"
      ]
     },
     "execution_count": 82,
     "metadata": {},
     "output_type": "execute_result"
    }
   ],
   "source": [
    "# Extending method for + for two input strings\n",
    "+(x::String,y::String) = string(x,y)"
   ]
  },
  {
   "cell_type": "code",
   "execution_count": 84,
   "id": "e21ef613",
   "metadata": {},
   "outputs": [
    {
     "data": {
      "text/plain": [
       "\"Hello World\""
      ]
     },
     "execution_count": 84,
     "metadata": {},
     "output_type": "execute_result"
    }
   ],
   "source": [
    "\"Hello\"+\" World\""
   ]
  },
  {
   "cell_type": "code",
   "execution_count": 86,
   "id": "f3218d92",
   "metadata": {},
   "outputs": [
    {
     "data": {
      "text/plain": [
       "look (generic function with 4 methods)"
      ]
     },
     "execution_count": 86,
     "metadata": {},
     "output_type": "execute_result"
    }
   ],
   "source": [
    "# Let's define several methods with same name under Method Dispatch\n",
    "\n",
    "look(x::Int,y::Int) = println(\"The inputs are both integers\")\n",
    "look(x::Float64,y::Int) = println(\"The inputs are an integer and a float\")\n",
    "look(x::Float64,y::Float64) = println(\"The inputs are both floats\")\n",
    "look(x::String,y::String) = println(\"The inputs are both Strings\")"
   ]
  },
  {
   "cell_type": "code",
   "execution_count": 87,
   "id": "73a5817e",
   "metadata": {},
   "outputs": [
    {
     "name": "stdout",
     "output_type": "stream",
     "text": [
      "The inputs are both integers\n"
     ]
    }
   ],
   "source": [
    "# When inputs are integers\n",
    "look(3,4)"
   ]
  },
  {
   "cell_type": "code",
   "execution_count": 88,
   "id": "c505dd67",
   "metadata": {},
   "outputs": [
    {
     "name": "stdout",
     "output_type": "stream",
     "text": [
      "The inputs are both Strings\n"
     ]
    }
   ],
   "source": [
    "# When inputs are strings\n",
    "look(\"Hi\",\"You\")"
   ]
  },
  {
   "cell_type": "markdown",
   "id": "55ac4b9e",
   "metadata": {},
   "source": [
    "## Basic Linear Algebra "
   ]
  },
  {
   "cell_type": "code",
   "execution_count": 89,
   "id": "c4bcacd1",
   "metadata": {},
   "outputs": [
    {
     "data": {
      "text/plain": [
       "3×3 Matrix{Int64}:\n",
       " 2  3  3\n",
       " 1  3  3\n",
       " 1  4  2"
      ]
     },
     "execution_count": 89,
     "metadata": {},
     "output_type": "execute_result"
    }
   ],
   "source": [
    "# Creating Matrix\n",
    "A = rand(1:5,3,3)"
   ]
  },
  {
   "cell_type": "code",
   "execution_count": 90,
   "id": "7fd35400",
   "metadata": {},
   "outputs": [
    {
     "data": {
      "text/plain": [
       "3×3 Matrix{Int64}:\n",
       " 2  3  3\n",
       " 1  3  3\n",
       " 1  4  2"
      ]
     },
     "execution_count": 90,
     "metadata": {},
     "output_type": "execute_result"
    }
   ],
   "source": [
    "# Copying in Julia\n",
    "\n",
    "B = A\n",
    "C = copy(A)"
   ]
  },
  {
   "cell_type": "code",
   "execution_count": 91,
   "id": "214e5e79",
   "metadata": {},
   "outputs": [
    {
     "data": {
      "text/plain": [
       "10"
      ]
     },
     "execution_count": 91,
     "metadata": {},
     "output_type": "execute_result"
    }
   ],
   "source": [
    "# Now if we change element of A\n",
    "A[1,1] = 10"
   ]
  },
  {
   "cell_type": "code",
   "execution_count": 92,
   "id": "a388ef94",
   "metadata": {},
   "outputs": [
    {
     "data": {
      "text/plain": [
       "3×3 Matrix{Int64}:\n",
       " 10  3  3\n",
       "  1  3  3\n",
       "  1  4  2"
      ]
     },
     "metadata": {},
     "output_type": "display_data"
    },
    {
     "data": {
      "text/plain": [
       "3×3 Matrix{Int64}:\n",
       " 2  3  3\n",
       " 1  3  3\n",
       " 1  4  2"
      ]
     },
     "metadata": {},
     "output_type": "display_data"
    }
   ],
   "source": [
    "# Displaying B and\n",
    "display(B)\n",
    "display(C)"
   ]
  },
  {
   "cell_type": "code",
   "execution_count": 93,
   "id": "d9409423",
   "metadata": {},
   "outputs": [],
   "source": [
    "#= We can see that B has been modified while C has not. This is because in B there is reference \n",
    "assignment where B only stores the reference of A, while in C there is value assignment and C \n",
    "stores an actual matrix =#"
   ]
  },
  {
   "cell_type": "markdown",
   "id": "a94c5131",
   "metadata": {},
   "source": [
    "### Multiplication "
   ]
  },
  {
   "cell_type": "code",
   "execution_count": 100,
   "id": "10229aff",
   "metadata": {},
   "outputs": [
    {
     "data": {
      "text/plain": [
       "3-element Vector{Float64}:\n",
       " 2.0\n",
       " 2.0\n",
       " 2.0"
      ]
     },
     "metadata": {},
     "output_type": "display_data"
    },
    {
     "data": {
      "text/plain": [
       "3-element Vector{Float64}:\n",
       " 32.0\n",
       " 14.0\n",
       " 14.0"
      ]
     },
     "execution_count": 100,
     "metadata": {},
     "output_type": "execute_result"
    }
   ],
   "source": [
    "b = 2*ones(3)\n",
    "display(b)\n",
    "\n",
    "#Multiply\n",
    "C = A*b"
   ]
  },
  {
   "cell_type": "markdown",
   "id": "01d0fb23",
   "metadata": {},
   "source": [
    "### Transposition "
   ]
  },
  {
   "cell_type": "markdown",
   "id": "baefffb2",
   "metadata": {},
   "source": [
    "A' is the conjugate Transpose while the A.' is only the conjugate."
   ]
  },
  {
   "cell_type": "code",
   "execution_count": 103,
   "id": "631ef54b",
   "metadata": {},
   "outputs": [
    {
     "data": {
      "text/plain": [
       "1×3 adjoint(::Vector{Float64}) with eltype Float64:\n",
       " 32.0  14.0  14.0"
      ]
     },
     "execution_count": 103,
     "metadata": {},
     "output_type": "execute_result"
    }
   ],
   "source": [
    "C'"
   ]
  },
  {
   "cell_type": "markdown",
   "id": "2a3aebb4",
   "metadata": {},
   "source": [
    "### Transpose Multiplication "
   ]
  },
  {
   "cell_type": "code",
   "execution_count": 110,
   "id": "2f593aa8",
   "metadata": {},
   "outputs": [
    {
     "data": {
      "text/plain": [
       "3×3 Matrix{Int64}:\n",
       " 102  37  35\n",
       "  37  34  26\n",
       "  35  26  22"
      ]
     },
     "metadata": {},
     "output_type": "display_data"
    },
    {
     "data": {
      "text/plain": [
       "3×3 Matrix{Int64}:\n",
       " 100   3   3\n",
       "   3   9  12\n",
       "   3  12   4"
      ]
     },
     "execution_count": 110,
     "metadata": {},
     "output_type": "execute_result"
    }
   ],
   "source": [
    "# Herewe don't have to externally use * sign, Julia automatically understands that A'A is multiplying\n",
    "Prod1 = A'A\n",
    "display(Prod1)\n",
    "\n",
    "# Dot Product\n",
    "Prod2 = A'.*A"
   ]
  },
  {
   "cell_type": "markdown",
   "id": "7dc2713e",
   "metadata": {},
   "source": [
    "### Solving Linear System "
   ]
  },
  {
   "cell_type": "code",
   "execution_count": null,
   "id": "3031d773",
   "metadata": {},
   "outputs": [],
   "source": []
  }
 ],
 "metadata": {
  "kernelspec": {
   "display_name": "Julia 1.7.2",
   "language": "julia",
   "name": "julia-1.7"
  },
  "language_info": {
   "file_extension": ".jl",
   "mimetype": "application/julia",
   "name": "julia",
   "version": "1.7.2"
  }
 },
 "nbformat": 4,
 "nbformat_minor": 5
}
